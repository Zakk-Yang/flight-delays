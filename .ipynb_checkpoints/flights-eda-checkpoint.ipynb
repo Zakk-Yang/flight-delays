{
 "cells": [
  {
   "cell_type": "markdown",
   "metadata": {},
   "source": [
    "# EDA\n",
    "- We will look at US domestic flights from 2019.\n",
    "- Do some exploratory analysis.\n",
    "- Maybe finish with ML algorithm to predict delays.\n",
    "\n",
    "## Datasets\n",
    "- [Flight on-time data](https://www.transtats.bts.gov/)\n",
    "- [Airline & Aiports database](https://openflights.org/data.html)"
   ]
  },
  {
   "cell_type": "code",
   "execution_count": 34,
   "metadata": {},
   "outputs": [],
   "source": [
    "# import libraries\n",
    "import pandas as pd\n",
    "import numpy as np\n",
    "import matplotlib.pyplot as plt\n",
    "import plotly.express as px\n",
    "import plotly.graph_objects as go\n",
    "from sklearn.model_selection import train_test_split\n",
    "from sklearn.preprocessing import LabelEncoder\n",
    "from sklearn.linear_model import LogisticRegression\n",
    "from sklearn.tree import DecisionTreeClassifier\n",
    "from sklearn.preprocessing import RobustScaler, StandardScaler, PolynomialFeatures, MinMaxScaler\n",
    "import seaborn as sns\n",
    "from sklearn.linear_model import LinearRegression\n",
    "from sklearn.pipeline import make_pipeline\n",
    "import sys\n",
    "import matplotlib as mpl\n",
    "\n",
    "# import local functions\n",
    "path_to_functions = 'C:/Users/Zaca/Documents/GitHub/useful-functions/'\n",
    "sys.path.append(path_to_functions)\n",
    "from plotting import default_plot, get_colors\n",
    "\n",
    "\n",
    "data_path = 'C:/Users/Zaca/Documents/Datasets/flights/'"
   ]
  },
  {
   "cell_type": "code",
   "execution_count": 35,
   "metadata": {},
   "outputs": [],
   "source": [
    "# matplotlib formatting\n",
    "small = 10\n",
    "medium = 12\n",
    "large = 14\n",
    "\n",
    "plt.rc('font', size=medium)         # controls default text sizes\n",
    "plt.rc('axes', titlesize=medium)     # fontsize of the axes title\n",
    "plt.rc('axes', labelsize=medium)     # fontsize of the x and y labels\n",
    "plt.rc('xtick', labelsize=medium)   # fontsize of the tick labels\n",
    "plt.rc('ytick', labelsize=medium)   # fontsize of the tick labels\n",
    "plt.rc('legend', fontsize=medium)   # legend fontsize\n",
    "plt.rc('figure', titlesize=large)   # fontsize of the figure title\n",
    "mpl.rcParams['font.family'] = \"sans-serif\"\n",
    "mpl.rcParams['font.sans-serif'] = \"Arial\"\n",
    "mpl.rcParams['axes.linewidth'] = 0.5\n",
    "mpl.rcParams['xtick.major.width'] = 0.5\n",
    "mpl.rcParams['ytick.major.width'] = 0.5   "
   ]
  },
  {
   "cell_type": "code",
   "execution_count": 2,
   "metadata": {},
   "outputs": [
    {
     "name": "stderr",
     "output_type": "stream",
     "text": [
      "C:\\Users\\Zaca\\Anaconda3\\lib\\site-packages\\numpy\\lib\\arraysetops.py:569: FutureWarning:\n",
      "\n",
      "elementwise comparison failed; returning scalar instead, but in the future will perform elementwise comparison\n",
      "\n"
     ]
    }
   ],
   "source": [
    "# open file (1.3GB so it will be slow)\n",
    "flights = pd.read_csv(data_path + '2019.csv', index_col=0)"
   ]
  },
  {
   "cell_type": "code",
   "execution_count": 3,
   "metadata": {
    "scrolled": true
   },
   "outputs": [
    {
     "data": {
      "text/html": [
       "<div>\n",
       "<style scoped>\n",
       "    .dataframe tbody tr th:only-of-type {\n",
       "        vertical-align: middle;\n",
       "    }\n",
       "\n",
       "    .dataframe tbody tr th {\n",
       "        vertical-align: top;\n",
       "    }\n",
       "\n",
       "    .dataframe thead th {\n",
       "        text-align: right;\n",
       "    }\n",
       "</style>\n",
       "<table border=\"1\" class=\"dataframe\">\n",
       "  <thead>\n",
       "    <tr style=\"text-align: right;\">\n",
       "      <th></th>\n",
       "      <th>colname</th>\n",
       "      <th>coldesc</th>\n",
       "    </tr>\n",
       "  </thead>\n",
       "  <tbody>\n",
       "    <tr>\n",
       "      <th>0</th>\n",
       "      <td>FlightDate</td>\n",
       "      <td>Flight Date (yyyymmdd)</td>\n",
       "    </tr>\n",
       "    <tr>\n",
       "      <th>1</th>\n",
       "      <td>Month</td>\n",
       "      <td>Month</td>\n",
       "    </tr>\n",
       "    <tr>\n",
       "      <th>2</th>\n",
       "      <td>DayofMonth</td>\n",
       "      <td>Day of Month</td>\n",
       "    </tr>\n",
       "    <tr>\n",
       "      <th>3</th>\n",
       "      <td>DayOfWeek</td>\n",
       "      <td>Day of Week</td>\n",
       "    </tr>\n",
       "    <tr>\n",
       "      <th>4</th>\n",
       "      <td>Reporting_Airline</td>\n",
       "      <td>Unique Carrier Code</td>\n",
       "    </tr>\n",
       "    <tr>\n",
       "      <th>5</th>\n",
       "      <td>Flight_Number_Reporting_Airline</td>\n",
       "      <td>Flight Number</td>\n",
       "    </tr>\n",
       "    <tr>\n",
       "      <th>6</th>\n",
       "      <td>OriginAirportID</td>\n",
       "      <td>Airport ID</td>\n",
       "    </tr>\n",
       "    <tr>\n",
       "      <th>7</th>\n",
       "      <td>Origin</td>\n",
       "      <td>Origin Airport</td>\n",
       "    </tr>\n",
       "    <tr>\n",
       "      <th>8</th>\n",
       "      <td>OriginCityName</td>\n",
       "      <td>City Name</td>\n",
       "    </tr>\n",
       "    <tr>\n",
       "      <th>9</th>\n",
       "      <td>OriginState</td>\n",
       "      <td>Origin Airport State Code</td>\n",
       "    </tr>\n",
       "    <tr>\n",
       "      <th>10</th>\n",
       "      <td>DestAirportID</td>\n",
       "      <td>Destination AirportID</td>\n",
       "    </tr>\n",
       "    <tr>\n",
       "      <th>11</th>\n",
       "      <td>Dest</td>\n",
       "      <td>Destination Airport</td>\n",
       "    </tr>\n",
       "    <tr>\n",
       "      <th>12</th>\n",
       "      <td>DestCityName</td>\n",
       "      <td>Destination Airport City Name</td>\n",
       "    </tr>\n",
       "    <tr>\n",
       "      <th>13</th>\n",
       "      <td>DestState</td>\n",
       "      <td>Destination Airport State Code</td>\n",
       "    </tr>\n",
       "    <tr>\n",
       "      <th>14</th>\n",
       "      <td>CRSDepTime</td>\n",
       "      <td>CRS Departure Time (local time: hhmm)</td>\n",
       "    </tr>\n",
       "    <tr>\n",
       "      <th>15</th>\n",
       "      <td>DepTime</td>\n",
       "      <td>Actual Departure Time (local time: hhmm)</td>\n",
       "    </tr>\n",
       "    <tr>\n",
       "      <th>16</th>\n",
       "      <td>DepDelay</td>\n",
       "      <td>Difference in minutes between scheduled and ac...</td>\n",
       "    </tr>\n",
       "    <tr>\n",
       "      <th>17</th>\n",
       "      <td>TaxiOut</td>\n",
       "      <td>Taxi Out Time in Minutes</td>\n",
       "    </tr>\n",
       "    <tr>\n",
       "      <th>18</th>\n",
       "      <td>WheelsOff</td>\n",
       "      <td>Wheels Off Time (local time: hhmm)</td>\n",
       "    </tr>\n",
       "    <tr>\n",
       "      <th>19</th>\n",
       "      <td>WheelsOn</td>\n",
       "      <td>Wheels On Time (local time: hhmm)</td>\n",
       "    </tr>\n",
       "    <tr>\n",
       "      <th>20</th>\n",
       "      <td>TaxiIn</td>\n",
       "      <td>Taxi In Time in Minutes</td>\n",
       "    </tr>\n",
       "    <tr>\n",
       "      <th>21</th>\n",
       "      <td>CRSArrTime</td>\n",
       "      <td>CRS Arrival Time (local time: hhmm)</td>\n",
       "    </tr>\n",
       "    <tr>\n",
       "      <th>22</th>\n",
       "      <td>ArrTime</td>\n",
       "      <td>Actual Arrival Time (local time: hhmm)</td>\n",
       "    </tr>\n",
       "    <tr>\n",
       "      <th>23</th>\n",
       "      <td>ArrDelay</td>\n",
       "      <td>Difference in minutes between scheduled and ac...</td>\n",
       "    </tr>\n",
       "    <tr>\n",
       "      <th>24</th>\n",
       "      <td>Cancelled</td>\n",
       "      <td>Cancelled Flight Indicator (1=Yes)</td>\n",
       "    </tr>\n",
       "    <tr>\n",
       "      <th>25</th>\n",
       "      <td>Diverted</td>\n",
       "      <td>Diverted Flight Indicator (1=Yes)</td>\n",
       "    </tr>\n",
       "    <tr>\n",
       "      <th>26</th>\n",
       "      <td>CRSElapsedTime</td>\n",
       "      <td>CRS Elapsed Time of Flight in Minutes</td>\n",
       "    </tr>\n",
       "    <tr>\n",
       "      <th>27</th>\n",
       "      <td>ActualElapsedTime</td>\n",
       "      <td>Elapsed Time of Flight in Minutes</td>\n",
       "    </tr>\n",
       "    <tr>\n",
       "      <th>28</th>\n",
       "      <td>AirTime</td>\n",
       "      <td>Flight Time in Minutes</td>\n",
       "    </tr>\n",
       "    <tr>\n",
       "      <th>29</th>\n",
       "      <td>Distance</td>\n",
       "      <td>Distance between airports (miles)</td>\n",
       "    </tr>\n",
       "    <tr>\n",
       "      <th>30</th>\n",
       "      <td>CarrierDelay</td>\n",
       "      <td>Carrier Delay in Minutes</td>\n",
       "    </tr>\n",
       "    <tr>\n",
       "      <th>31</th>\n",
       "      <td>WeatherDelay</td>\n",
       "      <td>Weather Delay in Minutes</td>\n",
       "    </tr>\n",
       "    <tr>\n",
       "      <th>32</th>\n",
       "      <td>NASDelay</td>\n",
       "      <td>National Air System Delay in Minutes</td>\n",
       "    </tr>\n",
       "    <tr>\n",
       "      <th>33</th>\n",
       "      <td>SecurityDelay</td>\n",
       "      <td>Security Delay in Minutes</td>\n",
       "    </tr>\n",
       "    <tr>\n",
       "      <th>34</th>\n",
       "      <td>LateAircraftDelay</td>\n",
       "      <td>Late Aircraft Delay in Minutes</td>\n",
       "    </tr>\n",
       "  </tbody>\n",
       "</table>\n",
       "</div>"
      ],
      "text/plain": [
       "                            colname  \\\n",
       "0                        FlightDate   \n",
       "1                             Month   \n",
       "2                        DayofMonth   \n",
       "3                         DayOfWeek   \n",
       "4                 Reporting_Airline   \n",
       "5   Flight_Number_Reporting_Airline   \n",
       "6                   OriginAirportID   \n",
       "7                            Origin   \n",
       "8                    OriginCityName   \n",
       "9                       OriginState   \n",
       "10                    DestAirportID   \n",
       "11                             Dest   \n",
       "12                     DestCityName   \n",
       "13                        DestState   \n",
       "14                       CRSDepTime   \n",
       "15                          DepTime   \n",
       "16                         DepDelay   \n",
       "17                          TaxiOut   \n",
       "18                        WheelsOff   \n",
       "19                         WheelsOn   \n",
       "20                           TaxiIn   \n",
       "21                       CRSArrTime   \n",
       "22                          ArrTime   \n",
       "23                         ArrDelay   \n",
       "24                        Cancelled   \n",
       "25                         Diverted   \n",
       "26                   CRSElapsedTime   \n",
       "27                ActualElapsedTime   \n",
       "28                          AirTime   \n",
       "29                         Distance   \n",
       "30                     CarrierDelay   \n",
       "31                     WeatherDelay   \n",
       "32                         NASDelay   \n",
       "33                    SecurityDelay   \n",
       "34                LateAircraftDelay   \n",
       "\n",
       "                                              coldesc  \n",
       "0                              Flight Date (yyyymmdd)  \n",
       "1                                               Month  \n",
       "2                                        Day of Month  \n",
       "3                                         Day of Week  \n",
       "4                                 Unique Carrier Code  \n",
       "5                                       Flight Number  \n",
       "6                                          Airport ID  \n",
       "7                                      Origin Airport  \n",
       "8                                           City Name  \n",
       "9                           Origin Airport State Code  \n",
       "10                              Destination AirportID  \n",
       "11                                Destination Airport  \n",
       "12                      Destination Airport City Name  \n",
       "13                     Destination Airport State Code  \n",
       "14              CRS Departure Time (local time: hhmm)  \n",
       "15           Actual Departure Time (local time: hhmm)  \n",
       "16  Difference in minutes between scheduled and ac...  \n",
       "17                           Taxi Out Time in Minutes  \n",
       "18                 Wheels Off Time (local time: hhmm)  \n",
       "19                  Wheels On Time (local time: hhmm)  \n",
       "20                            Taxi In Time in Minutes  \n",
       "21                CRS Arrival Time (local time: hhmm)  \n",
       "22             Actual Arrival Time (local time: hhmm)  \n",
       "23  Difference in minutes between scheduled and ac...  \n",
       "24                 Cancelled Flight Indicator (1=Yes)  \n",
       "25                  Diverted Flight Indicator (1=Yes)  \n",
       "26              CRS Elapsed Time of Flight in Minutes  \n",
       "27                  Elapsed Time of Flight in Minutes  \n",
       "28                             Flight Time in Minutes  \n",
       "29                  Distance between airports (miles)  \n",
       "30                           Carrier Delay in Minutes  \n",
       "31                           Weather Delay in Minutes  \n",
       "32               National Air System Delay in Minutes  \n",
       "33                          Security Delay in Minutes  \n",
       "34                     Late Aircraft Delay in Minutes  "
      ]
     },
     "execution_count": 3,
     "metadata": {},
     "output_type": "execute_result"
    }
   ],
   "source": [
    "# get column description from file\n",
    "cols = pd.read_csv(data_path + 'columns.txt', sep=',', names=['colname', 'coldesc'], index_col= False)\n",
    "cols"
   ]
  },
  {
   "cell_type": "code",
   "execution_count": 4,
   "metadata": {},
   "outputs": [
    {
     "data": {
      "text/html": [
       "<div>\n",
       "<style scoped>\n",
       "    .dataframe tbody tr th:only-of-type {\n",
       "        vertical-align: middle;\n",
       "    }\n",
       "\n",
       "    .dataframe tbody tr th {\n",
       "        vertical-align: top;\n",
       "    }\n",
       "\n",
       "    .dataframe thead th {\n",
       "        text-align: right;\n",
       "    }\n",
       "</style>\n",
       "<table border=\"1\" class=\"dataframe\">\n",
       "  <thead>\n",
       "    <tr style=\"text-align: right;\">\n",
       "      <th></th>\n",
       "      <th>Month</th>\n",
       "      <th>DayofMonth</th>\n",
       "      <th>DayOfWeek</th>\n",
       "      <th>FlightDate</th>\n",
       "      <th>Reporting_Airline</th>\n",
       "      <th>Flight_Number_Reporting_Airline</th>\n",
       "      <th>OriginAirportID</th>\n",
       "      <th>Origin</th>\n",
       "      <th>OriginCityName</th>\n",
       "      <th>OriginState</th>\n",
       "      <th>...</th>\n",
       "      <th>Diverted</th>\n",
       "      <th>CRSElapsedTime</th>\n",
       "      <th>ActualElapsedTime</th>\n",
       "      <th>AirTime</th>\n",
       "      <th>Distance</th>\n",
       "      <th>CarrierDelay</th>\n",
       "      <th>WeatherDelay</th>\n",
       "      <th>NASDelay</th>\n",
       "      <th>SecurityDelay</th>\n",
       "      <th>LateAircraftDelay</th>\n",
       "    </tr>\n",
       "  </thead>\n",
       "  <tbody>\n",
       "    <tr>\n",
       "      <th>0</th>\n",
       "      <td>1</td>\n",
       "      <td>4</td>\n",
       "      <td>5</td>\n",
       "      <td>2019-01-04</td>\n",
       "      <td>OO</td>\n",
       "      <td>5657</td>\n",
       "      <td>14698</td>\n",
       "      <td>SBP</td>\n",
       "      <td>San Luis Obispo, CA</td>\n",
       "      <td>CA</td>\n",
       "      <td>...</td>\n",
       "      <td>0.0</td>\n",
       "      <td>70.0</td>\n",
       "      <td>51.0</td>\n",
       "      <td>37.0</td>\n",
       "      <td>190.0</td>\n",
       "      <td>0.0</td>\n",
       "      <td>0.0</td>\n",
       "      <td>0.0</td>\n",
       "      <td>0.0</td>\n",
       "      <td>0.0</td>\n",
       "    </tr>\n",
       "    <tr>\n",
       "      <th>1</th>\n",
       "      <td>1</td>\n",
       "      <td>4</td>\n",
       "      <td>5</td>\n",
       "      <td>2019-01-04</td>\n",
       "      <td>OO</td>\n",
       "      <td>5658</td>\n",
       "      <td>12266</td>\n",
       "      <td>IAH</td>\n",
       "      <td>Houston, TX</td>\n",
       "      <td>TX</td>\n",
       "      <td>...</td>\n",
       "      <td>0.0</td>\n",
       "      <td>103.0</td>\n",
       "      <td>109.0</td>\n",
       "      <td>76.0</td>\n",
       "      <td>438.0</td>\n",
       "      <td>0.0</td>\n",
       "      <td>0.0</td>\n",
       "      <td>0.0</td>\n",
       "      <td>0.0</td>\n",
       "      <td>0.0</td>\n",
       "    </tr>\n",
       "    <tr>\n",
       "      <th>2</th>\n",
       "      <td>1</td>\n",
       "      <td>4</td>\n",
       "      <td>5</td>\n",
       "      <td>2019-01-04</td>\n",
       "      <td>OO</td>\n",
       "      <td>5658</td>\n",
       "      <td>14783</td>\n",
       "      <td>SGF</td>\n",
       "      <td>Springfield, MO</td>\n",
       "      <td>MO</td>\n",
       "      <td>...</td>\n",
       "      <td>0.0</td>\n",
       "      <td>132.0</td>\n",
       "      <td>121.0</td>\n",
       "      <td>88.0</td>\n",
       "      <td>513.0</td>\n",
       "      <td>0.0</td>\n",
       "      <td>0.0</td>\n",
       "      <td>0.0</td>\n",
       "      <td>0.0</td>\n",
       "      <td>0.0</td>\n",
       "    </tr>\n",
       "    <tr>\n",
       "      <th>3</th>\n",
       "      <td>1</td>\n",
       "      <td>4</td>\n",
       "      <td>5</td>\n",
       "      <td>2019-01-04</td>\n",
       "      <td>OO</td>\n",
       "      <td>5659</td>\n",
       "      <td>12389</td>\n",
       "      <td>ISN</td>\n",
       "      <td>Williston, ND</td>\n",
       "      <td>ND</td>\n",
       "      <td>...</td>\n",
       "      <td>0.0</td>\n",
       "      <td>118.0</td>\n",
       "      <td>110.0</td>\n",
       "      <td>80.0</td>\n",
       "      <td>576.0</td>\n",
       "      <td>0.0</td>\n",
       "      <td>0.0</td>\n",
       "      <td>0.0</td>\n",
       "      <td>0.0</td>\n",
       "      <td>0.0</td>\n",
       "    </tr>\n",
       "    <tr>\n",
       "      <th>4</th>\n",
       "      <td>1</td>\n",
       "      <td>4</td>\n",
       "      <td>5</td>\n",
       "      <td>2019-01-04</td>\n",
       "      <td>OO</td>\n",
       "      <td>5660</td>\n",
       "      <td>13342</td>\n",
       "      <td>MKE</td>\n",
       "      <td>Milwaukee, WI</td>\n",
       "      <td>WI</td>\n",
       "      <td>...</td>\n",
       "      <td>0.0</td>\n",
       "      <td>184.0</td>\n",
       "      <td>163.0</td>\n",
       "      <td>127.0</td>\n",
       "      <td>896.0</td>\n",
       "      <td>0.0</td>\n",
       "      <td>0.0</td>\n",
       "      <td>0.0</td>\n",
       "      <td>0.0</td>\n",
       "      <td>0.0</td>\n",
       "    </tr>\n",
       "  </tbody>\n",
       "</table>\n",
       "<p>5 rows × 35 columns</p>\n",
       "</div>"
      ],
      "text/plain": [
       "   Month  DayofMonth  DayOfWeek  FlightDate Reporting_Airline  \\\n",
       "0      1           4          5  2019-01-04                OO   \n",
       "1      1           4          5  2019-01-04                OO   \n",
       "2      1           4          5  2019-01-04                OO   \n",
       "3      1           4          5  2019-01-04                OO   \n",
       "4      1           4          5  2019-01-04                OO   \n",
       "\n",
       "   Flight_Number_Reporting_Airline  OriginAirportID Origin  \\\n",
       "0                             5657            14698    SBP   \n",
       "1                             5658            12266    IAH   \n",
       "2                             5658            14783    SGF   \n",
       "3                             5659            12389    ISN   \n",
       "4                             5660            13342    MKE   \n",
       "\n",
       "        OriginCityName OriginState  ...  Diverted CRSElapsedTime  \\\n",
       "0  San Luis Obispo, CA          CA  ...       0.0           70.0   \n",
       "1          Houston, TX          TX  ...       0.0          103.0   \n",
       "2      Springfield, MO          MO  ...       0.0          132.0   \n",
       "3        Williston, ND          ND  ...       0.0          118.0   \n",
       "4        Milwaukee, WI          WI  ...       0.0          184.0   \n",
       "\n",
       "  ActualElapsedTime AirTime  Distance  CarrierDelay  WeatherDelay  NASDelay  \\\n",
       "0              51.0    37.0     190.0           0.0           0.0       0.0   \n",
       "1             109.0    76.0     438.0           0.0           0.0       0.0   \n",
       "2             121.0    88.0     513.0           0.0           0.0       0.0   \n",
       "3             110.0    80.0     576.0           0.0           0.0       0.0   \n",
       "4             163.0   127.0     896.0           0.0           0.0       0.0   \n",
       "\n",
       "   SecurityDelay  LateAircraftDelay  \n",
       "0            0.0                0.0  \n",
       "1            0.0                0.0  \n",
       "2            0.0                0.0  \n",
       "3            0.0                0.0  \n",
       "4            0.0                0.0  \n",
       "\n",
       "[5 rows x 35 columns]"
      ]
     },
     "execution_count": 4,
     "metadata": {},
     "output_type": "execute_result"
    }
   ],
   "source": [
    "# examine top 5 rows\n",
    "flights.head()"
   ]
  },
  {
   "cell_type": "code",
   "execution_count": 5,
   "metadata": {},
   "outputs": [
    {
     "data": {
      "text/plain": [
       "Month                                int64\n",
       "DayofMonth                           int64\n",
       "DayOfWeek                            int64\n",
       "FlightDate                          object\n",
       "Reporting_Airline                   object\n",
       "Flight_Number_Reporting_Airline      int64\n",
       "OriginAirportID                      int64\n",
       "Origin                              object\n",
       "OriginCityName                      object\n",
       "OriginState                         object\n",
       "DestAirportID                        int64\n",
       "Dest                                object\n",
       "DestCityName                        object\n",
       "DestState                           object\n",
       "CRSDepTime                           int64\n",
       "DepTime                            float64\n",
       "DepDelay                           float64\n",
       "TaxiOut                            float64\n",
       "WheelsOff                          float64\n",
       "WheelsOn                           float64\n",
       "TaxiIn                             float64\n",
       "CRSArrTime                           int64\n",
       "ArrTime                            float64\n",
       "ArrDelay                           float64\n",
       "Cancelled                          float64\n",
       "Diverted                           float64\n",
       "CRSElapsedTime                     float64\n",
       "ActualElapsedTime                  float64\n",
       "AirTime                            float64\n",
       "Distance                           float64\n",
       "CarrierDelay                       float64\n",
       "WeatherDelay                       float64\n",
       "NASDelay                           float64\n",
       "SecurityDelay                      float64\n",
       "LateAircraftDelay                  float64\n",
       "dtype: object"
      ]
     },
     "execution_count": 5,
     "metadata": {},
     "output_type": "execute_result"
    }
   ],
   "source": [
    "# examine dtypes\n",
    "flights.dtypes"
   ]
  },
  {
   "cell_type": "code",
   "execution_count": 6,
   "metadata": {},
   "outputs": [
    {
     "name": "stdout",
     "output_type": "stream",
     "text": [
      "7268232\n"
     ]
    },
    {
     "data": {
      "text/plain": [
       "Month                              0\n",
       "DayofMonth                         0\n",
       "DayOfWeek                          0\n",
       "FlightDate                         0\n",
       "Reporting_Airline                  0\n",
       "Flight_Number_Reporting_Airline    0\n",
       "OriginAirportID                    0\n",
       "Origin                             0\n",
       "OriginCityName                     0\n",
       "OriginState                        0\n",
       "DestAirportID                      0\n",
       "Dest                               0\n",
       "DestCityName                       0\n",
       "DestState                          0\n",
       "CRSDepTime                         0\n",
       "DepTime                            0\n",
       "DepDelay                           0\n",
       "TaxiOut                            0\n",
       "WheelsOff                          0\n",
       "WheelsOn                           0\n",
       "TaxiIn                             0\n",
       "CRSArrTime                         0\n",
       "ArrTime                            0\n",
       "ArrDelay                           0\n",
       "Cancelled                          0\n",
       "Diverted                           0\n",
       "CRSElapsedTime                     0\n",
       "ActualElapsedTime                  0\n",
       "AirTime                            0\n",
       "Distance                           0\n",
       "CarrierDelay                       0\n",
       "WeatherDelay                       0\n",
       "NASDelay                           0\n",
       "SecurityDelay                      0\n",
       "LateAircraftDelay                  0\n",
       "dtype: int64"
      ]
     },
     "execution_count": 6,
     "metadata": {},
     "output_type": "execute_result"
    }
   ],
   "source": [
    "print(flights.shape[0])\n",
    "flights.isna().sum()"
   ]
  },
  {
   "cell_type": "markdown",
   "metadata": {},
   "source": [
    "### Holy sh!t there are 7.27 million flights in our dataset.\n",
    "- Let's try to look at the first few columns.\n",
    "\n",
    "1. Flight date is in object format, let's turn in into date-time for timeseries analysis.\n",
    "2. Reporting airline are abbreviated (IATA codes), we need to find an actual human name for them."
   ]
  },
  {
   "cell_type": "markdown",
   "metadata": {},
   "source": [
    "## Airlines"
   ]
  },
  {
   "cell_type": "code",
   "execution_count": 7,
   "metadata": {},
   "outputs": [
    {
     "name": "stdout",
     "output_type": "stream",
     "text": [
      "['OO' 'AS' '9E' 'AA' 'MQ' 'WN' 'G4' 'OH' 'B6' 'NK' 'DL' 'YV' 'EV' 'F9'\n",
      " 'YX' 'UA' 'HA']\n"
     ]
    }
   ],
   "source": [
    "# loot at unique values for Airlines.\n",
    "airlines = flights.Reporting_Airline.unique()\n",
    "print(airlines)\n",
    "\n",
    "# there's only 17 of them... megacorporations..."
   ]
  },
  {
   "cell_type": "code",
   "execution_count": 8,
   "metadata": {},
   "outputs": [],
   "source": [
    "# I found an Airline dataset we can try to use to translate IATA codes.\n",
    "airlines_ds = pd.read_csv(data_path + 'world_airlines.csv', index_col=0, names=['NAME', 'ALIAS', 'IATA', 'ICAO', 'CALLSIGN', 'COUNTRY', 'ACTIVE'])"
   ]
  },
  {
   "cell_type": "code",
   "execution_count": 9,
   "metadata": {},
   "outputs": [
    {
     "data": {
      "text/plain": [
       "{'OO': 'SkyWest',\n",
       " 'AS': 'Alaska Airlines',\n",
       " '9E': 'Pinnacle Airlines',\n",
       " 'AA': 'American Airlines',\n",
       " 'MQ': 'American Eagle Airlines',\n",
       " 'WN': 'Southwest Airlines',\n",
       " 'G4': 'Allegiant Air',\n",
       " 'OH': 'Comair',\n",
       " 'B6': 'JetBlue Airways',\n",
       " 'NK': 'Spirit Airlines',\n",
       " 'DL': 'Delta Air Lines',\n",
       " 'YV': 'Mesa Airlines',\n",
       " 'EV': 'Atlantic Southeast Airlines',\n",
       " 'F9': 'Frontier Airlines',\n",
       " 'YX': 'Midwest Airlines',\n",
       " 'UA': 'United Airlines',\n",
       " 'HA': 'Hawaiian Airlines'}"
      ]
     },
     "execution_count": 9,
     "metadata": {},
     "output_type": "execute_result"
    }
   ],
   "source": [
    "# we can make a dictionary to translate codes to actual names\n",
    "airline_dictionary = {k:airlines_ds.loc[airlines_ds.IATA == k, 'NAME'].values[0] for k in airlines}\n",
    "airline_dictionary"
   ]
  },
  {
   "cell_type": "code",
   "execution_count": 10,
   "metadata": {},
   "outputs": [
    {
     "data": {
      "text/plain": [
       "WN    0.182653\n",
       "DL    0.135937\n",
       "AA    0.127162\n",
       "OO    0.112247\n",
       "UA    0.085125\n",
       "YX    0.044112\n",
       "MQ    0.043292\n",
       "B6    0.040274\n",
       "OH    0.038750\n",
       "AS    0.035912\n",
       "9E    0.034719\n",
       "YV    0.030349\n",
       "NK    0.027640\n",
       "F9    0.018307\n",
       "EV    0.017636\n",
       "G4    0.014370\n",
       "HA    0.011514\n",
       "Name: Reporting_Airline, dtype: float64"
      ]
     },
     "execution_count": 10,
     "metadata": {},
     "output_type": "execute_result"
    }
   ],
   "source": [
    "# ok this was beautiful.\n",
    "# let's look at the share of flights between them.\n",
    "flights.Reporting_Airline.value_counts(normalize=True)"
   ]
  },
  {
   "cell_type": "code",
   "execution_count": 18,
   "metadata": {},
   "outputs": [],
   "source": [
    "airline_share = flights.Reporting_Airline.value_counts(normalize=True)\n",
    "data = pd.DataFrame(airline_share).reset_index().rename(columns={'index':'airline_code', 'Reporting_Airline':'market_share'})\n",
    "data['colors'] = get_colors('viridis_r', data.shape[0], plot=False)"
   ]
  },
  {
   "cell_type": "code",
   "execution_count": 39,
   "metadata": {},
   "outputs": [
    {
     "data": {
      "image/png": "[encoded data removed]",
      "text/plain": [
       "<Figure size 576x288 with 1 Axes>"
      ]
     },
     "metadata": {
      "needs_background": "light"
     },
     "output_type": "display_data"
    }
   ],
   "source": [
    "# makes a categorical bar plot\n",
    "# input data has to be a dataframe with 3 columns\n",
    "# column 0 contains the labels that go on the x-axis (already pre-formatted)\n",
    "# column 1 contains the values\n",
    "# column 2 contains the colors\n",
    "# the title of the value-columns contains the label for the Y-axis\n",
    "\n",
    "def categorical_bar(data, rotation=0, name='default_categorical_bar', save=False):\n",
    "\n",
    "    size_dict = {4:4,\n",
    "                 17:8}\n",
    "    \n",
    "    labels = list(data[data.columns[0]])\n",
    "    values = list(data[data.columns[1]])\n",
    "\n",
    "    fig, ax = plt.subplots(figsize=(size_dict[data.shape[0]], 4))\n",
    "    ax = default_plot(ax, ['left'])\n",
    "    x = range(len(values))\n",
    "    \n",
    "    ax.xaxis.set_tick_params(length=0)\n",
    "    #ax.spines['bottom'].set_visible(False)\n",
    "    \n",
    "    plt.xlim(-0.45, len(values) - 0.45)\n",
    "\n",
    "    xlabel = data.columns[0].replace('_',' ').title()\n",
    "    ylabel = data.columns[1].replace('_',' ').title()\n",
    "\n",
    "    plt.ylabel(ylabel)\n",
    "    plt.xlabel(xlabel)\n",
    "    plt.xticks(x, labels)\n",
    "    plt.bar(x, values, width=.9, color=data.colors, edgecolor='k', lw=.5)\n",
    "    \n",
    "    if save:\n",
    "        plt.tight_layout()\n",
    "        plt.savefig(name + '.png', dpi=300)\n",
    "    \n",
    "    plt.show()\n",
    "    \n",
    "categorical_bar(data)"
   ]
  },
  {
   "cell_type": "markdown",
   "metadata": {},
   "source": [
    "# Airports\n",
    "- Get database of worldwide Airports to extract information such as latitude, longitude, names, city and so on and merge with the IATA codes in our dataset."
   ]
  },
  {
   "cell_type": "code",
   "execution_count": 40,
   "metadata": {},
   "outputs": [],
   "source": [
    "airports_ds = pd.read_csv(data_path + 'world_airports.csv', index_col=0, names=['ID', 'NAME', 'CITY', 'COUNTRY', 'IATA', 'ICAO', 'LATITUDE', 'LONGITUDE', 'ALTITUDE', 'TIMEZONE', 'DST', 'TZ_OLSON', 'TYPE', 'SOURCE'])"
   ]
  },
  {
   "cell_type": "code",
   "execution_count": 41,
   "metadata": {},
   "outputs": [
    {
     "data": {
      "text/html": [
       "<div>\n",
       "<style scoped>\n",
       "    .dataframe tbody tr th:only-of-type {\n",
       "        vertical-align: middle;\n",
       "    }\n",
       "\n",
       "    .dataframe tbody tr th {\n",
       "        vertical-align: top;\n",
       "    }\n",
       "\n",
       "    .dataframe thead th {\n",
       "        text-align: right;\n",
       "    }\n",
       "</style>\n",
       "<table border=\"1\" class=\"dataframe\">\n",
       "  <thead>\n",
       "    <tr style=\"text-align: right;\">\n",
       "      <th></th>\n",
       "      <th>NAME</th>\n",
       "      <th>CITY</th>\n",
       "      <th>COUNTRY</th>\n",
       "      <th>IATA</th>\n",
       "      <th>ICAO</th>\n",
       "      <th>LATITUDE</th>\n",
       "      <th>LONGITUDE</th>\n",
       "      <th>ALTITUDE</th>\n",
       "      <th>TIMEZONE</th>\n",
       "      <th>DST</th>\n",
       "      <th>TZ_OLSON</th>\n",
       "      <th>TYPE</th>\n",
       "      <th>SOURCE</th>\n",
       "    </tr>\n",
       "    <tr>\n",
       "      <th>ID</th>\n",
       "      <th></th>\n",
       "      <th></th>\n",
       "      <th></th>\n",
       "      <th></th>\n",
       "      <th></th>\n",
       "      <th></th>\n",
       "      <th></th>\n",
       "      <th></th>\n",
       "      <th></th>\n",
       "      <th></th>\n",
       "      <th></th>\n",
       "      <th></th>\n",
       "      <th></th>\n",
       "    </tr>\n",
       "  </thead>\n",
       "  <tbody>\n",
       "    <tr>\n",
       "      <th>1970</th>\n",
       "      <td>Pago Pago International Airport</td>\n",
       "      <td>Pago Pago</td>\n",
       "      <td>American Samoa</td>\n",
       "      <td>PPG</td>\n",
       "      <td>NSTU</td>\n",
       "      <td>-14.331000</td>\n",
       "      <td>-170.710007</td>\n",
       "      <td>32</td>\n",
       "      <td>-11</td>\n",
       "      <td>U</td>\n",
       "      <td>Pacific/Pago_Pago</td>\n",
       "      <td>airport</td>\n",
       "      <td>OurAirports</td>\n",
       "    </tr>\n",
       "    <tr>\n",
       "      <th>2244</th>\n",
       "      <td>Saipan International Airport</td>\n",
       "      <td>Saipan</td>\n",
       "      <td>Northern Mariana Islands</td>\n",
       "      <td>SPN</td>\n",
       "      <td>PGSN</td>\n",
       "      <td>15.119000</td>\n",
       "      <td>145.729004</td>\n",
       "      <td>215</td>\n",
       "      <td>10</td>\n",
       "      <td>U</td>\n",
       "      <td>Pacific/Saipan</td>\n",
       "      <td>airport</td>\n",
       "      <td>OurAirports</td>\n",
       "    </tr>\n",
       "    <tr>\n",
       "      <th>2246</th>\n",
       "      <td>Antonio B. Won Pat International Airport</td>\n",
       "      <td>Agana</td>\n",
       "      <td>Guam</td>\n",
       "      <td>GUM</td>\n",
       "      <td>PGUM</td>\n",
       "      <td>13.483400</td>\n",
       "      <td>144.796005</td>\n",
       "      <td>298</td>\n",
       "      <td>10</td>\n",
       "      <td>U</td>\n",
       "      <td>Pacific/Guam</td>\n",
       "      <td>airport</td>\n",
       "      <td>OurAirports</td>\n",
       "    </tr>\n",
       "    <tr>\n",
       "      <th>2883</th>\n",
       "      <td>Cyril E. King Airport</td>\n",
       "      <td>St. Thomas</td>\n",
       "      <td>Virgin Islands</td>\n",
       "      <td>STT</td>\n",
       "      <td>TIST</td>\n",
       "      <td>18.337299</td>\n",
       "      <td>-64.973396</td>\n",
       "      <td>23</td>\n",
       "      <td>-4</td>\n",
       "      <td>U</td>\n",
       "      <td>America/St_Thomas</td>\n",
       "      <td>airport</td>\n",
       "      <td>OurAirports</td>\n",
       "    </tr>\n",
       "    <tr>\n",
       "      <th>2884</th>\n",
       "      <td>Henry E Rohlsen Airport</td>\n",
       "      <td>St. Croix Island</td>\n",
       "      <td>Virgin Islands</td>\n",
       "      <td>STX</td>\n",
       "      <td>TISX</td>\n",
       "      <td>17.701900</td>\n",
       "      <td>-64.798599</td>\n",
       "      <td>74</td>\n",
       "      <td>-4</td>\n",
       "      <td>U</td>\n",
       "      <td>America/St_Thomas</td>\n",
       "      <td>airport</td>\n",
       "      <td>OurAirports</td>\n",
       "    </tr>\n",
       "    <tr>\n",
       "      <th>...</th>\n",
       "      <td>...</td>\n",
       "      <td>...</td>\n",
       "      <td>...</td>\n",
       "      <td>...</td>\n",
       "      <td>...</td>\n",
       "      <td>...</td>\n",
       "      <td>...</td>\n",
       "      <td>...</td>\n",
       "      <td>...</td>\n",
       "      <td>...</td>\n",
       "      <td>...</td>\n",
       "      <td>...</td>\n",
       "      <td>...</td>\n",
       "    </tr>\n",
       "    <tr>\n",
       "      <th>8314</th>\n",
       "      <td>Hilton Head Airport</td>\n",
       "      <td>Hilton Head Island</td>\n",
       "      <td>United States</td>\n",
       "      <td>HHH</td>\n",
       "      <td>KHXD</td>\n",
       "      <td>32.224400</td>\n",
       "      <td>-80.697502</td>\n",
       "      <td>19</td>\n",
       "      <td>-5</td>\n",
       "      <td>A</td>\n",
       "      <td>America/New_York</td>\n",
       "      <td>airport</td>\n",
       "      <td>OurAirports</td>\n",
       "    </tr>\n",
       "    <tr>\n",
       "      <th>9543</th>\n",
       "      <td>Ogden Hinckley Airport</td>\n",
       "      <td>Ogden</td>\n",
       "      <td>United States</td>\n",
       "      <td>OGD</td>\n",
       "      <td>KOGD</td>\n",
       "      <td>41.195900</td>\n",
       "      <td>-112.012001</td>\n",
       "      <td>4473</td>\n",
       "      <td>-7</td>\n",
       "      <td>A</td>\n",
       "      <td>America/Denver</td>\n",
       "      <td>airport</td>\n",
       "      <td>OurAirports</td>\n",
       "    </tr>\n",
       "    <tr>\n",
       "      <th>9776</th>\n",
       "      <td>Stillwater Regional Airport</td>\n",
       "      <td>Stillwater</td>\n",
       "      <td>United States</td>\n",
       "      <td>SWO</td>\n",
       "      <td>KSWO</td>\n",
       "      <td>36.161201</td>\n",
       "      <td>-97.085701</td>\n",
       "      <td>1000</td>\n",
       "      <td>-6</td>\n",
       "      <td>A</td>\n",
       "      <td>America/Chicago</td>\n",
       "      <td>airport</td>\n",
       "      <td>OurAirports</td>\n",
       "    </tr>\n",
       "    <tr>\n",
       "      <th>14111</th>\n",
       "      <td>Williston Basin International Airport</td>\n",
       "      <td>Williston</td>\n",
       "      <td>United States</td>\n",
       "      <td>XWA</td>\n",
       "      <td>KXWA</td>\n",
       "      <td>48.259722</td>\n",
       "      <td>-103.750556</td>\n",
       "      <td>\\N</td>\n",
       "      <td>\\N</td>\n",
       "      <td>\\N</td>\n",
       "      <td>\\N</td>\n",
       "      <td>airport</td>\n",
       "      <td>\\N</td>\n",
       "    </tr>\n",
       "    <tr>\n",
       "      <th>14112</th>\n",
       "      <td>Kearney Regional Airport</td>\n",
       "      <td>Kearney</td>\n",
       "      <td>United States</td>\n",
       "      <td>EAR</td>\n",
       "      <td>KEAR</td>\n",
       "      <td>40.726944</td>\n",
       "      <td>-99.006667</td>\n",
       "      <td>\\N</td>\n",
       "      <td>\\N</td>\n",
       "      <td>\\N</td>\n",
       "      <td>\\N</td>\n",
       "      <td>airport</td>\n",
       "      <td>\\N</td>\n",
       "    </tr>\n",
       "  </tbody>\n",
       "</table>\n",
       "<p>360 rows × 13 columns</p>\n",
       "</div>"
      ],
      "text/plain": [
       "                                           NAME                CITY  \\\n",
       "ID                                                                    \n",
       "1970            Pago Pago International Airport           Pago Pago   \n",
       "2244               Saipan International Airport              Saipan   \n",
       "2246   Antonio B. Won Pat International Airport               Agana   \n",
       "2883                      Cyril E. King Airport          St. Thomas   \n",
       "2884                    Henry E Rohlsen Airport    St. Croix Island   \n",
       "...                                         ...                 ...   \n",
       "8314                        Hilton Head Airport  Hilton Head Island   \n",
       "9543                     Ogden Hinckley Airport               Ogden   \n",
       "9776                Stillwater Regional Airport          Stillwater   \n",
       "14111     Williston Basin International Airport           Williston   \n",
       "14112                  Kearney Regional Airport             Kearney   \n",
       "\n",
       "                        COUNTRY IATA  ICAO   LATITUDE   LONGITUDE ALTITUDE  \\\n",
       "ID                                                                           \n",
       "1970             American Samoa  PPG  NSTU -14.331000 -170.710007       32   \n",
       "2244   Northern Mariana Islands  SPN  PGSN  15.119000  145.729004      215   \n",
       "2246                       Guam  GUM  PGUM  13.483400  144.796005      298   \n",
       "2883             Virgin Islands  STT  TIST  18.337299  -64.973396       23   \n",
       "2884             Virgin Islands  STX  TISX  17.701900  -64.798599       74   \n",
       "...                         ...  ...   ...        ...         ...      ...   \n",
       "8314              United States  HHH  KHXD  32.224400  -80.697502       19   \n",
       "9543              United States  OGD  KOGD  41.195900 -112.012001     4473   \n",
       "9776              United States  SWO  KSWO  36.161201  -97.085701     1000   \n",
       "14111             United States  XWA  KXWA  48.259722 -103.750556       \\N   \n",
       "14112             United States  EAR  KEAR  40.726944  -99.006667       \\N   \n",
       "\n",
       "      TIMEZONE DST           TZ_OLSON     TYPE       SOURCE  \n",
       "ID                                                           \n",
       "1970       -11   U  Pacific/Pago_Pago  airport  OurAirports  \n",
       "2244        10   U     Pacific/Saipan  airport  OurAirports  \n",
       "2246        10   U       Pacific/Guam  airport  OurAirports  \n",
       "2883        -4   U  America/St_Thomas  airport  OurAirports  \n",
       "2884        -4   U  America/St_Thomas  airport  OurAirports  \n",
       "...        ...  ..                ...      ...          ...  \n",
       "8314        -5   A   America/New_York  airport  OurAirports  \n",
       "9543        -7   A     America/Denver  airport  OurAirports  \n",
       "9776        -6   A    America/Chicago  airport  OurAirports  \n",
       "14111       \\N  \\N                 \\N  airport           \\N  \n",
       "14112       \\N  \\N                 \\N  airport           \\N  \n",
       "\n",
       "[360 rows x 13 columns]"
      ]
     },
     "execution_count": 41,
     "metadata": {},
     "output_type": "execute_result"
    }
   ],
   "source": [
    "# grab all the airports in our dataset\n",
    "airports = flights.Origin.unique()\n",
    "\n",
    "# create a dictionary for airport name with IATA codes\n",
    "airport_dictionary = {k:airports_ds.loc[airports_ds.IATA == k, 'NAME'].values[0] for k in airports}\n",
    "\n",
    "# apparently there are 2 airports in our dataset that are not present in the database, I could just \n",
    "# drop all the flights that involve these locations, bu I kind of like to fix it.\n",
    "# all we need are their names and their locations\n",
    "\n",
    "airports_ds = airports_ds[airports_ds.IATA.isin(airports)]\n",
    "airports_ds"
   ]
  },
  {
   "cell_type": "code",
   "execution_count": null,
   "metadata": {},
   "outputs": [],
   "source": [
    "# there are 360 airports in the data, these will end up being too many categories for a classification algorithms,\n",
    "# probably the best way would be to select the top 50 airports, or the top 50 routes."
   ]
  },
  {
   "cell_type": "code",
   "execution_count": 42,
   "metadata": {},
   "outputs": [
    {
     "data": {
      "text/plain": [
       "<matplotlib.axes._subplots.AxesSubplot at 0x1c276fefdc8>"
      ]
     },
     "execution_count": 42,
     "metadata": {},
     "output_type": "execute_result"
    },
    {
     "data": {
      "image/png": "[encoded data removed]",
      "text/plain": [
       "<Figure size 432x288 with 1 Axes>"
      ]
     },
     "metadata": {
      "needs_background": "light"
     },
     "output_type": "display_data"
    }
   ],
   "source": [
    "# top 20 airports by number of flights\n",
    "flights.Origin.value_counts()[:20].plot.bar()"
   ]
  },
  {
   "cell_type": "markdown",
   "metadata": {},
   "source": [
    "## Dates"
   ]
  },
  {
   "cell_type": "code",
   "execution_count": null,
   "metadata": {},
   "outputs": [],
   "source": [
    "flights.FlightDate.dtypes"
   ]
  },
  {
   "cell_type": "code",
   "execution_count": null,
   "metadata": {},
   "outputs": [],
   "source": [
    "# Our flight date is still an object, let's change it to datetime.\n",
    "flights.FlightDate = pd.to_datetime(flights.FlightDate)"
   ]
  },
  {
   "cell_type": "code",
   "execution_count": null,
   "metadata": {},
   "outputs": [],
   "source": [
    "\n",
    "monthly_flights = flights.groupby(flights.FlightDate.dt.day).agg(count=('FlightDate', 'count'))\n",
    "monthly_flights.plot(kind=\"bar\")"
   ]
  },
  {
   "cell_type": "markdown",
   "metadata": {},
   "source": [
    "We could explore this dataset forever, I still kind of want to, but let's get to what matters\n",
    "# Delays\n",
    "- For now the threshold for delay will be 15 min."
   ]
  },
  {
   "cell_type": "code",
   "execution_count": null,
   "metadata": {
    "scrolled": false
   },
   "outputs": [],
   "source": [
    "# let's look at the distribution of delays\n",
    "plt.hist(flights['ArrDelay'], bins= 50, range=(-60, 200));"
   ]
  },
  {
   "cell_type": "code",
   "execution_count": null,
   "metadata": {},
   "outputs": [],
   "source": [
    "# Delays by day of the week\n",
    "delays_by_day_of_week = flights.pivot_table(index=['CRSDepTime'], aggfunc={'delay_off': lambda x: np.sum(x)/len(x)}).reset_index()\n",
    "delays_by_day_of_week"
   ]
  },
  {
   "cell_type": "code",
   "execution_count": null,
   "metadata": {},
   "outputs": [],
   "source": [
    "plt.plot(delays_by_day_of_week.CRSDepTime, delays_by_day_of_week.delay_off)"
   ]
  },
  {
   "cell_type": "code",
   "execution_count": null,
   "metadata": {},
   "outputs": [],
   "source": [
    "# departure and arrival delays (> threshold)\n",
    "delay_threshold = 15\n",
    "flights['delay_on'] = np.where(flights['DepDelay'] >= delay_threshold, 1, 0)\n",
    "flights['delay_off'] = np.where(flights['ArrDelay'] >= delay_threshold, 1, 0)\n",
    "flights['delay_averted'] = np.where(flights.delay_on - flights.delay_off == 1, 1, 0)\n",
    "flights['delay_on_air'] = np.where(flights.delay_on - flights.delay_off == -1, 1, 0)"
   ]
  },
  {
   "cell_type": "code",
   "execution_count": null,
   "metadata": {},
   "outputs": [],
   "source": [
    "# calculate total percentage of flights delayed on departure\n",
    "flights.delay_on.value_counts(normalize=True)"
   ]
  },
  {
   "cell_type": "code",
   "execution_count": null,
   "metadata": {},
   "outputs": [],
   "source": [
    "# calculate total percentage of flights delayed on arrival\n",
    "flights.delay_off.value_counts(normalize=True)"
   ]
  },
  {
   "cell_type": "code",
   "execution_count": null,
   "metadata": {},
   "outputs": [],
   "source": [
    "# calculate total percentage of flights delayed on departure but arrived on time\n",
    "flights.delay_averted.value_counts(normalize=True)"
   ]
  },
  {
   "cell_type": "code",
   "execution_count": null,
   "metadata": {},
   "outputs": [],
   "source": [
    "# calculate total percentage of flights departed on time but arrived late\n",
    "flights.delay_on_air.value_counts(normalize=True)"
   ]
  },
  {
   "cell_type": "code",
   "execution_count": null,
   "metadata": {},
   "outputs": [],
   "source": [
    "# group by airline and get percentage of delays\n",
    "delays_by_airline = flights.pivot_table(index=['Reporting_Airline'], aggfunc={'delay_off': lambda x: np.sum(x)/len(x)}).reset_index()"
   ]
  },
  {
   "cell_type": "code",
   "execution_count": null,
   "metadata": {},
   "outputs": [],
   "source": [
    "delays_by_airline.sort_values(by='delay_off', ascending=False)"
   ]
  },
  {
   "cell_type": "code",
   "execution_count": null,
   "metadata": {},
   "outputs": [],
   "source": [
    "delays_by_airport = flights.pivot_table(index=['Dest'], aggfunc={'delay_off': lambda x: np.sum(x)/len(x)}).reset_index().sort_values(by='delay_off', ascending=False)"
   ]
  },
  {
   "cell_type": "code",
   "execution_count": null,
   "metadata": {},
   "outputs": [],
   "source": [
    "delays_by_airport"
   ]
  },
  {
   "cell_type": "markdown",
   "metadata": {},
   "source": [
    "# Plotting Airports on Map by % of Flights Delayed"
   ]
  },
  {
   "cell_type": "code",
   "execution_count": null,
   "metadata": {
    "scrolled": true
   },
   "outputs": [],
   "source": [
    "# merge delay data onto location data\n",
    "delay_map = airports_ds[['IATA','NAME','LATITUDE', 'LONGITUDE']].merge(delays_by_airport[['Dest', 'delay_off']], left_on='IATA', right_on='Dest')"
   ]
  },
  {
   "cell_type": "code",
   "execution_count": null,
   "metadata": {},
   "outputs": [],
   "source": [
    "delay_map"
   ]
  },
  {
   "cell_type": "code",
   "execution_count": null,
   "metadata": {},
   "outputs": [],
   "source": [
    "# making an interactive plot of USA and its airports\n",
    "# learning plotly express\n",
    "\n",
    "\n",
    "fig = go.Figure(data=go.Scattergeo(\n",
    "        lon = delay_map['LONGITUDE'],\n",
    "        lat = delay_map['LATITUDE'],\n",
    "        text = delay_map['NAME'] + ' ' + delay_map['delay_off'].astype('str'),\n",
    "        mode = 'markers',\n",
    "        marker = dict(\n",
    "            size = 8,\n",
    "            opacity = 0.8,\n",
    "            reversescale = True,\n",
    "            autocolorscale = False,\n",
    "            symbol = 'square',\n",
    "            line = dict(\n",
    "                width=1,\n",
    "                color='rgba(102, 102, 102)'\n",
    "            ),\n",
    "            colorscale = 'Viridis_r',\n",
    "            cmin = 0,\n",
    "            color = delays_by_airport['delay_off'],\n",
    "            cmax = delays_by_airport['delay_off'].max(),\n",
    "            colorbar_title=\"Flights late >60 min\")))\n",
    "\n",
    "fig.update_layout(\n",
    "        title = 'US Airports',\n",
    "        geo_scope='usa',\n",
    "    )\n",
    "fig.show()"
   ]
  },
  {
   "cell_type": "code",
   "execution_count": null,
   "metadata": {},
   "outputs": [],
   "source": [
    "# COOL! I knew how to make them static but I might need to spend a lot of time learning how to customize this"
   ]
  },
  {
   "cell_type": "markdown",
   "metadata": {},
   "source": [
    "# Machine Learning\n",
    "- Using classification algorithms to try and predict if it arrives late or not.\n",
    "- We need to select relevant columns"
   ]
  },
  {
   "cell_type": "code",
   "execution_count": null,
   "metadata": {},
   "outputs": [],
   "source": [
    "flights = flights[flights['Cancelled'] == 0]"
   ]
  },
  {
   "cell_type": "code",
   "execution_count": null,
   "metadata": {},
   "outputs": [],
   "source": [
    "flights.shape[0]"
   ]
  },
  {
   "cell_type": "code",
   "execution_count": null,
   "metadata": {},
   "outputs": [],
   "source": [
    "# selecting columns based on what information a user would have before the flight\n",
    "feature_cols = ['FlightDate', 'DayOfWeek', 'Reporting_Airline', 'Origin', 'Dest', 'CRSDepTime', 'Distance', 'delay_off']"
   ]
  },
  {
   "cell_type": "code",
   "execution_count": null,
   "metadata": {},
   "outputs": [],
   "source": [
    "# use only cols we want\n",
    "mlc_flights = flights[feature_cols]\n",
    "mlc_flights.dtypes"
   ]
  },
  {
   "cell_type": "code",
   "execution_count": null,
   "metadata": {
    "scrolled": true
   },
   "outputs": [],
   "source": [
    "# we need to label the airlines and the airports\n",
    "le = LabelEncoder()\n",
    "label_cols = ['Reporting_Airline', 'Origin', 'Dest']\n",
    "mlc_flights[label_cols] = mlc_flights[label_cols].apply(le.fit_transform)"
   ]
  },
  {
   "cell_type": "code",
   "execution_count": null,
   "metadata": {},
   "outputs": [],
   "source": [
    "plt.figure(figsize=(8, 8))\n",
    "correlation = mlc_flights.corr()\n",
    "sns.heatmap(correlation, cmap='viridis', annot=True)"
   ]
  },
  {
   "cell_type": "markdown",
   "metadata": {},
   "source": [
    "# Classification"
   ]
  },
  {
   "cell_type": "code",
   "execution_count": null,
   "metadata": {},
   "outputs": [],
   "source": [
    "# get features and target\n",
    "y = mlc_flights['delay_off']\n",
    "X = mlc_flights.drop('delay_off', axis=1)\n",
    "\n",
    "scaler = MinMaxScaler()\n",
    "X = scaler.fit_transform(X)\n",
    "\n",
    "# divide train test\n",
    "X_train, X_test, y_train, y_test = train_test_split(X, y, test_size= 0.25)"
   ]
  },
  {
   "cell_type": "code",
   "execution_count": null,
   "metadata": {},
   "outputs": [],
   "source": [
    "# Logistic Regression\n",
    "lr = LogisticRegression()#class_weight='balanced')\n",
    "lr.fit(X_train, y_train)\n",
    "acc = lr.score(X_test, y_test)*100\n",
    "\n",
    "print(f\"Logistic Regression Test Accuracy {round(acc, 2)}%\")"
   ]
  },
  {
   "cell_type": "code",
   "execution_count": null,
   "metadata": {},
   "outputs": [],
   "source": [
    "from sklearn.metrics import confusion_matrix, accuracy_score\n",
    "\n",
    "score = lr.score(X_test, y_test)*100\n",
    "\n",
    "y_pred = lr.predict(X_test)\n",
    "print(accuracy_score(y_test, y_pred)*100)\n",
    "print(f\"Logistic Regression Test Accuracy {round(score, 2)}%\")\n",
    "print(confusion_matrix(y_test, y_pred))"
   ]
  },
  {
   "cell_type": "markdown",
   "metadata": {},
   "source": [
    "# Regression"
   ]
  },
  {
   "cell_type": "code",
   "execution_count": null,
   "metadata": {},
   "outputs": [],
   "source": [
    "feature_cols = ['Month', 'DayofMonth', 'DayOfWeek', 'Reporting_Airline', 'Origin', 'Dest', 'CRSDepTime', 'Distance', 'ArrDelay']\n",
    "mlr_flights = flights[feature_cols]\n",
    "\n",
    "le = LabelEncoder()\n",
    "label_cols = ['Reporting_Airline', 'Origin', 'Dest']\n",
    "mlr_flights[label_cols] = mlr_flights[label_cols].apply(le.fit_transform)\n",
    "\n",
    "scaler = StandardScaler()\n",
    "scaler.fit_transform(mlr_flights)\n",
    "\n",
    "# get features and target\n",
    "y = mlr_flights['ArrDelay']\n",
    "X = mlr_flights.drop('ArrDelay', axis=1)\n",
    "\n",
    "# divide train test\n",
    "X_train, X_test, y_train, y_test = train_test_split(X, y, test_size = 0.2)"
   ]
  },
  {
   "cell_type": "code",
   "execution_count": null,
   "metadata": {},
   "outputs": [],
   "source": [
    "# Create linear regression\n",
    "regr = LinearRegression()\n",
    "model = regr.fit(X, y)\n",
    "model.score(X_test, y_test)"
   ]
  },
  {
   "cell_type": "code",
   "execution_count": null,
   "metadata": {},
   "outputs": [],
   "source": []
  },
  {
   "cell_type": "code",
   "execution_count": null,
   "metadata": {},
   "outputs": [],
   "source": []
  }
 ],
 "metadata": {
  "kernelspec": {
   "display_name": "Python 3",
   "language": "python",
   "name": "python3"
  },
  "language_info": {
   "codemirror_mode": {
    "name": "ipython",
    "version": 3
   },
   "file_extension": ".py",
   "mimetype": "text/x-python",
   "name": "python",
   "nbconvert_exporter": "python",
   "pygments_lexer": "ipython3",
   "version": "3.7.7"
  }
 },
 "nbformat": 4,
 "nbformat_minor": 2
}
