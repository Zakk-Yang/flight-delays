{
 "cells": [
  {
   "cell_type": "markdown",
   "metadata": {},
   "source": [
    "# EDA\n",
    "- We will look at US domestic flights from 2019.\n",
    "- Do some exploratory analysis.\n",
    "- Maybe finish with ML algorithm to predict delays.\n",
    "\n",
    "## Datasets\n",
    "- [Flight on-time data](https://www.transtats.bts.gov/)\n",
    "- [Airline & Aiports database](https://openflights.org/data.html)"
   ]
  },
  {
   "cell_type": "code",
   "execution_count": 127,
   "metadata": {},
   "outputs": [],
   "source": [
    "# import libraries\n",
    "import pandas as pd\n",
    "import numpy as np\n",
    "import matplotlib.pyplot as plt\n",
    "import plotly.express as px\n",
    "import plotly.graph_objects as go\n",
    "\n",
    "data_path = 'C:/Users/Zaca/Documents/Datasets/flights/'"
   ]
  },
  {
   "cell_type": "code",
   "execution_count": 3,
   "metadata": {},
   "outputs": [
    {
     "name": "stderr",
     "output_type": "stream",
     "text": [
      "C:\\Users\\Zaca\\Anaconda3\\lib\\site-packages\\numpy\\lib\\arraysetops.py:569: FutureWarning: elementwise comparison failed; returning scalar instead, but in the future will perform elementwise comparison\n",
      "  mask |= (ar1 == a)\n"
     ]
    }
   ],
   "source": [
    "# open file (1.3GB so it will be slow)\n",
    "flights = pd.read_csv(data_path + '2019.csv', index_col=0)"
   ]
  },
  {
   "cell_type": "code",
   "execution_count": 23,
   "metadata": {
    "scrolled": true
   },
   "outputs": [
    {
     "data": {
      "text/html": [
       "<div>\n",
       "<style scoped>\n",
       "    .dataframe tbody tr th:only-of-type {\n",
       "        vertical-align: middle;\n",
       "    }\n",
       "\n",
       "    .dataframe tbody tr th {\n",
       "        vertical-align: top;\n",
       "    }\n",
       "\n",
       "    .dataframe thead th {\n",
       "        text-align: right;\n",
       "    }\n",
       "</style>\n",
       "<table border=\"1\" class=\"dataframe\">\n",
       "  <thead>\n",
       "    <tr style=\"text-align: right;\">\n",
       "      <th></th>\n",
       "      <th>colname</th>\n",
       "      <th>coldesc</th>\n",
       "    </tr>\n",
       "  </thead>\n",
       "  <tbody>\n",
       "    <tr>\n",
       "      <td>0</td>\n",
       "      <td>FlightDate</td>\n",
       "      <td>Flight Date (yyyymmdd)</td>\n",
       "    </tr>\n",
       "    <tr>\n",
       "      <td>1</td>\n",
       "      <td>Reporting_Airline</td>\n",
       "      <td>Unique Carrier Code</td>\n",
       "    </tr>\n",
       "    <tr>\n",
       "      <td>2</td>\n",
       "      <td>Flight_Number_Reporting_Airline</td>\n",
       "      <td>Flight Number</td>\n",
       "    </tr>\n",
       "    <tr>\n",
       "      <td>3</td>\n",
       "      <td>OriginAirportID</td>\n",
       "      <td>Airport ID</td>\n",
       "    </tr>\n",
       "    <tr>\n",
       "      <td>4</td>\n",
       "      <td>Origin</td>\n",
       "      <td>Origin Airport</td>\n",
       "    </tr>\n",
       "    <tr>\n",
       "      <td>5</td>\n",
       "      <td>OriginCityName</td>\n",
       "      <td>City Name</td>\n",
       "    </tr>\n",
       "    <tr>\n",
       "      <td>6</td>\n",
       "      <td>OriginState</td>\n",
       "      <td>Origin Airport State Code</td>\n",
       "    </tr>\n",
       "    <tr>\n",
       "      <td>7</td>\n",
       "      <td>DestAirportID</td>\n",
       "      <td>Destination AirportID</td>\n",
       "    </tr>\n",
       "    <tr>\n",
       "      <td>8</td>\n",
       "      <td>Dest</td>\n",
       "      <td>Destination Airport</td>\n",
       "    </tr>\n",
       "    <tr>\n",
       "      <td>9</td>\n",
       "      <td>DestCityName</td>\n",
       "      <td>Destination Airport City Name</td>\n",
       "    </tr>\n",
       "    <tr>\n",
       "      <td>10</td>\n",
       "      <td>DestState</td>\n",
       "      <td>Destination Airport State Code</td>\n",
       "    </tr>\n",
       "    <tr>\n",
       "      <td>11</td>\n",
       "      <td>CRSDepTime</td>\n",
       "      <td>CRS Departure Time (local time: hhmm)</td>\n",
       "    </tr>\n",
       "    <tr>\n",
       "      <td>12</td>\n",
       "      <td>DepTime</td>\n",
       "      <td>Actual Departure Time (local time: hhmm)</td>\n",
       "    </tr>\n",
       "    <tr>\n",
       "      <td>13</td>\n",
       "      <td>DepDelay</td>\n",
       "      <td>Difference in minutes between scheduled and ac...</td>\n",
       "    </tr>\n",
       "    <tr>\n",
       "      <td>14</td>\n",
       "      <td>TaxiOut</td>\n",
       "      <td>Taxi Out Time in Minutes</td>\n",
       "    </tr>\n",
       "    <tr>\n",
       "      <td>15</td>\n",
       "      <td>WheelsOff</td>\n",
       "      <td>Wheels Off Time (local time: hhmm)</td>\n",
       "    </tr>\n",
       "    <tr>\n",
       "      <td>16</td>\n",
       "      <td>WheelsOn</td>\n",
       "      <td>Wheels On Time (local time: hhmm)</td>\n",
       "    </tr>\n",
       "    <tr>\n",
       "      <td>17</td>\n",
       "      <td>TaxiIn</td>\n",
       "      <td>Taxi In Time in Minutes</td>\n",
       "    </tr>\n",
       "    <tr>\n",
       "      <td>18</td>\n",
       "      <td>CRSArrTime</td>\n",
       "      <td>CRS Arrival Time (local time: hhmm)</td>\n",
       "    </tr>\n",
       "    <tr>\n",
       "      <td>19</td>\n",
       "      <td>ArrTime</td>\n",
       "      <td>Actual Arrival Time (local time: hhmm)</td>\n",
       "    </tr>\n",
       "    <tr>\n",
       "      <td>20</td>\n",
       "      <td>ArrDelay</td>\n",
       "      <td>Difference in minutes between scheduled and ac...</td>\n",
       "    </tr>\n",
       "    <tr>\n",
       "      <td>21</td>\n",
       "      <td>Cancelled</td>\n",
       "      <td>Cancelled Flight Indicator (1=Yes)</td>\n",
       "    </tr>\n",
       "    <tr>\n",
       "      <td>22</td>\n",
       "      <td>Diverted</td>\n",
       "      <td>Diverted Flight Indicator (1=Yes)</td>\n",
       "    </tr>\n",
       "    <tr>\n",
       "      <td>23</td>\n",
       "      <td>CRSElapsedTime</td>\n",
       "      <td>CRS Elapsed Time of Flight in Minutes</td>\n",
       "    </tr>\n",
       "    <tr>\n",
       "      <td>24</td>\n",
       "      <td>ActualElapsedTime</td>\n",
       "      <td>Elapsed Time of Flight in Minutes</td>\n",
       "    </tr>\n",
       "    <tr>\n",
       "      <td>25</td>\n",
       "      <td>AirTime</td>\n",
       "      <td>Flight Time in Minutes</td>\n",
       "    </tr>\n",
       "    <tr>\n",
       "      <td>26</td>\n",
       "      <td>Distance</td>\n",
       "      <td>Distance between airports (miles)</td>\n",
       "    </tr>\n",
       "    <tr>\n",
       "      <td>27</td>\n",
       "      <td>CarrierDelay</td>\n",
       "      <td>Carrier Delay in Minutes</td>\n",
       "    </tr>\n",
       "    <tr>\n",
       "      <td>28</td>\n",
       "      <td>WeatherDelay</td>\n",
       "      <td>Weather Delay in Minutes</td>\n",
       "    </tr>\n",
       "    <tr>\n",
       "      <td>29</td>\n",
       "      <td>NASDelay</td>\n",
       "      <td>National Air System Delay in Minutes</td>\n",
       "    </tr>\n",
       "    <tr>\n",
       "      <td>30</td>\n",
       "      <td>SecurityDelay</td>\n",
       "      <td>Security Delay in Minutes</td>\n",
       "    </tr>\n",
       "    <tr>\n",
       "      <td>31</td>\n",
       "      <td>LateAircraftDelay</td>\n",
       "      <td>Late Aircraft Delay in Minutes</td>\n",
       "    </tr>\n",
       "  </tbody>\n",
       "</table>\n",
       "</div>"
      ],
      "text/plain": [
       "                            colname  \\\n",
       "0                        FlightDate   \n",
       "1                 Reporting_Airline   \n",
       "2   Flight_Number_Reporting_Airline   \n",
       "3                   OriginAirportID   \n",
       "4                            Origin   \n",
       "5                    OriginCityName   \n",
       "6                       OriginState   \n",
       "7                     DestAirportID   \n",
       "8                              Dest   \n",
       "9                      DestCityName   \n",
       "10                        DestState   \n",
       "11                       CRSDepTime   \n",
       "12                          DepTime   \n",
       "13                         DepDelay   \n",
       "14                          TaxiOut   \n",
       "15                        WheelsOff   \n",
       "16                         WheelsOn   \n",
       "17                           TaxiIn   \n",
       "18                       CRSArrTime   \n",
       "19                          ArrTime   \n",
       "20                         ArrDelay   \n",
       "21                        Cancelled   \n",
       "22                         Diverted   \n",
       "23                   CRSElapsedTime   \n",
       "24                ActualElapsedTime   \n",
       "25                          AirTime   \n",
       "26                         Distance   \n",
       "27                     CarrierDelay   \n",
       "28                     WeatherDelay   \n",
       "29                         NASDelay   \n",
       "30                    SecurityDelay   \n",
       "31                LateAircraftDelay   \n",
       "\n",
       "                                              coldesc  \n",
       "0                              Flight Date (yyyymmdd)  \n",
       "1                                 Unique Carrier Code  \n",
       "2                                       Flight Number  \n",
       "3                                          Airport ID  \n",
       "4                                      Origin Airport  \n",
       "5                                           City Name  \n",
       "6                           Origin Airport State Code  \n",
       "7                               Destination AirportID  \n",
       "8                                 Destination Airport  \n",
       "9                       Destination Airport City Name  \n",
       "10                     Destination Airport State Code  \n",
       "11              CRS Departure Time (local time: hhmm)  \n",
       "12           Actual Departure Time (local time: hhmm)  \n",
       "13  Difference in minutes between scheduled and ac...  \n",
       "14                           Taxi Out Time in Minutes  \n",
       "15                 Wheels Off Time (local time: hhmm)  \n",
       "16                  Wheels On Time (local time: hhmm)  \n",
       "17                            Taxi In Time in Minutes  \n",
       "18                CRS Arrival Time (local time: hhmm)  \n",
       "19             Actual Arrival Time (local time: hhmm)  \n",
       "20  Difference in minutes between scheduled and ac...  \n",
       "21                 Cancelled Flight Indicator (1=Yes)  \n",
       "22                  Diverted Flight Indicator (1=Yes)  \n",
       "23              CRS Elapsed Time of Flight in Minutes  \n",
       "24                  Elapsed Time of Flight in Minutes  \n",
       "25                             Flight Time in Minutes  \n",
       "26                  Distance between airports (miles)  \n",
       "27                           Carrier Delay in Minutes  \n",
       "28                           Weather Delay in Minutes  \n",
       "29               National Air System Delay in Minutes  \n",
       "30                          Security Delay in Minutes  \n",
       "31                     Late Aircraft Delay in Minutes  "
      ]
     },
     "execution_count": 23,
     "metadata": {},
     "output_type": "execute_result"
    }
   ],
   "source": [
    "cols = pd.read_csv(data_path + '2019/columns.txt', sep=',', names=['colname', 'coldesc'], index_col= False)\n",
    "cols"
   ]
  },
  {
   "cell_type": "code",
   "execution_count": 4,
   "metadata": {},
   "outputs": [
    {
     "data": {
      "text/html": [
       "<div>\n",
       "<style scoped>\n",
       "    .dataframe tbody tr th:only-of-type {\n",
       "        vertical-align: middle;\n",
       "    }\n",
       "\n",
       "    .dataframe tbody tr th {\n",
       "        vertical-align: top;\n",
       "    }\n",
       "\n",
       "    .dataframe thead th {\n",
       "        text-align: right;\n",
       "    }\n",
       "</style>\n",
       "<table border=\"1\" class=\"dataframe\">\n",
       "  <thead>\n",
       "    <tr style=\"text-align: right;\">\n",
       "      <th></th>\n",
       "      <th>FlightDate</th>\n",
       "      <th>Reporting_Airline</th>\n",
       "      <th>Flight_Number_Reporting_Airline</th>\n",
       "      <th>OriginAirportID</th>\n",
       "      <th>Origin</th>\n",
       "      <th>OriginCityName</th>\n",
       "      <th>OriginState</th>\n",
       "      <th>DestAirportID</th>\n",
       "      <th>Dest</th>\n",
       "      <th>DestCityName</th>\n",
       "      <th>...</th>\n",
       "      <th>Diverted</th>\n",
       "      <th>CRSElapsedTime</th>\n",
       "      <th>ActualElapsedTime</th>\n",
       "      <th>AirTime</th>\n",
       "      <th>Distance</th>\n",
       "      <th>CarrierDelay</th>\n",
       "      <th>WeatherDelay</th>\n",
       "      <th>NASDelay</th>\n",
       "      <th>SecurityDelay</th>\n",
       "      <th>LateAircraftDelay</th>\n",
       "    </tr>\n",
       "  </thead>\n",
       "  <tbody>\n",
       "    <tr>\n",
       "      <td>0</td>\n",
       "      <td>2019-01-04</td>\n",
       "      <td>OO</td>\n",
       "      <td>5657</td>\n",
       "      <td>14698</td>\n",
       "      <td>SBP</td>\n",
       "      <td>San Luis Obispo, CA</td>\n",
       "      <td>CA</td>\n",
       "      <td>14771</td>\n",
       "      <td>SFO</td>\n",
       "      <td>San Francisco, CA</td>\n",
       "      <td>...</td>\n",
       "      <td>0.0</td>\n",
       "      <td>70.0</td>\n",
       "      <td>51.0</td>\n",
       "      <td>37.0</td>\n",
       "      <td>190.0</td>\n",
       "      <td>0.0</td>\n",
       "      <td>0.0</td>\n",
       "      <td>0.0</td>\n",
       "      <td>0.0</td>\n",
       "      <td>0.0</td>\n",
       "    </tr>\n",
       "    <tr>\n",
       "      <td>1</td>\n",
       "      <td>2019-01-04</td>\n",
       "      <td>OO</td>\n",
       "      <td>5658</td>\n",
       "      <td>12266</td>\n",
       "      <td>IAH</td>\n",
       "      <td>Houston, TX</td>\n",
       "      <td>TX</td>\n",
       "      <td>15919</td>\n",
       "      <td>XNA</td>\n",
       "      <td>Fayetteville, AR</td>\n",
       "      <td>...</td>\n",
       "      <td>0.0</td>\n",
       "      <td>103.0</td>\n",
       "      <td>109.0</td>\n",
       "      <td>76.0</td>\n",
       "      <td>438.0</td>\n",
       "      <td>0.0</td>\n",
       "      <td>0.0</td>\n",
       "      <td>0.0</td>\n",
       "      <td>0.0</td>\n",
       "      <td>0.0</td>\n",
       "    </tr>\n",
       "    <tr>\n",
       "      <td>2</td>\n",
       "      <td>2019-01-04</td>\n",
       "      <td>OO</td>\n",
       "      <td>5658</td>\n",
       "      <td>14783</td>\n",
       "      <td>SGF</td>\n",
       "      <td>Springfield, MO</td>\n",
       "      <td>MO</td>\n",
       "      <td>12266</td>\n",
       "      <td>IAH</td>\n",
       "      <td>Houston, TX</td>\n",
       "      <td>...</td>\n",
       "      <td>0.0</td>\n",
       "      <td>132.0</td>\n",
       "      <td>121.0</td>\n",
       "      <td>88.0</td>\n",
       "      <td>513.0</td>\n",
       "      <td>0.0</td>\n",
       "      <td>0.0</td>\n",
       "      <td>0.0</td>\n",
       "      <td>0.0</td>\n",
       "      <td>0.0</td>\n",
       "    </tr>\n",
       "    <tr>\n",
       "      <td>3</td>\n",
       "      <td>2019-01-04</td>\n",
       "      <td>OO</td>\n",
       "      <td>5659</td>\n",
       "      <td>12389</td>\n",
       "      <td>ISN</td>\n",
       "      <td>Williston, ND</td>\n",
       "      <td>ND</td>\n",
       "      <td>11292</td>\n",
       "      <td>DEN</td>\n",
       "      <td>Denver, CO</td>\n",
       "      <td>...</td>\n",
       "      <td>0.0</td>\n",
       "      <td>118.0</td>\n",
       "      <td>110.0</td>\n",
       "      <td>80.0</td>\n",
       "      <td>576.0</td>\n",
       "      <td>0.0</td>\n",
       "      <td>0.0</td>\n",
       "      <td>0.0</td>\n",
       "      <td>0.0</td>\n",
       "      <td>0.0</td>\n",
       "    </tr>\n",
       "    <tr>\n",
       "      <td>4</td>\n",
       "      <td>2019-01-04</td>\n",
       "      <td>OO</td>\n",
       "      <td>5660</td>\n",
       "      <td>13342</td>\n",
       "      <td>MKE</td>\n",
       "      <td>Milwaukee, WI</td>\n",
       "      <td>WI</td>\n",
       "      <td>11292</td>\n",
       "      <td>DEN</td>\n",
       "      <td>Denver, CO</td>\n",
       "      <td>...</td>\n",
       "      <td>0.0</td>\n",
       "      <td>184.0</td>\n",
       "      <td>163.0</td>\n",
       "      <td>127.0</td>\n",
       "      <td>896.0</td>\n",
       "      <td>0.0</td>\n",
       "      <td>0.0</td>\n",
       "      <td>0.0</td>\n",
       "      <td>0.0</td>\n",
       "      <td>0.0</td>\n",
       "    </tr>\n",
       "  </tbody>\n",
       "</table>\n",
       "<p>5 rows × 32 columns</p>\n",
       "</div>"
      ],
      "text/plain": [
       "   FlightDate Reporting_Airline  Flight_Number_Reporting_Airline  \\\n",
       "0  2019-01-04                OO                             5657   \n",
       "1  2019-01-04                OO                             5658   \n",
       "2  2019-01-04                OO                             5658   \n",
       "3  2019-01-04                OO                             5659   \n",
       "4  2019-01-04                OO                             5660   \n",
       "\n",
       "   OriginAirportID Origin       OriginCityName OriginState  DestAirportID  \\\n",
       "0            14698    SBP  San Luis Obispo, CA          CA          14771   \n",
       "1            12266    IAH          Houston, TX          TX          15919   \n",
       "2            14783    SGF      Springfield, MO          MO          12266   \n",
       "3            12389    ISN        Williston, ND          ND          11292   \n",
       "4            13342    MKE        Milwaukee, WI          WI          11292   \n",
       "\n",
       "  Dest       DestCityName  ... Diverted  CRSElapsedTime  ActualElapsedTime  \\\n",
       "0  SFO  San Francisco, CA  ...      0.0            70.0               51.0   \n",
       "1  XNA   Fayetteville, AR  ...      0.0           103.0              109.0   \n",
       "2  IAH        Houston, TX  ...      0.0           132.0              121.0   \n",
       "3  DEN         Denver, CO  ...      0.0           118.0              110.0   \n",
       "4  DEN         Denver, CO  ...      0.0           184.0              163.0   \n",
       "\n",
       "   AirTime  Distance  CarrierDelay  WeatherDelay  NASDelay  SecurityDelay  \\\n",
       "0     37.0     190.0           0.0           0.0       0.0            0.0   \n",
       "1     76.0     438.0           0.0           0.0       0.0            0.0   \n",
       "2     88.0     513.0           0.0           0.0       0.0            0.0   \n",
       "3     80.0     576.0           0.0           0.0       0.0            0.0   \n",
       "4    127.0     896.0           0.0           0.0       0.0            0.0   \n",
       "\n",
       "   LateAircraftDelay  \n",
       "0                0.0  \n",
       "1                0.0  \n",
       "2                0.0  \n",
       "3                0.0  \n",
       "4                0.0  \n",
       "\n",
       "[5 rows x 32 columns]"
      ]
     },
     "execution_count": 4,
     "metadata": {},
     "output_type": "execute_result"
    }
   ],
   "source": [
    "# examine top 5 rows\n",
    "flights.head()"
   ]
  },
  {
   "cell_type": "code",
   "execution_count": 5,
   "metadata": {},
   "outputs": [
    {
     "data": {
      "text/plain": [
       "FlightDate                          object\n",
       "Reporting_Airline                   object\n",
       "Flight_Number_Reporting_Airline      int64\n",
       "OriginAirportID                      int64\n",
       "Origin                              object\n",
       "OriginCityName                      object\n",
       "OriginState                         object\n",
       "DestAirportID                        int64\n",
       "Dest                                object\n",
       "DestCityName                        object\n",
       "DestState                           object\n",
       "CRSDepTime                           int64\n",
       "DepTime                            float64\n",
       "DepDelay                           float64\n",
       "TaxiOut                            float64\n",
       "WheelsOff                          float64\n",
       "WheelsOn                           float64\n",
       "TaxiIn                             float64\n",
       "CRSArrTime                           int64\n",
       "ArrTime                            float64\n",
       "ArrDelay                           float64\n",
       "Cancelled                          float64\n",
       "Diverted                           float64\n",
       "CRSElapsedTime                     float64\n",
       "ActualElapsedTime                  float64\n",
       "AirTime                            float64\n",
       "Distance                           float64\n",
       "CarrierDelay                       float64\n",
       "WeatherDelay                       float64\n",
       "NASDelay                           float64\n",
       "SecurityDelay                      float64\n",
       "LateAircraftDelay                  float64\n",
       "dtype: object"
      ]
     },
     "execution_count": 5,
     "metadata": {},
     "output_type": "execute_result"
    }
   ],
   "source": [
    "# examine dtypes\n",
    "flights.dtypes"
   ]
  },
  {
   "cell_type": "code",
   "execution_count": 6,
   "metadata": {},
   "outputs": [
    {
     "name": "stdout",
     "output_type": "stream",
     "text": [
      "7422037\n"
     ]
    }
   ],
   "source": [
    "print(flights.shape[0])"
   ]
  },
  {
   "cell_type": "markdown",
   "metadata": {},
   "source": [
    "### Holy sh!t there are 7.4 million flights in our dataset.\n",
    "- Let's try to look at the first few columns.\n",
    "\n",
    "1. Flight date is in object format, let's turn in into date-time for timeseries analysis.\n",
    "2. Reporting airline are abbreviated (IATA codes), we need to find an actual human name for them."
   ]
  },
  {
   "cell_type": "markdown",
   "metadata": {},
   "source": [
    "## Airlines"
   ]
  },
  {
   "cell_type": "code",
   "execution_count": 7,
   "metadata": {},
   "outputs": [
    {
     "name": "stdout",
     "output_type": "stream",
     "text": [
      "['OO' 'AS' '9E' 'AA' 'MQ' 'WN' 'G4' 'OH' 'B6' 'NK' 'DL' 'YV' 'EV' 'F9'\n",
      " 'YX' 'UA' 'HA']\n"
     ]
    }
   ],
   "source": [
    "# loot at unique values for Airlines.\n",
    "airlines = flights.Reporting_Airline.unique()\n",
    "print(airlines)\n",
    "\n",
    "# there's only 17 of them... megacorporations..."
   ]
  },
  {
   "cell_type": "code",
   "execution_count": 76,
   "metadata": {},
   "outputs": [],
   "source": [
    "# I found an Airline dataset we can try to use to translate IATA codes.\n",
    "airlines_ds = pd.read_csv(data_path + 'world_airlines.csv', index_col=0, names=['NAME', 'ALIAS', 'IATA', 'ICAO', 'CALLSIGN', 'COUNTRY', 'ACTIVE'])"
   ]
  },
  {
   "cell_type": "code",
   "execution_count": 9,
   "metadata": {},
   "outputs": [
    {
     "data": {
      "text/plain": [
       "{'OO': 'SkyWest',\n",
       " 'AS': 'Alaska Airlines',\n",
       " '9E': 'Pinnacle Airlines',\n",
       " 'AA': 'American Airlines',\n",
       " 'MQ': 'American Eagle Airlines',\n",
       " 'WN': 'Southwest Airlines',\n",
       " 'G4': 'Allegiant Air',\n",
       " 'OH': 'Comair',\n",
       " 'B6': 'JetBlue Airways',\n",
       " 'NK': 'Spirit Airlines',\n",
       " 'DL': 'Delta Air Lines',\n",
       " 'YV': 'Mesa Airlines',\n",
       " 'EV': 'Atlantic Southeast Airlines',\n",
       " 'F9': 'Frontier Airlines',\n",
       " 'YX': 'Midwest Airlines',\n",
       " 'UA': 'United Airlines',\n",
       " 'HA': 'Hawaiian Airlines'}"
      ]
     },
     "execution_count": 9,
     "metadata": {},
     "output_type": "execute_result"
    }
   ],
   "source": [
    "# we can make a dictionary to translate codes to actual names\n",
    "airline_dictionary = {k:airlines_ds.loc[airlines_ds.IATA == k, 'NAME'].values[0] for k in airlines}\n",
    "airline_dictionary"
   ]
  },
  {
   "cell_type": "code",
   "execution_count": 10,
   "metadata": {},
   "outputs": [
    {
     "data": {
      "text/plain": [
       "WN    0.183770\n",
       "DL    0.133654\n",
       "AA    0.127563\n",
       "OO    0.112697\n",
       "UA    0.084331\n",
       "YX    0.044348\n",
       "MQ    0.044059\n",
       "B6    0.040071\n",
       "OH    0.038979\n",
       "AS    0.035680\n",
       "9E    0.034644\n",
       "YV    0.030704\n",
       "NK    0.027600\n",
       "F9    0.018262\n",
       "EV    0.018146\n",
       "G4    0.014188\n",
       "HA    0.011303\n",
       "Name: Reporting_Airline, dtype: float64"
      ]
     },
     "execution_count": 10,
     "metadata": {},
     "output_type": "execute_result"
    }
   ],
   "source": [
    "# ok this was beautiful.\n",
    "# let's look at the share of flights between them.\n",
    "flights.Reporting_Airline.value_counts(normalize=True)"
   ]
  },
  {
   "cell_type": "code",
   "execution_count": 11,
   "metadata": {},
   "outputs": [
    {
     "data": {
      "text/plain": [
       "(array([ 0,  1,  2,  3,  4,  5,  6,  7,  8,  9, 10, 11, 12, 13, 14, 15, 16]),\n",
       " <a list of 17 Text xticklabel objects>)"
      ]
     },
     "execution_count": 11,
     "metadata": {},
     "output_type": "execute_result"
    },
    {
     "data": {
      "image/png": "[encoded data removed]",
      "text/plain": [
       "<Figure size 432x288 with 1 Axes>"
      ]
     },
     "metadata": {
      "needs_background": "light"
     },
     "output_type": "display_data"
    }
   ],
   "source": [
    "# let's have our first plot shall we?\n",
    "flights.Reporting_Airline.value_counts(normalize=True).plot.bar()\n",
    "plt.xticks(rotation=30)\n",
    "\n",
    "# i will make them beautiful later."
   ]
  },
  {
   "cell_type": "markdown",
   "metadata": {},
   "source": [
    "# Airports\n",
    "- Get database of worldwide Airports to extract information such as latitude, longitude, names, city and so on and merge with the IATA codes in our dataset."
   ]
  },
  {
   "cell_type": "code",
   "execution_count": 97,
   "metadata": {},
   "outputs": [],
   "source": [
    "airports_ds = pd.read_csv(data_path + 'world_airports.csv', index_col=0, names=['ID', 'NAME', 'CITY', 'COUNTRY', 'IATA', 'ICAO', 'LATITUDE', 'LONGITUDE', 'ALTITUDE', 'TIMEZONE', 'DST', 'TZ_OLSON', 'TYPE', 'SOURCE'])"
   ]
  },
  {
   "cell_type": "code",
   "execution_count": 130,
   "metadata": {},
   "outputs": [
    {
     "data": {
      "text/html": [
       "<div>\n",
       "<style scoped>\n",
       "    .dataframe tbody tr th:only-of-type {\n",
       "        vertical-align: middle;\n",
       "    }\n",
       "\n",
       "    .dataframe tbody tr th {\n",
       "        vertical-align: top;\n",
       "    }\n",
       "\n",
       "    .dataframe thead th {\n",
       "        text-align: right;\n",
       "    }\n",
       "</style>\n",
       "<table border=\"1\" class=\"dataframe\">\n",
       "  <thead>\n",
       "    <tr style=\"text-align: right;\">\n",
       "      <th></th>\n",
       "      <th>NAME</th>\n",
       "      <th>CITY</th>\n",
       "      <th>COUNTRY</th>\n",
       "      <th>IATA</th>\n",
       "      <th>ICAO</th>\n",
       "      <th>LATITUDE</th>\n",
       "      <th>LONGITUDE</th>\n",
       "      <th>ALTITUDE</th>\n",
       "      <th>TIMEZONE</th>\n",
       "      <th>DST</th>\n",
       "      <th>TZ_OLSON</th>\n",
       "      <th>TYPE</th>\n",
       "      <th>SOURCE</th>\n",
       "    </tr>\n",
       "    <tr>\n",
       "      <th>ID</th>\n",
       "      <th></th>\n",
       "      <th></th>\n",
       "      <th></th>\n",
       "      <th></th>\n",
       "      <th></th>\n",
       "      <th></th>\n",
       "      <th></th>\n",
       "      <th></th>\n",
       "      <th></th>\n",
       "      <th></th>\n",
       "      <th></th>\n",
       "      <th></th>\n",
       "      <th></th>\n",
       "    </tr>\n",
       "  </thead>\n",
       "  <tbody>\n",
       "    <tr>\n",
       "      <td>1970</td>\n",
       "      <td>Pago Pago International Airport</td>\n",
       "      <td>Pago Pago</td>\n",
       "      <td>American Samoa</td>\n",
       "      <td>PPG</td>\n",
       "      <td>NSTU</td>\n",
       "      <td>-14.331000</td>\n",
       "      <td>-170.710007</td>\n",
       "      <td>32</td>\n",
       "      <td>-11</td>\n",
       "      <td>U</td>\n",
       "      <td>Pacific/Pago_Pago</td>\n",
       "      <td>airport</td>\n",
       "      <td>OurAirports</td>\n",
       "    </tr>\n",
       "    <tr>\n",
       "      <td>2244</td>\n",
       "      <td>Saipan International Airport</td>\n",
       "      <td>Saipan</td>\n",
       "      <td>Northern Mariana Islands</td>\n",
       "      <td>SPN</td>\n",
       "      <td>PGSN</td>\n",
       "      <td>15.119000</td>\n",
       "      <td>145.729004</td>\n",
       "      <td>215</td>\n",
       "      <td>10</td>\n",
       "      <td>U</td>\n",
       "      <td>Pacific/Saipan</td>\n",
       "      <td>airport</td>\n",
       "      <td>OurAirports</td>\n",
       "    </tr>\n",
       "    <tr>\n",
       "      <td>2246</td>\n",
       "      <td>Antonio B. Won Pat International Airport</td>\n",
       "      <td>Agana</td>\n",
       "      <td>Guam</td>\n",
       "      <td>GUM</td>\n",
       "      <td>PGUM</td>\n",
       "      <td>13.483400</td>\n",
       "      <td>144.796005</td>\n",
       "      <td>298</td>\n",
       "      <td>10</td>\n",
       "      <td>U</td>\n",
       "      <td>Pacific/Guam</td>\n",
       "      <td>airport</td>\n",
       "      <td>OurAirports</td>\n",
       "    </tr>\n",
       "    <tr>\n",
       "      <td>2883</td>\n",
       "      <td>Cyril E. King Airport</td>\n",
       "      <td>St. Thomas</td>\n",
       "      <td>Virgin Islands</td>\n",
       "      <td>STT</td>\n",
       "      <td>TIST</td>\n",
       "      <td>18.337299</td>\n",
       "      <td>-64.973396</td>\n",
       "      <td>23</td>\n",
       "      <td>-4</td>\n",
       "      <td>U</td>\n",
       "      <td>America/St_Thomas</td>\n",
       "      <td>airport</td>\n",
       "      <td>OurAirports</td>\n",
       "    </tr>\n",
       "    <tr>\n",
       "      <td>2884</td>\n",
       "      <td>Henry E Rohlsen Airport</td>\n",
       "      <td>St. Croix Island</td>\n",
       "      <td>Virgin Islands</td>\n",
       "      <td>STX</td>\n",
       "      <td>TISX</td>\n",
       "      <td>17.701900</td>\n",
       "      <td>-64.798599</td>\n",
       "      <td>74</td>\n",
       "      <td>-4</td>\n",
       "      <td>U</td>\n",
       "      <td>America/St_Thomas</td>\n",
       "      <td>airport</td>\n",
       "      <td>OurAirports</td>\n",
       "    </tr>\n",
       "    <tr>\n",
       "      <td>...</td>\n",
       "      <td>...</td>\n",
       "      <td>...</td>\n",
       "      <td>...</td>\n",
       "      <td>...</td>\n",
       "      <td>...</td>\n",
       "      <td>...</td>\n",
       "      <td>...</td>\n",
       "      <td>...</td>\n",
       "      <td>...</td>\n",
       "      <td>...</td>\n",
       "      <td>...</td>\n",
       "      <td>...</td>\n",
       "      <td>...</td>\n",
       "    </tr>\n",
       "    <tr>\n",
       "      <td>8314</td>\n",
       "      <td>Hilton Head Airport</td>\n",
       "      <td>Hilton Head Island</td>\n",
       "      <td>United States</td>\n",
       "      <td>HHH</td>\n",
       "      <td>KHXD</td>\n",
       "      <td>32.224400</td>\n",
       "      <td>-80.697502</td>\n",
       "      <td>19</td>\n",
       "      <td>-5</td>\n",
       "      <td>A</td>\n",
       "      <td>America/New_York</td>\n",
       "      <td>airport</td>\n",
       "      <td>OurAirports</td>\n",
       "    </tr>\n",
       "    <tr>\n",
       "      <td>9543</td>\n",
       "      <td>Ogden Hinckley Airport</td>\n",
       "      <td>Ogden</td>\n",
       "      <td>United States</td>\n",
       "      <td>OGD</td>\n",
       "      <td>KOGD</td>\n",
       "      <td>41.195900</td>\n",
       "      <td>-112.012001</td>\n",
       "      <td>4473</td>\n",
       "      <td>-7</td>\n",
       "      <td>A</td>\n",
       "      <td>America/Denver</td>\n",
       "      <td>airport</td>\n",
       "      <td>OurAirports</td>\n",
       "    </tr>\n",
       "    <tr>\n",
       "      <td>9776</td>\n",
       "      <td>Stillwater Regional Airport</td>\n",
       "      <td>Stillwater</td>\n",
       "      <td>United States</td>\n",
       "      <td>SWO</td>\n",
       "      <td>KSWO</td>\n",
       "      <td>36.161201</td>\n",
       "      <td>-97.085701</td>\n",
       "      <td>1000</td>\n",
       "      <td>-6</td>\n",
       "      <td>A</td>\n",
       "      <td>America/Chicago</td>\n",
       "      <td>airport</td>\n",
       "      <td>OurAirports</td>\n",
       "    </tr>\n",
       "    <tr>\n",
       "      <td>14111</td>\n",
       "      <td>Williston Basin International Airport</td>\n",
       "      <td>Williston</td>\n",
       "      <td>United States</td>\n",
       "      <td>XWA</td>\n",
       "      <td>KXWA</td>\n",
       "      <td>48.259722</td>\n",
       "      <td>-103.750556</td>\n",
       "      <td>\\N</td>\n",
       "      <td>\\N</td>\n",
       "      <td>\\N</td>\n",
       "      <td>\\N</td>\n",
       "      <td>airport</td>\n",
       "      <td>\\N</td>\n",
       "    </tr>\n",
       "    <tr>\n",
       "      <td>14112</td>\n",
       "      <td>Kearney Regional Airport</td>\n",
       "      <td>Kearney</td>\n",
       "      <td>United States</td>\n",
       "      <td>EAR</td>\n",
       "      <td>KEAR</td>\n",
       "      <td>40.726944</td>\n",
       "      <td>-99.006667</td>\n",
       "      <td>\\N</td>\n",
       "      <td>\\N</td>\n",
       "      <td>\\N</td>\n",
       "      <td>\\N</td>\n",
       "      <td>airport</td>\n",
       "      <td>\\N</td>\n",
       "    </tr>\n",
       "  </tbody>\n",
       "</table>\n",
       "<p>360 rows × 13 columns</p>\n",
       "</div>"
      ],
      "text/plain": [
       "                                           NAME                CITY  \\\n",
       "ID                                                                    \n",
       "1970            Pago Pago International Airport           Pago Pago   \n",
       "2244               Saipan International Airport              Saipan   \n",
       "2246   Antonio B. Won Pat International Airport               Agana   \n",
       "2883                      Cyril E. King Airport          St. Thomas   \n",
       "2884                    Henry E Rohlsen Airport    St. Croix Island   \n",
       "...                                         ...                 ...   \n",
       "8314                        Hilton Head Airport  Hilton Head Island   \n",
       "9543                     Ogden Hinckley Airport               Ogden   \n",
       "9776                Stillwater Regional Airport          Stillwater   \n",
       "14111     Williston Basin International Airport           Williston   \n",
       "14112                  Kearney Regional Airport             Kearney   \n",
       "\n",
       "                        COUNTRY IATA  ICAO   LATITUDE   LONGITUDE ALTITUDE  \\\n",
       "ID                                                                           \n",
       "1970             American Samoa  PPG  NSTU -14.331000 -170.710007       32   \n",
       "2244   Northern Mariana Islands  SPN  PGSN  15.119000  145.729004      215   \n",
       "2246                       Guam  GUM  PGUM  13.483400  144.796005      298   \n",
       "2883             Virgin Islands  STT  TIST  18.337299  -64.973396       23   \n",
       "2884             Virgin Islands  STX  TISX  17.701900  -64.798599       74   \n",
       "...                         ...  ...   ...        ...         ...      ...   \n",
       "8314              United States  HHH  KHXD  32.224400  -80.697502       19   \n",
       "9543              United States  OGD  KOGD  41.195900 -112.012001     4473   \n",
       "9776              United States  SWO  KSWO  36.161201  -97.085701     1000   \n",
       "14111             United States  XWA  KXWA  48.259722 -103.750556       \\N   \n",
       "14112             United States  EAR  KEAR  40.726944  -99.006667       \\N   \n",
       "\n",
       "      TIMEZONE DST           TZ_OLSON     TYPE       SOURCE  \n",
       "ID                                                           \n",
       "1970       -11   U  Pacific/Pago_Pago  airport  OurAirports  \n",
       "2244        10   U     Pacific/Saipan  airport  OurAirports  \n",
       "2246        10   U       Pacific/Guam  airport  OurAirports  \n",
       "2883        -4   U  America/St_Thomas  airport  OurAirports  \n",
       "2884        -4   U  America/St_Thomas  airport  OurAirports  \n",
       "...        ...  ..                ...      ...          ...  \n",
       "8314        -5   A   America/New_York  airport  OurAirports  \n",
       "9543        -7   A     America/Denver  airport  OurAirports  \n",
       "9776        -6   A    America/Chicago  airport  OurAirports  \n",
       "14111       \\N  \\N                 \\N  airport           \\N  \n",
       "14112       \\N  \\N                 \\N  airport           \\N  \n",
       "\n",
       "[360 rows x 13 columns]"
      ]
     },
     "execution_count": 130,
     "metadata": {},
     "output_type": "execute_result"
    }
   ],
   "source": [
    "# grab all the airports in our dataset\n",
    "airports = flights.Origin.unique()\n",
    "\n",
    "# create a dictionary for airport name with IATA codes\n",
    "airport_dictionary = {k:airports_ds.loc[airports_ds.IATA == k, 'NAME'].values[0] for k in airports}\n",
    "\n",
    "# apparently there are 2 airports in our dataset that are not present in the database, I could just \n",
    "# drop all the flights that involve these locations, bu I kind of like to fix it.\n",
    "# all we need are their names and their locations\n",
    "\n",
    "airports_ds = airports_ds[airports_ds.IATA.isin(airports)]\n",
    "airports_ds"
   ]
  },
  {
   "cell_type": "code",
   "execution_count": 122,
   "metadata": {},
   "outputs": [
    {
     "data": {
      "text/plain": [
       "<matplotlib.axes._subplots.AxesSubplot at 0x218a5ed9f08>"
      ]
     },
     "execution_count": 122,
     "metadata": {},
     "output_type": "execute_result"
    },
    {
     "data": {
      "image/png": "[encoded data removed]",
      "text/plain": [
       "<Figure size 432x288 with 1 Axes>"
      ]
     },
     "metadata": {
      "needs_background": "light"
     },
     "output_type": "display_data"
    }
   ],
   "source": [
    "# top 20 airports by number of flights\n",
    "flights.Origin.value_counts()[:20].plot.bar()"
   ]
  },
  {
   "cell_type": "markdown",
   "metadata": {},
   "source": [
    "## Dates"
   ]
  },
  {
   "cell_type": "code",
   "execution_count": 12,
   "metadata": {},
   "outputs": [
    {
     "data": {
      "text/plain": [
       "dtype('O')"
      ]
     },
     "execution_count": 12,
     "metadata": {},
     "output_type": "execute_result"
    }
   ],
   "source": [
    "flights.FlightDate.dtypes"
   ]
  },
  {
   "cell_type": "code",
   "execution_count": 13,
   "metadata": {},
   "outputs": [],
   "source": [
    "# Our flight date is still an object, let's change it to datetime.\n",
    "flights.FlightDate = pd.to_datetime(flights.FlightDate)"
   ]
  },
  {
   "cell_type": "code",
   "execution_count": 69,
   "metadata": {},
   "outputs": [
    {
     "data": {
      "text/plain": [
       "<matplotlib.axes._subplots.AxesSubplot at 0x218aaa08988>"
      ]
     },
     "execution_count": 69,
     "metadata": {},
     "output_type": "execute_result"
    },
    {
     "data": {
      "image/png": "[encoded data removed]",
      "text/plain": [
       "<Figure size 432x288 with 1 Axes>"
      ]
     },
     "metadata": {
      "needs_background": "light"
     },
     "output_type": "display_data"
    }
   ],
   "source": [
    "\n",
    "monthly_flights = flights.groupby(flights.FlightDate.dt.day).agg(count=('FlightDate', 'count'))\n",
    "monthly_flights.plot(kind=\"bar\")"
   ]
  },
  {
   "cell_type": "markdown",
   "metadata": {},
   "source": [
    "We could explore this dataset forever, I still kind of want to, but let's get to what matters\n",
    "# Delays\n",
    "- For now the threshold for delay will be 15 min."
   ]
  },
  {
   "cell_type": "code",
   "execution_count": 120,
   "metadata": {},
   "outputs": [],
   "source": [
    "# departure and arrival delays (> threshold)\n",
    "delay_threshold = 15\n",
    "flights['delay_on'] = np.where(flights['DepDelay'] >= delay_threshold, 1, 0)\n",
    "flights['delay_off'] = np.where(flights['ArrDelay'] >= delay_threshold, 1, 0)\n",
    "flights['delay_averted'] = np.where(flights.delay_on - flights.delay_off == 1, 1, 0)\n",
    "flights['delay_on_air'] = np.where(flights.delay_on - flights.delay_off == -1, 1, 0)"
   ]
  },
  {
   "cell_type": "code",
   "execution_count": 51,
   "metadata": {},
   "outputs": [
    {
     "data": {
      "text/plain": [
       "0    0.81647\n",
       "1    0.18353\n",
       "Name: delay_on, dtype: float64"
      ]
     },
     "execution_count": 51,
     "metadata": {},
     "output_type": "execute_result"
    }
   ],
   "source": [
    "# calculate total percentage of flights delayed on departure\n",
    "flights.delay_on.value_counts(normalize=True)"
   ]
  },
  {
   "cell_type": "code",
   "execution_count": 52,
   "metadata": {},
   "outputs": [
    {
     "data": {
      "text/plain": [
       "0    0.812821\n",
       "1    0.187179\n",
       "Name: delay_off, dtype: float64"
      ]
     },
     "execution_count": 52,
     "metadata": {},
     "output_type": "execute_result"
    }
   ],
   "source": [
    "# calculate total percentage of flights delayed on arrival\n",
    "flights.delay_off.value_counts(normalize=True)"
   ]
  },
  {
   "cell_type": "code",
   "execution_count": 54,
   "metadata": {},
   "outputs": [
    {
     "data": {
      "text/plain": [
       "0    0.962936\n",
       "1    0.037064\n",
       "Name: delay_averted, dtype: float64"
      ]
     },
     "execution_count": 54,
     "metadata": {},
     "output_type": "execute_result"
    }
   ],
   "source": [
    "# calculate total percentage of flights delayed on departure but arrived on time\n",
    "flights.delay_averted.value_counts(normalize=True)"
   ]
  },
  {
   "cell_type": "code",
   "execution_count": 121,
   "metadata": {},
   "outputs": [
    {
     "data": {
      "text/plain": [
       "0    0.959286\n",
       "1    0.040714\n",
       "Name: delay_on_air, dtype: float64"
      ]
     },
     "execution_count": 121,
     "metadata": {},
     "output_type": "execute_result"
    }
   ],
   "source": [
    "# calculate total percentage of flights departed on time but arrived late\n",
    "flights.delay_on_air.value_counts(normalize=True)"
   ]
  },
  {
   "cell_type": "code",
   "execution_count": 58,
   "metadata": {},
   "outputs": [],
   "source": [
    "delays_by_airline = flights.pivot_table(index=['Reporting_Airline'], aggfunc={'delay_off': lambda x: np.sum(x)/len(x)}).reset_index()"
   ]
  },
  {
   "cell_type": "code",
   "execution_count": 62,
   "metadata": {},
   "outputs": [
    {
     "data": {
      "text/html": [
       "<div>\n",
       "<style scoped>\n",
       "    .dataframe tbody tr th:only-of-type {\n",
       "        vertical-align: middle;\n",
       "    }\n",
       "\n",
       "    .dataframe tbody tr th {\n",
       "        vertical-align: top;\n",
       "    }\n",
       "\n",
       "    .dataframe thead th {\n",
       "        text-align: right;\n",
       "    }\n",
       "</style>\n",
       "<table border=\"1\" class=\"dataframe\">\n",
       "  <thead>\n",
       "    <tr style=\"text-align: right;\">\n",
       "      <th></th>\n",
       "      <th>Reporting_Airline</th>\n",
       "      <th>delay_off</th>\n",
       "    </tr>\n",
       "  </thead>\n",
       "  <tbody>\n",
       "    <tr>\n",
       "      <td>6</td>\n",
       "      <td>F9</td>\n",
       "      <td>0.250260</td>\n",
       "    </tr>\n",
       "    <tr>\n",
       "      <td>3</td>\n",
       "      <td>B6</td>\n",
       "      <td>0.249261</td>\n",
       "    </tr>\n",
       "    <tr>\n",
       "      <td>5</td>\n",
       "      <td>EV</td>\n",
       "      <td>0.245309</td>\n",
       "    </tr>\n",
       "    <tr>\n",
       "      <td>13</td>\n",
       "      <td>UA</td>\n",
       "      <td>0.211110</td>\n",
       "    </tr>\n",
       "    <tr>\n",
       "      <td>1</td>\n",
       "      <td>AA</td>\n",
       "      <td>0.206065</td>\n",
       "    </tr>\n",
       "    <tr>\n",
       "      <td>15</td>\n",
       "      <td>YV</td>\n",
       "      <td>0.204873</td>\n",
       "    </tr>\n",
       "    <tr>\n",
       "      <td>7</td>\n",
       "      <td>G4</td>\n",
       "      <td>0.204558</td>\n",
       "    </tr>\n",
       "    <tr>\n",
       "      <td>9</td>\n",
       "      <td>MQ</td>\n",
       "      <td>0.201350</td>\n",
       "    </tr>\n",
       "    <tr>\n",
       "      <td>11</td>\n",
       "      <td>OH</td>\n",
       "      <td>0.192624</td>\n",
       "    </tr>\n",
       "    <tr>\n",
       "      <td>16</td>\n",
       "      <td>YX</td>\n",
       "      <td>0.187468</td>\n",
       "    </tr>\n",
       "    <tr>\n",
       "      <td>10</td>\n",
       "      <td>NK</td>\n",
       "      <td>0.185467</td>\n",
       "    </tr>\n",
       "    <tr>\n",
       "      <td>12</td>\n",
       "      <td>OO</td>\n",
       "      <td>0.183054</td>\n",
       "    </tr>\n",
       "    <tr>\n",
       "      <td>2</td>\n",
       "      <td>AS</td>\n",
       "      <td>0.182614</td>\n",
       "    </tr>\n",
       "    <tr>\n",
       "      <td>0</td>\n",
       "      <td>9E</td>\n",
       "      <td>0.172091</td>\n",
       "    </tr>\n",
       "    <tr>\n",
       "      <td>14</td>\n",
       "      <td>WN</td>\n",
       "      <td>0.170908</td>\n",
       "    </tr>\n",
       "    <tr>\n",
       "      <td>4</td>\n",
       "      <td>DL</td>\n",
       "      <td>0.144176</td>\n",
       "    </tr>\n",
       "    <tr>\n",
       "      <td>8</td>\n",
       "      <td>HA</td>\n",
       "      <td>0.114160</td>\n",
       "    </tr>\n",
       "  </tbody>\n",
       "</table>\n",
       "</div>"
      ],
      "text/plain": [
       "   Reporting_Airline  delay_off\n",
       "6                 F9   0.250260\n",
       "3                 B6   0.249261\n",
       "5                 EV   0.245309\n",
       "13                UA   0.211110\n",
       "1                 AA   0.206065\n",
       "15                YV   0.204873\n",
       "7                 G4   0.204558\n",
       "9                 MQ   0.201350\n",
       "11                OH   0.192624\n",
       "16                YX   0.187468\n",
       "10                NK   0.185467\n",
       "12                OO   0.183054\n",
       "2                 AS   0.182614\n",
       "0                 9E   0.172091\n",
       "14                WN   0.170908\n",
       "4                 DL   0.144176\n",
       "8                 HA   0.114160"
      ]
     },
     "execution_count": 62,
     "metadata": {},
     "output_type": "execute_result"
    }
   ],
   "source": [
    "delays_by_airline.sort_values(by='delay_off', ascending=False)"
   ]
  },
  {
   "cell_type": "code",
   "execution_count": 135,
   "metadata": {},
   "outputs": [],
   "source": [
    "delays_by_airport = flights.pivot_table(index=['Dest'], aggfunc={'delay_off': lambda x: np.sum(x)/len(x)}).reset_index().sort_values(by='delay_off', ascending=False)"
   ]
  },
  {
   "cell_type": "code",
   "execution_count": 136,
   "metadata": {},
   "outputs": [
    {
     "data": {
      "text/html": [
       "<div>\n",
       "<style scoped>\n",
       "    .dataframe tbody tr th:only-of-type {\n",
       "        vertical-align: middle;\n",
       "    }\n",
       "\n",
       "    .dataframe tbody tr th {\n",
       "        vertical-align: top;\n",
       "    }\n",
       "\n",
       "    .dataframe thead th {\n",
       "        text-align: right;\n",
       "    }\n",
       "</style>\n",
       "<table border=\"1\" class=\"dataframe\">\n",
       "  <thead>\n",
       "    <tr style=\"text-align: right;\">\n",
       "      <th></th>\n",
       "      <th>Dest</th>\n",
       "      <th>delay_off</th>\n",
       "    </tr>\n",
       "  </thead>\n",
       "  <tbody>\n",
       "    <tr>\n",
       "      <td>274</td>\n",
       "      <td>PSE</td>\n",
       "      <td>0.322034</td>\n",
       "    </tr>\n",
       "    <tr>\n",
       "      <td>115</td>\n",
       "      <td>EWR</td>\n",
       "      <td>0.292447</td>\n",
       "    </tr>\n",
       "    <tr>\n",
       "      <td>49</td>\n",
       "      <td>BQN</td>\n",
       "      <td>0.285900</td>\n",
       "    </tr>\n",
       "    <tr>\n",
       "      <td>222</td>\n",
       "      <td>MKG</td>\n",
       "      <td>0.280605</td>\n",
       "    </tr>\n",
       "    <tr>\n",
       "      <td>204</td>\n",
       "      <td>LWB</td>\n",
       "      <td>0.276692</td>\n",
       "    </tr>\n",
       "    <tr>\n",
       "      <td>...</td>\n",
       "      <td>...</td>\n",
       "      <td>...</td>\n",
       "    </tr>\n",
       "    <tr>\n",
       "      <td>355</td>\n",
       "      <td>WYS</td>\n",
       "      <td>0.060606</td>\n",
       "    </tr>\n",
       "    <tr>\n",
       "      <td>205</td>\n",
       "      <td>LWS</td>\n",
       "      <td>0.057460</td>\n",
       "    </tr>\n",
       "    <tr>\n",
       "      <td>107</td>\n",
       "      <td>EKO</td>\n",
       "      <td>0.056213</td>\n",
       "    </tr>\n",
       "    <tr>\n",
       "      <td>53</td>\n",
       "      <td>BTM</td>\n",
       "      <td>0.048744</td>\n",
       "    </tr>\n",
       "    <tr>\n",
       "      <td>13</td>\n",
       "      <td>AKN</td>\n",
       "      <td>0.016393</td>\n",
       "    </tr>\n",
       "  </tbody>\n",
       "</table>\n",
       "<p>360 rows × 2 columns</p>\n",
       "</div>"
      ],
      "text/plain": [
       "    Dest  delay_off\n",
       "274  PSE   0.322034\n",
       "115  EWR   0.292447\n",
       "49   BQN   0.285900\n",
       "222  MKG   0.280605\n",
       "204  LWB   0.276692\n",
       "..   ...        ...\n",
       "355  WYS   0.060606\n",
       "205  LWS   0.057460\n",
       "107  EKO   0.056213\n",
       "53   BTM   0.048744\n",
       "13   AKN   0.016393\n",
       "\n",
       "[360 rows x 2 columns]"
      ]
     },
     "execution_count": 136,
     "metadata": {},
     "output_type": "execute_result"
    }
   ],
   "source": [
    "delays_by_airport"
   ]
  },
  {
   "cell_type": "markdown",
   "metadata": {},
   "source": [
    "# Plotting Airports on Map by % of Flights Delayed"
   ]
  },
  {
   "cell_type": "code",
   "execution_count": 145,
   "metadata": {
    "scrolled": true
   },
   "outputs": [],
   "source": [
    "# merge delay data onto location data\n",
    "delay_map = airports_ds[['IATA','NAME','LATITUDE', 'LONGITUDE']].merge(delays_by_airport[['Dest', 'delay_off']], left_on='IATA', right_on='Dest')"
   ]
  },
  {
   "cell_type": "code",
   "execution_count": 146,
   "metadata": {},
   "outputs": [
    {
     "data": {
      "text/html": [
       "<div>\n",
       "<style scoped>\n",
       "    .dataframe tbody tr th:only-of-type {\n",
       "        vertical-align: middle;\n",
       "    }\n",
       "\n",
       "    .dataframe tbody tr th {\n",
       "        vertical-align: top;\n",
       "    }\n",
       "\n",
       "    .dataframe thead th {\n",
       "        text-align: right;\n",
       "    }\n",
       "</style>\n",
       "<table border=\"1\" class=\"dataframe\">\n",
       "  <thead>\n",
       "    <tr style=\"text-align: right;\">\n",
       "      <th></th>\n",
       "      <th>IATA</th>\n",
       "      <th>NAME</th>\n",
       "      <th>LATITUDE</th>\n",
       "      <th>LONGITUDE</th>\n",
       "      <th>Dest</th>\n",
       "      <th>delay_off</th>\n",
       "    </tr>\n",
       "  </thead>\n",
       "  <tbody>\n",
       "    <tr>\n",
       "      <td>0</td>\n",
       "      <td>PPG</td>\n",
       "      <td>Pago Pago International Airport</td>\n",
       "      <td>-14.331000</td>\n",
       "      <td>-170.710007</td>\n",
       "      <td>PPG</td>\n",
       "      <td>0.266667</td>\n",
       "    </tr>\n",
       "    <tr>\n",
       "      <td>1</td>\n",
       "      <td>SPN</td>\n",
       "      <td>Saipan International Airport</td>\n",
       "      <td>15.119000</td>\n",
       "      <td>145.729004</td>\n",
       "      <td>SPN</td>\n",
       "      <td>0.097252</td>\n",
       "    </tr>\n",
       "    <tr>\n",
       "      <td>2</td>\n",
       "      <td>GUM</td>\n",
       "      <td>Antonio B. Won Pat International Airport</td>\n",
       "      <td>13.483400</td>\n",
       "      <td>144.796005</td>\n",
       "      <td>GUM</td>\n",
       "      <td>0.121573</td>\n",
       "    </tr>\n",
       "    <tr>\n",
       "      <td>3</td>\n",
       "      <td>STT</td>\n",
       "      <td>Cyril E. King Airport</td>\n",
       "      <td>18.337299</td>\n",
       "      <td>-64.973396</td>\n",
       "      <td>STT</td>\n",
       "      <td>0.177192</td>\n",
       "    </tr>\n",
       "    <tr>\n",
       "      <td>4</td>\n",
       "      <td>STX</td>\n",
       "      <td>Henry E Rohlsen Airport</td>\n",
       "      <td>17.701900</td>\n",
       "      <td>-64.798599</td>\n",
       "      <td>STX</td>\n",
       "      <td>0.171141</td>\n",
       "    </tr>\n",
       "    <tr>\n",
       "      <td>...</td>\n",
       "      <td>...</td>\n",
       "      <td>...</td>\n",
       "      <td>...</td>\n",
       "      <td>...</td>\n",
       "      <td>...</td>\n",
       "      <td>...</td>\n",
       "    </tr>\n",
       "    <tr>\n",
       "      <td>355</td>\n",
       "      <td>HHH</td>\n",
       "      <td>Hilton Head Airport</td>\n",
       "      <td>32.224400</td>\n",
       "      <td>-80.697502</td>\n",
       "      <td>HHH</td>\n",
       "      <td>0.202418</td>\n",
       "    </tr>\n",
       "    <tr>\n",
       "      <td>356</td>\n",
       "      <td>OGD</td>\n",
       "      <td>Ogden Hinckley Airport</td>\n",
       "      <td>41.195900</td>\n",
       "      <td>-112.012001</td>\n",
       "      <td>OGD</td>\n",
       "      <td>0.190476</td>\n",
       "    </tr>\n",
       "    <tr>\n",
       "      <td>357</td>\n",
       "      <td>SWO</td>\n",
       "      <td>Stillwater Regional Airport</td>\n",
       "      <td>36.161201</td>\n",
       "      <td>-97.085701</td>\n",
       "      <td>SWO</td>\n",
       "      <td>0.133106</td>\n",
       "    </tr>\n",
       "    <tr>\n",
       "      <td>358</td>\n",
       "      <td>XWA</td>\n",
       "      <td>Williston Basin International Airport</td>\n",
       "      <td>48.259722</td>\n",
       "      <td>-103.750556</td>\n",
       "      <td>XWA</td>\n",
       "      <td>0.157895</td>\n",
       "    </tr>\n",
       "    <tr>\n",
       "      <td>359</td>\n",
       "      <td>EAR</td>\n",
       "      <td>Kearney Regional Airport</td>\n",
       "      <td>40.726944</td>\n",
       "      <td>-99.006667</td>\n",
       "      <td>EAR</td>\n",
       "      <td>0.197080</td>\n",
       "    </tr>\n",
       "  </tbody>\n",
       "</table>\n",
       "<p>360 rows × 6 columns</p>\n",
       "</div>"
      ],
      "text/plain": [
       "    IATA                                      NAME   LATITUDE   LONGITUDE  \\\n",
       "0    PPG           Pago Pago International Airport -14.331000 -170.710007   \n",
       "1    SPN              Saipan International Airport  15.119000  145.729004   \n",
       "2    GUM  Antonio B. Won Pat International Airport  13.483400  144.796005   \n",
       "3    STT                     Cyril E. King Airport  18.337299  -64.973396   \n",
       "4    STX                   Henry E Rohlsen Airport  17.701900  -64.798599   \n",
       "..   ...                                       ...        ...         ...   \n",
       "355  HHH                       Hilton Head Airport  32.224400  -80.697502   \n",
       "356  OGD                    Ogden Hinckley Airport  41.195900 -112.012001   \n",
       "357  SWO               Stillwater Regional Airport  36.161201  -97.085701   \n",
       "358  XWA     Williston Basin International Airport  48.259722 -103.750556   \n",
       "359  EAR                  Kearney Regional Airport  40.726944  -99.006667   \n",
       "\n",
       "    Dest  delay_off  \n",
       "0    PPG   0.266667  \n",
       "1    SPN   0.097252  \n",
       "2    GUM   0.121573  \n",
       "3    STT   0.177192  \n",
       "4    STX   0.171141  \n",
       "..   ...        ...  \n",
       "355  HHH   0.202418  \n",
       "356  OGD   0.190476  \n",
       "357  SWO   0.133106  \n",
       "358  XWA   0.157895  \n",
       "359  EAR   0.197080  \n",
       "\n",
       "[360 rows x 6 columns]"
      ]
     },
     "execution_count": 146,
     "metadata": {},
     "output_type": "execute_result"
    }
   ],
   "source": [
    "delay_map"
   ]
  },
  {
   "cell_type": "code",
   "execution_count": 152,
   "metadata": {},
   "outputs": [
    {
     "data": {
      "application/vnd.plotly.v1+json": {
       "config": {
        "plotlyServerURL": "https://plot.ly"
       },
       "data": [
        {
         "lat": [
          -14.3310003281,
          15.119000000000002,
          13.4834003448,
          18.337299346923828,
          17.701900482177734,
          18.49489974975586,
          18.00830078125,
          18.4393997192,
          19.721399307250977,
          35.33660125732422,
          47.949298999999996,
          34.65449905,
          40.27669906616211,
          42.36429977,
          30.626800537100006,
          37.721298,
          41.3032,
          20.8986,
          37.649899,
          39.2976,
          43.13990020751953,
          59.04470062,
          33.43429946899414,
          44.80739974975586,
          32.38399887084961,
          47.61989974975586,
          37.61899948120117,
          29.6900997162,
          35.04240036010742,
          33.94250107,
          41.411701202399996,
          39.0488014221,
          58.35499954223633,
          30.20529938,
          40.69250106811523,
          43.5644,
          37.9275016785,
          48.2593994140625,
          32.847099,
          46.6068000793457,
          30.12610054016113,
          19.738782999999998,
          33.6796989441,
          41.25310135,
          38.8521,
          39.45759963989258,
          38.289100646972656,
          57.75,
          26.072599,
          48.566200256347656,
          40.78839874267578,
          40.1935005188,
          40.85100173950195,
          42.77870178222656,
          29.98439979553223,
          35.43360138,
          31.80719948,
          26.228500366210934,
          33.93880081176758,
          30.473400115967003,
          29.64539909,
          40.49150085,
          71.285402,
          25.79319953918457,
          47.449001,
          35.03530120849609,
          32.3111991882,
          33.81769943,
          39.7173,
          41.06700134277344,
          32.65660095,
          46.8420982361,
          60.77980042,
          21.97599983215332,
          37.50519943237305,
          32.446602,
          60.49179839999999,
          36.89459991455078,
          29.9507999420166,
          32.12760162,
          64.51219940185547,
          27.91020012,
          70.19470215,
          29.533700942993164,
          43.118900299072266,
          35.877601623535156,
          39.90240097045898,
          43.1072998046875,
          37.13190079,
          32.116100311279304,
          41.732601,
          34.200698852539055,
          42.212398529052734,
          27.975500106811523,
          47.38660049,
          31.9424991607666,
          44.48509979248047,
          33.36989974975586,
          48.177898407,
          34.729400634799994,
          41.50410079956055,
          32.896801,
          28.10280036926269,
          30.194499969482425,
          39.813801,
          46.3535995483,
          35.81100082,
          38.748697,
          33.9888,
          33.6367,
          42.88079834,
          36.77619934082031,
          36.1245002746582,
          27.543800354003906,
          66.88469696,
          40.77719879,
          30.396499633789066,
          31.61129951477051,
          31.35770034790039,
          44.471900939899996,
          30.49410057067871,
          37.1515007019,
          38.94449997,
          30.58860016,
          42.94720077514648,
          32.4113006592,
          38.81809997558594,
          45.58869934,
          26.68320083618164,
          44.681900024399994,
          21.32062,
          41.53400039672852,
          35.0730018616,
          32.7336006165,
          32.51089859008789,
          34.05599975585937,
          33.30160140991211,
          25.90679931640625,
          31.3213005065918,
          27.77039909362793,
          43.11119842529297,
          41.785999,
          37.362598,
          32.6875,
          39.861698150635,
          39.87189865112305,
          42.40259933,
          39.998001,
          33.45370101928711,
          44.6509017944336,
          61.174400329589844,
          31.067199706999997,
          48.79280090332031,
          30.691200256348,
          35.617099761999995,
          38.5452,
          29.3742008209,
          26.53619956970215,
          58.67679977,
          40.63980103,
          41.15570068,
          37.894199371338,
          32.89860153,
          39.49909973144531,
          55.35559845,
          33.56290054,
          38.69540023803711,
          38.805801,
          42.94049835,
          47.90629959,
          37.70100021362305,
          41.9388999939,
          26.17580032,
          33.663601,
          41.9786,
          64.81510162,
          43.99190139770508,
          33.829700469970696,
          35.219398,
          34.27059936523437,
          30.533199,
          32.35409927368164,
          39.1754,
          31.32740020751953,
          36.19839859008789,
          57.04710006713867,
          40.79520035,
          44.882,
          29.99340057373047,
          43.64619827,
          35.39310073852539,
          42.74829864501953,
          33.67570114,
          42.908001,
          30.4832,
          24.556100845336914,
          35.2140007019043,
          36.08010101,
          28.429399490356445,
          47.48199844,
          46.3745002746582,
          42.1599006652832,
          42.49100112915039,
          36.58700180053711,
          34.42620087,
          29.179899,
          41.26369858,
          35.43619918823242,
          36.097801208496094,
          43.5820007324,
          42.932598,
          38.1744,
          38.13859939575195,
          37.3255,
          38.0364990234375,
          38.0369987488,
          35.040199,
          45.77750015,
          45.807701110839844,
          45.95479965209961,
          44.74140167236328,
          43.6072998046875,
          42.19540023803711,
          34.895698547399995,
          40.47710037,
          30.40730094909668,
          42.234901428222656,
          41.58679962,
          40.97850037,
          41.88470077514648,
          43.879002,
          44.7775993347,
          40.664199829100006,
          44.258098602299995,
          43.90829849243164,
          40.03919983,
          39.14099884033203,
          39.1223983765,
          37.036389,
          27.39539909362793,
          41.44850158691406,
          46.77270126342773,
          44.0452995300293,
          42.96540069580078,
          40.50899887,
          44.12459945678711,
          43.514599,
          42.37419891357422,
          44.254100799999996,
          40.916099548339844,
          34.637199401855,
          32.30059814,
          36.475201,
          37.06079864501953,
          48.31050109863281,
          43.532901763916016,
          42.20869827,
          56.80170059,
          28.7775993347168,
          46.91630173,
          39.64260101,
          32.516300201416016,
          34.5676994324,
          35.13850021,
          42.4818,
          41.393100738499996,
          45.54660034179688,
          33.450298309299995,
          42.0831270134,
          41.66930008,
          38.37310028076172,
          41.338500976599995,
          47.50939941,
          46.92070007324219,
          44.3488998413,
          40.8493003845,
          32.33259963989258,
          39.84410095,
          40.48120117,
          37.04420089999999,
          44.520198822,
          37.24570084,
          37.151798248291016,
          40.652099609375,
          36.281898,
          41.70869827270508,
          40.978101,
          34.8292007446,
          42.40200043,
          45.44910049438477,
          31.535499572753906,
          42.55709838867188,
          45.07809829999999,
          44.91400146,
          41.87400055,
          31.2588005065918,
          37.22529983520508,
          46.25080108642578,
          39.2966003418,
          47.16839981079102,
          44.86579895019531,
          40.82490158081055,
          34.991199493408196,
          40.96749877929688,
          38.36669922,
          46.92969894,
          41.31209945678711,
          40.27590179,
          41.12620163,
          37.326698303222656,
          43.16949844,
          43.41709899902344,
          37.74010086,
          31.467100143432614,
          42.9098014831543,
          44.38270187,
          45.57089996,
          43.0778999329,
          45.63119888305664,
          41.5942,
          35.2368011475,
          38.79100036621094,
          34.89889908,
          39.94269943,
          30.78249931335449,
          51.87799835205078,
          58.42530060000001,
          56.48429871,
          46.26470184326172,
          42.26729965209961,
          35.387798,
          43.50439835,
          33.30780029,
          39.707901,
          45.7226982117,
          59.503299713100006,
          45.8184013367,
          38.5097999573,
          46.39830017,
          37.8582992554,
          35.6352005,
          36.532082,
          38.50899887,
          39.22320175,
          38.84220123,
          38.53390121,
          26.92020035,
          38.2638015747,
          48.11420059,
          44.68840027,
          38.75500107,
          40.4408989,
          37.62409973,
          40.219200134277,
          30.357105999999998,
          32.2243995667,
          41.195899963379,
          36.161201477051,
          48.259722,
          40.726944
         ],
         "lon": [
          -170.710006714,
          145.729004,
          144.796005249,
          -64.97339630126953,
          -64.79859924316406,
          -67.12940216064453,
          -66.56300354003906,
          -66.0018005371,
          -155.04800415039062,
          -94.36740112304688,
          -97.176102,
          -112.41999820000001,
          -74.8134994506836,
          -71.00520325,
          -88.06809997559998,
          -122.221001,
          -95.89409599999999,
          -156.429993,
          -97.433098,
          -94.713898,
          -89.3375015258789,
          -158.50500490000002,
          -112.01200103759766,
          -68.82810211181639,
          -94.71150207519531,
          -117.53399658203124,
          -122.375,
          -82.27179718020001,
          -89.97669982910156,
          -118.40799709999999,
          -81.8498001099,
          -84.6678009033,
          -134.57600402832028,
          -91.98760223,
          -74.168701171875,
          -116.223,
          -100.72399902299999,
          -101.27999877929688,
          -96.851799,
          -111.98300170898438,
          -93.22329711914062,
          -156.045603,
          -78.9282989502,
          -70.06020355,
          -77.037697,
          -74.57720184326172,
          -104.49700164794922,
          -152.4940033,
          -80.152702,
          -93.4030990600586,
          -111.97799682617188,
          -76.7633972168,
          -96.75920104980469,
          -84.58740234375,
          -95.34140014648438,
          -119.0569992,
          -106.37799840000002,
          -97.65440368652344,
          -81.11949920654297,
          -87.18659973144501,
          -95.27890015,
          -80.23290253,
          -156.766008,
          -80.29060363769531,
          -122.308998,
          -85.20379638671875,
          -90.0758972168,
          -118.15200039999999,
          -86.294403,
          -73.70760345458984,
          -114.6060028,
          -92.19360351559999,
          -161.8379974,
          -159.33900451660156,
          -77.3197021484375,
          -93.8256,
          -145.4779968,
          -76.20120239257812,
          -94.02069854736328,
          -81.20210266,
          -165.44500732421875,
          -82.68740082,
          -148.46499630000002,
          -98.46980285644531,
          -77.67240142822266,
          -78.7874984741211,
          -84.21939849853516,
          -78.94619750976562,
          -76.49299622,
          -110.94100189208984,
          -71.42040300000001,
          -118.35900115966795,
          -83.35340118408203,
          -82.533203125,
          -92.83899689,
          -102.2020034790039,
          -88.12960052490234,
          -81.9645004272461,
          -103.64199829100001,
          -92.22429656979999,
          -74.10479736328125,
          -97.038002,
          -80.64530181884766,
          -97.6698989868164,
          -82.927803,
          -87.39540100100001,
          -83.99400329999999,
          -90.370003,
          -98.49189799999999,
          -84.428101,
          -85.52279663,
          -119.71800231933594,
          -86.6781997680664,
          -99.46160125732422,
          -162.598999,
          -73.87259674,
          -84.35030364990234,
          -97.23049926757812,
          -100.49600219726562,
          -73.15329742429998,
          -81.68789672851562,
          -107.75399780299999,
          -77.45580292,
          -96.36380005,
          -87.89659881591797,
          -99.68190002440001,
          -92.21959686279295,
          -122.59799960000001,
          -80.09559631347656,
          -75.46549987790002,
          -157.924228,
          -93.66310119628906,
          -77.04290008539998,
          -117.190002441,
          -92.0376968383789,
          -117.60099792480469,
          -104.53099822998048,
          -97.4259033203125,
          -85.44960021972656,
          -97.5011978149414,
          -76.1063003540039,
          -87.752403,
          -121.929001,
          -103.21700290000001,
          -104.672996521,
          -75.24109649658203,
          -96.38439941,
          -82.891899,
          -93.99099731445312,
          -73.46810150146484,
          -149.99600219726562,
          -97.8289031982,
          -122.53800201416016,
          -88.242797851562,
          -106.08899688700001,
          -89.835197,
          -100.92700195299999,
          -81.75520324707031,
          -156.6490021,
          -73.77890015,
          -104.81199649999999,
          -121.2379989624,
          -80.04049683,
          -119.76799774169922,
          -131.7140045,
          -86.75350189,
          -121.59100341796876,
          -104.70099599999999,
          -78.73220062,
          -122.28199769999999,
          -113.0989990234375,
          -72.68319702149999,
          -98.23860168,
          -101.822998,
          -87.9048,
          -147.85600280000003,
          -76.02169799804688,
          -116.50700378417969,
          -101.706001,
          -77.90260314941406,
          -91.149597,
          -95.40239715576172,
          -76.668297,
          -92.54979705810548,
          -95.88809967041016,
          -135.36199951171878,
          -73.10019684,
          -93.221802,
          -90.25800323486328,
          -70.30930328,
          -97.60070037841795,
          -73.80169677734375,
          -117.86799620000001,
          -106.46399699999999,
          -86.525398,
          -81.75959777832031,
          -80.94309997558594,
          -115.15200039999999,
          -81.30899810791016,
          -111.3710022,
          -117.01499938964844,
          -76.8916015625,
          -76.4583969116211,
          -121.84300231933594,
          -119.8399963,
          -81.058098,
          -72.88680267,
          -82.54180145263672,
          -79.93730163574219,
          -96.741897583,
          -71.435699,
          -85.736,
          -78.4529037475586,
          -79.975403,
          -84.60590362548828,
          -87.53240203860001,
          -106.609001,
          -111.15299990000001,
          -108.54299926757812,
          -112.49700164794922,
          -85.58219909667969,
          -110.73799896240234,
          -89.09719848632812,
          -82.2189025879,
          -88.91590118,
          -89.07009887695312,
          -85.5521011352539,
          -83.80780029,
          -85.19509888,
          -91.71080017089844,
          -91.256699,
          -89.6668014526,
          -89.6932983398,
          -88.51909637450001,
          -92.5,
          -88.27809906,
          -96.6707992553711,
          -108.527000427,
          -113.510306,
          -82.55439758300781,
          -90.50749969482422,
          -100.74600219726562,
          -103.05699920654295,
          -83.74359893798828,
          -122.2929993,
          -123.21199798583984,
          -112.070999,
          -122.8730010986328,
          -121.15000149999999,
          -81.44219970703125,
          -86.775100708008,
          -86.39399719,
          -82.40740100000001,
          -88.7738037109375,
          -114.25599670410156,
          -84.07959747314453,
          -75.97979736,
          -132.9450073,
          -81.23750305175781,
          -114.0910034,
          -106.9179993,
          -84.93890380859375,
          -98.4166030884,
          -111.6709976,
          -114.487999,
          -70.6143035889,
          -94.05989837646484,
          -88.59140014649999,
          -80.1738667488,
          -70.28040314,
          -81.59320068359375,
          -75.72339630130001,
          -94.93370056,
          -96.81580352783205,
          -105.539001465,
          -77.84870147710002,
          -88.75189971923828,
          -89.67790222,
          -107.21800230000001,
          -100.95999909999999,
          -109.024002075,
          -93.38860321,
          -94.49829864501952,
          -75.44080352783203,
          -94.30680100000001,
          -86.31729888916016,
          -124.109,
          -77.61209869380002,
          -90.70950317,
          -98.42179870605469,
          -84.19450378417969,
          -92.40029907226562,
          -83.56030273,
          -97.15470123,
          -103.5960007,
          -81.46649932861328,
          -89.57080078125,
          -84.47239685058594,
          -80.2281036377,
          -88.48909759521484,
          -91.48429870605469,
          -115.79199981689452,
          -78.88030242919922,
          -98.30960083007812,
          -82.55799866,
          -98.67819977,
          -105.6750030517578,
          -79.40480042,
          -100.6839981,
          -79.20040130615234,
          -86.23819733,
          -124.24600219726562,
          -87.16680145,
          -89.33709716796875,
          -112.59600067138672,
          -100.2860031,
          -84.79669952,
          -70.8233032227,
          -89.46749877929688,
          -109.065001,
          -120.64199829100001,
          -97.6521987915039,
          -120.4570007,
          -91.19460297,
          -83.27670288085938,
          -176.64599609375,
          -135.7070007,
          -132.36999509999998,
          -119.11900329589844,
          -71.87570190429688,
          -80.709099,
          -114.2959976,
          -111.65499879999999,
          -77.72949982,
          -87.0936965942,
          -139.660003662,
          -88.11450195309999,
          -107.89399719200001,
          -94.13809967,
          -80.3994979858,
          -77.38529968,
          -93.200544,
          -122.8130035,
          -106.8690033,
          -99.27320099,
          -106.9329987,
          -81.99050140000001,
          -78.8964004517,
          -98.90879822,
          -111.11799620000001,
          -109.7549973,
          -109.5100021,
          -118.83799740000002,
          -111.72299957275,
          -85.79541400000001,
          -80.6975021362,
          -112.0120010376,
          -97.08570098876999,
          -103.750556,
          -99.00666700000001
         ],
         "marker": {
          "color": [
           0.3220338983050847,
           0.29244659281243574,
           0.2859002169197397,
           0.28060522696011003,
           0.27669172932330827,
           0.2764456981664316,
           0.2689295039164491,
           0.266736584513197,
           0.26666666666666666,
           0.26331967213114754,
           0.2612996242681968,
           0.25416666666666665,
           0.2541208791208791,
           0.25334276990746696,
           0.25309961522017954,
           0.25274725274725274,
           0.25027703023587144,
           0.25,
           0.24852320675105485,
           0.2459485224022879,
           0.24274193548387096,
           0.24142857142857144,
           0.24014869888475837,
           0.239407509472959,
           0.23830498177399756,
           0.23585168664622247,
           0.23529411764705882,
           0.23513822283034658,
           0.2338847689674843,
           0.23318938926588526,
           0.23247232472324722,
           0.23128342245989306,
           0.23025604710968656,
           0.23022598870056496,
           0.22982351774737259,
           0.22923976608187135,
           0.22803114571746386,
           0.22734815798207766,
           0.22655007949125597,
           0.22376543209876543,
           0.22296918767507004,
           0.2228287841191067,
           0.22280334728033474,
           0.22151898734177214,
           0.22070452911574406,
           0.21831735889243875,
           0.21808822360109434,
           0.21761212016871825,
           0.21736126633206673,
           0.21721311475409835,
           0.216991297140489,
           0.21686746987951808,
           0.21645021645021645,
           0.21606690708202256,
           0.21487190861705668,
           0.21479064709081022,
           0.21333333333333335,
           0.2125739184562714,
           0.212253829321663,
           0.2122357552848943,
           0.210791729702471,
           0.21012145748987854,
           0.20997470184315142,
           0.20992915083684158,
           0.20938023450586266,
           0.2093784078516903,
           0.20926517571884984,
           0.2086932031543372,
           0.2085739671257219,
           0.2083551460580044,
           0.20827255678266304,
           0.20735219379976283,
           0.2062555853440572,
           0.20609065155807366,
           0.20607804351735298,
           0.20598963332693415,
           0.20586972083035074,
           0.20578231292517007,
           0.2056586553087922,
           0.20549174443646806,
           0.20396232543033452,
           0.203347541324462,
           0.20334728033472804,
           0.20249559202495593,
           0.20241827138378862,
           0.20191387559808613,
           0.20183991718703043,
           0.20151258128357366,
           0.2014388489208633,
           0.20129319054354414,
           0.201069445396586,
           0.20076862856736175,
           0.20073508623126943,
           0.2007042253521127,
           0.20057803468208094,
           0.19923504867872044,
           0.1990421186082547,
           0.1984894825541477,
           0.1984048945700863,
           0.19824445180523353,
           0.19815930007953642,
           0.19811320754716982,
           0.1980492409344765,
           0.19802229288235088,
           0.1979884736451276,
           0.19790249433106577,
           0.19751381215469613,
           0.19716704656463693,
           0.19711742263671048,
           0.19709864603481625,
           0.19708029197080293,
           0.1964856230031949,
           0.1964552637198377,
           0.1963235294117647,
           0.19610670511896178,
           0.19601837672281777,
           0.19587754604220026,
           0.19577464788732393,
           0.19555752640490204,
           0.19538670284938942,
           0.19481355733770414,
           0.19470219684352447,
           0.19469622416740043,
           0.19463674703588765,
           0.1941417857648224,
           0.19409462548920836,
           0.19393256618652932,
           0.1936123784963301,
           0.19354571268679918,
           0.19354458016168052,
           0.19353418179509965,
           0.19349005424954793,
           0.1928184948352189,
           0.1927554980595084,
           0.19255887899995325,
           0.1918560606060606,
           0.19164665607213616,
           0.1916379386546451,
           0.1915714185540986,
           0.19155319639972307,
           0.19151809832522962,
           0.19130668097665682,
           0.19117647058823528,
           0.1910778950612528,
           0.1906428439860011,
           0.19047619047619047,
           0.1900198281559815,
           0.18983822042467138,
           0.1897629780427512,
           0.18974948608062436,
           0.18940609951845908,
           0.1892012494422133,
           0.18918634064080944,
           0.18894626123541786,
           0.1887705711519845,
           0.1886511507461237,
           0.18842182890855458,
           0.18835789006913511,
           0.18827059016932435,
           0.18773531383774306,
           0.187468671679198,
           0.18719211822660098,
           0.18684759916492694,
           0.18653552653891808,
           0.18639455782312925,
           0.18612757058208435,
           0.18592770495807212,
           0.1858974358974359,
           0.18579234972677597,
           0.18578268876611417,
           0.18555451134561993,
           0.185406797972243,
           0.1852374236013164,
           0.18503674886750826,
           0.18501655629139072,
           0.18498659517426275,
           0.1846370683579986,
           0.18461710703090015,
           0.18434191035277336,
           0.18416698485427008,
           0.18397887323943662,
           0.1838712926129211,
           0.18359828266419123,
           0.18333108846286236,
           0.18327272727272728,
           0.18316678685484702,
           0.18283321702721564,
           0.18207204691426976,
           0.18176605504587157,
           0.18167014613778706,
           0.18166541370008402,
           0.1812701746198421,
           0.1812139129744638,
           0.1809913597089586,
           0.1808,
           0.18058022498519835,
           0.1805591509189749,
           0.18051575931232092,
           0.1802336717104003,
           0.17996549808485132,
           0.17917917917917917,
           0.178971802661418,
           0.17864372469635628,
           0.17853170189099,
           0.17803837953091683,
           0.17802561676733863,
           0.17775406142535277,
           0.1771915800692779,
           0.17715102677410968,
           0.17710292932007524,
           0.17663569492837786,
           0.17644341801385682,
           0.17633928571428573,
           0.176239907727797,
           0.17602427921092564,
           0.1756914686404363,
           0.17550058892815076,
           0.17451100244498777,
           0.1744380290375021,
           0.1743295019157088,
           0.17421543681085666,
           0.1739290989660266,
           0.17320261437908496,
           0.17263127016720445,
           0.17210830988963427,
           0.1721014492753623,
           0.17197304878401434,
           0.17183277698299157,
           0.17178007290400973,
           0.17126161222655079,
           0.17114093959731544,
           0.17092651757188498,
           0.1708594012877617,
           0.17059058260175577,
           0.1705305394560856,
           0.1701258931609391,
           0.17001385041551245,
           0.16976351351351351,
           0.16937300909020278,
           0.16932907348242812,
           0.16897506925207756,
           0.16838995568685378,
           0.16770413767850603,
           0.1674641148325359,
           0.167362672663026,
           0.16731141199226304,
           0.1664018273910021,
           0.1664012738853503,
           0.16638783269961976,
           0.16620498614958448,
           0.16574585635359115,
           0.16537216828478965,
           0.16517412935323383,
           0.16464646464646465,
           0.1642978965321205,
           0.16417352281226627,
           0.16407058012348388,
           0.1630543514504835,
           0.16297662976629768,
           0.16277841691341494,
           0.16277354315220063,
           0.16243654822335024,
           0.16183816183816183,
           0.16131907308377896,
           0.1610271903323263,
           0.16044260027662519,
           0.1600771456123433,
           0.15999935942604573,
           0.1594896331738437,
           0.15910984755649232,
           0.1588785046728972,
           0.15872436196866108,
           0.1582474552696466,
           0.15789473684210525,
           0.15771812080536912,
           0.1568627450980392,
           0.15547808646028582,
           0.15489849955869373,
           0.15453029460811563,
           0.15361100496752006,
           0.15352117051349756,
           0.15342465753424658,
           0.15233286076110678,
           0.15217391304347827,
           0.15124798288621932,
           0.15118956254796623,
           0.1510620204664673,
           0.15070643642072212,
           0.1500437445319335,
           0.15,
           0.14987244897959184,
           0.14971037388098998,
           0.14847161572052403,
           0.14823529411764705,
           0.14711033274956217,
           0.14602587800369685,
           0.14413075780089152,
           0.14392059553349876,
           0.1435116093430049,
           0.1419068736141907,
           0.14089452339845984,
           0.14012738853503184,
           0.13996316758747698,
           0.13848631239935588,
           0.13677236157122574,
           0.13598901098901098,
           0.13496175672341476,
           0.13398058252427184,
           0.13354174258261253,
           0.13310580204778158,
           0.13223684210526315,
           0.13008273191339553,
           0.13005780346820808,
           0.12995484194681384,
           0.1294685990338164,
           0.1288782816229117,
           0.12608695652173912,
           0.12505245488879563,
           0.1246954595791805,
           0.12435233160621761,
           0.12421383647798742,
           0.12324492979719189,
           0.12298899237933954,
           0.12157330154946365,
           0.11781283168026938,
           0.11715976331360947,
           0.11608623548922056,
           0.11451398135818908,
           0.11395101171458999,
           0.11209439528023599,
           0.1111111111111111,
           0.10754716981132076,
           0.10377358490566038,
           0.10353866317169069,
           0.10326788943425472,
           0.10288461538461538,
           0.10268562401263823,
           0.1018202502844141,
           0.09817813765182186,
           0.09788654060066741,
           0.0975609756097561,
           0.0975609756097561,
           0.09725158562367865,
           0.09401709401709402,
           0.0926517571884984,
           0.09229789942711648,
           0.0886426592797784,
           0.08827085852478839,
           0.08653846153846154,
           0.08333333333333333,
           0.08302446256486286,
           0.0798165137614679,
           0.07280219780219781,
           0.06410466067048241,
           0.0625,
           0.06060606060606061,
           0.057459677419354836,
           0.05621301775147929,
           0.04874446085672083,
           0.01639344262295082
          ]
         },
         "mode": "markers",
         "text": [
          "Pago Pago International Airport 0.26666666666666666",
          "Saipan International Airport 0.09725158562367865",
          "Antonio B. Won Pat International Airport 0.12157330154946365",
          "Cyril E. King Airport 0.1771915800692779",
          "Henry E Rohlsen Airport 0.17114093959731544",
          "Rafael Hernandez Airport 0.2859002169197397",
          "Mercedita Airport 0.3220338983050847",
          "Luis Munoz Marin International Airport 0.23025604710968656",
          "Hilo International Airport 0.06410466067048241",
          "Fort Smith Regional Airport 0.17644341801385682",
          "Grand Forks International Airport 0.13677236157122574",
          "Ernest A. Love Field 0.19538670284938942",
          "Trenton Mercer Airport 0.22734815798207766",
          "General Edward Lawrence Logan International Airport 0.23513822283034658",
          "Mobile Downtown Airport 0.22151898734177214",
          "Metropolitan Oakland International Airport 0.16277841691341494",
          "Eppley Airfield 0.1910778950612528",
          "Kahului Airport 0.11781283168026938",
          "Wichita Eisenhower National Airport 0.2086932031543372",
          "Kansas City International Airport 0.17802561676733863",
          "Dane County Regional Truax Field 0.20076862856736175",
          "Dillingham Airport 0.0975609756097561",
          "Phoenix Sky Harbor International Airport 0.1708594012877617",
          "Bangor International Airport 0.22655007949125597",
          "East Texas Regional Airport 0.11395101171458999",
          "Spokane International Airport 0.185406797972243",
          "San Francisco International Airport 0.25334276990746696",
          "Gainesville Regional Airport 0.17320261437908496",
          "Memphis International Airport 0.19409462548920836",
          "Los Angeles International Airport 0.18416698485427008",
          "Cleveland Hopkins International Airport 0.18835789006913511",
          "Cincinnati Northern Kentucky International Airport 0.19354571268679918",
          "Juneau International Airport 0.1246954595791805",
          "Lafayette Regional Airport 0.18894626123541786",
          "Newark Liberty International Airport 0.29244659281243574",
          "Boise Air Terminal/Gowen Field 0.16131907308377896",
          "Garden City Regional Airport 0.13598901098901098",
          "Minot International Airport 0.1500437445319335",
          "Dallas Love Field 0.17210830988963427",
          "Helena Regional Airport 0.08302446256486286",
          "Lake Charles Regional Airport 0.17864372469635628",
          "Ellison Onizuka Kona International At Keahole Airport 0.10326788943425472",
          "Myrtle Beach International Airport 0.17421543681085666",
          "Nantucket Memorial Airport 0.20334728033472804",
          "Ronald Reagan Washington National Airport 0.18555451134561993",
          "Atlantic City International Airport 0.167362672663026",
          "Pueblo Memorial Airport 0.17803837953091683",
          "Kodiak Airport 0.12324492979719189",
          "Fort Lauderdale Hollywood International Airport 0.21736126633206673",
          "Falls International Airport 0.1111111111111111",
          "Salt Lake City International Airport 0.1435116093430049",
          "Harrisburg International Airport 0.17183277698299157",
          "Lincoln Airport 0.19349005424954793",
          "Capital City Airport 0.2056586553087922",
          "George Bush Intercontinental Houston Airport 0.20183991718703043",
          "Meadows Field 0.21012145748987854",
          "El Paso International Airport 0.20578231292517007",
          "Valley International Airport 0.1705305394560856",
          "Columbia Metropolitan Airport 0.19130668097665682",
          "Pensacola Regional Airport 0.19470219684352447",
          "William P Hobby Airport 0.1664018273910021",
          "Pittsburgh International Airport 0.1812139129744638",
          "Wiley Post Will Rogers Memorial Airport 0.07280219780219781",
          "Miami International Airport 0.1744380290375021",
          "Seattle Tacoma International Airport 0.19164665607213616",
          "Lovell Field 0.18461710703090015",
          "Jackson-Medgar Wiley Evers International Airport 0.19587754604220026",
          "Long Beach /Daugherty Field/ Airport 0.1582474552696466",
          "Indianapolis International Airport 0.18592770495807212",
          "Westchester County Airport 0.21761212016871825",
          "Yuma MCAS/Yuma International Airport 0.15",
          "Duluth International Airport 0.18058022498519835",
          "Bethel Airport 0.08827085852478839",
          "Lihue Airport 0.1018202502844141",
          "Richmond International Airport 0.19555752640490204",
          "Shreveport Regional Airport 0.1846370683579986",
          "Merle K (Mudhole) Smith Airport 0.16897506925207756",
          "Norfolk International Airport 0.20129319054354414",
          "Southeast Texas Regional Airport 0.16183816183816183",
          "Savannah Hilton Head International Airport 0.19790249433106577",
          "Nome Airport 0.0886426592797784",
          "St Petersburg Clearwater International Airport 0.1805591509189749",
          "Deadhorse Airport 0.09817813765182186",
          "San Antonio International Airport 0.18578268876611417",
          "Greater Rochester International Airport 0.201069445396586",
          "Raleigh Durham International Airport 0.19255887899995325",
          "James M Cox Dayton International Airport 0.20997470184315142",
          "Niagara Falls International Airport 0.11715976331360947",
          "Newport News Williamsburg International Airport 0.1664012738853503",
          "Tucson International Airport 0.19469622416740043",
          "Theodore Francis Green State Airport 0.1900198281559815",
          "Bob Hope Airport 0.16407058012348388",
          "Detroit Metropolitan Wayne County Airport 0.15124798288621932",
          "Tampa International Airport 0.18503674886750826",
          "Range Regional Airport 0.0926517571884984",
          "Midland International Airport 0.203347541324462",
          "Austin Straubel International Airport 0.19709864603481625",
          "Augusta Regional At Bush Field 0.15771812080536912",
          "Sloulin Field International Airport 0.10268562401263823",
          "Bill & Hillary Clinton National Airport/Adams Field 0.1915714185540986",
          "Stewart International Airport 0.2338847689674843",
          "Dallas Fort Worth International Airport 0.1979884736451276",
          "Melbourne International Airport 0.15361100496752006",
          "Austin Bergstrom International Airport 0.18333108846286236",
          "Rickenbacker International Airport 0.1887705711519845",
          "Sawyer International Airport 0.20609065155807366",
          "McGhee Tyson Airport 0.21487190861705668",
          "St Louis Lambert International Airport 0.17996549808485132",
          "Sheppard Air Force Base-Wichita Falls Municipal Airport 0.1288782816229117",
          "Hartsfield Jackson Atlanta International Airport 0.14089452339845984",
          "Gerald R. Ford International Airport 0.20827255678266304",
          "Fresno Yosemite International Airport 0.16537216828478965",
          "Nashville International Airport 0.17663569492837786",
          "Laredo International Airport 0.16417352281226627",
          "Ralph Wien Memorial Airport 0.08333333333333333",
          "La Guardia Airport 0.2612996242681968",
          "Tallahassee Regional Airport 0.16638783269961976",
          "Waco Regional Airport 0.15453029460811563",
          "San Angelo Regional Mathis Field 0.1594896331738437",
          "Burlington International Airport 0.2125739184562714",
          "Jacksonville International Airport 0.1916379386546451",
          "Durango La Plata County Airport 0.23318938926588526",
          "Washington Dulles International Airport 0.17197304878401434",
          "Easterwood Field 0.15489849955869373",
          "General Mitchell International Airport 0.1886511507461237",
          "Abilene Regional Airport 0.18397887323943662",
          "Columbia Regional Airport 0.24852320675105485",
          "Portland International Airport 0.15999935942604573",
          "Palm Beach International Airport 0.21606690708202256",
          "Ogdensburg International Airport 0.19811320754716982",
          "Daniel K Inouye International Airport 0.13354174258261253",
          "Des Moines International Airport 0.19354458016168052",
          "Coastal Carolina Regional Airport 0.19711742263671048",
          "San Diego International Airport 0.178971802661418",
          "Monroe Regional Airport 0.1701258931609391",
          "Ontario International Airport 0.18166541370008402",
          "Roswell International Air Center Airport 0.13005780346820808",
          "Brownsville South Padre Island International Airport 0.1739290989660266",
          "Dothan Regional Airport 0.18327272727272728",
          "Corpus Christi International Airport 0.18653552653891808",
          "Syracuse Hancock International Airport 0.20151258128357366",
          "Chicago Midway International Airport 0.15547808646028582",
          "Norman Y. Mineta San Jose International Airport 0.15233286076110678",
          "Lea County Regional Airport 0.23128342245989306",
          "Denver International Airport 0.19353418179509965",
          "Philadelphia International Airport 0.1838712926129211",
          "Sioux Gateway Col. Bud Day Field 0.24014869888475837",
          "John Glenn Columbus International Airport 0.18167014613778706",
          "Texarkana Regional Webb Field 0.13848631239935588",
          "Plattsburgh International Airport 0.1963235294117647",
          "Ted Stevens Anchorage International Airport 0.14971037388098998",
          "Robert Gray  Army Air Field Airport 0.17550058892815076",
          "Bellingham International Airport 0.12608695652173912",
          "Mobile Regional Airport 0.1906428439860011",
          "Santa Fe Municipal Airport 0.17853170189099",
          "Scott AFB/Midamerica Airport 0.18719211822660098",
          "Del Rio International Airport 0.16044260027662519",
          "Southwest Florida International Airport 0.18359828266419123",
          "King Salmon Airport 0.01639344262295082",
          "John F Kennedy International Airport 0.1980492409344765",
          "Cheyenne Regional Jerry Olson Field 0.13398058252427184",
          "Stockton Metropolitan Airport 0.16731141199226304",
          "Charleston Air Force Base-International Airport 0.1812701746198421",
          "Reno Tahoe International Airport 0.17126161222655079",
          "Ketchikan International Airport 0.12505245488879563",
          "Birmingham-Shuttlesworth International Airport 0.20992915083684158",
          "Sacramento International Airport 0.16937300909020278",
          "City of Colorado Springs Municipal Airport 0.22982351774737259",
          "Buffalo Niagara International Airport 0.19393256618652932",
          "Snohomish County (Paine Field) Airport 0.16297662976629768",
          "Cedar City Regional Airport 0.10353866317169069",
          "Bradley International Airport 0.18974948608062436",
          "Mc Allen Miller International Airport 0.2062555853440572",
          "Lubbock Preston Smith International Airport 0.1990421186082547",
          "Chicago O'Hare International Airport 0.21808822360109434",
          "Fairbanks International Airport 0.12298899237933954",
          "Watertown International Airport 0.21721311475409835",
          "Palm Springs International Airport 0.19716704656463693",
          "Rick Husband Amarillo International Airport 0.20598963332693415",
          "Wilmington International Airport 0.1897629780427512",
          "Baton Rouge Metropolitan Airport 0.17715102677410968",
          "Tyler Pounds Regional Airport 0.14987244897959184",
          "Baltimore/Washington International Thurgood Marshall Airport 0.1510620204664673",
          "Alexandria International Airport 0.17451100244498777",
          "Tulsa International Airport 0.19481355733770414",
          "Sitka Rocky Gutierrez Airport 0.14413075780089152",
          "Long Island Mac Arthur Airport 0.20607804351735298",
          "Minneapolis-St Paul International/Wold-Chamberlain Airport 0.15352117051349756",
          "Louis Armstrong New Orleans International Airport 0.18773531383774306",
          "Portland International Jetport Airport 0.20549174443646806",
          "Will Rogers World Airport 0.216991297140489",
          "Albany International Airport 0.19463674703588765",
          "John Wayne Airport-Orange County Airport 0.15910984755649232",
          "Casper-Natrona County International Airport 0.09401709401709402",
          "Destin-Ft Walton Beach Airport 0.19815930007953642",
          "Key West International Airport 0.13008273191339553",
          "Charlotte Douglas International Airport 0.15872436196866108",
          "McCarran International Airport 0.18434191035277336",
          "Orlando International Airport 0.19802229288235088",
          "Great Falls International Airport 0.09788654060066741",
          "Lewiston Nez Perce County Airport 0.057459677419354836",
          "Elmira Corning Regional Airport 0.11608623548922056",
          "Ithaca Tompkins Regional Airport 0.17917917917917917",
          "Monterey Peninsula Airport 0.18283321702721564",
          "Santa Barbara Municipal Airport 0.20249559202495593",
          "Daytona Beach International Airport 0.1610271903323263",
          "Tweed New Haven Airport 0.14602587800369685",
          "Asheville Regional Airport 0.2083551460580044",
          "Piedmont Triad International Airport 0.20191387559808613",
          "Joe Foss Field Airport 0.2122357552848943",
          "Manchester-Boston Regional Airport 0.18842182890855458",
          "Louisville International Standiford Field 0.18827059016932435",
          "Charlottesville Albemarle Airport 0.20735219379976283",
          "Roanoke–Blacksburg Regional Airport 0.17001385041551245",
          "Blue Grass Airport 0.1984048945700863",
          "Evansville Regional Airport 0.17633928571428573",
          "Albuquerque International Sunport 0.18983822042467138",
          "Gallatin Field 0.17263127016720445",
          "Billings Logan International Airport 0.16277354315220063",
          "Bert Mooney Airport 0.04874446085672083",
          "Cherry Capital Airport 0.19155319639972307",
          "Jackson Hole Airport 0.2093784078516903",
          "Chicago Rockford International Airport 0.1588785046728972",
          "Greenville Spartanburg International Airport 0.1984894825541477",
          "Central Illinois Regional Airport at Bloomington-Normal 0.20396232543033452",
          "Gulfport Biloxi International Airport 0.19601837672281777",
          "Kalamazoo Battle Creek International Airport 0.1892012494422133",
          "Toledo Express Airport 0.18051575931232092",
          "Fort Wayne International Airport 0.20073508623126943",
          "The Eastern Iowa Airport 0.18918634064080944",
          "La Crosse Municipal Airport 0.1809913597089586",
          "Central Wisconsin Airport 0.15118956254796623",
          "General Wayne A. Downing Peoria International Airport 0.1964552637198377",
          "Appleton International Airport 0.176239907727797",
          "Rochester International Airport 0.20057803468208094",
          "University of Illinois Willard Airport 0.239407509472959",
          "Manhattan Regional Airport 0.210791729702471",
          "Grand Junction Regional Airport 0.13496175672341476",
          "St George Municipal Airport 0.1568627450980392",
          "Sarasota Bradenton International Airport 0.17775406142535277",
          "Quad City International Airport 0.18501655629139072",
          "Bismarck Municipal Airport 0.1852374236013164",
          "Rapid City Regional Airport 0.1936123784963301",
          "Bishop International Airport 0.18176605504587157",
          "Redding Municipal Airport 0.22070452911574406",
          "Mahlon Sweet Field 0.1802336717104003",
          "Idaho Falls Regional Airport 0.10754716981132076",
          "Rogue Valley International Medford Airport 0.1928184948352189",
          "Roberts Field 0.187468671679198",
          "Akron Canton Regional Airport 0.25027703023587144",
          "Huntsville International Carl T Jones Field 0.18316678685484702",
          "Montgomery Regional (Dannelly Field) Airport 0.17710292932007524",
          "Tri-Cities Regional TN/VA Airport 0.16243654822335024",
          "Barkley Regional Airport 0.22376543209876543",
          "Glacier Park International Airport 0.13223684210526315",
          "MBS International Airport 0.1756914686404363",
          "Greater Binghamton/Edwin A Link field 0.18684759916492694",
          "Petersburg James A Johnson Airport 0.16574585635359115",
          "Orlando Sanford International Airport 0.23585168664622247",
          "Missoula International Airport 0.1642978965321205",
          "Eagle County Regional Airport 0.25309961522017954",
          "Columbus Metropolitan Airport 0.15070643642072212",
          "Lawton Fort Sill Regional Airport 0.15217391304347827",
          "Flagstaff Pulliam Airport 0.12995484194681384",
          "Joslin Field Magic Valley Regional Airport 0.10288461538461538",
          "Martha's Vineyard Airport 0.1721014492753623",
          "St Cloud Regional Airport 0.19117647058823528",
          "Golden Triangle Regional Airport 0.16976351351351351",
          "Erie International Tom Ridge Field 0.20938023450586266",
          "Barnstable Municipal Boardman Polando Field 0.21686746987951808",
          "Yeager Airport 0.2085739671257219",
          "Wilkes Barre Scranton International Airport 0.18207204691426976",
          "Bemidji Regional Airport 0.10377358490566038",
          "Hector International Airport 0.19824445180523353",
          "Gillette Campbell County Airport 0.1927554980595084",
          "University Park Airport 0.21333333333333335",
          "Key Field 0.26331967213114754",
          "Abraham Lincoln Capital Airport 0.22803114571746386",
          "Yampa Valley Airport 0.23247232472324722",
          "Liberal Mid-America Regional Airport 0.1808",
          "Yellowstone Regional Airport 0.1419068736141907",
          "Springfield Branson National Airport 0.19923504867872044",
          "Joplin Regional Airport 0.19610670511896178",
          "Lehigh Valley International Airport 0.17059058260175577",
          "Northwest Arkansas Regional Airport 0.1941417857648224",
          "South Bend Regional Airport 0.20586972083035074",
          "California Redwood Coast-Humboldt County Airport 0.2228287841191067",
          "Albert J Ellis Airport 0.18612757058208435",
          "Dubuque Regional Airport 0.2459485224022879",
          "Aberdeen Regional Airport 0.11451398135818908",
          "Southwest Georgia Regional Airport 0.16517412935323383",
          "Waterloo Regional Airport 0.24142857142857144",
          "Alpena County Regional Airport 0.14012738853503184",
          "Watertown Regional Airport 0.1743295019157088",
          "Western Neb. Rgnl/William B. Heilig Airport 0.17092651757188498",
          "Brunswick Golden Isles Airport 0.1600771456123433",
          "Cape Girardeau Regional Airport 0.22280334728033474",
          "Chippewa County International Airport 0.16838995568685378",
          "North Central West Virginia Airport 0.22923976608187135",
          "Houghton County Memorial Airport 0.2541208791208791",
          "Chippewa Valley Regional Airport 0.25274725274725274",
          "Elko Regional Airport 0.05621301775147929",
          "Fayetteville Regional Grannis Field 0.19151809832522962",
          "Central Nebraska Regional Airport 0.14711033274956217",
          "Tri-State/Milton J. Ferguson Field 0.19577464788732393",
          "Jamestown Regional Airport 0.16464646464646465",
          "Laramie Regional Airport 0.20926517571884984",
          "Arnold Palmer Regional Airport 0.18498659517426275",
          "North Platte Regional Airport Lee Bird Field 0.1964856230031949",
          "Lynchburg Regional Preston Glenn Field 0.14847161572052403",
          "Muskegon County Airport 0.28060522696011003",
          "Southwest Oregon Regional Airport 0.2689295039164491",
          "Owensboro Daviess County Airport 0.23529411764705882",
          "Hattiesburg Laurel Regional Airport 0.2764456981664316",
          "Pocatello Regional Airport 0.0798165137614679",
          "Pierre Regional Airport 0.17602427921092564",
          "Pellston Regional Airport of Emmet County Airport 0.13996316758747698",
          "Portsmouth International at Pease Airport 0.14823529411764705",
          "Rhinelander Oneida County Airport 0.14392059553349876",
          "Southwest Wyoming Regional Airport 0.18639455782312925",
          "San Luis County Regional Airport 0.1918560606060606",
          "Salina Municipal Airport 0.21831735889243875",
          "Santa Maria Pub/Capt G Allan Hancock Field 0.12435233160621761",
          "Quincy Regional Baldwin Field 0.25",
          "Valdosta Regional Airport 0.1294685990338164",
          "Adak Airport 0.08653846153846154",
          "Gustavus Airport 0.0975609756097561",
          "Wrangell Airport 0.19751381215469613",
          "Tri Cities Airport 0.1630543514504835",
          "Worcester Regional Airport 0.24274193548387096",
          "Concord-Padgett Regional Airport 0.212253829321663",
          "Friedman Memorial Airport 0.09229789942711648",
          "Phoenix-Mesa-Gateway Airport 0.266736584513197",
          "Hagerstown Regional Richard A Henson Field 0.18579234972677597",
          "Delta County Airport 0.16932907348242812",
          "Yakutat Airport 0.16620498614958448",
          "Ford Airport 0.11209439528023599",
          "Montrose Regional Airport 0.21479064709081022",
          "Brainerd Lakes Regional Airport 0.12421383647798742",
          "Greenbrier Valley Airport 0.27669172932330827",
          "Pitt Greenville Airport 0.0625",
          "Branson Airport 0.21645021645021645",
          "Charles M. Schulz Sonoma County Airport 0.16770413767850603",
          "Aspen-Pitkin Co/Sardy Field 0.23830498177399756",
          "Hays Regional Airport 0.2014388489208633",
          "Gunnison Crested Butte Regional Airport 0.25416666666666665",
          "Charlotte County Airport 0.22296918767507004",
          "Shenandoah Valley Regional Airport 0.23022598870056496",
          "Devils Lake Regional Airport 0.1858974358974359",
          "Yellowstone Airport 0.06060606060606061",
          "Canyonlands Field 0.18940609951845908",
          "Vernal Regional Airport 0.1674641148325359",
          "Mammoth Yosemite Airport 0.2007042253521127",
          "Provo Municipal Airport 0.15342465753424658",
          "Northwest Florida Beaches International Airport 0.17178007290400973",
          "Hilton Head Airport 0.20241827138378862",
          "Ogden Hinckley Airport 0.19047619047619047",
          "Stillwater Regional Airport 0.13310580204778158",
          "Williston Basin International Airport 0.15789473684210525",
          "Kearney Regional Airport 0.19708029197080293"
         ],
         "type": "scattergeo"
        }
       ],
       "layout": {
        "geo": {
         "scope": "usa"
        },
        "template": {
         "data": {
          "bar": [
           {
            "error_x": {
             "color": "#2a3f5f"
            },
            "error_y": {
             "color": "#2a3f5f"
            },
            "marker": {
             "line": {
              "color": "#E5ECF6",
              "width": 0.5
             }
            },
            "type": "bar"
           }
          ],
          "barpolar": [
           {
            "marker": {
             "line": {
              "color": "#E5ECF6",
              "width": 0.5
             }
            },
            "type": "barpolar"
           }
          ],
          "carpet": [
           {
            "aaxis": {
             "endlinecolor": "#2a3f5f",
             "gridcolor": "white",
             "linecolor": "white",
             "minorgridcolor": "white",
             "startlinecolor": "#2a3f5f"
            },
            "baxis": {
             "endlinecolor": "#2a3f5f",
             "gridcolor": "white",
             "linecolor": "white",
             "minorgridcolor": "white",
             "startlinecolor": "#2a3f5f"
            },
            "type": "carpet"
           }
          ],
          "choropleth": [
           {
            "colorbar": {
             "outlinewidth": 0,
             "ticks": ""
            },
            "type": "choropleth"
           }
          ],
          "contour": [
           {
            "colorbar": {
             "outlinewidth": 0,
             "ticks": ""
            },
            "colorscale": [
             [
              0,
              "#0d0887"
             ],
             [
              0.1111111111111111,
              "#46039f"
             ],
             [
              0.2222222222222222,
              "#7201a8"
             ],
             [
              0.3333333333333333,
              "#9c179e"
             ],
             [
              0.4444444444444444,
              "#bd3786"
             ],
             [
              0.5555555555555556,
              "#d8576b"
             ],
             [
              0.6666666666666666,
              "#ed7953"
             ],
             [
              0.7777777777777778,
              "#fb9f3a"
             ],
             [
              0.8888888888888888,
              "#fdca26"
             ],
             [
              1,
              "#f0f921"
             ]
            ],
            "type": "contour"
           }
          ],
          "contourcarpet": [
           {
            "colorbar": {
             "outlinewidth": 0,
             "ticks": ""
            },
            "type": "contourcarpet"
           }
          ],
          "heatmap": [
           {
            "colorbar": {
             "outlinewidth": 0,
             "ticks": ""
            },
            "colorscale": [
             [
              0,
              "#0d0887"
             ],
             [
              0.1111111111111111,
              "#46039f"
             ],
             [
              0.2222222222222222,
              "#7201a8"
             ],
             [
              0.3333333333333333,
              "#9c179e"
             ],
             [
              0.4444444444444444,
              "#bd3786"
             ],
             [
              0.5555555555555556,
              "#d8576b"
             ],
             [
              0.6666666666666666,
              "#ed7953"
             ],
             [
              0.7777777777777778,
              "#fb9f3a"
             ],
             [
              0.8888888888888888,
              "#fdca26"
             ],
             [
              1,
              "#f0f921"
             ]
            ],
            "type": "heatmap"
           }
          ],
          "heatmapgl": [
           {
            "colorbar": {
             "outlinewidth": 0,
             "ticks": ""
            },
            "colorscale": [
             [
              0,
              "#0d0887"
             ],
             [
              0.1111111111111111,
              "#46039f"
             ],
             [
              0.2222222222222222,
              "#7201a8"
             ],
             [
              0.3333333333333333,
              "#9c179e"
             ],
             [
              0.4444444444444444,
              "#bd3786"
             ],
             [
              0.5555555555555556,
              "#d8576b"
             ],
             [
              0.6666666666666666,
              "#ed7953"
             ],
             [
              0.7777777777777778,
              "#fb9f3a"
             ],
             [
              0.8888888888888888,
              "#fdca26"
             ],
             [
              1,
              "#f0f921"
             ]
            ],
            "type": "heatmapgl"
           }
          ],
          "histogram": [
           {
            "marker": {
             "colorbar": {
              "outlinewidth": 0,
              "ticks": ""
             }
            },
            "type": "histogram"
           }
          ],
          "histogram2d": [
           {
            "colorbar": {
             "outlinewidth": 0,
             "ticks": ""
            },
            "colorscale": [
             [
              0,
              "#0d0887"
             ],
             [
              0.1111111111111111,
              "#46039f"
             ],
             [
              0.2222222222222222,
              "#7201a8"
             ],
             [
              0.3333333333333333,
              "#9c179e"
             ],
             [
              0.4444444444444444,
              "#bd3786"
             ],
             [
              0.5555555555555556,
              "#d8576b"
             ],
             [
              0.6666666666666666,
              "#ed7953"
             ],
             [
              0.7777777777777778,
              "#fb9f3a"
             ],
             [
              0.8888888888888888,
              "#fdca26"
             ],
             [
              1,
              "#f0f921"
             ]
            ],
            "type": "histogram2d"
           }
          ],
          "histogram2dcontour": [
           {
            "colorbar": {
             "outlinewidth": 0,
             "ticks": ""
            },
            "colorscale": [
             [
              0,
              "#0d0887"
             ],
             [
              0.1111111111111111,
              "#46039f"
             ],
             [
              0.2222222222222222,
              "#7201a8"
             ],
             [
              0.3333333333333333,
              "#9c179e"
             ],
             [
              0.4444444444444444,
              "#bd3786"
             ],
             [
              0.5555555555555556,
              "#d8576b"
             ],
             [
              0.6666666666666666,
              "#ed7953"
             ],
             [
              0.7777777777777778,
              "#fb9f3a"
             ],
             [
              0.8888888888888888,
              "#fdca26"
             ],
             [
              1,
              "#f0f921"
             ]
            ],
            "type": "histogram2dcontour"
           }
          ],
          "mesh3d": [
           {
            "colorbar": {
             "outlinewidth": 0,
             "ticks": ""
            },
            "type": "mesh3d"
           }
          ],
          "parcoords": [
           {
            "line": {
             "colorbar": {
              "outlinewidth": 0,
              "ticks": ""
             }
            },
            "type": "parcoords"
           }
          ],
          "pie": [
           {
            "automargin": true,
            "type": "pie"
           }
          ],
          "scatter": [
           {
            "marker": {
             "colorbar": {
              "outlinewidth": 0,
              "ticks": ""
             }
            },
            "type": "scatter"
           }
          ],
          "scatter3d": [
           {
            "line": {
             "colorbar": {
              "outlinewidth": 0,
              "ticks": ""
             }
            },
            "marker": {
             "colorbar": {
              "outlinewidth": 0,
              "ticks": ""
             }
            },
            "type": "scatter3d"
           }
          ],
          "scattercarpet": [
           {
            "marker": {
             "colorbar": {
              "outlinewidth": 0,
              "ticks": ""
             }
            },
            "type": "scattercarpet"
           }
          ],
          "scattergeo": [
           {
            "marker": {
             "colorbar": {
              "outlinewidth": 0,
              "ticks": ""
             }
            },
            "type": "scattergeo"
           }
          ],
          "scattergl": [
           {
            "marker": {
             "colorbar": {
              "outlinewidth": 0,
              "ticks": ""
             }
            },
            "type": "scattergl"
           }
          ],
          "scattermapbox": [
           {
            "marker": {
             "colorbar": {
              "outlinewidth": 0,
              "ticks": ""
             }
            },
            "type": "scattermapbox"
           }
          ],
          "scatterpolar": [
           {
            "marker": {
             "colorbar": {
              "outlinewidth": 0,
              "ticks": ""
             }
            },
            "type": "scatterpolar"
           }
          ],
          "scatterpolargl": [
           {
            "marker": {
             "colorbar": {
              "outlinewidth": 0,
              "ticks": ""
             }
            },
            "type": "scatterpolargl"
           }
          ],
          "scatterternary": [
           {
            "marker": {
             "colorbar": {
              "outlinewidth": 0,
              "ticks": ""
             }
            },
            "type": "scatterternary"
           }
          ],
          "surface": [
           {
            "colorbar": {
             "outlinewidth": 0,
             "ticks": ""
            },
            "colorscale": [
             [
              0,
              "#0d0887"
             ],
             [
              0.1111111111111111,
              "#46039f"
             ],
             [
              0.2222222222222222,
              "#7201a8"
             ],
             [
              0.3333333333333333,
              "#9c179e"
             ],
             [
              0.4444444444444444,
              "#bd3786"
             ],
             [
              0.5555555555555556,
              "#d8576b"
             ],
             [
              0.6666666666666666,
              "#ed7953"
             ],
             [
              0.7777777777777778,
              "#fb9f3a"
             ],
             [
              0.8888888888888888,
              "#fdca26"
             ],
             [
              1,
              "#f0f921"
             ]
            ],
            "type": "surface"
           }
          ],
          "table": [
           {
            "cells": {
             "fill": {
              "color": "#EBF0F8"
             },
             "line": {
              "color": "white"
             }
            },
            "header": {
             "fill": {
              "color": "#C8D4E3"
             },
             "line": {
              "color": "white"
             }
            },
            "type": "table"
           }
          ]
         },
         "layout": {
          "annotationdefaults": {
           "arrowcolor": "#2a3f5f",
           "arrowhead": 0,
           "arrowwidth": 1
          },
          "coloraxis": {
           "colorbar": {
            "outlinewidth": 0,
            "ticks": ""
           }
          },
          "colorscale": {
           "diverging": [
            [
             0,
             "#8e0152"
            ],
            [
             0.1,
             "#c51b7d"
            ],
            [
             0.2,
             "#de77ae"
            ],
            [
             0.3,
             "#f1b6da"
            ],
            [
             0.4,
             "#fde0ef"
            ],
            [
             0.5,
             "#f7f7f7"
            ],
            [
             0.6,
             "#e6f5d0"
            ],
            [
             0.7,
             "#b8e186"
            ],
            [
             0.8,
             "#7fbc41"
            ],
            [
             0.9,
             "#4d9221"
            ],
            [
             1,
             "#276419"
            ]
           ],
           "sequential": [
            [
             0,
             "#0d0887"
            ],
            [
             0.1111111111111111,
             "#46039f"
            ],
            [
             0.2222222222222222,
             "#7201a8"
            ],
            [
             0.3333333333333333,
             "#9c179e"
            ],
            [
             0.4444444444444444,
             "#bd3786"
            ],
            [
             0.5555555555555556,
             "#d8576b"
            ],
            [
             0.6666666666666666,
             "#ed7953"
            ],
            [
             0.7777777777777778,
             "#fb9f3a"
            ],
            [
             0.8888888888888888,
             "#fdca26"
            ],
            [
             1,
             "#f0f921"
            ]
           ],
           "sequentialminus": [
            [
             0,
             "#0d0887"
            ],
            [
             0.1111111111111111,
             "#46039f"
            ],
            [
             0.2222222222222222,
             "#7201a8"
            ],
            [
             0.3333333333333333,
             "#9c179e"
            ],
            [
             0.4444444444444444,
             "#bd3786"
            ],
            [
             0.5555555555555556,
             "#d8576b"
            ],
            [
             0.6666666666666666,
             "#ed7953"
            ],
            [
             0.7777777777777778,
             "#fb9f3a"
            ],
            [
             0.8888888888888888,
             "#fdca26"
            ],
            [
             1,
             "#f0f921"
            ]
           ]
          },
          "colorway": [
           "#636efa",
           "#EF553B",
           "#00cc96",
           "#ab63fa",
           "#FFA15A",
           "#19d3f3",
           "#FF6692",
           "#B6E880",
           "#FF97FF",
           "#FECB52"
          ],
          "font": {
           "color": "#2a3f5f"
          },
          "geo": {
           "bgcolor": "white",
           "lakecolor": "white",
           "landcolor": "#E5ECF6",
           "showlakes": true,
           "showland": true,
           "subunitcolor": "white"
          },
          "hoverlabel": {
           "align": "left"
          },
          "hovermode": "closest",
          "mapbox": {
           "style": "light"
          },
          "paper_bgcolor": "white",
          "plot_bgcolor": "#E5ECF6",
          "polar": {
           "angularaxis": {
            "gridcolor": "white",
            "linecolor": "white",
            "ticks": ""
           },
           "bgcolor": "#E5ECF6",
           "radialaxis": {
            "gridcolor": "white",
            "linecolor": "white",
            "ticks": ""
           }
          },
          "scene": {
           "xaxis": {
            "backgroundcolor": "#E5ECF6",
            "gridcolor": "white",
            "gridwidth": 2,
            "linecolor": "white",
            "showbackground": true,
            "ticks": "",
            "zerolinecolor": "white"
           },
           "yaxis": {
            "backgroundcolor": "#E5ECF6",
            "gridcolor": "white",
            "gridwidth": 2,
            "linecolor": "white",
            "showbackground": true,
            "ticks": "",
            "zerolinecolor": "white"
           },
           "zaxis": {
            "backgroundcolor": "#E5ECF6",
            "gridcolor": "white",
            "gridwidth": 2,
            "linecolor": "white",
            "showbackground": true,
            "ticks": "",
            "zerolinecolor": "white"
           }
          },
          "shapedefaults": {
           "line": {
            "color": "#2a3f5f"
           }
          },
          "ternary": {
           "aaxis": {
            "gridcolor": "white",
            "linecolor": "white",
            "ticks": ""
           },
           "baxis": {
            "gridcolor": "white",
            "linecolor": "white",
            "ticks": ""
           },
           "bgcolor": "#E5ECF6",
           "caxis": {
            "gridcolor": "white",
            "linecolor": "white",
            "ticks": ""
           }
          },
          "title": {
           "x": 0.05
          },
          "xaxis": {
           "automargin": true,
           "gridcolor": "white",
           "linecolor": "white",
           "ticks": "",
           "title": {
            "standoff": 15
           },
           "zerolinecolor": "white",
           "zerolinewidth": 2
          },
          "yaxis": {
           "automargin": true,
           "gridcolor": "white",
           "linecolor": "white",
           "ticks": "",
           "title": {
            "standoff": 15
           },
           "zerolinecolor": "white",
           "zerolinewidth": 2
          }
         }
        },
        "title": {
         "text": "US Airports"
        }
       }
      },
      "text/html": [
       "<div>\n",
       "        \n",
       "        \n",
       "            <div id=\"07e5860f-a475-4674-b0c4-7ad99e686b3c\" class=\"plotly-graph-div\" style=\"height:525px; width:100%;\"></div>\n",
       "            <script type=\"text/javascript\">\n",
       "                require([\"plotly\"], function(Plotly) {\n",
       "                    window.PLOTLYENV=window.PLOTLYENV || {};\n",
       "                    \n",
       "                if (document.getElementById(\"07e5860f-a475-4674-b0c4-7ad99e686b3c\")) {\n",
       "                    Plotly.newPlot(\n",
       "                        '07e5860f-a475-4674-b0c4-7ad99e686b3c',\n",
       "                        [{\"lat\": [-14.3310003281, 15.119000000000002, 13.4834003448, 18.337299346923828, 17.701900482177734, 18.49489974975586, 18.00830078125, 18.4393997192, 19.721399307250977, 35.33660125732422, 47.949298999999996, 34.65449905, 40.27669906616211, 42.36429977, 30.626800537100006, 37.721298, 41.3032, 20.8986, 37.649899, 39.2976, 43.13990020751953, 59.04470062, 33.43429946899414, 44.80739974975586, 32.38399887084961, 47.61989974975586, 37.61899948120117, 29.6900997162, 35.04240036010742, 33.94250107, 41.411701202399996, 39.0488014221, 58.35499954223633, 30.20529938, 40.69250106811523, 43.5644, 37.9275016785, 48.2593994140625, 32.847099, 46.6068000793457, 30.12610054016113, 19.738782999999998, 33.6796989441, 41.25310135, 38.8521, 39.45759963989258, 38.289100646972656, 57.75, 26.072599, 48.566200256347656, 40.78839874267578, 40.1935005188, 40.85100173950195, 42.77870178222656, 29.98439979553223, 35.43360138, 31.80719948, 26.228500366210934, 33.93880081176758, 30.473400115967003, 29.64539909, 40.49150085, 71.285402, 25.79319953918457, 47.449001, 35.03530120849609, 32.3111991882, 33.81769943, 39.7173, 41.06700134277344, 32.65660095, 46.8420982361, 60.77980042, 21.97599983215332, 37.50519943237305, 32.446602, 60.49179839999999, 36.89459991455078, 29.9507999420166, 32.12760162, 64.51219940185547, 27.91020012, 70.19470215, 29.533700942993164, 43.118900299072266, 35.877601623535156, 39.90240097045898, 43.1072998046875, 37.13190079, 32.116100311279304, 41.732601, 34.200698852539055, 42.212398529052734, 27.975500106811523, 47.38660049, 31.9424991607666, 44.48509979248047, 33.36989974975586, 48.177898407, 34.729400634799994, 41.50410079956055, 32.896801, 28.10280036926269, 30.194499969482425, 39.813801, 46.3535995483, 35.81100082, 38.748697, 33.9888, 33.6367, 42.88079834, 36.77619934082031, 36.1245002746582, 27.543800354003906, 66.88469696, 40.77719879, 30.396499633789066, 31.61129951477051, 31.35770034790039, 44.471900939899996, 30.49410057067871, 37.1515007019, 38.94449997, 30.58860016, 42.94720077514648, 32.4113006592, 38.81809997558594, 45.58869934, 26.68320083618164, 44.681900024399994, 21.32062, 41.53400039672852, 35.0730018616, 32.7336006165, 32.51089859008789, 34.05599975585937, 33.30160140991211, 25.90679931640625, 31.3213005065918, 27.77039909362793, 43.11119842529297, 41.785999, 37.362598, 32.6875, 39.861698150635, 39.87189865112305, 42.40259933, 39.998001, 33.45370101928711, 44.6509017944336, 61.174400329589844, 31.067199706999997, 48.79280090332031, 30.691200256348, 35.617099761999995, 38.5452, 29.3742008209, 26.53619956970215, 58.67679977, 40.63980103, 41.15570068, 37.894199371338, 32.89860153, 39.49909973144531, 55.35559845, 33.56290054, 38.69540023803711, 38.805801, 42.94049835, 47.90629959, 37.70100021362305, 41.9388999939, 26.17580032, 33.663601, 41.9786, 64.81510162, 43.99190139770508, 33.829700469970696, 35.219398, 34.27059936523437, 30.533199, 32.35409927368164, 39.1754, 31.32740020751953, 36.19839859008789, 57.04710006713867, 40.79520035, 44.882, 29.99340057373047, 43.64619827, 35.39310073852539, 42.74829864501953, 33.67570114, 42.908001, 30.4832, 24.556100845336914, 35.2140007019043, 36.08010101, 28.429399490356445, 47.48199844, 46.3745002746582, 42.1599006652832, 42.49100112915039, 36.58700180053711, 34.42620087, 29.179899, 41.26369858, 35.43619918823242, 36.097801208496094, 43.5820007324, 42.932598, 38.1744, 38.13859939575195, 37.3255, 38.0364990234375, 38.0369987488, 35.040199, 45.77750015, 45.807701110839844, 45.95479965209961, 44.74140167236328, 43.6072998046875, 42.19540023803711, 34.895698547399995, 40.47710037, 30.40730094909668, 42.234901428222656, 41.58679962, 40.97850037, 41.88470077514648, 43.879002, 44.7775993347, 40.664199829100006, 44.258098602299995, 43.90829849243164, 40.03919983, 39.14099884033203, 39.1223983765, 37.036389, 27.39539909362793, 41.44850158691406, 46.77270126342773, 44.0452995300293, 42.96540069580078, 40.50899887, 44.12459945678711, 43.514599, 42.37419891357422, 44.254100799999996, 40.916099548339844, 34.637199401855, 32.30059814, 36.475201, 37.06079864501953, 48.31050109863281, 43.532901763916016, 42.20869827, 56.80170059, 28.7775993347168, 46.91630173, 39.64260101, 32.516300201416016, 34.5676994324, 35.13850021, 42.4818, 41.393100738499996, 45.54660034179688, 33.450298309299995, 42.0831270134, 41.66930008, 38.37310028076172, 41.338500976599995, 47.50939941, 46.92070007324219, 44.3488998413, 40.8493003845, 32.33259963989258, 39.84410095, 40.48120117, 37.04420089999999, 44.520198822, 37.24570084, 37.151798248291016, 40.652099609375, 36.281898, 41.70869827270508, 40.978101, 34.8292007446, 42.40200043, 45.44910049438477, 31.535499572753906, 42.55709838867188, 45.07809829999999, 44.91400146, 41.87400055, 31.2588005065918, 37.22529983520508, 46.25080108642578, 39.2966003418, 47.16839981079102, 44.86579895019531, 40.82490158081055, 34.991199493408196, 40.96749877929688, 38.36669922, 46.92969894, 41.31209945678711, 40.27590179, 41.12620163, 37.326698303222656, 43.16949844, 43.41709899902344, 37.74010086, 31.467100143432614, 42.9098014831543, 44.38270187, 45.57089996, 43.0778999329, 45.63119888305664, 41.5942, 35.2368011475, 38.79100036621094, 34.89889908, 39.94269943, 30.78249931335449, 51.87799835205078, 58.42530060000001, 56.48429871, 46.26470184326172, 42.26729965209961, 35.387798, 43.50439835, 33.30780029, 39.707901, 45.7226982117, 59.503299713100006, 45.8184013367, 38.5097999573, 46.39830017, 37.8582992554, 35.6352005, 36.532082, 38.50899887, 39.22320175, 38.84220123, 38.53390121, 26.92020035, 38.2638015747, 48.11420059, 44.68840027, 38.75500107, 40.4408989, 37.62409973, 40.219200134277, 30.357105999999998, 32.2243995667, 41.195899963379, 36.161201477051, 48.259722, 40.726944], \"lon\": [-170.710006714, 145.729004, 144.796005249, -64.97339630126953, -64.79859924316406, -67.12940216064453, -66.56300354003906, -66.0018005371, -155.04800415039062, -94.36740112304688, -97.176102, -112.41999820000001, -74.8134994506836, -71.00520325, -88.06809997559998, -122.221001, -95.89409599999999, -156.429993, -97.433098, -94.713898, -89.3375015258789, -158.50500490000002, -112.01200103759766, -68.82810211181639, -94.71150207519531, -117.53399658203124, -122.375, -82.27179718020001, -89.97669982910156, -118.40799709999999, -81.8498001099, -84.6678009033, -134.57600402832028, -91.98760223, -74.168701171875, -116.223, -100.72399902299999, -101.27999877929688, -96.851799, -111.98300170898438, -93.22329711914062, -156.045603, -78.9282989502, -70.06020355, -77.037697, -74.57720184326172, -104.49700164794922, -152.4940033, -80.152702, -93.4030990600586, -111.97799682617188, -76.7633972168, -96.75920104980469, -84.58740234375, -95.34140014648438, -119.0569992, -106.37799840000002, -97.65440368652344, -81.11949920654297, -87.18659973144501, -95.27890015, -80.23290253, -156.766008, -80.29060363769531, -122.308998, -85.20379638671875, -90.0758972168, -118.15200039999999, -86.294403, -73.70760345458984, -114.6060028, -92.19360351559999, -161.8379974, -159.33900451660156, -77.3197021484375, -93.8256, -145.4779968, -76.20120239257812, -94.02069854736328, -81.20210266, -165.44500732421875, -82.68740082, -148.46499630000002, -98.46980285644531, -77.67240142822266, -78.7874984741211, -84.21939849853516, -78.94619750976562, -76.49299622, -110.94100189208984, -71.42040300000001, -118.35900115966795, -83.35340118408203, -82.533203125, -92.83899689, -102.2020034790039, -88.12960052490234, -81.9645004272461, -103.64199829100001, -92.22429656979999, -74.10479736328125, -97.038002, -80.64530181884766, -97.6698989868164, -82.927803, -87.39540100100001, -83.99400329999999, -90.370003, -98.49189799999999, -84.428101, -85.52279663, -119.71800231933594, -86.6781997680664, -99.46160125732422, -162.598999, -73.87259674, -84.35030364990234, -97.23049926757812, -100.49600219726562, -73.15329742429998, -81.68789672851562, -107.75399780299999, -77.45580292, -96.36380005, -87.89659881591797, -99.68190002440001, -92.21959686279295, -122.59799960000001, -80.09559631347656, -75.46549987790002, -157.924228, -93.66310119628906, -77.04290008539998, -117.190002441, -92.0376968383789, -117.60099792480469, -104.53099822998048, -97.4259033203125, -85.44960021972656, -97.5011978149414, -76.1063003540039, -87.752403, -121.929001, -103.21700290000001, -104.672996521, -75.24109649658203, -96.38439941, -82.891899, -93.99099731445312, -73.46810150146484, -149.99600219726562, -97.8289031982, -122.53800201416016, -88.242797851562, -106.08899688700001, -89.835197, -100.92700195299999, -81.75520324707031, -156.6490021, -73.77890015, -104.81199649999999, -121.2379989624, -80.04049683, -119.76799774169922, -131.7140045, -86.75350189, -121.59100341796876, -104.70099599999999, -78.73220062, -122.28199769999999, -113.0989990234375, -72.68319702149999, -98.23860168, -101.822998, -87.9048, -147.85600280000003, -76.02169799804688, -116.50700378417969, -101.706001, -77.90260314941406, -91.149597, -95.40239715576172, -76.668297, -92.54979705810548, -95.88809967041016, -135.36199951171878, -73.10019684, -93.221802, -90.25800323486328, -70.30930328, -97.60070037841795, -73.80169677734375, -117.86799620000001, -106.46399699999999, -86.525398, -81.75959777832031, -80.94309997558594, -115.15200039999999, -81.30899810791016, -111.3710022, -117.01499938964844, -76.8916015625, -76.4583969116211, -121.84300231933594, -119.8399963, -81.058098, -72.88680267, -82.54180145263672, -79.93730163574219, -96.741897583, -71.435699, -85.736, -78.4529037475586, -79.975403, -84.60590362548828, -87.53240203860001, -106.609001, -111.15299990000001, -108.54299926757812, -112.49700164794922, -85.58219909667969, -110.73799896240234, -89.09719848632812, -82.2189025879, -88.91590118, -89.07009887695312, -85.5521011352539, -83.80780029, -85.19509888, -91.71080017089844, -91.256699, -89.6668014526, -89.6932983398, -88.51909637450001, -92.5, -88.27809906, -96.6707992553711, -108.527000427, -113.510306, -82.55439758300781, -90.50749969482422, -100.74600219726562, -103.05699920654295, -83.74359893798828, -122.2929993, -123.21199798583984, -112.070999, -122.8730010986328, -121.15000149999999, -81.44219970703125, -86.775100708008, -86.39399719, -82.40740100000001, -88.7738037109375, -114.25599670410156, -84.07959747314453, -75.97979736, -132.9450073, -81.23750305175781, -114.0910034, -106.9179993, -84.93890380859375, -98.4166030884, -111.6709976, -114.487999, -70.6143035889, -94.05989837646484, -88.59140014649999, -80.1738667488, -70.28040314, -81.59320068359375, -75.72339630130001, -94.93370056, -96.81580352783205, -105.539001465, -77.84870147710002, -88.75189971923828, -89.67790222, -107.21800230000001, -100.95999909999999, -109.024002075, -93.38860321, -94.49829864501952, -75.44080352783203, -94.30680100000001, -86.31729888916016, -124.109, -77.61209869380002, -90.70950317, -98.42179870605469, -84.19450378417969, -92.40029907226562, -83.56030273, -97.15470123, -103.5960007, -81.46649932861328, -89.57080078125, -84.47239685058594, -80.2281036377, -88.48909759521484, -91.48429870605469, -115.79199981689452, -78.88030242919922, -98.30960083007812, -82.55799866, -98.67819977, -105.6750030517578, -79.40480042, -100.6839981, -79.20040130615234, -86.23819733, -124.24600219726562, -87.16680145, -89.33709716796875, -112.59600067138672, -100.2860031, -84.79669952, -70.8233032227, -89.46749877929688, -109.065001, -120.64199829100001, -97.6521987915039, -120.4570007, -91.19460297, -83.27670288085938, -176.64599609375, -135.7070007, -132.36999509999998, -119.11900329589844, -71.87570190429688, -80.709099, -114.2959976, -111.65499879999999, -77.72949982, -87.0936965942, -139.660003662, -88.11450195309999, -107.89399719200001, -94.13809967, -80.3994979858, -77.38529968, -93.200544, -122.8130035, -106.8690033, -99.27320099, -106.9329987, -81.99050140000001, -78.8964004517, -98.90879822, -111.11799620000001, -109.7549973, -109.5100021, -118.83799740000002, -111.72299957275, -85.79541400000001, -80.6975021362, -112.0120010376, -97.08570098876999, -103.750556, -99.00666700000001], \"marker\": {\"color\": [0.3220338983050847, 0.29244659281243574, 0.2859002169197397, 0.28060522696011003, 0.27669172932330827, 0.2764456981664316, 0.2689295039164491, 0.266736584513197, 0.26666666666666666, 0.26331967213114754, 0.2612996242681968, 0.25416666666666665, 0.2541208791208791, 0.25334276990746696, 0.25309961522017954, 0.25274725274725274, 0.25027703023587144, 0.25, 0.24852320675105485, 0.2459485224022879, 0.24274193548387096, 0.24142857142857144, 0.24014869888475837, 0.239407509472959, 0.23830498177399756, 0.23585168664622247, 0.23529411764705882, 0.23513822283034658, 0.2338847689674843, 0.23318938926588526, 0.23247232472324722, 0.23128342245989306, 0.23025604710968656, 0.23022598870056496, 0.22982351774737259, 0.22923976608187135, 0.22803114571746386, 0.22734815798207766, 0.22655007949125597, 0.22376543209876543, 0.22296918767507004, 0.2228287841191067, 0.22280334728033474, 0.22151898734177214, 0.22070452911574406, 0.21831735889243875, 0.21808822360109434, 0.21761212016871825, 0.21736126633206673, 0.21721311475409835, 0.216991297140489, 0.21686746987951808, 0.21645021645021645, 0.21606690708202256, 0.21487190861705668, 0.21479064709081022, 0.21333333333333335, 0.2125739184562714, 0.212253829321663, 0.2122357552848943, 0.210791729702471, 0.21012145748987854, 0.20997470184315142, 0.20992915083684158, 0.20938023450586266, 0.2093784078516903, 0.20926517571884984, 0.2086932031543372, 0.2085739671257219, 0.2083551460580044, 0.20827255678266304, 0.20735219379976283, 0.2062555853440572, 0.20609065155807366, 0.20607804351735298, 0.20598963332693415, 0.20586972083035074, 0.20578231292517007, 0.2056586553087922, 0.20549174443646806, 0.20396232543033452, 0.203347541324462, 0.20334728033472804, 0.20249559202495593, 0.20241827138378862, 0.20191387559808613, 0.20183991718703043, 0.20151258128357366, 0.2014388489208633, 0.20129319054354414, 0.201069445396586, 0.20076862856736175, 0.20073508623126943, 0.2007042253521127, 0.20057803468208094, 0.19923504867872044, 0.1990421186082547, 0.1984894825541477, 0.1984048945700863, 0.19824445180523353, 0.19815930007953642, 0.19811320754716982, 0.1980492409344765, 0.19802229288235088, 0.1979884736451276, 0.19790249433106577, 0.19751381215469613, 0.19716704656463693, 0.19711742263671048, 0.19709864603481625, 0.19708029197080293, 0.1964856230031949, 0.1964552637198377, 0.1963235294117647, 0.19610670511896178, 0.19601837672281777, 0.19587754604220026, 0.19577464788732393, 0.19555752640490204, 0.19538670284938942, 0.19481355733770414, 0.19470219684352447, 0.19469622416740043, 0.19463674703588765, 0.1941417857648224, 0.19409462548920836, 0.19393256618652932, 0.1936123784963301, 0.19354571268679918, 0.19354458016168052, 0.19353418179509965, 0.19349005424954793, 0.1928184948352189, 0.1927554980595084, 0.19255887899995325, 0.1918560606060606, 0.19164665607213616, 0.1916379386546451, 0.1915714185540986, 0.19155319639972307, 0.19151809832522962, 0.19130668097665682, 0.19117647058823528, 0.1910778950612528, 0.1906428439860011, 0.19047619047619047, 0.1900198281559815, 0.18983822042467138, 0.1897629780427512, 0.18974948608062436, 0.18940609951845908, 0.1892012494422133, 0.18918634064080944, 0.18894626123541786, 0.1887705711519845, 0.1886511507461237, 0.18842182890855458, 0.18835789006913511, 0.18827059016932435, 0.18773531383774306, 0.187468671679198, 0.18719211822660098, 0.18684759916492694, 0.18653552653891808, 0.18639455782312925, 0.18612757058208435, 0.18592770495807212, 0.1858974358974359, 0.18579234972677597, 0.18578268876611417, 0.18555451134561993, 0.185406797972243, 0.1852374236013164, 0.18503674886750826, 0.18501655629139072, 0.18498659517426275, 0.1846370683579986, 0.18461710703090015, 0.18434191035277336, 0.18416698485427008, 0.18397887323943662, 0.1838712926129211, 0.18359828266419123, 0.18333108846286236, 0.18327272727272728, 0.18316678685484702, 0.18283321702721564, 0.18207204691426976, 0.18176605504587157, 0.18167014613778706, 0.18166541370008402, 0.1812701746198421, 0.1812139129744638, 0.1809913597089586, 0.1808, 0.18058022498519835, 0.1805591509189749, 0.18051575931232092, 0.1802336717104003, 0.17996549808485132, 0.17917917917917917, 0.178971802661418, 0.17864372469635628, 0.17853170189099, 0.17803837953091683, 0.17802561676733863, 0.17775406142535277, 0.1771915800692779, 0.17715102677410968, 0.17710292932007524, 0.17663569492837786, 0.17644341801385682, 0.17633928571428573, 0.176239907727797, 0.17602427921092564, 0.1756914686404363, 0.17550058892815076, 0.17451100244498777, 0.1744380290375021, 0.1743295019157088, 0.17421543681085666, 0.1739290989660266, 0.17320261437908496, 0.17263127016720445, 0.17210830988963427, 0.1721014492753623, 0.17197304878401434, 0.17183277698299157, 0.17178007290400973, 0.17126161222655079, 0.17114093959731544, 0.17092651757188498, 0.1708594012877617, 0.17059058260175577, 0.1705305394560856, 0.1701258931609391, 0.17001385041551245, 0.16976351351351351, 0.16937300909020278, 0.16932907348242812, 0.16897506925207756, 0.16838995568685378, 0.16770413767850603, 0.1674641148325359, 0.167362672663026, 0.16731141199226304, 0.1664018273910021, 0.1664012738853503, 0.16638783269961976, 0.16620498614958448, 0.16574585635359115, 0.16537216828478965, 0.16517412935323383, 0.16464646464646465, 0.1642978965321205, 0.16417352281226627, 0.16407058012348388, 0.1630543514504835, 0.16297662976629768, 0.16277841691341494, 0.16277354315220063, 0.16243654822335024, 0.16183816183816183, 0.16131907308377896, 0.1610271903323263, 0.16044260027662519, 0.1600771456123433, 0.15999935942604573, 0.1594896331738437, 0.15910984755649232, 0.1588785046728972, 0.15872436196866108, 0.1582474552696466, 0.15789473684210525, 0.15771812080536912, 0.1568627450980392, 0.15547808646028582, 0.15489849955869373, 0.15453029460811563, 0.15361100496752006, 0.15352117051349756, 0.15342465753424658, 0.15233286076110678, 0.15217391304347827, 0.15124798288621932, 0.15118956254796623, 0.1510620204664673, 0.15070643642072212, 0.1500437445319335, 0.15, 0.14987244897959184, 0.14971037388098998, 0.14847161572052403, 0.14823529411764705, 0.14711033274956217, 0.14602587800369685, 0.14413075780089152, 0.14392059553349876, 0.1435116093430049, 0.1419068736141907, 0.14089452339845984, 0.14012738853503184, 0.13996316758747698, 0.13848631239935588, 0.13677236157122574, 0.13598901098901098, 0.13496175672341476, 0.13398058252427184, 0.13354174258261253, 0.13310580204778158, 0.13223684210526315, 0.13008273191339553, 0.13005780346820808, 0.12995484194681384, 0.1294685990338164, 0.1288782816229117, 0.12608695652173912, 0.12505245488879563, 0.1246954595791805, 0.12435233160621761, 0.12421383647798742, 0.12324492979719189, 0.12298899237933954, 0.12157330154946365, 0.11781283168026938, 0.11715976331360947, 0.11608623548922056, 0.11451398135818908, 0.11395101171458999, 0.11209439528023599, 0.1111111111111111, 0.10754716981132076, 0.10377358490566038, 0.10353866317169069, 0.10326788943425472, 0.10288461538461538, 0.10268562401263823, 0.1018202502844141, 0.09817813765182186, 0.09788654060066741, 0.0975609756097561, 0.0975609756097561, 0.09725158562367865, 0.09401709401709402, 0.0926517571884984, 0.09229789942711648, 0.0886426592797784, 0.08827085852478839, 0.08653846153846154, 0.08333333333333333, 0.08302446256486286, 0.0798165137614679, 0.07280219780219781, 0.06410466067048241, 0.0625, 0.06060606060606061, 0.057459677419354836, 0.05621301775147929, 0.04874446085672083, 0.01639344262295082]}, \"mode\": \"markers\", \"text\": [\"Pago Pago International Airport 0.26666666666666666\", \"Saipan International Airport 0.09725158562367865\", \"Antonio B. Won Pat International Airport 0.12157330154946365\", \"Cyril E. King Airport 0.1771915800692779\", \"Henry E Rohlsen Airport 0.17114093959731544\", \"Rafael Hernandez Airport 0.2859002169197397\", \"Mercedita Airport 0.3220338983050847\", \"Luis Munoz Marin International Airport 0.23025604710968656\", \"Hilo International Airport 0.06410466067048241\", \"Fort Smith Regional Airport 0.17644341801385682\", \"Grand Forks International Airport 0.13677236157122574\", \"Ernest A. Love Field 0.19538670284938942\", \"Trenton Mercer Airport 0.22734815798207766\", \"General Edward Lawrence Logan International Airport 0.23513822283034658\", \"Mobile Downtown Airport 0.22151898734177214\", \"Metropolitan Oakland International Airport 0.16277841691341494\", \"Eppley Airfield 0.1910778950612528\", \"Kahului Airport 0.11781283168026938\", \"Wichita Eisenhower National Airport 0.2086932031543372\", \"Kansas City International Airport 0.17802561676733863\", \"Dane County Regional Truax Field 0.20076862856736175\", \"Dillingham Airport 0.0975609756097561\", \"Phoenix Sky Harbor International Airport 0.1708594012877617\", \"Bangor International Airport 0.22655007949125597\", \"East Texas Regional Airport 0.11395101171458999\", \"Spokane International Airport 0.185406797972243\", \"San Francisco International Airport 0.25334276990746696\", \"Gainesville Regional Airport 0.17320261437908496\", \"Memphis International Airport 0.19409462548920836\", \"Los Angeles International Airport 0.18416698485427008\", \"Cleveland Hopkins International Airport 0.18835789006913511\", \"Cincinnati Northern Kentucky International Airport 0.19354571268679918\", \"Juneau International Airport 0.1246954595791805\", \"Lafayette Regional Airport 0.18894626123541786\", \"Newark Liberty International Airport 0.29244659281243574\", \"Boise Air Terminal/Gowen Field 0.16131907308377896\", \"Garden City Regional Airport 0.13598901098901098\", \"Minot International Airport 0.1500437445319335\", \"Dallas Love Field 0.17210830988963427\", \"Helena Regional Airport 0.08302446256486286\", \"Lake Charles Regional Airport 0.17864372469635628\", \"Ellison Onizuka Kona International At Keahole Airport 0.10326788943425472\", \"Myrtle Beach International Airport 0.17421543681085666\", \"Nantucket Memorial Airport 0.20334728033472804\", \"Ronald Reagan Washington National Airport 0.18555451134561993\", \"Atlantic City International Airport 0.167362672663026\", \"Pueblo Memorial Airport 0.17803837953091683\", \"Kodiak Airport 0.12324492979719189\", \"Fort Lauderdale Hollywood International Airport 0.21736126633206673\", \"Falls International Airport 0.1111111111111111\", \"Salt Lake City International Airport 0.1435116093430049\", \"Harrisburg International Airport 0.17183277698299157\", \"Lincoln Airport 0.19349005424954793\", \"Capital City Airport 0.2056586553087922\", \"George Bush Intercontinental Houston Airport 0.20183991718703043\", \"Meadows Field 0.21012145748987854\", \"El Paso International Airport 0.20578231292517007\", \"Valley International Airport 0.1705305394560856\", \"Columbia Metropolitan Airport 0.19130668097665682\", \"Pensacola Regional Airport 0.19470219684352447\", \"William P Hobby Airport 0.1664018273910021\", \"Pittsburgh International Airport 0.1812139129744638\", \"Wiley Post Will Rogers Memorial Airport 0.07280219780219781\", \"Miami International Airport 0.1744380290375021\", \"Seattle Tacoma International Airport 0.19164665607213616\", \"Lovell Field 0.18461710703090015\", \"Jackson-Medgar Wiley Evers International Airport 0.19587754604220026\", \"Long Beach /Daugherty Field/ Airport 0.1582474552696466\", \"Indianapolis International Airport 0.18592770495807212\", \"Westchester County Airport 0.21761212016871825\", \"Yuma MCAS/Yuma International Airport 0.15\", \"Duluth International Airport 0.18058022498519835\", \"Bethel Airport 0.08827085852478839\", \"Lihue Airport 0.1018202502844141\", \"Richmond International Airport 0.19555752640490204\", \"Shreveport Regional Airport 0.1846370683579986\", \"Merle K (Mudhole) Smith Airport 0.16897506925207756\", \"Norfolk International Airport 0.20129319054354414\", \"Southeast Texas Regional Airport 0.16183816183816183\", \"Savannah Hilton Head International Airport 0.19790249433106577\", \"Nome Airport 0.0886426592797784\", \"St Petersburg Clearwater International Airport 0.1805591509189749\", \"Deadhorse Airport 0.09817813765182186\", \"San Antonio International Airport 0.18578268876611417\", \"Greater Rochester International Airport 0.201069445396586\", \"Raleigh Durham International Airport 0.19255887899995325\", \"James M Cox Dayton International Airport 0.20997470184315142\", \"Niagara Falls International Airport 0.11715976331360947\", \"Newport News Williamsburg International Airport 0.1664012738853503\", \"Tucson International Airport 0.19469622416740043\", \"Theodore Francis Green State Airport 0.1900198281559815\", \"Bob Hope Airport 0.16407058012348388\", \"Detroit Metropolitan Wayne County Airport 0.15124798288621932\", \"Tampa International Airport 0.18503674886750826\", \"Range Regional Airport 0.0926517571884984\", \"Midland International Airport 0.203347541324462\", \"Austin Straubel International Airport 0.19709864603481625\", \"Augusta Regional At Bush Field 0.15771812080536912\", \"Sloulin Field International Airport 0.10268562401263823\", \"Bill & Hillary Clinton National Airport/Adams Field 0.1915714185540986\", \"Stewart International Airport 0.2338847689674843\", \"Dallas Fort Worth International Airport 0.1979884736451276\", \"Melbourne International Airport 0.15361100496752006\", \"Austin Bergstrom International Airport 0.18333108846286236\", \"Rickenbacker International Airport 0.1887705711519845\", \"Sawyer International Airport 0.20609065155807366\", \"McGhee Tyson Airport 0.21487190861705668\", \"St Louis Lambert International Airport 0.17996549808485132\", \"Sheppard Air Force Base-Wichita Falls Municipal Airport 0.1288782816229117\", \"Hartsfield Jackson Atlanta International Airport 0.14089452339845984\", \"Gerald R. Ford International Airport 0.20827255678266304\", \"Fresno Yosemite International Airport 0.16537216828478965\", \"Nashville International Airport 0.17663569492837786\", \"Laredo International Airport 0.16417352281226627\", \"Ralph Wien Memorial Airport 0.08333333333333333\", \"La Guardia Airport 0.2612996242681968\", \"Tallahassee Regional Airport 0.16638783269961976\", \"Waco Regional Airport 0.15453029460811563\", \"San Angelo Regional Mathis Field 0.1594896331738437\", \"Burlington International Airport 0.2125739184562714\", \"Jacksonville International Airport 0.1916379386546451\", \"Durango La Plata County Airport 0.23318938926588526\", \"Washington Dulles International Airport 0.17197304878401434\", \"Easterwood Field 0.15489849955869373\", \"General Mitchell International Airport 0.1886511507461237\", \"Abilene Regional Airport 0.18397887323943662\", \"Columbia Regional Airport 0.24852320675105485\", \"Portland International Airport 0.15999935942604573\", \"Palm Beach International Airport 0.21606690708202256\", \"Ogdensburg International Airport 0.19811320754716982\", \"Daniel K Inouye International Airport 0.13354174258261253\", \"Des Moines International Airport 0.19354458016168052\", \"Coastal Carolina Regional Airport 0.19711742263671048\", \"San Diego International Airport 0.178971802661418\", \"Monroe Regional Airport 0.1701258931609391\", \"Ontario International Airport 0.18166541370008402\", \"Roswell International Air Center Airport 0.13005780346820808\", \"Brownsville South Padre Island International Airport 0.1739290989660266\", \"Dothan Regional Airport 0.18327272727272728\", \"Corpus Christi International Airport 0.18653552653891808\", \"Syracuse Hancock International Airport 0.20151258128357366\", \"Chicago Midway International Airport 0.15547808646028582\", \"Norman Y. Mineta San Jose International Airport 0.15233286076110678\", \"Lea County Regional Airport 0.23128342245989306\", \"Denver International Airport 0.19353418179509965\", \"Philadelphia International Airport 0.1838712926129211\", \"Sioux Gateway Col. Bud Day Field 0.24014869888475837\", \"John Glenn Columbus International Airport 0.18167014613778706\", \"Texarkana Regional Webb Field 0.13848631239935588\", \"Plattsburgh International Airport 0.1963235294117647\", \"Ted Stevens Anchorage International Airport 0.14971037388098998\", \"Robert Gray  Army Air Field Airport 0.17550058892815076\", \"Bellingham International Airport 0.12608695652173912\", \"Mobile Regional Airport 0.1906428439860011\", \"Santa Fe Municipal Airport 0.17853170189099\", \"Scott AFB/Midamerica Airport 0.18719211822660098\", \"Del Rio International Airport 0.16044260027662519\", \"Southwest Florida International Airport 0.18359828266419123\", \"King Salmon Airport 0.01639344262295082\", \"John F Kennedy International Airport 0.1980492409344765\", \"Cheyenne Regional Jerry Olson Field 0.13398058252427184\", \"Stockton Metropolitan Airport 0.16731141199226304\", \"Charleston Air Force Base-International Airport 0.1812701746198421\", \"Reno Tahoe International Airport 0.17126161222655079\", \"Ketchikan International Airport 0.12505245488879563\", \"Birmingham-Shuttlesworth International Airport 0.20992915083684158\", \"Sacramento International Airport 0.16937300909020278\", \"City of Colorado Springs Municipal Airport 0.22982351774737259\", \"Buffalo Niagara International Airport 0.19393256618652932\", \"Snohomish County (Paine Field) Airport 0.16297662976629768\", \"Cedar City Regional Airport 0.10353866317169069\", \"Bradley International Airport 0.18974948608062436\", \"Mc Allen Miller International Airport 0.2062555853440572\", \"Lubbock Preston Smith International Airport 0.1990421186082547\", \"Chicago O'Hare International Airport 0.21808822360109434\", \"Fairbanks International Airport 0.12298899237933954\", \"Watertown International Airport 0.21721311475409835\", \"Palm Springs International Airport 0.19716704656463693\", \"Rick Husband Amarillo International Airport 0.20598963332693415\", \"Wilmington International Airport 0.1897629780427512\", \"Baton Rouge Metropolitan Airport 0.17715102677410968\", \"Tyler Pounds Regional Airport 0.14987244897959184\", \"Baltimore/Washington International Thurgood Marshall Airport 0.1510620204664673\", \"Alexandria International Airport 0.17451100244498777\", \"Tulsa International Airport 0.19481355733770414\", \"Sitka Rocky Gutierrez Airport 0.14413075780089152\", \"Long Island Mac Arthur Airport 0.20607804351735298\", \"Minneapolis-St Paul International/Wold-Chamberlain Airport 0.15352117051349756\", \"Louis Armstrong New Orleans International Airport 0.18773531383774306\", \"Portland International Jetport Airport 0.20549174443646806\", \"Will Rogers World Airport 0.216991297140489\", \"Albany International Airport 0.19463674703588765\", \"John Wayne Airport-Orange County Airport 0.15910984755649232\", \"Casper-Natrona County International Airport 0.09401709401709402\", \"Destin-Ft Walton Beach Airport 0.19815930007953642\", \"Key West International Airport 0.13008273191339553\", \"Charlotte Douglas International Airport 0.15872436196866108\", \"McCarran International Airport 0.18434191035277336\", \"Orlando International Airport 0.19802229288235088\", \"Great Falls International Airport 0.09788654060066741\", \"Lewiston Nez Perce County Airport 0.057459677419354836\", \"Elmira Corning Regional Airport 0.11608623548922056\", \"Ithaca Tompkins Regional Airport 0.17917917917917917\", \"Monterey Peninsula Airport 0.18283321702721564\", \"Santa Barbara Municipal Airport 0.20249559202495593\", \"Daytona Beach International Airport 0.1610271903323263\", \"Tweed New Haven Airport 0.14602587800369685\", \"Asheville Regional Airport 0.2083551460580044\", \"Piedmont Triad International Airport 0.20191387559808613\", \"Joe Foss Field Airport 0.2122357552848943\", \"Manchester-Boston Regional Airport 0.18842182890855458\", \"Louisville International Standiford Field 0.18827059016932435\", \"Charlottesville Albemarle Airport 0.20735219379976283\", \"Roanoke\\u2013Blacksburg Regional Airport 0.17001385041551245\", \"Blue Grass Airport 0.1984048945700863\", \"Evansville Regional Airport 0.17633928571428573\", \"Albuquerque International Sunport 0.18983822042467138\", \"Gallatin Field 0.17263127016720445\", \"Billings Logan International Airport 0.16277354315220063\", \"Bert Mooney Airport 0.04874446085672083\", \"Cherry Capital Airport 0.19155319639972307\", \"Jackson Hole Airport 0.2093784078516903\", \"Chicago Rockford International Airport 0.1588785046728972\", \"Greenville Spartanburg International Airport 0.1984894825541477\", \"Central Illinois Regional Airport at Bloomington-Normal 0.20396232543033452\", \"Gulfport Biloxi International Airport 0.19601837672281777\", \"Kalamazoo Battle Creek International Airport 0.1892012494422133\", \"Toledo Express Airport 0.18051575931232092\", \"Fort Wayne International Airport 0.20073508623126943\", \"The Eastern Iowa Airport 0.18918634064080944\", \"La Crosse Municipal Airport 0.1809913597089586\", \"Central Wisconsin Airport 0.15118956254796623\", \"General Wayne A. Downing Peoria International Airport 0.1964552637198377\", \"Appleton International Airport 0.176239907727797\", \"Rochester International Airport 0.20057803468208094\", \"University of Illinois Willard Airport 0.239407509472959\", \"Manhattan Regional Airport 0.210791729702471\", \"Grand Junction Regional Airport 0.13496175672341476\", \"St George Municipal Airport 0.1568627450980392\", \"Sarasota Bradenton International Airport 0.17775406142535277\", \"Quad City International Airport 0.18501655629139072\", \"Bismarck Municipal Airport 0.1852374236013164\", \"Rapid City Regional Airport 0.1936123784963301\", \"Bishop International Airport 0.18176605504587157\", \"Redding Municipal Airport 0.22070452911574406\", \"Mahlon Sweet Field 0.1802336717104003\", \"Idaho Falls Regional Airport 0.10754716981132076\", \"Rogue Valley International Medford Airport 0.1928184948352189\", \"Roberts Field 0.187468671679198\", \"Akron Canton Regional Airport 0.25027703023587144\", \"Huntsville International Carl T Jones Field 0.18316678685484702\", \"Montgomery Regional (Dannelly Field) Airport 0.17710292932007524\", \"Tri-Cities Regional TN/VA Airport 0.16243654822335024\", \"Barkley Regional Airport 0.22376543209876543\", \"Glacier Park International Airport 0.13223684210526315\", \"MBS International Airport 0.1756914686404363\", \"Greater Binghamton/Edwin A Link field 0.18684759916492694\", \"Petersburg James A Johnson Airport 0.16574585635359115\", \"Orlando Sanford International Airport 0.23585168664622247\", \"Missoula International Airport 0.1642978965321205\", \"Eagle County Regional Airport 0.25309961522017954\", \"Columbus Metropolitan Airport 0.15070643642072212\", \"Lawton Fort Sill Regional Airport 0.15217391304347827\", \"Flagstaff Pulliam Airport 0.12995484194681384\", \"Joslin Field Magic Valley Regional Airport 0.10288461538461538\", \"Martha's Vineyard Airport 0.1721014492753623\", \"St Cloud Regional Airport 0.19117647058823528\", \"Golden Triangle Regional Airport 0.16976351351351351\", \"Erie International Tom Ridge Field 0.20938023450586266\", \"Barnstable Municipal Boardman Polando Field 0.21686746987951808\", \"Yeager Airport 0.2085739671257219\", \"Wilkes Barre Scranton International Airport 0.18207204691426976\", \"Bemidji Regional Airport 0.10377358490566038\", \"Hector International Airport 0.19824445180523353\", \"Gillette Campbell County Airport 0.1927554980595084\", \"University Park Airport 0.21333333333333335\", \"Key Field 0.26331967213114754\", \"Abraham Lincoln Capital Airport 0.22803114571746386\", \"Yampa Valley Airport 0.23247232472324722\", \"Liberal Mid-America Regional Airport 0.1808\", \"Yellowstone Regional Airport 0.1419068736141907\", \"Springfield Branson National Airport 0.19923504867872044\", \"Joplin Regional Airport 0.19610670511896178\", \"Lehigh Valley International Airport 0.17059058260175577\", \"Northwest Arkansas Regional Airport 0.1941417857648224\", \"South Bend Regional Airport 0.20586972083035074\", \"California Redwood Coast-Humboldt County Airport 0.2228287841191067\", \"Albert J Ellis Airport 0.18612757058208435\", \"Dubuque Regional Airport 0.2459485224022879\", \"Aberdeen Regional Airport 0.11451398135818908\", \"Southwest Georgia Regional Airport 0.16517412935323383\", \"Waterloo Regional Airport 0.24142857142857144\", \"Alpena County Regional Airport 0.14012738853503184\", \"Watertown Regional Airport 0.1743295019157088\", \"Western Neb. Rgnl/William B. Heilig Airport 0.17092651757188498\", \"Brunswick Golden Isles Airport 0.1600771456123433\", \"Cape Girardeau Regional Airport 0.22280334728033474\", \"Chippewa County International Airport 0.16838995568685378\", \"North Central West Virginia Airport 0.22923976608187135\", \"Houghton County Memorial Airport 0.2541208791208791\", \"Chippewa Valley Regional Airport 0.25274725274725274\", \"Elko Regional Airport 0.05621301775147929\", \"Fayetteville Regional Grannis Field 0.19151809832522962\", \"Central Nebraska Regional Airport 0.14711033274956217\", \"Tri-State/Milton J. Ferguson Field 0.19577464788732393\", \"Jamestown Regional Airport 0.16464646464646465\", \"Laramie Regional Airport 0.20926517571884984\", \"Arnold Palmer Regional Airport 0.18498659517426275\", \"North Platte Regional Airport Lee Bird Field 0.1964856230031949\", \"Lynchburg Regional Preston Glenn Field 0.14847161572052403\", \"Muskegon County Airport 0.28060522696011003\", \"Southwest Oregon Regional Airport 0.2689295039164491\", \"Owensboro Daviess County Airport 0.23529411764705882\", \"Hattiesburg Laurel Regional Airport 0.2764456981664316\", \"Pocatello Regional Airport 0.0798165137614679\", \"Pierre Regional Airport 0.17602427921092564\", \"Pellston Regional Airport of Emmet County Airport 0.13996316758747698\", \"Portsmouth International at Pease Airport 0.14823529411764705\", \"Rhinelander Oneida County Airport 0.14392059553349876\", \"Southwest Wyoming Regional Airport 0.18639455782312925\", \"San Luis County Regional Airport 0.1918560606060606\", \"Salina Municipal Airport 0.21831735889243875\", \"Santa Maria Pub/Capt G Allan Hancock Field 0.12435233160621761\", \"Quincy Regional Baldwin Field 0.25\", \"Valdosta Regional Airport 0.1294685990338164\", \"Adak Airport 0.08653846153846154\", \"Gustavus Airport 0.0975609756097561\", \"Wrangell Airport 0.19751381215469613\", \"Tri Cities Airport 0.1630543514504835\", \"Worcester Regional Airport 0.24274193548387096\", \"Concord-Padgett Regional Airport 0.212253829321663\", \"Friedman Memorial Airport 0.09229789942711648\", \"Phoenix-Mesa-Gateway Airport 0.266736584513197\", \"Hagerstown Regional Richard A Henson Field 0.18579234972677597\", \"Delta County Airport 0.16932907348242812\", \"Yakutat Airport 0.16620498614958448\", \"Ford Airport 0.11209439528023599\", \"Montrose Regional Airport 0.21479064709081022\", \"Brainerd Lakes Regional Airport 0.12421383647798742\", \"Greenbrier Valley Airport 0.27669172932330827\", \"Pitt Greenville Airport 0.0625\", \"Branson Airport 0.21645021645021645\", \"Charles M. Schulz Sonoma County Airport 0.16770413767850603\", \"Aspen-Pitkin Co/Sardy Field 0.23830498177399756\", \"Hays Regional Airport 0.2014388489208633\", \"Gunnison Crested Butte Regional Airport 0.25416666666666665\", \"Charlotte County Airport 0.22296918767507004\", \"Shenandoah Valley Regional Airport 0.23022598870056496\", \"Devils Lake Regional Airport 0.1858974358974359\", \"Yellowstone Airport 0.06060606060606061\", \"Canyonlands Field 0.18940609951845908\", \"Vernal Regional Airport 0.1674641148325359\", \"Mammoth Yosemite Airport 0.2007042253521127\", \"Provo Municipal Airport 0.15342465753424658\", \"Northwest Florida Beaches International Airport 0.17178007290400973\", \"Hilton Head Airport 0.20241827138378862\", \"Ogden Hinckley Airport 0.19047619047619047\", \"Stillwater Regional Airport 0.13310580204778158\", \"Williston Basin International Airport 0.15789473684210525\", \"Kearney Regional Airport 0.19708029197080293\"], \"type\": \"scattergeo\"}],\n",
       "                        {\"geo\": {\"scope\": \"usa\"}, \"template\": {\"data\": {\"bar\": [{\"error_x\": {\"color\": \"#2a3f5f\"}, \"error_y\": {\"color\": \"#2a3f5f\"}, \"marker\": {\"line\": {\"color\": \"#E5ECF6\", \"width\": 0.5}}, \"type\": \"bar\"}], \"barpolar\": [{\"marker\": {\"line\": {\"color\": \"#E5ECF6\", \"width\": 0.5}}, \"type\": \"barpolar\"}], \"carpet\": [{\"aaxis\": {\"endlinecolor\": \"#2a3f5f\", \"gridcolor\": \"white\", \"linecolor\": \"white\", \"minorgridcolor\": \"white\", \"startlinecolor\": \"#2a3f5f\"}, \"baxis\": {\"endlinecolor\": \"#2a3f5f\", \"gridcolor\": \"white\", \"linecolor\": \"white\", \"minorgridcolor\": \"white\", \"startlinecolor\": \"#2a3f5f\"}, \"type\": \"carpet\"}], \"choropleth\": [{\"colorbar\": {\"outlinewidth\": 0, \"ticks\": \"\"}, \"type\": \"choropleth\"}], \"contour\": [{\"colorbar\": {\"outlinewidth\": 0, \"ticks\": \"\"}, \"colorscale\": [[0.0, \"#0d0887\"], [0.1111111111111111, \"#46039f\"], [0.2222222222222222, \"#7201a8\"], [0.3333333333333333, \"#9c179e\"], [0.4444444444444444, \"#bd3786\"], [0.5555555555555556, \"#d8576b\"], [0.6666666666666666, \"#ed7953\"], [0.7777777777777778, \"#fb9f3a\"], [0.8888888888888888, \"#fdca26\"], [1.0, \"#f0f921\"]], \"type\": \"contour\"}], \"contourcarpet\": [{\"colorbar\": {\"outlinewidth\": 0, \"ticks\": \"\"}, \"type\": \"contourcarpet\"}], \"heatmap\": [{\"colorbar\": {\"outlinewidth\": 0, \"ticks\": \"\"}, \"colorscale\": [[0.0, \"#0d0887\"], [0.1111111111111111, \"#46039f\"], [0.2222222222222222, \"#7201a8\"], [0.3333333333333333, \"#9c179e\"], [0.4444444444444444, \"#bd3786\"], [0.5555555555555556, \"#d8576b\"], [0.6666666666666666, \"#ed7953\"], [0.7777777777777778, \"#fb9f3a\"], [0.8888888888888888, \"#fdca26\"], [1.0, \"#f0f921\"]], \"type\": \"heatmap\"}], \"heatmapgl\": [{\"colorbar\": {\"outlinewidth\": 0, \"ticks\": \"\"}, \"colorscale\": [[0.0, \"#0d0887\"], [0.1111111111111111, \"#46039f\"], [0.2222222222222222, \"#7201a8\"], [0.3333333333333333, \"#9c179e\"], [0.4444444444444444, \"#bd3786\"], [0.5555555555555556, \"#d8576b\"], [0.6666666666666666, \"#ed7953\"], [0.7777777777777778, \"#fb9f3a\"], [0.8888888888888888, \"#fdca26\"], [1.0, \"#f0f921\"]], \"type\": \"heatmapgl\"}], \"histogram\": [{\"marker\": {\"colorbar\": {\"outlinewidth\": 0, \"ticks\": \"\"}}, \"type\": \"histogram\"}], \"histogram2d\": [{\"colorbar\": {\"outlinewidth\": 0, \"ticks\": \"\"}, \"colorscale\": [[0.0, \"#0d0887\"], [0.1111111111111111, \"#46039f\"], [0.2222222222222222, \"#7201a8\"], [0.3333333333333333, \"#9c179e\"], [0.4444444444444444, \"#bd3786\"], [0.5555555555555556, \"#d8576b\"], [0.6666666666666666, \"#ed7953\"], [0.7777777777777778, \"#fb9f3a\"], [0.8888888888888888, \"#fdca26\"], [1.0, \"#f0f921\"]], \"type\": \"histogram2d\"}], \"histogram2dcontour\": [{\"colorbar\": {\"outlinewidth\": 0, \"ticks\": \"\"}, \"colorscale\": [[0.0, \"#0d0887\"], [0.1111111111111111, \"#46039f\"], [0.2222222222222222, \"#7201a8\"], [0.3333333333333333, \"#9c179e\"], [0.4444444444444444, \"#bd3786\"], [0.5555555555555556, \"#d8576b\"], [0.6666666666666666, \"#ed7953\"], [0.7777777777777778, \"#fb9f3a\"], [0.8888888888888888, \"#fdca26\"], [1.0, \"#f0f921\"]], \"type\": \"histogram2dcontour\"}], \"mesh3d\": [{\"colorbar\": {\"outlinewidth\": 0, \"ticks\": \"\"}, \"type\": \"mesh3d\"}], \"parcoords\": [{\"line\": {\"colorbar\": {\"outlinewidth\": 0, \"ticks\": \"\"}}, \"type\": \"parcoords\"}], \"pie\": [{\"automargin\": true, \"type\": \"pie\"}], \"scatter\": [{\"marker\": {\"colorbar\": {\"outlinewidth\": 0, \"ticks\": \"\"}}, \"type\": \"scatter\"}], \"scatter3d\": [{\"line\": {\"colorbar\": {\"outlinewidth\": 0, \"ticks\": \"\"}}, \"marker\": {\"colorbar\": {\"outlinewidth\": 0, \"ticks\": \"\"}}, \"type\": \"scatter3d\"}], \"scattercarpet\": [{\"marker\": {\"colorbar\": {\"outlinewidth\": 0, \"ticks\": \"\"}}, \"type\": \"scattercarpet\"}], \"scattergeo\": [{\"marker\": {\"colorbar\": {\"outlinewidth\": 0, \"ticks\": \"\"}}, \"type\": \"scattergeo\"}], \"scattergl\": [{\"marker\": {\"colorbar\": {\"outlinewidth\": 0, \"ticks\": \"\"}}, \"type\": \"scattergl\"}], \"scattermapbox\": [{\"marker\": {\"colorbar\": {\"outlinewidth\": 0, \"ticks\": \"\"}}, \"type\": \"scattermapbox\"}], \"scatterpolar\": [{\"marker\": {\"colorbar\": {\"outlinewidth\": 0, \"ticks\": \"\"}}, \"type\": \"scatterpolar\"}], \"scatterpolargl\": [{\"marker\": {\"colorbar\": {\"outlinewidth\": 0, \"ticks\": \"\"}}, \"type\": \"scatterpolargl\"}], \"scatterternary\": [{\"marker\": {\"colorbar\": {\"outlinewidth\": 0, \"ticks\": \"\"}}, \"type\": \"scatterternary\"}], \"surface\": [{\"colorbar\": {\"outlinewidth\": 0, \"ticks\": \"\"}, \"colorscale\": [[0.0, \"#0d0887\"], [0.1111111111111111, \"#46039f\"], [0.2222222222222222, \"#7201a8\"], [0.3333333333333333, \"#9c179e\"], [0.4444444444444444, \"#bd3786\"], [0.5555555555555556, \"#d8576b\"], [0.6666666666666666, \"#ed7953\"], [0.7777777777777778, \"#fb9f3a\"], [0.8888888888888888, \"#fdca26\"], [1.0, \"#f0f921\"]], \"type\": \"surface\"}], \"table\": [{\"cells\": {\"fill\": {\"color\": \"#EBF0F8\"}, \"line\": {\"color\": \"white\"}}, \"header\": {\"fill\": {\"color\": \"#C8D4E3\"}, \"line\": {\"color\": \"white\"}}, \"type\": \"table\"}]}, \"layout\": {\"annotationdefaults\": {\"arrowcolor\": \"#2a3f5f\", \"arrowhead\": 0, \"arrowwidth\": 1}, \"coloraxis\": {\"colorbar\": {\"outlinewidth\": 0, \"ticks\": \"\"}}, \"colorscale\": {\"diverging\": [[0, \"#8e0152\"], [0.1, \"#c51b7d\"], [0.2, \"#de77ae\"], [0.3, \"#f1b6da\"], [0.4, \"#fde0ef\"], [0.5, \"#f7f7f7\"], [0.6, \"#e6f5d0\"], [0.7, \"#b8e186\"], [0.8, \"#7fbc41\"], [0.9, \"#4d9221\"], [1, \"#276419\"]], \"sequential\": [[0.0, \"#0d0887\"], [0.1111111111111111, \"#46039f\"], [0.2222222222222222, \"#7201a8\"], [0.3333333333333333, \"#9c179e\"], [0.4444444444444444, \"#bd3786\"], [0.5555555555555556, \"#d8576b\"], [0.6666666666666666, \"#ed7953\"], [0.7777777777777778, \"#fb9f3a\"], [0.8888888888888888, \"#fdca26\"], [1.0, \"#f0f921\"]], \"sequentialminus\": [[0.0, \"#0d0887\"], [0.1111111111111111, \"#46039f\"], [0.2222222222222222, \"#7201a8\"], [0.3333333333333333, \"#9c179e\"], [0.4444444444444444, \"#bd3786\"], [0.5555555555555556, \"#d8576b\"], [0.6666666666666666, \"#ed7953\"], [0.7777777777777778, \"#fb9f3a\"], [0.8888888888888888, \"#fdca26\"], [1.0, \"#f0f921\"]]}, \"colorway\": [\"#636efa\", \"#EF553B\", \"#00cc96\", \"#ab63fa\", \"#FFA15A\", \"#19d3f3\", \"#FF6692\", \"#B6E880\", \"#FF97FF\", \"#FECB52\"], \"font\": {\"color\": \"#2a3f5f\"}, \"geo\": {\"bgcolor\": \"white\", \"lakecolor\": \"white\", \"landcolor\": \"#E5ECF6\", \"showlakes\": true, \"showland\": true, \"subunitcolor\": \"white\"}, \"hoverlabel\": {\"align\": \"left\"}, \"hovermode\": \"closest\", \"mapbox\": {\"style\": \"light\"}, \"paper_bgcolor\": \"white\", \"plot_bgcolor\": \"#E5ECF6\", \"polar\": {\"angularaxis\": {\"gridcolor\": \"white\", \"linecolor\": \"white\", \"ticks\": \"\"}, \"bgcolor\": \"#E5ECF6\", \"radialaxis\": {\"gridcolor\": \"white\", \"linecolor\": \"white\", \"ticks\": \"\"}}, \"scene\": {\"xaxis\": {\"backgroundcolor\": \"#E5ECF6\", \"gridcolor\": \"white\", \"gridwidth\": 2, \"linecolor\": \"white\", \"showbackground\": true, \"ticks\": \"\", \"zerolinecolor\": \"white\"}, \"yaxis\": {\"backgroundcolor\": \"#E5ECF6\", \"gridcolor\": \"white\", \"gridwidth\": 2, \"linecolor\": \"white\", \"showbackground\": true, \"ticks\": \"\", \"zerolinecolor\": \"white\"}, \"zaxis\": {\"backgroundcolor\": \"#E5ECF6\", \"gridcolor\": \"white\", \"gridwidth\": 2, \"linecolor\": \"white\", \"showbackground\": true, \"ticks\": \"\", \"zerolinecolor\": \"white\"}}, \"shapedefaults\": {\"line\": {\"color\": \"#2a3f5f\"}}, \"ternary\": {\"aaxis\": {\"gridcolor\": \"white\", \"linecolor\": \"white\", \"ticks\": \"\"}, \"baxis\": {\"gridcolor\": \"white\", \"linecolor\": \"white\", \"ticks\": \"\"}, \"bgcolor\": \"#E5ECF6\", \"caxis\": {\"gridcolor\": \"white\", \"linecolor\": \"white\", \"ticks\": \"\"}}, \"title\": {\"x\": 0.05}, \"xaxis\": {\"automargin\": true, \"gridcolor\": \"white\", \"linecolor\": \"white\", \"ticks\": \"\", \"title\": {\"standoff\": 15}, \"zerolinecolor\": \"white\", \"zerolinewidth\": 2}, \"yaxis\": {\"automargin\": true, \"gridcolor\": \"white\", \"linecolor\": \"white\", \"ticks\": \"\", \"title\": {\"standoff\": 15}, \"zerolinecolor\": \"white\", \"zerolinewidth\": 2}}}, \"title\": {\"text\": \"US Airports\"}},\n",
       "                        {\"responsive\": true}\n",
       "                    ).then(function(){\n",
       "                            \n",
       "var gd = document.getElementById('07e5860f-a475-4674-b0c4-7ad99e686b3c');\n",
       "var x = new MutationObserver(function (mutations, observer) {{\n",
       "        var display = window.getComputedStyle(gd).display;\n",
       "        if (!display || display === 'none') {{\n",
       "            console.log([gd, 'removed!']);\n",
       "            Plotly.purge(gd);\n",
       "            observer.disconnect();\n",
       "        }}\n",
       "}});\n",
       "\n",
       "// Listen for the removal of the full notebook cells\n",
       "var notebookContainer = gd.closest('#notebook-container');\n",
       "if (notebookContainer) {{\n",
       "    x.observe(notebookContainer, {childList: true});\n",
       "}}\n",
       "\n",
       "// Listen for the clearing of the current output cell\n",
       "var outputEl = gd.closest('.output');\n",
       "if (outputEl) {{\n",
       "    x.observe(outputEl, {childList: true});\n",
       "}}\n",
       "\n",
       "                        })\n",
       "                };\n",
       "                });\n",
       "            </script>\n",
       "        </div>"
      ]
     },
     "metadata": {},
     "output_type": "display_data"
    }
   ],
   "source": [
    "# making an interactive plot of USA and its airports\n",
    "# learning plotly express\n",
    "\n",
    "\n",
    "fig = go.Figure(data=go.Scattergeo(\n",
    "        lon = delay_map['LONGITUDE'],\n",
    "        lat = delay_map['LATITUDE'],\n",
    "        text = delay_map['NAME'] + ' ' + delay_map['delay_off'].astype('str'),\n",
    "        mode = 'markers',\n",
    "        marker_color = delays_by_airport['delay_off'],\n",
    "        ))\n",
    "\n",
    "fig.update_layout(\n",
    "        title = 'US Airports',\n",
    "        geo_scope='usa',\n",
    "    )\n",
    "fig.show()"
   ]
  },
  {
   "cell_type": "code",
   "execution_count": 138,
   "metadata": {},
   "outputs": [],
   "source": [
    "# COOL! I knew how to make them static but I might need to spend a lot of time learning how to customize this"
   ]
  },
  {
   "cell_type": "code",
   "execution_count": null,
   "metadata": {},
   "outputs": [],
   "source": []
  }
 ],
 "metadata": {
  "kernelspec": {
   "display_name": "Python 3",
   "language": "python",
   "name": "python3"
  },
  "language_info": {
   "codemirror_mode": {
    "name": "ipython",
    "version": 3
   },
   "file_extension": ".py",
   "mimetype": "text/x-python",
   "name": "python",
   "nbconvert_exporter": "python",
   "pygments_lexer": "ipython3",
   "version": "3.7.4"
  }
 },
 "nbformat": 4,
 "nbformat_minor": 2
}
