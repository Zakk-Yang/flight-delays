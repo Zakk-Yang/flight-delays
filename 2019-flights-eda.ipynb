{
 "cells": [
  {
   "cell_type": "markdown",
   "metadata": {},
   "source": [
    "# EDA\n",
    "- We will look at US domestic flights from 2019.\n",
    "- Do some exploratory analysis.\n",
    "- Maybe finish with ML algorithm to predict delays.\n",
    "\n",
    "## Datasets\n",
    "- [Airline database](https://openflights.org/data.html)"
   ]
  },
  {
   "cell_type": "code",
   "execution_count": 40,
   "metadata": {},
   "outputs": [],
   "source": [
    "# import libraries\n",
    "import pandas as pd\n",
    "import numpy as np\n",
    "import matplotlib.pyplot as plt\n",
    "\n",
    "data_path = 'C:/Users/Zaca/Documents/Datasets/flights/'"
   ]
  },
  {
   "cell_type": "code",
   "execution_count": 41,
   "metadata": {},
   "outputs": [
    {
     "name": "stderr",
     "output_type": "stream",
     "text": [
      "C:\\Users\\Zaca\\Anaconda3\\lib\\site-packages\\numpy\\lib\\arraysetops.py:569: FutureWarning: elementwise comparison failed; returning scalar instead, but in the future will perform elementwise comparison\n",
      "  mask |= (ar1 == a)\n"
     ]
    }
   ],
   "source": [
    "# open file (1.3GB so it will be slow)\n",
    "flights = pd.read_csv(data_path + '2019.csv', index_col=0)"
   ]
  },
  {
   "cell_type": "code",
   "execution_count": 42,
   "metadata": {},
   "outputs": [
    {
     "data": {
      "text/html": [
       "<div>\n",
       "<style scoped>\n",
       "    .dataframe tbody tr th:only-of-type {\n",
       "        vertical-align: middle;\n",
       "    }\n",
       "\n",
       "    .dataframe tbody tr th {\n",
       "        vertical-align: top;\n",
       "    }\n",
       "\n",
       "    .dataframe thead th {\n",
       "        text-align: right;\n",
       "    }\n",
       "</style>\n",
       "<table border=\"1\" class=\"dataframe\">\n",
       "  <thead>\n",
       "    <tr style=\"text-align: right;\">\n",
       "      <th></th>\n",
       "      <th>FlightDate</th>\n",
       "      <th>Reporting_Airline</th>\n",
       "      <th>Flight_Number_Reporting_Airline</th>\n",
       "      <th>OriginAirportID</th>\n",
       "      <th>Origin</th>\n",
       "      <th>OriginCityName</th>\n",
       "      <th>OriginState</th>\n",
       "      <th>DestAirportID</th>\n",
       "      <th>Dest</th>\n",
       "      <th>DestCityName</th>\n",
       "      <th>...</th>\n",
       "      <th>Diverted</th>\n",
       "      <th>CRSElapsedTime</th>\n",
       "      <th>ActualElapsedTime</th>\n",
       "      <th>AirTime</th>\n",
       "      <th>Distance</th>\n",
       "      <th>CarrierDelay</th>\n",
       "      <th>WeatherDelay</th>\n",
       "      <th>NASDelay</th>\n",
       "      <th>SecurityDelay</th>\n",
       "      <th>LateAircraftDelay</th>\n",
       "    </tr>\n",
       "  </thead>\n",
       "  <tbody>\n",
       "    <tr>\n",
       "      <td>0</td>\n",
       "      <td>2019-01-04</td>\n",
       "      <td>OO</td>\n",
       "      <td>5657</td>\n",
       "      <td>14698</td>\n",
       "      <td>SBP</td>\n",
       "      <td>San Luis Obispo, CA</td>\n",
       "      <td>CA</td>\n",
       "      <td>14771</td>\n",
       "      <td>SFO</td>\n",
       "      <td>San Francisco, CA</td>\n",
       "      <td>...</td>\n",
       "      <td>0.0</td>\n",
       "      <td>70.0</td>\n",
       "      <td>51.0</td>\n",
       "      <td>37.0</td>\n",
       "      <td>190.0</td>\n",
       "      <td>0.0</td>\n",
       "      <td>0.0</td>\n",
       "      <td>0.0</td>\n",
       "      <td>0.0</td>\n",
       "      <td>0.0</td>\n",
       "    </tr>\n",
       "    <tr>\n",
       "      <td>1</td>\n",
       "      <td>2019-01-04</td>\n",
       "      <td>OO</td>\n",
       "      <td>5658</td>\n",
       "      <td>12266</td>\n",
       "      <td>IAH</td>\n",
       "      <td>Houston, TX</td>\n",
       "      <td>TX</td>\n",
       "      <td>15919</td>\n",
       "      <td>XNA</td>\n",
       "      <td>Fayetteville, AR</td>\n",
       "      <td>...</td>\n",
       "      <td>0.0</td>\n",
       "      <td>103.0</td>\n",
       "      <td>109.0</td>\n",
       "      <td>76.0</td>\n",
       "      <td>438.0</td>\n",
       "      <td>0.0</td>\n",
       "      <td>0.0</td>\n",
       "      <td>0.0</td>\n",
       "      <td>0.0</td>\n",
       "      <td>0.0</td>\n",
       "    </tr>\n",
       "    <tr>\n",
       "      <td>2</td>\n",
       "      <td>2019-01-04</td>\n",
       "      <td>OO</td>\n",
       "      <td>5658</td>\n",
       "      <td>14783</td>\n",
       "      <td>SGF</td>\n",
       "      <td>Springfield, MO</td>\n",
       "      <td>MO</td>\n",
       "      <td>12266</td>\n",
       "      <td>IAH</td>\n",
       "      <td>Houston, TX</td>\n",
       "      <td>...</td>\n",
       "      <td>0.0</td>\n",
       "      <td>132.0</td>\n",
       "      <td>121.0</td>\n",
       "      <td>88.0</td>\n",
       "      <td>513.0</td>\n",
       "      <td>0.0</td>\n",
       "      <td>0.0</td>\n",
       "      <td>0.0</td>\n",
       "      <td>0.0</td>\n",
       "      <td>0.0</td>\n",
       "    </tr>\n",
       "    <tr>\n",
       "      <td>3</td>\n",
       "      <td>2019-01-04</td>\n",
       "      <td>OO</td>\n",
       "      <td>5659</td>\n",
       "      <td>12389</td>\n",
       "      <td>ISN</td>\n",
       "      <td>Williston, ND</td>\n",
       "      <td>ND</td>\n",
       "      <td>11292</td>\n",
       "      <td>DEN</td>\n",
       "      <td>Denver, CO</td>\n",
       "      <td>...</td>\n",
       "      <td>0.0</td>\n",
       "      <td>118.0</td>\n",
       "      <td>110.0</td>\n",
       "      <td>80.0</td>\n",
       "      <td>576.0</td>\n",
       "      <td>0.0</td>\n",
       "      <td>0.0</td>\n",
       "      <td>0.0</td>\n",
       "      <td>0.0</td>\n",
       "      <td>0.0</td>\n",
       "    </tr>\n",
       "    <tr>\n",
       "      <td>4</td>\n",
       "      <td>2019-01-04</td>\n",
       "      <td>OO</td>\n",
       "      <td>5660</td>\n",
       "      <td>13342</td>\n",
       "      <td>MKE</td>\n",
       "      <td>Milwaukee, WI</td>\n",
       "      <td>WI</td>\n",
       "      <td>11292</td>\n",
       "      <td>DEN</td>\n",
       "      <td>Denver, CO</td>\n",
       "      <td>...</td>\n",
       "      <td>0.0</td>\n",
       "      <td>184.0</td>\n",
       "      <td>163.0</td>\n",
       "      <td>127.0</td>\n",
       "      <td>896.0</td>\n",
       "      <td>0.0</td>\n",
       "      <td>0.0</td>\n",
       "      <td>0.0</td>\n",
       "      <td>0.0</td>\n",
       "      <td>0.0</td>\n",
       "    </tr>\n",
       "  </tbody>\n",
       "</table>\n",
       "<p>5 rows × 32 columns</p>\n",
       "</div>"
      ],
      "text/plain": [
       "   FlightDate Reporting_Airline  Flight_Number_Reporting_Airline  \\\n",
       "0  2019-01-04                OO                             5657   \n",
       "1  2019-01-04                OO                             5658   \n",
       "2  2019-01-04                OO                             5658   \n",
       "3  2019-01-04                OO                             5659   \n",
       "4  2019-01-04                OO                             5660   \n",
       "\n",
       "   OriginAirportID Origin       OriginCityName OriginState  DestAirportID  \\\n",
       "0            14698    SBP  San Luis Obispo, CA          CA          14771   \n",
       "1            12266    IAH          Houston, TX          TX          15919   \n",
       "2            14783    SGF      Springfield, MO          MO          12266   \n",
       "3            12389    ISN        Williston, ND          ND          11292   \n",
       "4            13342    MKE        Milwaukee, WI          WI          11292   \n",
       "\n",
       "  Dest       DestCityName  ... Diverted  CRSElapsedTime  ActualElapsedTime  \\\n",
       "0  SFO  San Francisco, CA  ...      0.0            70.0               51.0   \n",
       "1  XNA   Fayetteville, AR  ...      0.0           103.0              109.0   \n",
       "2  IAH        Houston, TX  ...      0.0           132.0              121.0   \n",
       "3  DEN         Denver, CO  ...      0.0           118.0              110.0   \n",
       "4  DEN         Denver, CO  ...      0.0           184.0              163.0   \n",
       "\n",
       "   AirTime  Distance  CarrierDelay  WeatherDelay  NASDelay  SecurityDelay  \\\n",
       "0     37.0     190.0           0.0           0.0       0.0            0.0   \n",
       "1     76.0     438.0           0.0           0.0       0.0            0.0   \n",
       "2     88.0     513.0           0.0           0.0       0.0            0.0   \n",
       "3     80.0     576.0           0.0           0.0       0.0            0.0   \n",
       "4    127.0     896.0           0.0           0.0       0.0            0.0   \n",
       "\n",
       "   LateAircraftDelay  \n",
       "0                0.0  \n",
       "1                0.0  \n",
       "2                0.0  \n",
       "3                0.0  \n",
       "4                0.0  \n",
       "\n",
       "[5 rows x 32 columns]"
      ]
     },
     "execution_count": 42,
     "metadata": {},
     "output_type": "execute_result"
    }
   ],
   "source": [
    "# examine top 5 rows\n",
    "flights.head()"
   ]
  },
  {
   "cell_type": "code",
   "execution_count": 43,
   "metadata": {},
   "outputs": [
    {
     "data": {
      "text/plain": [
       "FlightDate                          object\n",
       "Reporting_Airline                   object\n",
       "Flight_Number_Reporting_Airline      int64\n",
       "OriginAirportID                      int64\n",
       "Origin                              object\n",
       "OriginCityName                      object\n",
       "OriginState                         object\n",
       "DestAirportID                        int64\n",
       "Dest                                object\n",
       "DestCityName                        object\n",
       "DestState                           object\n",
       "CRSDepTime                           int64\n",
       "DepTime                            float64\n",
       "DepDelay                           float64\n",
       "TaxiOut                            float64\n",
       "WheelsOff                          float64\n",
       "WheelsOn                           float64\n",
       "TaxiIn                             float64\n",
       "CRSArrTime                           int64\n",
       "ArrTime                            float64\n",
       "ArrDelay                           float64\n",
       "Cancelled                          float64\n",
       "Diverted                           float64\n",
       "CRSElapsedTime                     float64\n",
       "ActualElapsedTime                  float64\n",
       "AirTime                            float64\n",
       "Distance                           float64\n",
       "CarrierDelay                       float64\n",
       "WeatherDelay                       float64\n",
       "NASDelay                           float64\n",
       "SecurityDelay                      float64\n",
       "LateAircraftDelay                  float64\n",
       "dtype: object"
      ]
     },
     "execution_count": 43,
     "metadata": {},
     "output_type": "execute_result"
    }
   ],
   "source": [
    "# examine dtypes\n",
    "flights.dtypes"
   ]
  },
  {
   "cell_type": "code",
   "execution_count": 44,
   "metadata": {},
   "outputs": [
    {
     "name": "stdout",
     "output_type": "stream",
     "text": [
      "7422037\n"
     ]
    }
   ],
   "source": [
    "print(flights.shape[0])"
   ]
  },
  {
   "cell_type": "markdown",
   "metadata": {},
   "source": [
    "### Holy sh!t there are 7.4 million flights in our dataset.\n",
    "- Let's try to look at the first few columns.\n",
    "\n",
    "1. Flight date is in object format, let's turn in into date-time for timeseries analysis.\n",
    "2. Reporting airline are abbreviated (IATA codes), we need to find an actual human name for them."
   ]
  },
  {
   "cell_type": "markdown",
   "metadata": {},
   "source": [
    "## Airlines"
   ]
  },
  {
   "cell_type": "code",
   "execution_count": 45,
   "metadata": {},
   "outputs": [
    {
     "name": "stdout",
     "output_type": "stream",
     "text": [
      "['OO' 'AS' '9E' 'AA' 'MQ' 'WN' 'G4' 'OH' 'B6' 'NK' 'DL' 'YV' 'EV' 'F9'\n",
      " 'YX' 'UA' 'HA']\n"
     ]
    }
   ],
   "source": [
    "# loot at unique values for Airlines.\n",
    "airlines = flights.Reporting_Airline.unique()\n",
    "print(airlines)\n",
    "\n",
    "# there's only 17 of them... megacorporations..."
   ]
  },
  {
   "cell_type": "code",
   "execution_count": 46,
   "metadata": {},
   "outputs": [],
   "source": [
    "# I found an Airline dataset we can try to use to translate IATA codes.\n",
    "airlines_ds = pd.read_csv(data_path + 'world_airlines.csv', index_col=0, names=['NAME', 'ALIAS', 'IATA', 'ICAO', 'CALLSIGN', 'COUNTRY', 'ACTIVE'])"
   ]
  },
  {
   "cell_type": "code",
   "execution_count": 47,
   "metadata": {},
   "outputs": [
    {
     "data": {
      "text/plain": [
       "{'OO': 'SkyWest',\n",
       " 'AS': 'Alaska Airlines',\n",
       " '9E': 'Pinnacle Airlines',\n",
       " 'AA': 'American Airlines',\n",
       " 'MQ': 'American Eagle Airlines',\n",
       " 'WN': 'Southwest Airlines',\n",
       " 'G4': 'Allegiant Air',\n",
       " 'OH': 'Comair',\n",
       " 'B6': 'JetBlue Airways',\n",
       " 'NK': 'Spirit Airlines',\n",
       " 'DL': 'Delta Air Lines',\n",
       " 'YV': 'Mesa Airlines',\n",
       " 'EV': 'Atlantic Southeast Airlines',\n",
       " 'F9': 'Frontier Airlines',\n",
       " 'YX': 'Midwest Airlines',\n",
       " 'UA': 'United Airlines',\n",
       " 'HA': 'Hawaiian Airlines'}"
      ]
     },
     "execution_count": 47,
     "metadata": {},
     "output_type": "execute_result"
    }
   ],
   "source": [
    "# we can make a dictionary to translate codes to actual names\n",
    "airline_dictionary = {k:airlines_ds.loc[airlines_ds.IATA == k, 'NAME'].values[0] for k in airlines}\n",
    "airline_dictionary"
   ]
  },
  {
   "cell_type": "code",
   "execution_count": 48,
   "metadata": {},
   "outputs": [
    {
     "data": {
      "text/plain": [
       "WN    0.183770\n",
       "DL    0.133654\n",
       "AA    0.127563\n",
       "OO    0.112697\n",
       "UA    0.084331\n",
       "YX    0.044348\n",
       "MQ    0.044059\n",
       "B6    0.040071\n",
       "OH    0.038979\n",
       "AS    0.035680\n",
       "9E    0.034644\n",
       "YV    0.030704\n",
       "NK    0.027600\n",
       "F9    0.018262\n",
       "EV    0.018146\n",
       "G4    0.014188\n",
       "HA    0.011303\n",
       "Name: Reporting_Airline, dtype: float64"
      ]
     },
     "execution_count": 48,
     "metadata": {},
     "output_type": "execute_result"
    }
   ],
   "source": [
    "# ok this was beautiful.\n",
    "# let's look at the share of flights between them.\n",
    "flights.Reporting_Airline.value_counts(normalize=True)"
   ]
  },
  {
   "cell_type": "code",
   "execution_count": 49,
   "metadata": {},
   "outputs": [],
   "source": [
    "# let's have our first plot shall we?\n",
    "flights.Reporting_Airline.value_counts(normalize=True).plot.bar()\n",
    "plt.xticks(rotation=30)\n",
    "\n",
    "# i will make them beautiful later."
   ]
  },
  {
   "cell_type": "markdown",
   "metadata": {},
   "source": [
    "## Dates"
   ]
  },
  {
   "cell_type": "code",
   "execution_count": 53,
   "metadata": {},
   "outputs": [
    {
     "data": {
      "text/plain": [
       "dtype('O')"
      ]
     },
     "execution_count": 53,
     "metadata": {},
     "output_type": "execute_result"
    }
   ],
   "source": [
    "flights.FlightDate.dtypes"
   ]
  },
  {
   "cell_type": "code",
   "execution_count": 54,
   "metadata": {},
   "outputs": [],
   "source": [
    "# Our flight date is still an object, let's change it to datetime.\n",
    "flights.FlightDate = pd.to_datetime(flights.FlightDate)"
   ]
  },
  {
   "cell_type": "code",
   "execution_count": 63,
   "metadata": {},
   "outputs": [
    {
     "data": {
      "text/plain": [
       "<matplotlib.axes._subplots.AxesSubplot at 0x2c28a182488>"
      ]
     },
     "execution_count": 63,
     "metadata": {},
     "output_type": "execute_result"
    },
    {
     "data": {
      "image/png": "[encoded data removed]",
      "text/plain": [
       "<Figure size 432x288 with 1 Axes>"
      ]
     },
     "metadata": {
      "needs_background": "light"
     },
     "output_type": "display_data"
    }
   ],
   "source": [
    "\n",
    "monthly_flights = flights.groupby(flights.FlightDate.dt.month).agg(count=('FlightDate', 'count'))\n",
    "monthly_flights.plot(kind=\"bar\")"
   ]
  },
  {
   "cell_type": "markdown",
   "metadata": {},
   "source": [
    "We could explore this dataset forever, I still kind of want to, but let's get to what matters\n",
    "# Delays"
   ]
  },
  {
   "cell_type": "code",
   "execution_count": null,
   "metadata": {},
   "outputs": [],
   "source": []
  }
 ],
 "metadata": {
  "kernelspec": {
   "display_name": "Python 3",
   "language": "python",
   "name": "python3"
  },
  "language_info": {
   "codemirror_mode": {
    "name": "ipython",
    "version": 3
   },
   "file_extension": ".py",
   "mimetype": "text/x-python",
   "name": "python",
   "nbconvert_exporter": "python",
   "pygments_lexer": "ipython3",
   "version": "3.7.4"
  }
 },
 "nbformat": 4,
 "nbformat_minor": 2
}
