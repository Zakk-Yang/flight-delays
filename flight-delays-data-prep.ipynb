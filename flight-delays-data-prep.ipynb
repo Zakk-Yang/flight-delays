{
 "cells": [
  {
   "cell_type": "markdown",
   "metadata": {},
   "source": [
    "# Airport On-Time Data\n",
    "- The data comes the [Bureau of Transport Statistics](https://www.transtats.bts.gov/)\n",
    "- For now I'm only using data for 2019, but historical data exists since 1987."
   ]
  },
  {
   "cell_type": "code",
   "execution_count": 14,
   "metadata": {},
   "outputs": [],
   "source": [
    "# import libraries\n",
    "import pandas as pd\n",
    "import glob\n",
    "\n",
    "data_path = 'C:/Users/Zaca/Documents/Datasets/flights/2019/'"
   ]
  },
  {
   "cell_type": "markdown",
   "metadata": {},
   "source": [
    "## Column Description"
   ]
  },
  {
   "cell_type": "code",
   "execution_count": 15,
   "metadata": {},
   "outputs": [
    {
     "data": {
      "text/html": [
       "<div>\n",
       "<style scoped>\n",
       "    .dataframe tbody tr th:only-of-type {\n",
       "        vertical-align: middle;\n",
       "    }\n",
       "\n",
       "    .dataframe tbody tr th {\n",
       "        vertical-align: top;\n",
       "    }\n",
       "\n",
       "    .dataframe thead th {\n",
       "        text-align: right;\n",
       "    }\n",
       "</style>\n",
       "<table border=\"1\" class=\"dataframe\">\n",
       "  <thead>\n",
       "    <tr style=\"text-align: right;\">\n",
       "      <th></th>\n",
       "      <th>colname</th>\n",
       "      <th>coldesc</th>\n",
       "    </tr>\n",
       "  </thead>\n",
       "  <tbody>\n",
       "    <tr>\n",
       "      <td>0</td>\n",
       "      <td>FlightDate</td>\n",
       "      <td>Flight Date (yyyymmdd)</td>\n",
       "    </tr>\n",
       "    <tr>\n",
       "      <td>1</td>\n",
       "      <td>Month</td>\n",
       "      <td>Month</td>\n",
       "    </tr>\n",
       "    <tr>\n",
       "      <td>2</td>\n",
       "      <td>DayofMonth</td>\n",
       "      <td>Day of Month</td>\n",
       "    </tr>\n",
       "    <tr>\n",
       "      <td>3</td>\n",
       "      <td>DayOfWeek</td>\n",
       "      <td>Day of Week</td>\n",
       "    </tr>\n",
       "    <tr>\n",
       "      <td>4</td>\n",
       "      <td>Reporting_Airline</td>\n",
       "      <td>Unique Carrier Code</td>\n",
       "    </tr>\n",
       "    <tr>\n",
       "      <td>5</td>\n",
       "      <td>Flight_Number_Reporting_Airline</td>\n",
       "      <td>Flight Number</td>\n",
       "    </tr>\n",
       "    <tr>\n",
       "      <td>6</td>\n",
       "      <td>OriginAirportID</td>\n",
       "      <td>Airport ID</td>\n",
       "    </tr>\n",
       "    <tr>\n",
       "      <td>7</td>\n",
       "      <td>Origin</td>\n",
       "      <td>Origin Airport</td>\n",
       "    </tr>\n",
       "    <tr>\n",
       "      <td>8</td>\n",
       "      <td>OriginCityName</td>\n",
       "      <td>City Name</td>\n",
       "    </tr>\n",
       "    <tr>\n",
       "      <td>9</td>\n",
       "      <td>OriginState</td>\n",
       "      <td>Origin Airport State Code</td>\n",
       "    </tr>\n",
       "    <tr>\n",
       "      <td>10</td>\n",
       "      <td>DestAirportID</td>\n",
       "      <td>Destination AirportID</td>\n",
       "    </tr>\n",
       "    <tr>\n",
       "      <td>11</td>\n",
       "      <td>Dest</td>\n",
       "      <td>Destination Airport</td>\n",
       "    </tr>\n",
       "    <tr>\n",
       "      <td>12</td>\n",
       "      <td>DestCityName</td>\n",
       "      <td>Destination Airport City Name</td>\n",
       "    </tr>\n",
       "    <tr>\n",
       "      <td>13</td>\n",
       "      <td>DestState</td>\n",
       "      <td>Destination Airport State Code</td>\n",
       "    </tr>\n",
       "    <tr>\n",
       "      <td>14</td>\n",
       "      <td>CRSDepTime</td>\n",
       "      <td>CRS Departure Time (local time: hhmm)</td>\n",
       "    </tr>\n",
       "    <tr>\n",
       "      <td>15</td>\n",
       "      <td>DepTime</td>\n",
       "      <td>Actual Departure Time (local time: hhmm)</td>\n",
       "    </tr>\n",
       "    <tr>\n",
       "      <td>16</td>\n",
       "      <td>DepDelay</td>\n",
       "      <td>Difference in minutes between scheduled and ac...</td>\n",
       "    </tr>\n",
       "    <tr>\n",
       "      <td>17</td>\n",
       "      <td>TaxiOut</td>\n",
       "      <td>Taxi Out Time in Minutes</td>\n",
       "    </tr>\n",
       "    <tr>\n",
       "      <td>18</td>\n",
       "      <td>WheelsOff</td>\n",
       "      <td>Wheels Off Time (local time: hhmm)</td>\n",
       "    </tr>\n",
       "    <tr>\n",
       "      <td>19</td>\n",
       "      <td>WheelsOn</td>\n",
       "      <td>Wheels On Time (local time: hhmm)</td>\n",
       "    </tr>\n",
       "    <tr>\n",
       "      <td>20</td>\n",
       "      <td>TaxiIn</td>\n",
       "      <td>Taxi In Time in Minutes</td>\n",
       "    </tr>\n",
       "    <tr>\n",
       "      <td>21</td>\n",
       "      <td>CRSArrTime</td>\n",
       "      <td>CRS Arrival Time (local time: hhmm)</td>\n",
       "    </tr>\n",
       "    <tr>\n",
       "      <td>22</td>\n",
       "      <td>ArrTime</td>\n",
       "      <td>Actual Arrival Time (local time: hhmm)</td>\n",
       "    </tr>\n",
       "    <tr>\n",
       "      <td>23</td>\n",
       "      <td>ArrDelay</td>\n",
       "      <td>Difference in minutes between scheduled and ac...</td>\n",
       "    </tr>\n",
       "    <tr>\n",
       "      <td>24</td>\n",
       "      <td>Cancelled</td>\n",
       "      <td>Cancelled Flight Indicator (1=Yes)</td>\n",
       "    </tr>\n",
       "    <tr>\n",
       "      <td>25</td>\n",
       "      <td>Diverted</td>\n",
       "      <td>Diverted Flight Indicator (1=Yes)</td>\n",
       "    </tr>\n",
       "    <tr>\n",
       "      <td>26</td>\n",
       "      <td>CRSElapsedTime</td>\n",
       "      <td>CRS Elapsed Time of Flight in Minutes</td>\n",
       "    </tr>\n",
       "    <tr>\n",
       "      <td>27</td>\n",
       "      <td>ActualElapsedTime</td>\n",
       "      <td>Elapsed Time of Flight in Minutes</td>\n",
       "    </tr>\n",
       "    <tr>\n",
       "      <td>28</td>\n",
       "      <td>AirTime</td>\n",
       "      <td>Flight Time in Minutes</td>\n",
       "    </tr>\n",
       "    <tr>\n",
       "      <td>29</td>\n",
       "      <td>Distance</td>\n",
       "      <td>Distance between airports (miles)</td>\n",
       "    </tr>\n",
       "    <tr>\n",
       "      <td>30</td>\n",
       "      <td>CarrierDelay</td>\n",
       "      <td>Carrier Delay in Minutes</td>\n",
       "    </tr>\n",
       "    <tr>\n",
       "      <td>31</td>\n",
       "      <td>WeatherDelay</td>\n",
       "      <td>Weather Delay in Minutes</td>\n",
       "    </tr>\n",
       "    <tr>\n",
       "      <td>32</td>\n",
       "      <td>NASDelay</td>\n",
       "      <td>National Air System Delay in Minutes</td>\n",
       "    </tr>\n",
       "    <tr>\n",
       "      <td>33</td>\n",
       "      <td>SecurityDelay</td>\n",
       "      <td>Security Delay in Minutes</td>\n",
       "    </tr>\n",
       "    <tr>\n",
       "      <td>34</td>\n",
       "      <td>LateAircraftDelay</td>\n",
       "      <td>Late Aircraft Delay in Minutes</td>\n",
       "    </tr>\n",
       "  </tbody>\n",
       "</table>\n",
       "</div>"
      ],
      "text/plain": [
       "                            colname  \\\n",
       "0                        FlightDate   \n",
       "1                             Month   \n",
       "2                        DayofMonth   \n",
       "3                         DayOfWeek   \n",
       "4                 Reporting_Airline   \n",
       "5   Flight_Number_Reporting_Airline   \n",
       "6                   OriginAirportID   \n",
       "7                            Origin   \n",
       "8                    OriginCityName   \n",
       "9                       OriginState   \n",
       "10                    DestAirportID   \n",
       "11                             Dest   \n",
       "12                     DestCityName   \n",
       "13                        DestState   \n",
       "14                       CRSDepTime   \n",
       "15                          DepTime   \n",
       "16                         DepDelay   \n",
       "17                          TaxiOut   \n",
       "18                        WheelsOff   \n",
       "19                         WheelsOn   \n",
       "20                           TaxiIn   \n",
       "21                       CRSArrTime   \n",
       "22                          ArrTime   \n",
       "23                         ArrDelay   \n",
       "24                        Cancelled   \n",
       "25                         Diverted   \n",
       "26                   CRSElapsedTime   \n",
       "27                ActualElapsedTime   \n",
       "28                          AirTime   \n",
       "29                         Distance   \n",
       "30                     CarrierDelay   \n",
       "31                     WeatherDelay   \n",
       "32                         NASDelay   \n",
       "33                    SecurityDelay   \n",
       "34                LateAircraftDelay   \n",
       "\n",
       "                                              coldesc  \n",
       "0                              Flight Date (yyyymmdd)  \n",
       "1                                               Month  \n",
       "2                                        Day of Month  \n",
       "3                                         Day of Week  \n",
       "4                                 Unique Carrier Code  \n",
       "5                                       Flight Number  \n",
       "6                                          Airport ID  \n",
       "7                                      Origin Airport  \n",
       "8                                           City Name  \n",
       "9                           Origin Airport State Code  \n",
       "10                              Destination AirportID  \n",
       "11                                Destination Airport  \n",
       "12                      Destination Airport City Name  \n",
       "13                     Destination Airport State Code  \n",
       "14              CRS Departure Time (local time: hhmm)  \n",
       "15           Actual Departure Time (local time: hhmm)  \n",
       "16  Difference in minutes between scheduled and ac...  \n",
       "17                           Taxi Out Time in Minutes  \n",
       "18                 Wheels Off Time (local time: hhmm)  \n",
       "19                  Wheels On Time (local time: hhmm)  \n",
       "20                            Taxi In Time in Minutes  \n",
       "21                CRS Arrival Time (local time: hhmm)  \n",
       "22             Actual Arrival Time (local time: hhmm)  \n",
       "23  Difference in minutes between scheduled and ac...  \n",
       "24                 Cancelled Flight Indicator (1=Yes)  \n",
       "25                  Diverted Flight Indicator (1=Yes)  \n",
       "26              CRS Elapsed Time of Flight in Minutes  \n",
       "27                  Elapsed Time of Flight in Minutes  \n",
       "28                             Flight Time in Minutes  \n",
       "29                  Distance between airports (miles)  \n",
       "30                           Carrier Delay in Minutes  \n",
       "31                           Weather Delay in Minutes  \n",
       "32               National Air System Delay in Minutes  \n",
       "33                          Security Delay in Minutes  \n",
       "34                     Late Aircraft Delay in Minutes  "
      ]
     },
     "execution_count": 15,
     "metadata": {},
     "output_type": "execute_result"
    }
   ],
   "source": [
    "cols = pd.read_csv(data_path + 'columns.txt', sep=',', names=['colname', 'coldesc'], index_col= False)\n",
    "cols"
   ]
  },
  {
   "cell_type": "code",
   "execution_count": 16,
   "metadata": {
    "scrolled": true
   },
   "outputs": [],
   "source": [
    "# load data\n",
    "test_flights = pd.read_csv('C:/Users/Zaca/Documents/Datasets/flights/2019/01.csv', usecols=cols['colname'])"
   ]
  },
  {
   "cell_type": "markdown",
   "metadata": {},
   "source": [
    "# Data Cleaning"
   ]
  },
  {
   "cell_type": "code",
   "execution_count": 17,
   "metadata": {},
   "outputs": [
    {
     "data": {
      "text/plain": [
       "Month                                int64\n",
       "DayofMonth                           int64\n",
       "DayOfWeek                            int64\n",
       "FlightDate                          object\n",
       "Reporting_Airline                   object\n",
       "Flight_Number_Reporting_Airline      int64\n",
       "OriginAirportID                      int64\n",
       "Origin                              object\n",
       "OriginCityName                      object\n",
       "OriginState                         object\n",
       "DestAirportID                        int64\n",
       "Dest                                object\n",
       "DestCityName                        object\n",
       "DestState                           object\n",
       "CRSDepTime                           int64\n",
       "DepTime                            float64\n",
       "DepDelay                           float64\n",
       "TaxiOut                            float64\n",
       "WheelsOff                          float64\n",
       "WheelsOn                           float64\n",
       "TaxiIn                             float64\n",
       "CRSArrTime                           int64\n",
       "ArrTime                            float64\n",
       "ArrDelay                           float64\n",
       "Cancelled                          float64\n",
       "Diverted                           float64\n",
       "CRSElapsedTime                     float64\n",
       "ActualElapsedTime                  float64\n",
       "AirTime                            float64\n",
       "Distance                           float64\n",
       "CarrierDelay                       float64\n",
       "WeatherDelay                       float64\n",
       "NASDelay                           float64\n",
       "SecurityDelay                      float64\n",
       "LateAircraftDelay                  float64\n",
       "dtype: object"
      ]
     },
     "execution_count": 17,
     "metadata": {},
     "output_type": "execute_result"
    }
   ],
   "source": [
    "# check dtypes\n",
    "test_flights.dtypes"
   ]
  },
  {
   "cell_type": "markdown",
   "metadata": {},
   "source": [
    "*It seems that all columns are in the correct data format*"
   ]
  },
  {
   "cell_type": "markdown",
   "metadata": {},
   "source": [
    "# Checking for NaNs"
   ]
  },
  {
   "cell_type": "code",
   "execution_count": 18,
   "metadata": {},
   "outputs": [
    {
     "data": {
      "text/plain": [
       "Month                              0.000000\n",
       "DayofMonth                         0.000000\n",
       "DayOfWeek                          0.000000\n",
       "FlightDate                         0.000000\n",
       "Reporting_Airline                  0.000000\n",
       "Flight_Number_Reporting_Airline    0.000000\n",
       "OriginAirportID                    0.000000\n",
       "Origin                             0.000000\n",
       "OriginCityName                     0.000000\n",
       "OriginState                        0.000000\n",
       "DestAirportID                      0.000000\n",
       "Dest                               0.000000\n",
       "DestCityName                       0.000000\n",
       "DestState                          0.000000\n",
       "CRSDepTime                         0.000000\n",
       "DepTime                            0.028001\n",
       "DepDelay                           0.028006\n",
       "TaxiOut                            0.028453\n",
       "WheelsOff                          0.028453\n",
       "WheelsOn                           0.029215\n",
       "TaxiIn                             0.029215\n",
       "CRSArrTime                         0.000000\n",
       "ArrTime                            0.029215\n",
       "ArrDelay                           0.030860\n",
       "Cancelled                          0.000000\n",
       "Diverted                           0.000000\n",
       "CRSElapsedTime                     0.000229\n",
       "ActualElapsedTime                  0.030860\n",
       "AirTime                            0.030860\n",
       "Distance                           0.000000\n",
       "CarrierDelay                       0.819821\n",
       "WeatherDelay                       0.819821\n",
       "NASDelay                           0.819821\n",
       "SecurityDelay                      0.819821\n",
       "LateAircraftDelay                  0.819821\n",
       "dtype: float64"
      ]
     },
     "execution_count": 18,
     "metadata": {},
     "output_type": "execute_result"
    }
   ],
   "source": [
    "# get proportion of nan values in each col.\n",
    "test_flights.isna().sum()/test_flights.shape[0]"
   ]
  },
  {
   "cell_type": "markdown",
   "metadata": {},
   "source": [
    "### About NaNs:\n",
    "* Most NaNs seem to happen in the columns that describe the reason for the delay. I am still very interested in the data contained in these columns, so I was really hoping not to drop them."
   ]
  },
  {
   "cell_type": "code",
   "execution_count": 19,
   "metadata": {},
   "outputs": [
    {
     "name": "stdout",
     "output_type": "stream",
     "text": [
      "Month                              0\n",
      "DayofMonth                         0\n",
      "DayOfWeek                          0\n",
      "FlightDate                         0\n",
      "Reporting_Airline                  0\n",
      "Flight_Number_Reporting_Airline    0\n",
      "OriginAirportID                    0\n",
      "Origin                             0\n",
      "OriginCityName                     0\n",
      "OriginState                        0\n",
      "DestAirportID                      0\n",
      "Dest                               0\n",
      "DestCityName                       0\n",
      "DestState                          0\n",
      "CRSDepTime                         0\n",
      "DepTime                            0\n",
      "DepDelay                           0\n",
      "TaxiOut                            0\n",
      "WheelsOff                          0\n",
      "WheelsOn                           0\n",
      "TaxiIn                             0\n",
      "CRSArrTime                         0\n",
      "ArrTime                            0\n",
      "ArrDelay                           0\n",
      "Cancelled                          0\n",
      "Diverted                           0\n",
      "CRSElapsedTime                     0\n",
      "ActualElapsedTime                  0\n",
      "AirTime                            0\n",
      "Distance                           0\n",
      "CarrierDelay                       0\n",
      "WeatherDelay                       0\n",
      "NASDelay                           0\n",
      "SecurityDelay                      0\n",
      "LateAircraftDelay                  0\n",
      "dtype: int64\n",
      "Month                                  0\n",
      "DayofMonth                             0\n",
      "DayOfWeek                              0\n",
      "FlightDate                             0\n",
      "Reporting_Airline                      0\n",
      "Flight_Number_Reporting_Airline        0\n",
      "OriginAirportID                        0\n",
      "Origin                                 0\n",
      "OriginCityName                         0\n",
      "OriginState                            0\n",
      "DestAirportID                          0\n",
      "Dest                                   0\n",
      "DestCityName                           0\n",
      "DestState                              0\n",
      "CRSDepTime                             0\n",
      "DepTime                                0\n",
      "DepDelay                               0\n",
      "TaxiOut                              148\n",
      "WheelsOff                            148\n",
      "WheelsOn                             298\n",
      "TaxiIn                               298\n",
      "CRSArrTime                             0\n",
      "ArrTime                              298\n",
      "ArrDelay                             608\n",
      "Cancelled                              0\n",
      "Diverted                               0\n",
      "CRSElapsedTime                         1\n",
      "ActualElapsedTime                    608\n",
      "AirTime                              608\n",
      "Distance                               0\n",
      "CarrierDelay                       18333\n",
      "WeatherDelay                       18333\n",
      "NASDelay                           18333\n",
      "SecurityDelay                      18333\n",
      "LateAircraftDelay                  18333\n",
      "dtype: int64\n"
     ]
    }
   ],
   "source": [
    "# check the proportion of nans in flights with actual delays\n",
    "# because some flights make up for departure delays during airtime, I'm going to focus on arrival delays\n",
    "print(test_flights[test_flights.ArrDelay > 15].isna().sum())\n",
    "\n",
    "# interesting, there are no nans when we look at arrival delay which means all of them are explained.\n",
    "# what about depature delay?\n",
    "print(test_flights[test_flights.DepDelay > 15].isna().sum())\n",
    "\n",
    "# when we only consider departure delays now we see nans. I'm not really going to do the math but\n",
    "# this suggests that perhaps departure delays does not always mean an arrival delay and in that case there are\n",
    "# no values on the delay cause."
   ]
  },
  {
   "cell_type": "markdown",
   "metadata": {},
   "source": [
    "* It seems that these cols only have values when the flight was actually delayed more than 15 min on arrival, if that is the case, then it makes sense to replace these nans by zero."
   ]
  },
  {
   "cell_type": "code",
   "execution_count": 20,
   "metadata": {},
   "outputs": [],
   "source": [
    "# making a list of the delay reason cols and filling with 0\n",
    "delay_cols = ['CarrierDelay', 'WeatherDelay', 'NASDelay', 'SecurityDelay', 'LateAircraftDelay']\n",
    "test_flights[delay_cols] = test_flights[delay_cols].fillna(value=0)"
   ]
  },
  {
   "cell_type": "code",
   "execution_count": 21,
   "metadata": {},
   "outputs": [
    {
     "name": "stdout",
     "output_type": "stream",
     "text": [
      "# Flights before drop:  583985\n",
      "# Flights after drop:  565963\n"
     ]
    }
   ],
   "source": [
    "# the rest of nans only account for about 3% of the values in each column, so I will just drop the rows.\n",
    "# we have enough data...\n",
    "print('# Flights before drop: ', test_flights.shape[0])\n",
    "test_flights.dropna(inplace=True)\n",
    "print('# Flights after drop: ', test_flights.shape[0])"
   ]
  },
  {
   "cell_type": "markdown",
   "metadata": {},
   "source": [
    "**Looks like this is pretty much everything for the initial cleaning, I will keep the procedural code for the rationale. However, we need to do this iteratively for every month in the database (computer breaks when I load all at once)**"
   ]
  },
  {
   "cell_type": "code",
   "execution_count": 22,
   "metadata": {},
   "outputs": [],
   "source": [
    "# just repeating the cleaning process above for all months in 2019\n",
    "def clean_df(filename):\n",
    "    \n",
    "    df = pd.read_csv(filename, usecols=cols['colname'])   \n",
    "    delay_cols = ['CarrierDelay', 'WeatherDelay', 'NASDelay', 'SecurityDelay', 'LateAircraftDelay']\n",
    "    df[delay_cols] = df[delay_cols].fillna(value=0)\n",
    "    \n",
    "    print(filename)\n",
    "    \n",
    "    return df\n",
    "    "
   ]
  },
  {
   "cell_type": "code",
   "execution_count": 23,
   "metadata": {},
   "outputs": [],
   "source": [
    "# get all files for 2019\n",
    "filenames = glob.glob(data_path + '*.csv')"
   ]
  },
  {
   "cell_type": "code",
   "execution_count": 24,
   "metadata": {},
   "outputs": [
    {
     "name": "stdout",
     "output_type": "stream",
     "text": [
      "C:/Users/Zaca/Documents/Datasets/flights/2019\\01.csv\n",
      "C:/Users/Zaca/Documents/Datasets/flights/2019\\02.csv\n",
      "C:/Users/Zaca/Documents/Datasets/flights/2019\\03.csv\n",
      "C:/Users/Zaca/Documents/Datasets/flights/2019\\04.csv\n",
      "C:/Users/Zaca/Documents/Datasets/flights/2019\\05.csv\n",
      "C:/Users/Zaca/Documents/Datasets/flights/2019\\06.csv\n",
      "C:/Users/Zaca/Documents/Datasets/flights/2019\\07.csv\n",
      "C:/Users/Zaca/Documents/Datasets/flights/2019\\08.csv\n",
      "C:/Users/Zaca/Documents/Datasets/flights/2019\\09.csv\n",
      "C:/Users/Zaca/Documents/Datasets/flights/2019\\10.csv\n",
      "C:/Users/Zaca/Documents/Datasets/flights/2019\\11.csv\n",
      "C:/Users/Zaca/Documents/Datasets/flights/2019\\12.csv\n"
     ]
    }
   ],
   "source": [
    "flights = [clean_df(f) for f in filenames]"
   ]
  },
  {
   "cell_type": "code",
   "execution_count": 25,
   "metadata": {},
   "outputs": [],
   "source": [
    "flights = pd.concat(flights, ignore_index= True)"
   ]
  },
  {
   "cell_type": "code",
   "execution_count": 26,
   "metadata": {},
   "outputs": [
    {
     "data": {
      "text/plain": [
       "(7422037, 35)"
      ]
     },
     "execution_count": 26,
     "metadata": {},
     "output_type": "execute_result"
    }
   ],
   "source": [
    "flights.shape"
   ]
  },
  {
   "cell_type": "code",
   "execution_count": 27,
   "metadata": {},
   "outputs": [],
   "source": [
    "flights.to_csv('C:/Users/Zaca/Documents/Datasets/flights/2019.csv')"
   ]
  }
 ],
 "metadata": {
  "kernelspec": {
   "display_name": "Python 3",
   "language": "python",
   "name": "python3"
  },
  "language_info": {
   "codemirror_mode": {
    "name": "ipython",
    "version": 3
   },
   "file_extension": ".py",
   "mimetype": "text/x-python",
   "name": "python",
   "nbconvert_exporter": "python",
   "pygments_lexer": "ipython3",
   "version": "3.7.4"
  }
 },
 "nbformat": 4,
 "nbformat_minor": 2
}
