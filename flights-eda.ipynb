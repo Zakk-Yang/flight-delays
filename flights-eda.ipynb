{
 "cells": [
  {
   "cell_type": "markdown",
   "metadata": {},
   "source": [
    "# EDA\n",
    "- We will look at US domestic flights from 2019.\n",
    "- Do some exploratory analysis.\n",
    "- Maybe finish with ML algorithm to predict delays.\n",
    "\n",
    "## Datasets\n",
    "- [Flight on-time data](https://www.transtats.bts.gov/)\n",
    "- [Airline & Aiports database](https://openflights.org/data.html)"
   ]
  },
  {
   "cell_type": "code",
   "execution_count": 37,
   "metadata": {},
   "outputs": [],
   "source": [
    "# import libraries\n",
    "import pandas as pd\n",
    "import numpy as np\n",
    "import matplotlib.pyplot as plt\n",
    "import plotly.express as px\n",
    "import plotly.graph_objects as go\n",
    "from sklearn.model_selection import train_test_split\n",
    "from sklearn.preprocessing import LabelEncoder\n",
    "from sklearn.linear_model import LogisticRegression\n",
    "from sklearn.tree import DecisionTreeClassifier\n",
    "from sklearn.preprocessing import RobustScaler, StandardScaler, PolynomialFeatures, MinMaxScaler\n",
    "import seaborn as sns\n",
    "from sklearn.linear_model import LinearRegression\n",
    "from sklearn.pipeline import make_pipeline\n",
    "import sys\n",
    "\n",
    "# import local functions\n",
    "path_to_functions = 'C:/Users/Zaca/Documents/GitHub/useful-functions/'\n",
    "sys.path.append(path_to_functions)\n",
    "from plotting import default_plot, get_colors\n",
    "\n",
    "\n",
    "data_path = 'C:/Users/Zaca/Documents/Datasets/flights/'"
   ]
  },
  {
   "cell_type": "code",
   "execution_count": 2,
   "metadata": {},
   "outputs": [
    {
     "name": "stderr",
     "output_type": "stream",
     "text": [
      "C:\\Users\\Zaca\\Anaconda3\\lib\\site-packages\\numpy\\lib\\arraysetops.py:569: FutureWarning:\n",
      "\n",
      "elementwise comparison failed; returning scalar instead, but in the future will perform elementwise comparison\n",
      "\n"
     ]
    }
   ],
   "source": [
    "# open file (1.3GB so it will be slow)\n",
    "flights = pd.read_csv(data_path + '2019.csv', index_col=0)"
   ]
  },
  {
   "cell_type": "code",
   "execution_count": 3,
   "metadata": {
    "scrolled": true
   },
   "outputs": [
    {
     "data": {
      "text/html": [
       "<div>\n",
       "<style scoped>\n",
       "    .dataframe tbody tr th:only-of-type {\n",
       "        vertical-align: middle;\n",
       "    }\n",
       "\n",
       "    .dataframe tbody tr th {\n",
       "        vertical-align: top;\n",
       "    }\n",
       "\n",
       "    .dataframe thead th {\n",
       "        text-align: right;\n",
       "    }\n",
       "</style>\n",
       "<table border=\"1\" class=\"dataframe\">\n",
       "  <thead>\n",
       "    <tr style=\"text-align: right;\">\n",
       "      <th></th>\n",
       "      <th>colname</th>\n",
       "      <th>coldesc</th>\n",
       "    </tr>\n",
       "  </thead>\n",
       "  <tbody>\n",
       "    <tr>\n",
       "      <th>0</th>\n",
       "      <td>FlightDate</td>\n",
       "      <td>Flight Date (yyyymmdd)</td>\n",
       "    </tr>\n",
       "    <tr>\n",
       "      <th>1</th>\n",
       "      <td>Month</td>\n",
       "      <td>Month</td>\n",
       "    </tr>\n",
       "    <tr>\n",
       "      <th>2</th>\n",
       "      <td>DayofMonth</td>\n",
       "      <td>Day of Month</td>\n",
       "    </tr>\n",
       "    <tr>\n",
       "      <th>3</th>\n",
       "      <td>DayOfWeek</td>\n",
       "      <td>Day of Week</td>\n",
       "    </tr>\n",
       "    <tr>\n",
       "      <th>4</th>\n",
       "      <td>Reporting_Airline</td>\n",
       "      <td>Unique Carrier Code</td>\n",
       "    </tr>\n",
       "    <tr>\n",
       "      <th>5</th>\n",
       "      <td>Flight_Number_Reporting_Airline</td>\n",
       "      <td>Flight Number</td>\n",
       "    </tr>\n",
       "    <tr>\n",
       "      <th>6</th>\n",
       "      <td>OriginAirportID</td>\n",
       "      <td>Airport ID</td>\n",
       "    </tr>\n",
       "    <tr>\n",
       "      <th>7</th>\n",
       "      <td>Origin</td>\n",
       "      <td>Origin Airport</td>\n",
       "    </tr>\n",
       "    <tr>\n",
       "      <th>8</th>\n",
       "      <td>OriginCityName</td>\n",
       "      <td>City Name</td>\n",
       "    </tr>\n",
       "    <tr>\n",
       "      <th>9</th>\n",
       "      <td>OriginState</td>\n",
       "      <td>Origin Airport State Code</td>\n",
       "    </tr>\n",
       "    <tr>\n",
       "      <th>10</th>\n",
       "      <td>DestAirportID</td>\n",
       "      <td>Destination AirportID</td>\n",
       "    </tr>\n",
       "    <tr>\n",
       "      <th>11</th>\n",
       "      <td>Dest</td>\n",
       "      <td>Destination Airport</td>\n",
       "    </tr>\n",
       "    <tr>\n",
       "      <th>12</th>\n",
       "      <td>DestCityName</td>\n",
       "      <td>Destination Airport City Name</td>\n",
       "    </tr>\n",
       "    <tr>\n",
       "      <th>13</th>\n",
       "      <td>DestState</td>\n",
       "      <td>Destination Airport State Code</td>\n",
       "    </tr>\n",
       "    <tr>\n",
       "      <th>14</th>\n",
       "      <td>CRSDepTime</td>\n",
       "      <td>CRS Departure Time (local time: hhmm)</td>\n",
       "    </tr>\n",
       "    <tr>\n",
       "      <th>15</th>\n",
       "      <td>DepTime</td>\n",
       "      <td>Actual Departure Time (local time: hhmm)</td>\n",
       "    </tr>\n",
       "    <tr>\n",
       "      <th>16</th>\n",
       "      <td>DepDelay</td>\n",
       "      <td>Difference in minutes between scheduled and ac...</td>\n",
       "    </tr>\n",
       "    <tr>\n",
       "      <th>17</th>\n",
       "      <td>TaxiOut</td>\n",
       "      <td>Taxi Out Time in Minutes</td>\n",
       "    </tr>\n",
       "    <tr>\n",
       "      <th>18</th>\n",
       "      <td>WheelsOff</td>\n",
       "      <td>Wheels Off Time (local time: hhmm)</td>\n",
       "    </tr>\n",
       "    <tr>\n",
       "      <th>19</th>\n",
       "      <td>WheelsOn</td>\n",
       "      <td>Wheels On Time (local time: hhmm)</td>\n",
       "    </tr>\n",
       "    <tr>\n",
       "      <th>20</th>\n",
       "      <td>TaxiIn</td>\n",
       "      <td>Taxi In Time in Minutes</td>\n",
       "    </tr>\n",
       "    <tr>\n",
       "      <th>21</th>\n",
       "      <td>CRSArrTime</td>\n",
       "      <td>CRS Arrival Time (local time: hhmm)</td>\n",
       "    </tr>\n",
       "    <tr>\n",
       "      <th>22</th>\n",
       "      <td>ArrTime</td>\n",
       "      <td>Actual Arrival Time (local time: hhmm)</td>\n",
       "    </tr>\n",
       "    <tr>\n",
       "      <th>23</th>\n",
       "      <td>ArrDelay</td>\n",
       "      <td>Difference in minutes between scheduled and ac...</td>\n",
       "    </tr>\n",
       "    <tr>\n",
       "      <th>24</th>\n",
       "      <td>Cancelled</td>\n",
       "      <td>Cancelled Flight Indicator (1=Yes)</td>\n",
       "    </tr>\n",
       "    <tr>\n",
       "      <th>25</th>\n",
       "      <td>Diverted</td>\n",
       "      <td>Diverted Flight Indicator (1=Yes)</td>\n",
       "    </tr>\n",
       "    <tr>\n",
       "      <th>26</th>\n",
       "      <td>CRSElapsedTime</td>\n",
       "      <td>CRS Elapsed Time of Flight in Minutes</td>\n",
       "    </tr>\n",
       "    <tr>\n",
       "      <th>27</th>\n",
       "      <td>ActualElapsedTime</td>\n",
       "      <td>Elapsed Time of Flight in Minutes</td>\n",
       "    </tr>\n",
       "    <tr>\n",
       "      <th>28</th>\n",
       "      <td>AirTime</td>\n",
       "      <td>Flight Time in Minutes</td>\n",
       "    </tr>\n",
       "    <tr>\n",
       "      <th>29</th>\n",
       "      <td>Distance</td>\n",
       "      <td>Distance between airports (miles)</td>\n",
       "    </tr>\n",
       "    <tr>\n",
       "      <th>30</th>\n",
       "      <td>CarrierDelay</td>\n",
       "      <td>Carrier Delay in Minutes</td>\n",
       "    </tr>\n",
       "    <tr>\n",
       "      <th>31</th>\n",
       "      <td>WeatherDelay</td>\n",
       "      <td>Weather Delay in Minutes</td>\n",
       "    </tr>\n",
       "    <tr>\n",
       "      <th>32</th>\n",
       "      <td>NASDelay</td>\n",
       "      <td>National Air System Delay in Minutes</td>\n",
       "    </tr>\n",
       "    <tr>\n",
       "      <th>33</th>\n",
       "      <td>SecurityDelay</td>\n",
       "      <td>Security Delay in Minutes</td>\n",
       "    </tr>\n",
       "    <tr>\n",
       "      <th>34</th>\n",
       "      <td>LateAircraftDelay</td>\n",
       "      <td>Late Aircraft Delay in Minutes</td>\n",
       "    </tr>\n",
       "  </tbody>\n",
       "</table>\n",
       "</div>"
      ],
      "text/plain": [
       "                            colname  \\\n",
       "0                        FlightDate   \n",
       "1                             Month   \n",
       "2                        DayofMonth   \n",
       "3                         DayOfWeek   \n",
       "4                 Reporting_Airline   \n",
       "5   Flight_Number_Reporting_Airline   \n",
       "6                   OriginAirportID   \n",
       "7                            Origin   \n",
       "8                    OriginCityName   \n",
       "9                       OriginState   \n",
       "10                    DestAirportID   \n",
       "11                             Dest   \n",
       "12                     DestCityName   \n",
       "13                        DestState   \n",
       "14                       CRSDepTime   \n",
       "15                          DepTime   \n",
       "16                         DepDelay   \n",
       "17                          TaxiOut   \n",
       "18                        WheelsOff   \n",
       "19                         WheelsOn   \n",
       "20                           TaxiIn   \n",
       "21                       CRSArrTime   \n",
       "22                          ArrTime   \n",
       "23                         ArrDelay   \n",
       "24                        Cancelled   \n",
       "25                         Diverted   \n",
       "26                   CRSElapsedTime   \n",
       "27                ActualElapsedTime   \n",
       "28                          AirTime   \n",
       "29                         Distance   \n",
       "30                     CarrierDelay   \n",
       "31                     WeatherDelay   \n",
       "32                         NASDelay   \n",
       "33                    SecurityDelay   \n",
       "34                LateAircraftDelay   \n",
       "\n",
       "                                              coldesc  \n",
       "0                              Flight Date (yyyymmdd)  \n",
       "1                                               Month  \n",
       "2                                        Day of Month  \n",
       "3                                         Day of Week  \n",
       "4                                 Unique Carrier Code  \n",
       "5                                       Flight Number  \n",
       "6                                          Airport ID  \n",
       "7                                      Origin Airport  \n",
       "8                                           City Name  \n",
       "9                           Origin Airport State Code  \n",
       "10                              Destination AirportID  \n",
       "11                                Destination Airport  \n",
       "12                      Destination Airport City Name  \n",
       "13                     Destination Airport State Code  \n",
       "14              CRS Departure Time (local time: hhmm)  \n",
       "15           Actual Departure Time (local time: hhmm)  \n",
       "16  Difference in minutes between scheduled and ac...  \n",
       "17                           Taxi Out Time in Minutes  \n",
       "18                 Wheels Off Time (local time: hhmm)  \n",
       "19                  Wheels On Time (local time: hhmm)  \n",
       "20                            Taxi In Time in Minutes  \n",
       "21                CRS Arrival Time (local time: hhmm)  \n",
       "22             Actual Arrival Time (local time: hhmm)  \n",
       "23  Difference in minutes between scheduled and ac...  \n",
       "24                 Cancelled Flight Indicator (1=Yes)  \n",
       "25                  Diverted Flight Indicator (1=Yes)  \n",
       "26              CRS Elapsed Time of Flight in Minutes  \n",
       "27                  Elapsed Time of Flight in Minutes  \n",
       "28                             Flight Time in Minutes  \n",
       "29                  Distance between airports (miles)  \n",
       "30                           Carrier Delay in Minutes  \n",
       "31                           Weather Delay in Minutes  \n",
       "32               National Air System Delay in Minutes  \n",
       "33                          Security Delay in Minutes  \n",
       "34                     Late Aircraft Delay in Minutes  "
      ]
     },
     "execution_count": 3,
     "metadata": {},
     "output_type": "execute_result"
    }
   ],
   "source": [
    "# get column description from file\n",
    "cols = pd.read_csv(data_path + 'columns.txt', sep=',', names=['colname', 'coldesc'], index_col= False)\n",
    "cols"
   ]
  },
  {
   "cell_type": "code",
   "execution_count": 4,
   "metadata": {},
   "outputs": [
    {
     "data": {
      "text/html": [
       "<div>\n",
       "<style scoped>\n",
       "    .dataframe tbody tr th:only-of-type {\n",
       "        vertical-align: middle;\n",
       "    }\n",
       "\n",
       "    .dataframe tbody tr th {\n",
       "        vertical-align: top;\n",
       "    }\n",
       "\n",
       "    .dataframe thead th {\n",
       "        text-align: right;\n",
       "    }\n",
       "</style>\n",
       "<table border=\"1\" class=\"dataframe\">\n",
       "  <thead>\n",
       "    <tr style=\"text-align: right;\">\n",
       "      <th></th>\n",
       "      <th>Month</th>\n",
       "      <th>DayofMonth</th>\n",
       "      <th>DayOfWeek</th>\n",
       "      <th>FlightDate</th>\n",
       "      <th>Reporting_Airline</th>\n",
       "      <th>Flight_Number_Reporting_Airline</th>\n",
       "      <th>OriginAirportID</th>\n",
       "      <th>Origin</th>\n",
       "      <th>OriginCityName</th>\n",
       "      <th>OriginState</th>\n",
       "      <th>...</th>\n",
       "      <th>Diverted</th>\n",
       "      <th>CRSElapsedTime</th>\n",
       "      <th>ActualElapsedTime</th>\n",
       "      <th>AirTime</th>\n",
       "      <th>Distance</th>\n",
       "      <th>CarrierDelay</th>\n",
       "      <th>WeatherDelay</th>\n",
       "      <th>NASDelay</th>\n",
       "      <th>SecurityDelay</th>\n",
       "      <th>LateAircraftDelay</th>\n",
       "    </tr>\n",
       "  </thead>\n",
       "  <tbody>\n",
       "    <tr>\n",
       "      <th>0</th>\n",
       "      <td>1</td>\n",
       "      <td>4</td>\n",
       "      <td>5</td>\n",
       "      <td>2019-01-04</td>\n",
       "      <td>OO</td>\n",
       "      <td>5657</td>\n",
       "      <td>14698</td>\n",
       "      <td>SBP</td>\n",
       "      <td>San Luis Obispo, CA</td>\n",
       "      <td>CA</td>\n",
       "      <td>...</td>\n",
       "      <td>0.0</td>\n",
       "      <td>70.0</td>\n",
       "      <td>51.0</td>\n",
       "      <td>37.0</td>\n",
       "      <td>190.0</td>\n",
       "      <td>0.0</td>\n",
       "      <td>0.0</td>\n",
       "      <td>0.0</td>\n",
       "      <td>0.0</td>\n",
       "      <td>0.0</td>\n",
       "    </tr>\n",
       "    <tr>\n",
       "      <th>1</th>\n",
       "      <td>1</td>\n",
       "      <td>4</td>\n",
       "      <td>5</td>\n",
       "      <td>2019-01-04</td>\n",
       "      <td>OO</td>\n",
       "      <td>5658</td>\n",
       "      <td>12266</td>\n",
       "      <td>IAH</td>\n",
       "      <td>Houston, TX</td>\n",
       "      <td>TX</td>\n",
       "      <td>...</td>\n",
       "      <td>0.0</td>\n",
       "      <td>103.0</td>\n",
       "      <td>109.0</td>\n",
       "      <td>76.0</td>\n",
       "      <td>438.0</td>\n",
       "      <td>0.0</td>\n",
       "      <td>0.0</td>\n",
       "      <td>0.0</td>\n",
       "      <td>0.0</td>\n",
       "      <td>0.0</td>\n",
       "    </tr>\n",
       "    <tr>\n",
       "      <th>2</th>\n",
       "      <td>1</td>\n",
       "      <td>4</td>\n",
       "      <td>5</td>\n",
       "      <td>2019-01-04</td>\n",
       "      <td>OO</td>\n",
       "      <td>5658</td>\n",
       "      <td>14783</td>\n",
       "      <td>SGF</td>\n",
       "      <td>Springfield, MO</td>\n",
       "      <td>MO</td>\n",
       "      <td>...</td>\n",
       "      <td>0.0</td>\n",
       "      <td>132.0</td>\n",
       "      <td>121.0</td>\n",
       "      <td>88.0</td>\n",
       "      <td>513.0</td>\n",
       "      <td>0.0</td>\n",
       "      <td>0.0</td>\n",
       "      <td>0.0</td>\n",
       "      <td>0.0</td>\n",
       "      <td>0.0</td>\n",
       "    </tr>\n",
       "    <tr>\n",
       "      <th>3</th>\n",
       "      <td>1</td>\n",
       "      <td>4</td>\n",
       "      <td>5</td>\n",
       "      <td>2019-01-04</td>\n",
       "      <td>OO</td>\n",
       "      <td>5659</td>\n",
       "      <td>12389</td>\n",
       "      <td>ISN</td>\n",
       "      <td>Williston, ND</td>\n",
       "      <td>ND</td>\n",
       "      <td>...</td>\n",
       "      <td>0.0</td>\n",
       "      <td>118.0</td>\n",
       "      <td>110.0</td>\n",
       "      <td>80.0</td>\n",
       "      <td>576.0</td>\n",
       "      <td>0.0</td>\n",
       "      <td>0.0</td>\n",
       "      <td>0.0</td>\n",
       "      <td>0.0</td>\n",
       "      <td>0.0</td>\n",
       "    </tr>\n",
       "    <tr>\n",
       "      <th>4</th>\n",
       "      <td>1</td>\n",
       "      <td>4</td>\n",
       "      <td>5</td>\n",
       "      <td>2019-01-04</td>\n",
       "      <td>OO</td>\n",
       "      <td>5660</td>\n",
       "      <td>13342</td>\n",
       "      <td>MKE</td>\n",
       "      <td>Milwaukee, WI</td>\n",
       "      <td>WI</td>\n",
       "      <td>...</td>\n",
       "      <td>0.0</td>\n",
       "      <td>184.0</td>\n",
       "      <td>163.0</td>\n",
       "      <td>127.0</td>\n",
       "      <td>896.0</td>\n",
       "      <td>0.0</td>\n",
       "      <td>0.0</td>\n",
       "      <td>0.0</td>\n",
       "      <td>0.0</td>\n",
       "      <td>0.0</td>\n",
       "    </tr>\n",
       "  </tbody>\n",
       "</table>\n",
       "<p>5 rows × 35 columns</p>\n",
       "</div>"
      ],
      "text/plain": [
       "   Month  DayofMonth  DayOfWeek  FlightDate Reporting_Airline  \\\n",
       "0      1           4          5  2019-01-04                OO   \n",
       "1      1           4          5  2019-01-04                OO   \n",
       "2      1           4          5  2019-01-04                OO   \n",
       "3      1           4          5  2019-01-04                OO   \n",
       "4      1           4          5  2019-01-04                OO   \n",
       "\n",
       "   Flight_Number_Reporting_Airline  OriginAirportID Origin  \\\n",
       "0                             5657            14698    SBP   \n",
       "1                             5658            12266    IAH   \n",
       "2                             5658            14783    SGF   \n",
       "3                             5659            12389    ISN   \n",
       "4                             5660            13342    MKE   \n",
       "\n",
       "        OriginCityName OriginState  ...  Diverted CRSElapsedTime  \\\n",
       "0  San Luis Obispo, CA          CA  ...       0.0           70.0   \n",
       "1          Houston, TX          TX  ...       0.0          103.0   \n",
       "2      Springfield, MO          MO  ...       0.0          132.0   \n",
       "3        Williston, ND          ND  ...       0.0          118.0   \n",
       "4        Milwaukee, WI          WI  ...       0.0          184.0   \n",
       "\n",
       "  ActualElapsedTime AirTime  Distance  CarrierDelay  WeatherDelay  NASDelay  \\\n",
       "0              51.0    37.0     190.0           0.0           0.0       0.0   \n",
       "1             109.0    76.0     438.0           0.0           0.0       0.0   \n",
       "2             121.0    88.0     513.0           0.0           0.0       0.0   \n",
       "3             110.0    80.0     576.0           0.0           0.0       0.0   \n",
       "4             163.0   127.0     896.0           0.0           0.0       0.0   \n",
       "\n",
       "   SecurityDelay  LateAircraftDelay  \n",
       "0            0.0                0.0  \n",
       "1            0.0                0.0  \n",
       "2            0.0                0.0  \n",
       "3            0.0                0.0  \n",
       "4            0.0                0.0  \n",
       "\n",
       "[5 rows x 35 columns]"
      ]
     },
     "execution_count": 4,
     "metadata": {},
     "output_type": "execute_result"
    }
   ],
   "source": [
    "# examine top 5 rows\n",
    "flights.head()"
   ]
  },
  {
   "cell_type": "code",
   "execution_count": 5,
   "metadata": {},
   "outputs": [
    {
     "data": {
      "text/plain": [
       "Month                                int64\n",
       "DayofMonth                           int64\n",
       "DayOfWeek                            int64\n",
       "FlightDate                          object\n",
       "Reporting_Airline                   object\n",
       "Flight_Number_Reporting_Airline      int64\n",
       "OriginAirportID                      int64\n",
       "Origin                              object\n",
       "OriginCityName                      object\n",
       "OriginState                         object\n",
       "DestAirportID                        int64\n",
       "Dest                                object\n",
       "DestCityName                        object\n",
       "DestState                           object\n",
       "CRSDepTime                           int64\n",
       "DepTime                            float64\n",
       "DepDelay                           float64\n",
       "TaxiOut                            float64\n",
       "WheelsOff                          float64\n",
       "WheelsOn                           float64\n",
       "TaxiIn                             float64\n",
       "CRSArrTime                           int64\n",
       "ArrTime                            float64\n",
       "ArrDelay                           float64\n",
       "Cancelled                          float64\n",
       "Diverted                           float64\n",
       "CRSElapsedTime                     float64\n",
       "ActualElapsedTime                  float64\n",
       "AirTime                            float64\n",
       "Distance                           float64\n",
       "CarrierDelay                       float64\n",
       "WeatherDelay                       float64\n",
       "NASDelay                           float64\n",
       "SecurityDelay                      float64\n",
       "LateAircraftDelay                  float64\n",
       "dtype: object"
      ]
     },
     "execution_count": 5,
     "metadata": {},
     "output_type": "execute_result"
    }
   ],
   "source": [
    "# examine dtypes\n",
    "flights.dtypes"
   ]
  },
  {
   "cell_type": "code",
   "execution_count": 6,
   "metadata": {},
   "outputs": [
    {
     "name": "stdout",
     "output_type": "stream",
     "text": [
      "7268232\n"
     ]
    },
    {
     "data": {
      "text/plain": [
       "Month                              0\n",
       "DayofMonth                         0\n",
       "DayOfWeek                          0\n",
       "FlightDate                         0\n",
       "Reporting_Airline                  0\n",
       "Flight_Number_Reporting_Airline    0\n",
       "OriginAirportID                    0\n",
       "Origin                             0\n",
       "OriginCityName                     0\n",
       "OriginState                        0\n",
       "DestAirportID                      0\n",
       "Dest                               0\n",
       "DestCityName                       0\n",
       "DestState                          0\n",
       "CRSDepTime                         0\n",
       "DepTime                            0\n",
       "DepDelay                           0\n",
       "TaxiOut                            0\n",
       "WheelsOff                          0\n",
       "WheelsOn                           0\n",
       "TaxiIn                             0\n",
       "CRSArrTime                         0\n",
       "ArrTime                            0\n",
       "ArrDelay                           0\n",
       "Cancelled                          0\n",
       "Diverted                           0\n",
       "CRSElapsedTime                     0\n",
       "ActualElapsedTime                  0\n",
       "AirTime                            0\n",
       "Distance                           0\n",
       "CarrierDelay                       0\n",
       "WeatherDelay                       0\n",
       "NASDelay                           0\n",
       "SecurityDelay                      0\n",
       "LateAircraftDelay                  0\n",
       "dtype: int64"
      ]
     },
     "execution_count": 6,
     "metadata": {},
     "output_type": "execute_result"
    }
   ],
   "source": [
    "print(flights.shape[0])\n",
    "flights.isna().sum()"
   ]
  },
  {
   "cell_type": "markdown",
   "metadata": {},
   "source": [
    "### Holy sh!t there are 7.27 million flights in our dataset.\n",
    "- Let's try to look at the first few columns.\n",
    "\n",
    "1. Flight date is in object format, let's turn in into date-time for timeseries analysis.\n",
    "2. Reporting airline are abbreviated (IATA codes), we need to find an actual human name for them."
   ]
  },
  {
   "cell_type": "markdown",
   "metadata": {},
   "source": [
    "## Airlines"
   ]
  },
  {
   "cell_type": "code",
   "execution_count": 7,
   "metadata": {},
   "outputs": [
    {
     "name": "stdout",
     "output_type": "stream",
     "text": [
      "['OO' 'AS' '9E' 'AA' 'MQ' 'WN' 'G4' 'OH' 'B6' 'NK' 'DL' 'YV' 'EV' 'F9'\n",
      " 'YX' 'UA' 'HA']\n"
     ]
    }
   ],
   "source": [
    "# loot at unique values for Airlines.\n",
    "airlines = flights.Reporting_Airline.unique()\n",
    "print(airlines)\n",
    "\n",
    "# there's only 17 of them... megacorporations..."
   ]
  },
  {
   "cell_type": "code",
   "execution_count": 8,
   "metadata": {},
   "outputs": [],
   "source": [
    "# I found an Airline dataset we can try to use to translate IATA codes.\n",
    "airlines_ds = pd.read_csv(data_path + 'world_airlines.csv', index_col=0, names=['NAME', 'ALIAS', 'IATA', 'ICAO', 'CALLSIGN', 'COUNTRY', 'ACTIVE'])"
   ]
  },
  {
   "cell_type": "code",
   "execution_count": 9,
   "metadata": {},
   "outputs": [
    {
     "data": {
      "text/plain": [
       "{'OO': 'SkyWest',\n",
       " 'AS': 'Alaska Airlines',\n",
       " '9E': 'Pinnacle Airlines',\n",
       " 'AA': 'American Airlines',\n",
       " 'MQ': 'American Eagle Airlines',\n",
       " 'WN': 'Southwest Airlines',\n",
       " 'G4': 'Allegiant Air',\n",
       " 'OH': 'Comair',\n",
       " 'B6': 'JetBlue Airways',\n",
       " 'NK': 'Spirit Airlines',\n",
       " 'DL': 'Delta Air Lines',\n",
       " 'YV': 'Mesa Airlines',\n",
       " 'EV': 'Atlantic Southeast Airlines',\n",
       " 'F9': 'Frontier Airlines',\n",
       " 'YX': 'Midwest Airlines',\n",
       " 'UA': 'United Airlines',\n",
       " 'HA': 'Hawaiian Airlines'}"
      ]
     },
     "execution_count": 9,
     "metadata": {},
     "output_type": "execute_result"
    }
   ],
   "source": [
    "# we can make a dictionary to translate codes to actual names\n",
    "airline_dictionary = {k:airlines_ds.loc[airlines_ds.IATA == k, 'NAME'].values[0] for k in airlines}\n",
    "airline_dictionary"
   ]
  },
  {
   "cell_type": "code",
   "execution_count": 10,
   "metadata": {},
   "outputs": [
    {
     "data": {
      "text/plain": [
       "WN    0.182653\n",
       "DL    0.135937\n",
       "AA    0.127162\n",
       "OO    0.112247\n",
       "UA    0.085125\n",
       "YX    0.044112\n",
       "MQ    0.043292\n",
       "B6    0.040274\n",
       "OH    0.038750\n",
       "AS    0.035912\n",
       "9E    0.034719\n",
       "YV    0.030349\n",
       "NK    0.027640\n",
       "F9    0.018307\n",
       "EV    0.017636\n",
       "G4    0.014370\n",
       "HA    0.011514\n",
       "Name: Reporting_Airline, dtype: float64"
      ]
     },
     "execution_count": 10,
     "metadata": {},
     "output_type": "execute_result"
    }
   ],
   "source": [
    "# ok this was beautiful.\n",
    "# let's look at the share of flights between them.\n",
    "flights.Reporting_Airline.value_counts(normalize=True)"
   ]
  },
  {
   "cell_type": "markdown",
   "metadata": {},
   "source": [
    "labels = ['At Risk', 'Bottom', 'BlaBla', 'Potential', 'Top']\n",
    "data = list(zip(labels, first['first_off'].values))\n",
    "\n",
    "fig, ax = plt.subplots(figsize=(4, 4))\n",
    "ax = default_plot(ax, ['left'])\n",
    "plt.xticks(rotation=90)\n",
    "plt.ylabel('% First Purchase Off')\n",
    "ax.xaxis.set_tick_params(length=0)\n",
    "ax.spines['bottom'].set_visible(False)\n",
    "plt.bar(range(len(data)), [x[1] for x in data], width=.9, color=[bottom_c, potential_c, at_risk_c, top_c])\n",
    "plt.xticks(range(len(data)), [x[0] for x in data])\n",
    "plt.tight_layout()\n",
    "plt.ylim(0, 30)\n",
    "plt.savefig('figures/final/off_first_purchase.png', dpi=300)\n",
    "plt.show()"
   ]
  },
  {
   "cell_type": "code",
   "execution_count": 56,
   "metadata": {},
   "outputs": [
    {
     "ename": "TypeError",
     "evalue": "get_colors() got an unexpected keyword argument 'plot'",
     "output_type": "error",
     "traceback": [
      "\u001b[1;31m---------------------------------------------------------------------------\u001b[0m",
      "\u001b[1;31mTypeError\u001b[0m                                 Traceback (most recent call last)",
      "\u001b[1;32m<ipython-input-56-b16f685d65d8>\u001b[0m in \u001b[0;36m<module>\u001b[1;34m\u001b[0m\n\u001b[0;32m      3\u001b[0m \u001b[1;33m\u001b[0m\u001b[0m\n\u001b[0;32m      4\u001b[0m \u001b[0mcmap\u001b[0m \u001b[1;33m=\u001b[0m \u001b[1;34m'viridis_r'\u001b[0m\u001b[1;33m\u001b[0m\u001b[1;33m\u001b[0m\u001b[0m\n\u001b[1;32m----> 5\u001b[1;33m \u001b[0mcolors\u001b[0m \u001b[1;33m=\u001b[0m \u001b[0mget_colors\u001b[0m\u001b[1;33m(\u001b[0m\u001b[0mcmap\u001b[0m\u001b[1;33m,\u001b[0m \u001b[0mdata\u001b[0m\u001b[1;33m.\u001b[0m\u001b[0mshape\u001b[0m\u001b[1;33m[\u001b[0m\u001b[1;36m0\u001b[0m\u001b[1;33m]\u001b[0m\u001b[1;33m,\u001b[0m \u001b[0mplot\u001b[0m\u001b[1;33m=\u001b[0m\u001b[1;32mFalse\u001b[0m\u001b[1;33m)\u001b[0m\u001b[1;33m\u001b[0m\u001b[1;33m\u001b[0m\u001b[0m\n\u001b[0m",
      "\u001b[1;31mTypeError\u001b[0m: get_colors() got an unexpected keyword argument 'plot'"
     ]
    }
   ],
   "source": [
    "airline_share = flights.Reporting_Airline.value_counts(normalize=True)\n",
    "data = pd.DataFrame(airline_share).reset_index().rename(columns={'index':'airline_code', 'Reporting_Airline':'market_share'})\n",
    "\n",
    "cmap = 'viridis_r'\n",
    "colors = get_colors(cmap, data.shape[0], plot=False)"
   ]
  },
  {
   "cell_type": "code",
   "execution_count": 52,
   "metadata": {},
   "outputs": [
    {
     "data": {
      "image/png": "[encoded data removed]",
      "text/plain": [
       "<Figure size 1224x72 with 1 Axes>"
      ]
     },
     "metadata": {
      "needs_background": "light"
     },
     "output_type": "display_data"
    },
    {
     "data": {
      "image/png": "[encoded data removed]",
      "text/plain": [
       "<Figure size 576x288 with 1 Axes>"
      ]
     },
     "metadata": {
      "needs_background": "light"
     },
     "output_type": "display_data"
    }
   ],
   "source": [
    "def categorical_bar(data, colors)\n",
    "\n",
    "    labels = list(data[data.columns[0]])\n",
    "    values = list(data[data.columns[1]])\n",
    "\n",
    "\n",
    "\n",
    "fig, ax = plt.subplots(figsize=(8,4))\n",
    "ax = default_plot(ax, ['left'])\n",
    "x = range(len(values))\n",
    "\n",
    "plt.ylabel('')\n",
    "plt.xticks(x, labels)\n",
    "plt.bar(x, values, width=.9, color=colors, edgecolor='k', lw=.5)\n",
    "plt.show()"
   ]
  },
  {
   "cell_type": "markdown",
   "metadata": {},
   "source": [
    "# Airports\n",
    "- Get database of worldwide Airports to extract information such as latitude, longitude, names, city and so on and merge with the IATA codes in our dataset."
   ]
  },
  {
   "cell_type": "code",
   "execution_count": 109,
   "metadata": {},
   "outputs": [],
   "source": [
    "airports_ds = pd.read_csv(data_path + 'world_airports.csv', index_col=0, names=['ID', 'NAME', 'CITY', 'COUNTRY', 'IATA', 'ICAO', 'LATITUDE', 'LONGITUDE', 'ALTITUDE', 'TIMEZONE', 'DST', 'TZ_OLSON', 'TYPE', 'SOURCE'])"
   ]
  },
  {
   "cell_type": "code",
   "execution_count": 110,
   "metadata": {},
   "outputs": [
    {
     "data": {
      "text/html": [
       "<div>\n",
       "<style scoped>\n",
       "    .dataframe tbody tr th:only-of-type {\n",
       "        vertical-align: middle;\n",
       "    }\n",
       "\n",
       "    .dataframe tbody tr th {\n",
       "        vertical-align: top;\n",
       "    }\n",
       "\n",
       "    .dataframe thead th {\n",
       "        text-align: right;\n",
       "    }\n",
       "</style>\n",
       "<table border=\"1\" class=\"dataframe\">\n",
       "  <thead>\n",
       "    <tr style=\"text-align: right;\">\n",
       "      <th></th>\n",
       "      <th>NAME</th>\n",
       "      <th>CITY</th>\n",
       "      <th>COUNTRY</th>\n",
       "      <th>IATA</th>\n",
       "      <th>ICAO</th>\n",
       "      <th>LATITUDE</th>\n",
       "      <th>LONGITUDE</th>\n",
       "      <th>ALTITUDE</th>\n",
       "      <th>TIMEZONE</th>\n",
       "      <th>DST</th>\n",
       "      <th>TZ_OLSON</th>\n",
       "      <th>TYPE</th>\n",
       "      <th>SOURCE</th>\n",
       "    </tr>\n",
       "    <tr>\n",
       "      <th>ID</th>\n",
       "      <th></th>\n",
       "      <th></th>\n",
       "      <th></th>\n",
       "      <th></th>\n",
       "      <th></th>\n",
       "      <th></th>\n",
       "      <th></th>\n",
       "      <th></th>\n",
       "      <th></th>\n",
       "      <th></th>\n",
       "      <th></th>\n",
       "      <th></th>\n",
       "      <th></th>\n",
       "    </tr>\n",
       "  </thead>\n",
       "  <tbody>\n",
       "    <tr>\n",
       "      <td>1970</td>\n",
       "      <td>Pago Pago International Airport</td>\n",
       "      <td>Pago Pago</td>\n",
       "      <td>American Samoa</td>\n",
       "      <td>PPG</td>\n",
       "      <td>NSTU</td>\n",
       "      <td>-14.331000</td>\n",
       "      <td>-170.710007</td>\n",
       "      <td>32</td>\n",
       "      <td>-11</td>\n",
       "      <td>U</td>\n",
       "      <td>Pacific/Pago_Pago</td>\n",
       "      <td>airport</td>\n",
       "      <td>OurAirports</td>\n",
       "    </tr>\n",
       "    <tr>\n",
       "      <td>2244</td>\n",
       "      <td>Saipan International Airport</td>\n",
       "      <td>Saipan</td>\n",
       "      <td>Northern Mariana Islands</td>\n",
       "      <td>SPN</td>\n",
       "      <td>PGSN</td>\n",
       "      <td>15.119000</td>\n",
       "      <td>145.729004</td>\n",
       "      <td>215</td>\n",
       "      <td>10</td>\n",
       "      <td>U</td>\n",
       "      <td>Pacific/Saipan</td>\n",
       "      <td>airport</td>\n",
       "      <td>OurAirports</td>\n",
       "    </tr>\n",
       "    <tr>\n",
       "      <td>2246</td>\n",
       "      <td>Antonio B. Won Pat International Airport</td>\n",
       "      <td>Agana</td>\n",
       "      <td>Guam</td>\n",
       "      <td>GUM</td>\n",
       "      <td>PGUM</td>\n",
       "      <td>13.483400</td>\n",
       "      <td>144.796005</td>\n",
       "      <td>298</td>\n",
       "      <td>10</td>\n",
       "      <td>U</td>\n",
       "      <td>Pacific/Guam</td>\n",
       "      <td>airport</td>\n",
       "      <td>OurAirports</td>\n",
       "    </tr>\n",
       "    <tr>\n",
       "      <td>2883</td>\n",
       "      <td>Cyril E. King Airport</td>\n",
       "      <td>St. Thomas</td>\n",
       "      <td>Virgin Islands</td>\n",
       "      <td>STT</td>\n",
       "      <td>TIST</td>\n",
       "      <td>18.337299</td>\n",
       "      <td>-64.973396</td>\n",
       "      <td>23</td>\n",
       "      <td>-4</td>\n",
       "      <td>U</td>\n",
       "      <td>America/St_Thomas</td>\n",
       "      <td>airport</td>\n",
       "      <td>OurAirports</td>\n",
       "    </tr>\n",
       "    <tr>\n",
       "      <td>2884</td>\n",
       "      <td>Henry E Rohlsen Airport</td>\n",
       "      <td>St. Croix Island</td>\n",
       "      <td>Virgin Islands</td>\n",
       "      <td>STX</td>\n",
       "      <td>TISX</td>\n",
       "      <td>17.701900</td>\n",
       "      <td>-64.798599</td>\n",
       "      <td>74</td>\n",
       "      <td>-4</td>\n",
       "      <td>U</td>\n",
       "      <td>America/St_Thomas</td>\n",
       "      <td>airport</td>\n",
       "      <td>OurAirports</td>\n",
       "    </tr>\n",
       "    <tr>\n",
       "      <td>...</td>\n",
       "      <td>...</td>\n",
       "      <td>...</td>\n",
       "      <td>...</td>\n",
       "      <td>...</td>\n",
       "      <td>...</td>\n",
       "      <td>...</td>\n",
       "      <td>...</td>\n",
       "      <td>...</td>\n",
       "      <td>...</td>\n",
       "      <td>...</td>\n",
       "      <td>...</td>\n",
       "      <td>...</td>\n",
       "      <td>...</td>\n",
       "    </tr>\n",
       "    <tr>\n",
       "      <td>8314</td>\n",
       "      <td>Hilton Head Airport</td>\n",
       "      <td>Hilton Head Island</td>\n",
       "      <td>United States</td>\n",
       "      <td>HHH</td>\n",
       "      <td>KHXD</td>\n",
       "      <td>32.224400</td>\n",
       "      <td>-80.697502</td>\n",
       "      <td>19</td>\n",
       "      <td>-5</td>\n",
       "      <td>A</td>\n",
       "      <td>America/New_York</td>\n",
       "      <td>airport</td>\n",
       "      <td>OurAirports</td>\n",
       "    </tr>\n",
       "    <tr>\n",
       "      <td>9543</td>\n",
       "      <td>Ogden Hinckley Airport</td>\n",
       "      <td>Ogden</td>\n",
       "      <td>United States</td>\n",
       "      <td>OGD</td>\n",
       "      <td>KOGD</td>\n",
       "      <td>41.195900</td>\n",
       "      <td>-112.012001</td>\n",
       "      <td>4473</td>\n",
       "      <td>-7</td>\n",
       "      <td>A</td>\n",
       "      <td>America/Denver</td>\n",
       "      <td>airport</td>\n",
       "      <td>OurAirports</td>\n",
       "    </tr>\n",
       "    <tr>\n",
       "      <td>9776</td>\n",
       "      <td>Stillwater Regional Airport</td>\n",
       "      <td>Stillwater</td>\n",
       "      <td>United States</td>\n",
       "      <td>SWO</td>\n",
       "      <td>KSWO</td>\n",
       "      <td>36.161201</td>\n",
       "      <td>-97.085701</td>\n",
       "      <td>1000</td>\n",
       "      <td>-6</td>\n",
       "      <td>A</td>\n",
       "      <td>America/Chicago</td>\n",
       "      <td>airport</td>\n",
       "      <td>OurAirports</td>\n",
       "    </tr>\n",
       "    <tr>\n",
       "      <td>14111</td>\n",
       "      <td>Williston Basin International Airport</td>\n",
       "      <td>Williston</td>\n",
       "      <td>United States</td>\n",
       "      <td>XWA</td>\n",
       "      <td>KXWA</td>\n",
       "      <td>48.259722</td>\n",
       "      <td>-103.750556</td>\n",
       "      <td>\\N</td>\n",
       "      <td>\\N</td>\n",
       "      <td>\\N</td>\n",
       "      <td>\\N</td>\n",
       "      <td>airport</td>\n",
       "      <td>\\N</td>\n",
       "    </tr>\n",
       "    <tr>\n",
       "      <td>14112</td>\n",
       "      <td>Kearney Regional Airport</td>\n",
       "      <td>Kearney</td>\n",
       "      <td>United States</td>\n",
       "      <td>EAR</td>\n",
       "      <td>KEAR</td>\n",
       "      <td>40.726944</td>\n",
       "      <td>-99.006667</td>\n",
       "      <td>\\N</td>\n",
       "      <td>\\N</td>\n",
       "      <td>\\N</td>\n",
       "      <td>\\N</td>\n",
       "      <td>airport</td>\n",
       "      <td>\\N</td>\n",
       "    </tr>\n",
       "  </tbody>\n",
       "</table>\n",
       "<p>360 rows × 13 columns</p>\n",
       "</div>"
      ],
      "text/plain": [
       "                                           NAME                CITY  \\\n",
       "ID                                                                    \n",
       "1970            Pago Pago International Airport           Pago Pago   \n",
       "2244               Saipan International Airport              Saipan   \n",
       "2246   Antonio B. Won Pat International Airport               Agana   \n",
       "2883                      Cyril E. King Airport          St. Thomas   \n",
       "2884                    Henry E Rohlsen Airport    St. Croix Island   \n",
       "...                                         ...                 ...   \n",
       "8314                        Hilton Head Airport  Hilton Head Island   \n",
       "9543                     Ogden Hinckley Airport               Ogden   \n",
       "9776                Stillwater Regional Airport          Stillwater   \n",
       "14111     Williston Basin International Airport           Williston   \n",
       "14112                  Kearney Regional Airport             Kearney   \n",
       "\n",
       "                        COUNTRY IATA  ICAO   LATITUDE   LONGITUDE ALTITUDE  \\\n",
       "ID                                                                           \n",
       "1970             American Samoa  PPG  NSTU -14.331000 -170.710007       32   \n",
       "2244   Northern Mariana Islands  SPN  PGSN  15.119000  145.729004      215   \n",
       "2246                       Guam  GUM  PGUM  13.483400  144.796005      298   \n",
       "2883             Virgin Islands  STT  TIST  18.337299  -64.973396       23   \n",
       "2884             Virgin Islands  STX  TISX  17.701900  -64.798599       74   \n",
       "...                         ...  ...   ...        ...         ...      ...   \n",
       "8314              United States  HHH  KHXD  32.224400  -80.697502       19   \n",
       "9543              United States  OGD  KOGD  41.195900 -112.012001     4473   \n",
       "9776              United States  SWO  KSWO  36.161201  -97.085701     1000   \n",
       "14111             United States  XWA  KXWA  48.259722 -103.750556       \\N   \n",
       "14112             United States  EAR  KEAR  40.726944  -99.006667       \\N   \n",
       "\n",
       "      TIMEZONE DST           TZ_OLSON     TYPE       SOURCE  \n",
       "ID                                                           \n",
       "1970       -11   U  Pacific/Pago_Pago  airport  OurAirports  \n",
       "2244        10   U     Pacific/Saipan  airport  OurAirports  \n",
       "2246        10   U       Pacific/Guam  airport  OurAirports  \n",
       "2883        -4   U  America/St_Thomas  airport  OurAirports  \n",
       "2884        -4   U  America/St_Thomas  airport  OurAirports  \n",
       "...        ...  ..                ...      ...          ...  \n",
       "8314        -5   A   America/New_York  airport  OurAirports  \n",
       "9543        -7   A     America/Denver  airport  OurAirports  \n",
       "9776        -6   A    America/Chicago  airport  OurAirports  \n",
       "14111       \\N  \\N                 \\N  airport           \\N  \n",
       "14112       \\N  \\N                 \\N  airport           \\N  \n",
       "\n",
       "[360 rows x 13 columns]"
      ]
     },
     "execution_count": 110,
     "metadata": {},
     "output_type": "execute_result"
    }
   ],
   "source": [
    "# grab all the airports in our dataset\n",
    "airports = flights.Origin.unique()\n",
    "\n",
    "# create a dictionary for airport name with IATA codes\n",
    "airport_dictionary = {k:airports_ds.loc[airports_ds.IATA == k, 'NAME'].values[0] for k in airports}\n",
    "\n",
    "# apparently there are 2 airports in our dataset that are not present in the database, I could just \n",
    "# drop all the flights that involve these locations, bu I kind of like to fix it.\n",
    "# all we need are their names and their locations\n",
    "\n",
    "airports_ds = airports_ds[airports_ds.IATA.isin(airports)]\n",
    "airports_ds"
   ]
  },
  {
   "cell_type": "code",
   "execution_count": 111,
   "metadata": {},
   "outputs": [
    {
     "data": {
      "text/plain": [
       "<matplotlib.axes._subplots.AxesSubplot at 0x1ad2d257e48>"
      ]
     },
     "execution_count": 111,
     "metadata": {},
     "output_type": "execute_result"
    },
    {
     "data": {
      "image/png": "[encoded data removed]",
      "text/plain": [
       "<Figure size 432x288 with 1 Axes>"
      ]
     },
     "metadata": {
      "needs_background": "light"
     },
     "output_type": "display_data"
    }
   ],
   "source": [
    "# top 20 airports by number of flights\n",
    "flights.Origin.value_counts()[:20].plot.bar()"
   ]
  },
  {
   "cell_type": "markdown",
   "metadata": {},
   "source": [
    "## Dates"
   ]
  },
  {
   "cell_type": "code",
   "execution_count": 112,
   "metadata": {},
   "outputs": [
    {
     "data": {
      "text/plain": [
       "dtype('O')"
      ]
     },
     "execution_count": 112,
     "metadata": {},
     "output_type": "execute_result"
    }
   ],
   "source": [
    "flights.FlightDate.dtypes"
   ]
  },
  {
   "cell_type": "code",
   "execution_count": 113,
   "metadata": {},
   "outputs": [],
   "source": [
    "# Our flight date is still an object, let's change it to datetime.\n",
    "flights.FlightDate = pd.to_datetime(flights.FlightDate)"
   ]
  },
  {
   "cell_type": "code",
   "execution_count": 114,
   "metadata": {},
   "outputs": [
    {
     "data": {
      "text/plain": [
       "<matplotlib.axes._subplots.AxesSubplot at 0x1ad2d208dc8>"
      ]
     },
     "execution_count": 114,
     "metadata": {},
     "output_type": "execute_result"
    },
    {
     "data": {
      "image/png": "[encoded data removed]",
      "text/plain": [
       "<Figure size 432x288 with 1 Axes>"
      ]
     },
     "metadata": {
      "needs_background": "light"
     },
     "output_type": "display_data"
    }
   ],
   "source": [
    "\n",
    "monthly_flights = flights.groupby(flights.FlightDate.dt.day).agg(count=('FlightDate', 'count'))\n",
    "monthly_flights.plot(kind=\"bar\")"
   ]
  },
  {
   "cell_type": "markdown",
   "metadata": {},
   "source": [
    "We could explore this dataset forever, I still kind of want to, but let's get to what matters\n",
    "# Delays\n",
    "- For now the threshold for delay will be 15 min."
   ]
  },
  {
   "cell_type": "code",
   "execution_count": 115,
   "metadata": {
    "scrolled": false
   },
   "outputs": [
    {
     "data": {
      "image/png": "[encoded data removed]",
      "text/plain": [
       "<Figure size 432x288 with 1 Axes>"
      ]
     },
     "metadata": {
      "needs_background": "light"
     },
     "output_type": "display_data"
    }
   ],
   "source": [
    "# let's look at the distribution of delays\n",
    "plt.hist(flights['ArrDelay'], bins= 50, range=(-60, 200));"
   ]
  },
  {
   "cell_type": "code",
   "execution_count": 118,
   "metadata": {},
   "outputs": [
    {
     "data": {
      "text/html": [
       "<div>\n",
       "<style scoped>\n",
       "    .dataframe tbody tr th:only-of-type {\n",
       "        vertical-align: middle;\n",
       "    }\n",
       "\n",
       "    .dataframe tbody tr th {\n",
       "        vertical-align: top;\n",
       "    }\n",
       "\n",
       "    .dataframe thead th {\n",
       "        text-align: right;\n",
       "    }\n",
       "</style>\n",
       "<table border=\"1\" class=\"dataframe\">\n",
       "  <thead>\n",
       "    <tr style=\"text-align: right;\">\n",
       "      <th></th>\n",
       "      <th>CRSDepTime</th>\n",
       "      <th>delay_off</th>\n",
       "    </tr>\n",
       "  </thead>\n",
       "  <tbody>\n",
       "    <tr>\n",
       "      <td>0</td>\n",
       "      <td>1</td>\n",
       "      <td>0.046512</td>\n",
       "    </tr>\n",
       "    <tr>\n",
       "      <td>1</td>\n",
       "      <td>2</td>\n",
       "      <td>0.086207</td>\n",
       "    </tr>\n",
       "    <tr>\n",
       "      <td>2</td>\n",
       "      <td>3</td>\n",
       "      <td>0.166667</td>\n",
       "    </tr>\n",
       "    <tr>\n",
       "      <td>3</td>\n",
       "      <td>4</td>\n",
       "      <td>0.186047</td>\n",
       "    </tr>\n",
       "    <tr>\n",
       "      <td>4</td>\n",
       "      <td>5</td>\n",
       "      <td>0.185550</td>\n",
       "    </tr>\n",
       "    <tr>\n",
       "      <td>...</td>\n",
       "      <td>...</td>\n",
       "      <td>...</td>\n",
       "    </tr>\n",
       "    <tr>\n",
       "      <td>1373</td>\n",
       "      <td>2355</td>\n",
       "      <td>0.168013</td>\n",
       "    </tr>\n",
       "    <tr>\n",
       "      <td>1374</td>\n",
       "      <td>2356</td>\n",
       "      <td>0.183983</td>\n",
       "    </tr>\n",
       "    <tr>\n",
       "      <td>1375</td>\n",
       "      <td>2357</td>\n",
       "      <td>0.216981</td>\n",
       "    </tr>\n",
       "    <tr>\n",
       "      <td>1376</td>\n",
       "      <td>2358</td>\n",
       "      <td>0.210445</td>\n",
       "    </tr>\n",
       "    <tr>\n",
       "      <td>1377</td>\n",
       "      <td>2359</td>\n",
       "      <td>0.213229</td>\n",
       "    </tr>\n",
       "  </tbody>\n",
       "</table>\n",
       "<p>1378 rows × 2 columns</p>\n",
       "</div>"
      ],
      "text/plain": [
       "      CRSDepTime  delay_off\n",
       "0              1   0.046512\n",
       "1              2   0.086207\n",
       "2              3   0.166667\n",
       "3              4   0.186047\n",
       "4              5   0.185550\n",
       "...          ...        ...\n",
       "1373        2355   0.168013\n",
       "1374        2356   0.183983\n",
       "1375        2357   0.216981\n",
       "1376        2358   0.210445\n",
       "1377        2359   0.213229\n",
       "\n",
       "[1378 rows x 2 columns]"
      ]
     },
     "execution_count": 118,
     "metadata": {},
     "output_type": "execute_result"
    }
   ],
   "source": [
    "# Delays by day of the week\n",
    "delays_by_day_of_week = flights.pivot_table(index=['CRSDepTime'], aggfunc={'delay_off': lambda x: np.sum(x)/len(x)}).reset_index()\n",
    "delays_by_day_of_week"
   ]
  },
  {
   "cell_type": "code",
   "execution_count": 119,
   "metadata": {},
   "outputs": [
    {
     "data": {
      "text/plain": [
       "[<matplotlib.lines.Line2D at 0x1acd71a9c08>]"
      ]
     },
     "execution_count": 119,
     "metadata": {},
     "output_type": "execute_result"
    },
    {
     "data": {
      "image/png": "[encoded data removed]",
      "text/plain": [
       "<Figure size 432x288 with 1 Axes>"
      ]
     },
     "metadata": {
      "needs_background": "light"
     },
     "output_type": "display_data"
    }
   ],
   "source": [
    "plt.plot(delays_by_day_of_week.CRSDepTime, delays_by_day_of_week.delay_off)"
   ]
  },
  {
   "cell_type": "code",
   "execution_count": 120,
   "metadata": {},
   "outputs": [],
   "source": [
    "# departure and arrival delays (> threshold)\n",
    "delay_threshold = 15\n",
    "flights['delay_on'] = np.where(flights['DepDelay'] >= delay_threshold, 1, 0)\n",
    "flights['delay_off'] = np.where(flights['ArrDelay'] >= delay_threshold, 1, 0)\n",
    "flights['delay_averted'] = np.where(flights.delay_on - flights.delay_off == 1, 1, 0)\n",
    "flights['delay_on_air'] = np.where(flights.delay_on - flights.delay_off == -1, 1, 0)"
   ]
  },
  {
   "cell_type": "code",
   "execution_count": 121,
   "metadata": {},
   "outputs": [
    {
     "data": {
      "text/plain": [
       "0    0.813784\n",
       "1    0.186216\n",
       "Name: delay_on, dtype: float64"
      ]
     },
     "execution_count": 121,
     "metadata": {},
     "output_type": "execute_result"
    }
   ],
   "source": [
    "# calculate total percentage of flights delayed on departure\n",
    "flights.delay_on.value_counts(normalize=True)"
   ]
  },
  {
   "cell_type": "code",
   "execution_count": 122,
   "metadata": {},
   "outputs": [
    {
     "data": {
      "text/plain": [
       "0    0.80886\n",
       "1    0.19114\n",
       "Name: delay_off, dtype: float64"
      ]
     },
     "execution_count": 122,
     "metadata": {},
     "output_type": "execute_result"
    }
   ],
   "source": [
    "# calculate total percentage of flights delayed on arrival\n",
    "flights.delay_off.value_counts(normalize=True)"
   ]
  },
  {
   "cell_type": "code",
   "execution_count": 123,
   "metadata": {},
   "outputs": [
    {
     "data": {
      "text/plain": [
       "0    0.963349\n",
       "1    0.036651\n",
       "Name: delay_averted, dtype: float64"
      ]
     },
     "execution_count": 123,
     "metadata": {},
     "output_type": "execute_result"
    }
   ],
   "source": [
    "# calculate total percentage of flights delayed on departure but arrived on time\n",
    "flights.delay_averted.value_counts(normalize=True)"
   ]
  },
  {
   "cell_type": "code",
   "execution_count": 124,
   "metadata": {},
   "outputs": [
    {
     "data": {
      "text/plain": [
       "0    0.958424\n",
       "1    0.041576\n",
       "Name: delay_on_air, dtype: float64"
      ]
     },
     "execution_count": 124,
     "metadata": {},
     "output_type": "execute_result"
    }
   ],
   "source": [
    "# calculate total percentage of flights departed on time but arrived late\n",
    "flights.delay_on_air.value_counts(normalize=True)"
   ]
  },
  {
   "cell_type": "code",
   "execution_count": 125,
   "metadata": {},
   "outputs": [],
   "source": [
    "# group by airline and get percentage of delays\n",
    "delays_by_airline = flights.pivot_table(index=['Reporting_Airline'], aggfunc={'delay_off': lambda x: np.sum(x)/len(x)}).reset_index()"
   ]
  },
  {
   "cell_type": "code",
   "execution_count": 126,
   "metadata": {},
   "outputs": [
    {
     "data": {
      "text/html": [
       "<div>\n",
       "<style scoped>\n",
       "    .dataframe tbody tr th:only-of-type {\n",
       "        vertical-align: middle;\n",
       "    }\n",
       "\n",
       "    .dataframe tbody tr th {\n",
       "        vertical-align: top;\n",
       "    }\n",
       "\n",
       "    .dataframe thead th {\n",
       "        text-align: right;\n",
       "    }\n",
       "</style>\n",
       "<table border=\"1\" class=\"dataframe\">\n",
       "  <thead>\n",
       "    <tr style=\"text-align: right;\">\n",
       "      <th></th>\n",
       "      <th>Reporting_Airline</th>\n",
       "      <th>delay_off</th>\n",
       "    </tr>\n",
       "  </thead>\n",
       "  <tbody>\n",
       "    <tr>\n",
       "      <td>5</td>\n",
       "      <td>EV</td>\n",
       "      <td>0.257755</td>\n",
       "    </tr>\n",
       "    <tr>\n",
       "      <td>6</td>\n",
       "      <td>F9</td>\n",
       "      <td>0.254928</td>\n",
       "    </tr>\n",
       "    <tr>\n",
       "      <td>3</td>\n",
       "      <td>B6</td>\n",
       "      <td>0.253252</td>\n",
       "    </tr>\n",
       "    <tr>\n",
       "      <td>13</td>\n",
       "      <td>UA</td>\n",
       "      <td>0.213568</td>\n",
       "    </tr>\n",
       "    <tr>\n",
       "      <td>15</td>\n",
       "      <td>YV</td>\n",
       "      <td>0.211654</td>\n",
       "    </tr>\n",
       "    <tr>\n",
       "      <td>1</td>\n",
       "      <td>AA</td>\n",
       "      <td>0.211089</td>\n",
       "    </tr>\n",
       "    <tr>\n",
       "      <td>9</td>\n",
       "      <td>MQ</td>\n",
       "      <td>0.209253</td>\n",
       "    </tr>\n",
       "    <tr>\n",
       "      <td>7</td>\n",
       "      <td>G4</td>\n",
       "      <td>0.206246</td>\n",
       "    </tr>\n",
       "    <tr>\n",
       "      <td>11</td>\n",
       "      <td>OH</td>\n",
       "      <td>0.197861</td>\n",
       "    </tr>\n",
       "    <tr>\n",
       "      <td>16</td>\n",
       "      <td>YX</td>\n",
       "      <td>0.192458</td>\n",
       "    </tr>\n",
       "    <tr>\n",
       "      <td>10</td>\n",
       "      <td>NK</td>\n",
       "      <td>0.189117</td>\n",
       "    </tr>\n",
       "    <tr>\n",
       "      <td>12</td>\n",
       "      <td>OO</td>\n",
       "      <td>0.187678</td>\n",
       "    </tr>\n",
       "    <tr>\n",
       "      <td>2</td>\n",
       "      <td>AS</td>\n",
       "      <td>0.185273</td>\n",
       "    </tr>\n",
       "    <tr>\n",
       "      <td>14</td>\n",
       "      <td>WN</td>\n",
       "      <td>0.175592</td>\n",
       "    </tr>\n",
       "    <tr>\n",
       "      <td>0</td>\n",
       "      <td>9E</td>\n",
       "      <td>0.175353</td>\n",
       "    </tr>\n",
       "    <tr>\n",
       "      <td>4</td>\n",
       "      <td>DL</td>\n",
       "      <td>0.144754</td>\n",
       "    </tr>\n",
       "    <tr>\n",
       "      <td>8</td>\n",
       "      <td>HA</td>\n",
       "      <td>0.114436</td>\n",
       "    </tr>\n",
       "  </tbody>\n",
       "</table>\n",
       "</div>"
      ],
      "text/plain": [
       "   Reporting_Airline  delay_off\n",
       "5                 EV   0.257755\n",
       "6                 F9   0.254928\n",
       "3                 B6   0.253252\n",
       "13                UA   0.213568\n",
       "15                YV   0.211654\n",
       "1                 AA   0.211089\n",
       "9                 MQ   0.209253\n",
       "7                 G4   0.206246\n",
       "11                OH   0.197861\n",
       "16                YX   0.192458\n",
       "10                NK   0.189117\n",
       "12                OO   0.187678\n",
       "2                 AS   0.185273\n",
       "14                WN   0.175592\n",
       "0                 9E   0.175353\n",
       "4                 DL   0.144754\n",
       "8                 HA   0.114436"
      ]
     },
     "execution_count": 126,
     "metadata": {},
     "output_type": "execute_result"
    }
   ],
   "source": [
    "delays_by_airline.sort_values(by='delay_off', ascending=False)"
   ]
  },
  {
   "cell_type": "code",
   "execution_count": 127,
   "metadata": {},
   "outputs": [],
   "source": [
    "delays_by_airport = flights.pivot_table(index=['Dest'], aggfunc={'delay_off': lambda x: np.sum(x)/len(x)}).reset_index().sort_values(by='delay_off', ascending=False)"
   ]
  },
  {
   "cell_type": "code",
   "execution_count": 128,
   "metadata": {},
   "outputs": [
    {
     "data": {
      "text/html": [
       "<div>\n",
       "<style scoped>\n",
       "    .dataframe tbody tr th:only-of-type {\n",
       "        vertical-align: middle;\n",
       "    }\n",
       "\n",
       "    .dataframe tbody tr th {\n",
       "        vertical-align: top;\n",
       "    }\n",
       "\n",
       "    .dataframe thead th {\n",
       "        text-align: right;\n",
       "    }\n",
       "</style>\n",
       "<table border=\"1\" class=\"dataframe\">\n",
       "  <thead>\n",
       "    <tr style=\"text-align: right;\">\n",
       "      <th></th>\n",
       "      <th>Dest</th>\n",
       "      <th>delay_off</th>\n",
       "    </tr>\n",
       "  </thead>\n",
       "  <tbody>\n",
       "    <tr>\n",
       "      <td>274</td>\n",
       "      <td>PSE</td>\n",
       "      <td>0.327183</td>\n",
       "    </tr>\n",
       "    <tr>\n",
       "      <td>115</td>\n",
       "      <td>EWR</td>\n",
       "      <td>0.302094</td>\n",
       "    </tr>\n",
       "    <tr>\n",
       "      <td>222</td>\n",
       "      <td>MKG</td>\n",
       "      <td>0.300442</td>\n",
       "    </tr>\n",
       "    <tr>\n",
       "      <td>204</td>\n",
       "      <td>LWB</td>\n",
       "      <td>0.291139</td>\n",
       "    </tr>\n",
       "    <tr>\n",
       "      <td>250</td>\n",
       "      <td>OTH</td>\n",
       "      <td>0.290960</td>\n",
       "    </tr>\n",
       "    <tr>\n",
       "      <td>...</td>\n",
       "      <td>...</td>\n",
       "      <td>...</td>\n",
       "    </tr>\n",
       "    <tr>\n",
       "      <td>355</td>\n",
       "      <td>WYS</td>\n",
       "      <td>0.062016</td>\n",
       "    </tr>\n",
       "    <tr>\n",
       "      <td>205</td>\n",
       "      <td>LWS</td>\n",
       "      <td>0.058223</td>\n",
       "    </tr>\n",
       "    <tr>\n",
       "      <td>107</td>\n",
       "      <td>EKO</td>\n",
       "      <td>0.056801</td>\n",
       "    </tr>\n",
       "    <tr>\n",
       "      <td>53</td>\n",
       "      <td>BTM</td>\n",
       "      <td>0.048961</td>\n",
       "    </tr>\n",
       "    <tr>\n",
       "      <td>13</td>\n",
       "      <td>AKN</td>\n",
       "      <td>0.016393</td>\n",
       "    </tr>\n",
       "  </tbody>\n",
       "</table>\n",
       "<p>360 rows × 2 columns</p>\n",
       "</div>"
      ],
      "text/plain": [
       "    Dest  delay_off\n",
       "274  PSE   0.327183\n",
       "115  EWR   0.302094\n",
       "222  MKG   0.300442\n",
       "204  LWB   0.291139\n",
       "250  OTH   0.290960\n",
       "..   ...        ...\n",
       "355  WYS   0.062016\n",
       "205  LWS   0.058223\n",
       "107  EKO   0.056801\n",
       "53   BTM   0.048961\n",
       "13   AKN   0.016393\n",
       "\n",
       "[360 rows x 2 columns]"
      ]
     },
     "execution_count": 128,
     "metadata": {},
     "output_type": "execute_result"
    }
   ],
   "source": [
    "delays_by_airport"
   ]
  },
  {
   "cell_type": "markdown",
   "metadata": {},
   "source": [
    "# Plotting Airports on Map by % of Flights Delayed"
   ]
  },
  {
   "cell_type": "code",
   "execution_count": 129,
   "metadata": {
    "scrolled": true
   },
   "outputs": [],
   "source": [
    "# merge delay data onto location data\n",
    "delay_map = airports_ds[['IATA','NAME','LATITUDE', 'LONGITUDE']].merge(delays_by_airport[['Dest', 'delay_off']], left_on='IATA', right_on='Dest')"
   ]
  },
  {
   "cell_type": "code",
   "execution_count": 130,
   "metadata": {},
   "outputs": [
    {
     "data": {
      "text/html": [
       "<div>\n",
       "<style scoped>\n",
       "    .dataframe tbody tr th:only-of-type {\n",
       "        vertical-align: middle;\n",
       "    }\n",
       "\n",
       "    .dataframe tbody tr th {\n",
       "        vertical-align: top;\n",
       "    }\n",
       "\n",
       "    .dataframe thead th {\n",
       "        text-align: right;\n",
       "    }\n",
       "</style>\n",
       "<table border=\"1\" class=\"dataframe\">\n",
       "  <thead>\n",
       "    <tr style=\"text-align: right;\">\n",
       "      <th></th>\n",
       "      <th>IATA</th>\n",
       "      <th>NAME</th>\n",
       "      <th>LATITUDE</th>\n",
       "      <th>LONGITUDE</th>\n",
       "      <th>Dest</th>\n",
       "      <th>delay_off</th>\n",
       "    </tr>\n",
       "  </thead>\n",
       "  <tbody>\n",
       "    <tr>\n",
       "      <td>0</td>\n",
       "      <td>PPG</td>\n",
       "      <td>Pago Pago International Airport</td>\n",
       "      <td>-14.331000</td>\n",
       "      <td>-170.710007</td>\n",
       "      <td>PPG</td>\n",
       "      <td>0.266667</td>\n",
       "    </tr>\n",
       "    <tr>\n",
       "      <td>1</td>\n",
       "      <td>SPN</td>\n",
       "      <td>Saipan International Airport</td>\n",
       "      <td>15.119000</td>\n",
       "      <td>145.729004</td>\n",
       "      <td>SPN</td>\n",
       "      <td>0.097872</td>\n",
       "    </tr>\n",
       "    <tr>\n",
       "      <td>2</td>\n",
       "      <td>GUM</td>\n",
       "      <td>Antonio B. Won Pat International Airport</td>\n",
       "      <td>13.483400</td>\n",
       "      <td>144.796005</td>\n",
       "      <td>GUM</td>\n",
       "      <td>0.122156</td>\n",
       "    </tr>\n",
       "    <tr>\n",
       "      <td>3</td>\n",
       "      <td>STT</td>\n",
       "      <td>Cyril E. King Airport</td>\n",
       "      <td>18.337299</td>\n",
       "      <td>-64.973396</td>\n",
       "      <td>STT</td>\n",
       "      <td>0.178476</td>\n",
       "    </tr>\n",
       "    <tr>\n",
       "      <td>4</td>\n",
       "      <td>STX</td>\n",
       "      <td>Henry E Rohlsen Airport</td>\n",
       "      <td>17.701900</td>\n",
       "      <td>-64.798599</td>\n",
       "      <td>STX</td>\n",
       "      <td>0.172103</td>\n",
       "    </tr>\n",
       "    <tr>\n",
       "      <td>...</td>\n",
       "      <td>...</td>\n",
       "      <td>...</td>\n",
       "      <td>...</td>\n",
       "      <td>...</td>\n",
       "      <td>...</td>\n",
       "      <td>...</td>\n",
       "    </tr>\n",
       "    <tr>\n",
       "      <td>355</td>\n",
       "      <td>HHH</td>\n",
       "      <td>Hilton Head Airport</td>\n",
       "      <td>32.224400</td>\n",
       "      <td>-80.697502</td>\n",
       "      <td>HHH</td>\n",
       "      <td>0.208007</td>\n",
       "    </tr>\n",
       "    <tr>\n",
       "      <td>356</td>\n",
       "      <td>OGD</td>\n",
       "      <td>Ogden Hinckley Airport</td>\n",
       "      <td>41.195900</td>\n",
       "      <td>-112.012001</td>\n",
       "      <td>OGD</td>\n",
       "      <td>0.192308</td>\n",
       "    </tr>\n",
       "    <tr>\n",
       "      <td>357</td>\n",
       "      <td>SWO</td>\n",
       "      <td>Stillwater Regional Airport</td>\n",
       "      <td>36.161201</td>\n",
       "      <td>-97.085701</td>\n",
       "      <td>SWO</td>\n",
       "      <td>0.138790</td>\n",
       "    </tr>\n",
       "    <tr>\n",
       "      <td>358</td>\n",
       "      <td>XWA</td>\n",
       "      <td>Williston Basin International Airport</td>\n",
       "      <td>48.259722</td>\n",
       "      <td>-103.750556</td>\n",
       "      <td>XWA</td>\n",
       "      <td>0.163366</td>\n",
       "    </tr>\n",
       "    <tr>\n",
       "      <td>359</td>\n",
       "      <td>EAR</td>\n",
       "      <td>Kearney Regional Airport</td>\n",
       "      <td>40.726944</td>\n",
       "      <td>-99.006667</td>\n",
       "      <td>EAR</td>\n",
       "      <td>0.208012</td>\n",
       "    </tr>\n",
       "  </tbody>\n",
       "</table>\n",
       "<p>360 rows × 6 columns</p>\n",
       "</div>"
      ],
      "text/plain": [
       "    IATA                                      NAME   LATITUDE   LONGITUDE  \\\n",
       "0    PPG           Pago Pago International Airport -14.331000 -170.710007   \n",
       "1    SPN              Saipan International Airport  15.119000  145.729004   \n",
       "2    GUM  Antonio B. Won Pat International Airport  13.483400  144.796005   \n",
       "3    STT                     Cyril E. King Airport  18.337299  -64.973396   \n",
       "4    STX                   Henry E Rohlsen Airport  17.701900  -64.798599   \n",
       "..   ...                                       ...        ...         ...   \n",
       "355  HHH                       Hilton Head Airport  32.224400  -80.697502   \n",
       "356  OGD                    Ogden Hinckley Airport  41.195900 -112.012001   \n",
       "357  SWO               Stillwater Regional Airport  36.161201  -97.085701   \n",
       "358  XWA     Williston Basin International Airport  48.259722 -103.750556   \n",
       "359  EAR                  Kearney Regional Airport  40.726944  -99.006667   \n",
       "\n",
       "    Dest  delay_off  \n",
       "0    PPG   0.266667  \n",
       "1    SPN   0.097872  \n",
       "2    GUM   0.122156  \n",
       "3    STT   0.178476  \n",
       "4    STX   0.172103  \n",
       "..   ...        ...  \n",
       "355  HHH   0.208007  \n",
       "356  OGD   0.192308  \n",
       "357  SWO   0.138790  \n",
       "358  XWA   0.163366  \n",
       "359  EAR   0.208012  \n",
       "\n",
       "[360 rows x 6 columns]"
      ]
     },
     "execution_count": 130,
     "metadata": {},
     "output_type": "execute_result"
    }
   ],
   "source": [
    "delay_map"
   ]
  },
  {
   "cell_type": "code",
   "execution_count": 131,
   "metadata": {},
   "outputs": [
    {
     "data": {
      "application/vnd.plotly.v1+json": {
       "config": {
        "plotlyServerURL": "https://plot.ly"
       },
       "data": [
        {
         "lat": [
          -14.3310003281,
          15.119000000000002,
          13.4834003448,
          18.337299346923828,
          17.701900482177734,
          18.49489974975586,
          18.00830078125,
          18.4393997192,
          19.721399307250977,
          35.33660125732422,
          47.949298999999996,
          34.65449905,
          40.27669906616211,
          42.36429977,
          30.626800537100006,
          37.721298,
          41.3032,
          20.8986,
          37.649899,
          39.2976,
          43.13990020751953,
          59.04470062,
          33.43429946899414,
          44.80739974975586,
          32.38399887084961,
          47.61989974975586,
          37.61899948120117,
          29.6900997162,
          35.04240036010742,
          33.94250107,
          41.411701202399996,
          39.0488014221,
          58.35499954223633,
          30.20529938,
          40.69250106811523,
          43.5644,
          37.9275016785,
          48.2593994140625,
          32.847099,
          46.6068000793457,
          30.12610054016113,
          19.738782999999998,
          33.6796989441,
          41.25310135,
          38.8521,
          39.45759963989258,
          38.289100646972656,
          57.75,
          26.072599,
          48.566200256347656,
          40.78839874267578,
          40.1935005188,
          40.85100173950195,
          42.77870178222656,
          29.98439979553223,
          35.43360138,
          31.80719948,
          26.228500366210934,
          33.93880081176758,
          30.473400115967003,
          29.64539909,
          40.49150085,
          71.285402,
          25.79319953918457,
          47.449001,
          35.03530120849609,
          32.3111991882,
          33.81769943,
          39.7173,
          41.06700134277344,
          32.65660095,
          46.8420982361,
          60.77980042,
          21.97599983215332,
          37.50519943237305,
          32.446602,
          60.49179839999999,
          36.89459991455078,
          29.9507999420166,
          32.12760162,
          64.51219940185547,
          27.91020012,
          70.19470215,
          29.533700942993164,
          43.118900299072266,
          35.877601623535156,
          39.90240097045898,
          43.1072998046875,
          37.13190079,
          32.116100311279304,
          41.732601,
          34.200698852539055,
          42.212398529052734,
          27.975500106811523,
          47.38660049,
          31.9424991607666,
          44.48509979248047,
          33.36989974975586,
          48.177898407,
          34.729400634799994,
          41.50410079956055,
          32.896801,
          28.10280036926269,
          30.194499969482425,
          39.813801,
          46.3535995483,
          35.81100082,
          38.748697,
          33.9888,
          33.6367,
          42.88079834,
          36.77619934082031,
          36.1245002746582,
          27.543800354003906,
          66.88469696,
          40.77719879,
          30.396499633789066,
          31.61129951477051,
          31.35770034790039,
          44.471900939899996,
          30.49410057067871,
          37.1515007019,
          38.94449997,
          30.58860016,
          42.94720077514648,
          32.4113006592,
          38.81809997558594,
          45.58869934,
          26.68320083618164,
          44.681900024399994,
          21.32062,
          41.53400039672852,
          35.0730018616,
          32.7336006165,
          32.51089859008789,
          34.05599975585937,
          33.30160140991211,
          25.90679931640625,
          31.3213005065918,
          27.77039909362793,
          43.11119842529297,
          41.785999,
          37.362598,
          32.6875,
          39.861698150635,
          39.87189865112305,
          42.40259933,
          39.998001,
          33.45370101928711,
          44.6509017944336,
          61.174400329589844,
          31.067199706999997,
          48.79280090332031,
          30.691200256348,
          35.617099761999995,
          38.5452,
          29.3742008209,
          26.53619956970215,
          58.67679977,
          40.63980103,
          41.15570068,
          37.894199371338,
          32.89860153,
          39.49909973144531,
          55.35559845,
          33.56290054,
          38.69540023803711,
          38.805801,
          42.94049835,
          47.90629959,
          37.70100021362305,
          41.9388999939,
          26.17580032,
          33.663601,
          41.9786,
          64.81510162,
          43.99190139770508,
          33.829700469970696,
          35.219398,
          34.27059936523437,
          30.533199,
          32.35409927368164,
          39.1754,
          31.32740020751953,
          36.19839859008789,
          57.04710006713867,
          40.79520035,
          44.882,
          29.99340057373047,
          43.64619827,
          35.39310073852539,
          42.74829864501953,
          33.67570114,
          42.908001,
          30.4832,
          24.556100845336914,
          35.2140007019043,
          36.08010101,
          28.429399490356445,
          47.48199844,
          46.3745002746582,
          42.1599006652832,
          42.49100112915039,
          36.58700180053711,
          34.42620087,
          29.179899,
          41.26369858,
          35.43619918823242,
          36.097801208496094,
          43.5820007324,
          42.932598,
          38.1744,
          38.13859939575195,
          37.3255,
          38.0364990234375,
          38.0369987488,
          35.040199,
          45.77750015,
          45.807701110839844,
          45.95479965209961,
          44.74140167236328,
          43.6072998046875,
          42.19540023803711,
          34.895698547399995,
          40.47710037,
          30.40730094909668,
          42.234901428222656,
          41.58679962,
          40.97850037,
          41.88470077514648,
          43.879002,
          44.7775993347,
          40.664199829100006,
          44.258098602299995,
          43.90829849243164,
          40.03919983,
          39.14099884033203,
          39.1223983765,
          37.036389,
          27.39539909362793,
          41.44850158691406,
          46.77270126342773,
          44.0452995300293,
          42.96540069580078,
          40.50899887,
          44.12459945678711,
          43.514599,
          42.37419891357422,
          44.254100799999996,
          40.916099548339844,
          34.637199401855,
          32.30059814,
          36.475201,
          37.06079864501953,
          48.31050109863281,
          43.532901763916016,
          42.20869827,
          56.80170059,
          28.7775993347168,
          46.91630173,
          39.64260101,
          32.516300201416016,
          34.5676994324,
          35.13850021,
          42.4818,
          41.393100738499996,
          45.54660034179688,
          33.450298309299995,
          42.0831270134,
          41.66930008,
          38.37310028076172,
          41.338500976599995,
          47.50939941,
          46.92070007324219,
          44.3488998413,
          40.8493003845,
          32.33259963989258,
          39.84410095,
          40.48120117,
          37.04420089999999,
          44.520198822,
          37.24570084,
          37.151798248291016,
          40.652099609375,
          36.281898,
          41.70869827270508,
          40.978101,
          34.8292007446,
          42.40200043,
          45.44910049438477,
          31.535499572753906,
          42.55709838867188,
          45.07809829999999,
          44.91400146,
          41.87400055,
          31.2588005065918,
          37.22529983520508,
          46.25080108642578,
          39.2966003418,
          47.16839981079102,
          44.86579895019531,
          40.82490158081055,
          34.991199493408196,
          40.96749877929688,
          38.36669922,
          46.92969894,
          41.31209945678711,
          40.27590179,
          41.12620163,
          37.326698303222656,
          43.16949844,
          43.41709899902344,
          37.74010086,
          31.467100143432614,
          42.9098014831543,
          44.38270187,
          45.57089996,
          43.0778999329,
          45.63119888305664,
          41.5942,
          35.2368011475,
          38.79100036621094,
          34.89889908,
          39.94269943,
          30.78249931335449,
          51.87799835205078,
          58.42530060000001,
          56.48429871,
          46.26470184326172,
          42.26729965209961,
          35.387798,
          43.50439835,
          33.30780029,
          39.707901,
          45.7226982117,
          59.503299713100006,
          45.8184013367,
          38.5097999573,
          46.39830017,
          37.8582992554,
          35.6352005,
          36.532082,
          38.50899887,
          39.22320175,
          38.84220123,
          38.53390121,
          26.92020035,
          38.2638015747,
          48.11420059,
          44.68840027,
          38.75500107,
          40.4408989,
          37.62409973,
          40.219200134277,
          30.357105999999998,
          32.2243995667,
          41.195899963379,
          36.161201477051,
          48.259722,
          40.726944
         ],
         "lon": [
          -170.710006714,
          145.729004,
          144.796005249,
          -64.97339630126953,
          -64.79859924316406,
          -67.12940216064453,
          -66.56300354003906,
          -66.0018005371,
          -155.04800415039062,
          -94.36740112304688,
          -97.176102,
          -112.41999820000001,
          -74.8134994506836,
          -71.00520325,
          -88.06809997559998,
          -122.221001,
          -95.89409599999999,
          -156.429993,
          -97.433098,
          -94.713898,
          -89.3375015258789,
          -158.50500490000002,
          -112.01200103759766,
          -68.82810211181639,
          -94.71150207519531,
          -117.53399658203124,
          -122.375,
          -82.27179718020001,
          -89.97669982910156,
          -118.40799709999999,
          -81.8498001099,
          -84.6678009033,
          -134.57600402832028,
          -91.98760223,
          -74.168701171875,
          -116.223,
          -100.72399902299999,
          -101.27999877929688,
          -96.851799,
          -111.98300170898438,
          -93.22329711914062,
          -156.045603,
          -78.9282989502,
          -70.06020355,
          -77.037697,
          -74.57720184326172,
          -104.49700164794922,
          -152.4940033,
          -80.152702,
          -93.4030990600586,
          -111.97799682617188,
          -76.7633972168,
          -96.75920104980469,
          -84.58740234375,
          -95.34140014648438,
          -119.0569992,
          -106.37799840000002,
          -97.65440368652344,
          -81.11949920654297,
          -87.18659973144501,
          -95.27890015,
          -80.23290253,
          -156.766008,
          -80.29060363769531,
          -122.308998,
          -85.20379638671875,
          -90.0758972168,
          -118.15200039999999,
          -86.294403,
          -73.70760345458984,
          -114.6060028,
          -92.19360351559999,
          -161.8379974,
          -159.33900451660156,
          -77.3197021484375,
          -93.8256,
          -145.4779968,
          -76.20120239257812,
          -94.02069854736328,
          -81.20210266,
          -165.44500732421875,
          -82.68740082,
          -148.46499630000002,
          -98.46980285644531,
          -77.67240142822266,
          -78.7874984741211,
          -84.21939849853516,
          -78.94619750976562,
          -76.49299622,
          -110.94100189208984,
          -71.42040300000001,
          -118.35900115966795,
          -83.35340118408203,
          -82.533203125,
          -92.83899689,
          -102.2020034790039,
          -88.12960052490234,
          -81.9645004272461,
          -103.64199829100001,
          -92.22429656979999,
          -74.10479736328125,
          -97.038002,
          -80.64530181884766,
          -97.6698989868164,
          -82.927803,
          -87.39540100100001,
          -83.99400329999999,
          -90.370003,
          -98.49189799999999,
          -84.428101,
          -85.52279663,
          -119.71800231933594,
          -86.6781997680664,
          -99.46160125732422,
          -162.598999,
          -73.87259674,
          -84.35030364990234,
          -97.23049926757812,
          -100.49600219726562,
          -73.15329742429998,
          -81.68789672851562,
          -107.75399780299999,
          -77.45580292,
          -96.36380005,
          -87.89659881591797,
          -99.68190002440001,
          -92.21959686279295,
          -122.59799960000001,
          -80.09559631347656,
          -75.46549987790002,
          -157.924228,
          -93.66310119628906,
          -77.04290008539998,
          -117.190002441,
          -92.0376968383789,
          -117.60099792480469,
          -104.53099822998048,
          -97.4259033203125,
          -85.44960021972656,
          -97.5011978149414,
          -76.1063003540039,
          -87.752403,
          -121.929001,
          -103.21700290000001,
          -104.672996521,
          -75.24109649658203,
          -96.38439941,
          -82.891899,
          -93.99099731445312,
          -73.46810150146484,
          -149.99600219726562,
          -97.8289031982,
          -122.53800201416016,
          -88.242797851562,
          -106.08899688700001,
          -89.835197,
          -100.92700195299999,
          -81.75520324707031,
          -156.6490021,
          -73.77890015,
          -104.81199649999999,
          -121.2379989624,
          -80.04049683,
          -119.76799774169922,
          -131.7140045,
          -86.75350189,
          -121.59100341796876,
          -104.70099599999999,
          -78.73220062,
          -122.28199769999999,
          -113.0989990234375,
          -72.68319702149999,
          -98.23860168,
          -101.822998,
          -87.9048,
          -147.85600280000003,
          -76.02169799804688,
          -116.50700378417969,
          -101.706001,
          -77.90260314941406,
          -91.149597,
          -95.40239715576172,
          -76.668297,
          -92.54979705810548,
          -95.88809967041016,
          -135.36199951171878,
          -73.10019684,
          -93.221802,
          -90.25800323486328,
          -70.30930328,
          -97.60070037841795,
          -73.80169677734375,
          -117.86799620000001,
          -106.46399699999999,
          -86.525398,
          -81.75959777832031,
          -80.94309997558594,
          -115.15200039999999,
          -81.30899810791016,
          -111.3710022,
          -117.01499938964844,
          -76.8916015625,
          -76.4583969116211,
          -121.84300231933594,
          -119.8399963,
          -81.058098,
          -72.88680267,
          -82.54180145263672,
          -79.93730163574219,
          -96.741897583,
          -71.435699,
          -85.736,
          -78.4529037475586,
          -79.975403,
          -84.60590362548828,
          -87.53240203860001,
          -106.609001,
          -111.15299990000001,
          -108.54299926757812,
          -112.49700164794922,
          -85.58219909667969,
          -110.73799896240234,
          -89.09719848632812,
          -82.2189025879,
          -88.91590118,
          -89.07009887695312,
          -85.5521011352539,
          -83.80780029,
          -85.19509888,
          -91.71080017089844,
          -91.256699,
          -89.6668014526,
          -89.6932983398,
          -88.51909637450001,
          -92.5,
          -88.27809906,
          -96.6707992553711,
          -108.527000427,
          -113.510306,
          -82.55439758300781,
          -90.50749969482422,
          -100.74600219726562,
          -103.05699920654295,
          -83.74359893798828,
          -122.2929993,
          -123.21199798583984,
          -112.070999,
          -122.8730010986328,
          -121.15000149999999,
          -81.44219970703125,
          -86.775100708008,
          -86.39399719,
          -82.40740100000001,
          -88.7738037109375,
          -114.25599670410156,
          -84.07959747314453,
          -75.97979736,
          -132.9450073,
          -81.23750305175781,
          -114.0910034,
          -106.9179993,
          -84.93890380859375,
          -98.4166030884,
          -111.6709976,
          -114.487999,
          -70.6143035889,
          -94.05989837646484,
          -88.59140014649999,
          -80.1738667488,
          -70.28040314,
          -81.59320068359375,
          -75.72339630130001,
          -94.93370056,
          -96.81580352783205,
          -105.539001465,
          -77.84870147710002,
          -88.75189971923828,
          -89.67790222,
          -107.21800230000001,
          -100.95999909999999,
          -109.024002075,
          -93.38860321,
          -94.49829864501952,
          -75.44080352783203,
          -94.30680100000001,
          -86.31729888916016,
          -124.109,
          -77.61209869380002,
          -90.70950317,
          -98.42179870605469,
          -84.19450378417969,
          -92.40029907226562,
          -83.56030273,
          -97.15470123,
          -103.5960007,
          -81.46649932861328,
          -89.57080078125,
          -84.47239685058594,
          -80.2281036377,
          -88.48909759521484,
          -91.48429870605469,
          -115.79199981689452,
          -78.88030242919922,
          -98.30960083007812,
          -82.55799866,
          -98.67819977,
          -105.6750030517578,
          -79.40480042,
          -100.6839981,
          -79.20040130615234,
          -86.23819733,
          -124.24600219726562,
          -87.16680145,
          -89.33709716796875,
          -112.59600067138672,
          -100.2860031,
          -84.79669952,
          -70.8233032227,
          -89.46749877929688,
          -109.065001,
          -120.64199829100001,
          -97.6521987915039,
          -120.4570007,
          -91.19460297,
          -83.27670288085938,
          -176.64599609375,
          -135.7070007,
          -132.36999509999998,
          -119.11900329589844,
          -71.87570190429688,
          -80.709099,
          -114.2959976,
          -111.65499879999999,
          -77.72949982,
          -87.0936965942,
          -139.660003662,
          -88.11450195309999,
          -107.89399719200001,
          -94.13809967,
          -80.3994979858,
          -77.38529968,
          -93.200544,
          -122.8130035,
          -106.8690033,
          -99.27320099,
          -106.9329987,
          -81.99050140000001,
          -78.8964004517,
          -98.90879822,
          -111.11799620000001,
          -109.7549973,
          -109.5100021,
          -118.83799740000002,
          -111.72299957275,
          -85.79541400000001,
          -80.6975021362,
          -112.0120010376,
          -97.08570098876999,
          -103.750556,
          -99.00666700000001
         ],
         "marker": {
          "autocolorscale": false,
          "cmax": 0.32718327183271834,
          "cmin": 0,
          "color": [
           0.32718327183271834,
           0.30209368857994945,
           0.3004418262150221,
           0.2911392405063291,
           0.2909604519774011,
           0.28865527814279457,
           0.28613138686131384,
           0.2786144578313253,
           0.27167019027484146,
           0.27050529781755245,
           0.2697947214076246,
           0.2688986784140969,
           0.2687074829931973,
           0.2684594348222425,
           0.266786840919333,
           0.26666666666666666,
           0.26326530612244897,
           0.2631667225763167,
           0.25980392156862747,
           0.25961734418643684,
           0.2591803278688525,
           0.25738396624472576,
           0.25337331334332835,
           0.25277161862527714,
           0.2503875968992248,
           0.24874731567644953,
           0.24855491329479767,
           0.24027719331586736,
           0.2402287893231649,
           0.23997862105825762,
           0.23865300146412885,
           0.23863636363636365,
           0.23833223776880458,
           0.2376237623762376,
           0.2370012091898428,
           0.23672055427251731,
           0.23658395845354876,
           0.23596419853539463,
           0.23535911602209944,
           0.2351628284467891,
           0.23505434782608695,
           0.2345890410958904,
           0.234375,
           0.23242165456529099,
           0.22961854899027673,
           0.22727272727272727,
           0.22727272727272727,
           0.22601546119593846,
           0.22597657995888085,
           0.2244360902255639,
           0.2242152466367713,
           0.2227891156462585,
           0.2218738082122124,
           0.2208298926507019,
           0.22079373951928452,
           0.21961466029262638,
           0.21951219512195122,
           0.21951124449467982,
           0.21919244887257472,
           0.21892816419612315,
           0.2188152916596081,
           0.2175390168807729,
           0.21592091571279917,
           0.21497252747252749,
           0.21476014760147602,
           0.21462388216728037,
           0.21438682954962512,
           0.21437422552664187,
           0.21423789332738227,
           0.2141205933346176,
           0.21408619313647245,
           0.2139913290156827,
           0.21358806482773424,
           0.21349963316214232,
           0.21229991575400167,
           0.21222410865874364,
           0.21193755739210285,
           0.21169354838709678,
           0.21138211382113822,
           0.21075455333911536,
           0.21059691482226695,
           0.2104305639781686,
           0.2104296731546089,
           0.21026535671655494,
           0.20986573263280794,
           0.2089561126659918,
           0.2088404868673927,
           0.20801232665639446,
           0.20800736309249884,
           0.20754167576617893,
           0.20750521195274496,
           0.20700689884465132,
           0.206928178354734,
           0.2066312255176273,
           0.20657894736842106,
           0.20603015075376885,
           0.2058973797533027,
           0.20572935870890888,
           0.20503597122302158,
           0.20496535796766743,
           0.20481927710843373,
           0.20440097965386467,
           0.20413252582828642,
           0.2033120510774142,
           0.20285969615728328,
           0.2028368794326241,
           0.20244461420932008,
           0.2023757149142103,
           0.20209563505846936,
           0.20206908059402637,
           0.20199024835334037,
           0.20195878686762547,
           0.20187521703900915,
           0.2018018018018018,
           0.20164787510841284,
           0.20136518771331058,
           0.20132882035853078,
           0.20132013201320131,
           0.20027816411682892,
           0.2,
           0.2,
           0.1998502994011976,
           0.19929708497002274,
           0.1992033508541393,
           0.198745894296805,
           0.19873253168670782,
           0.19843795198148684,
           0.19839987069662196,
           0.19829059829059828,
           0.19828815977175462,
           0.19819852761932621,
           0.19813798042492242,
           0.19791378560986211,
           0.19742740206587409,
           0.1974169741697417,
           0.1973642759634569,
           0.19731697046261204,
           0.19698492462311556,
           0.1968547095033308,
           0.1962054604349838,
           0.19587138508371385,
           0.19524617996604415,
           0.19500356887937187,
           0.1949149212087869,
           0.19487569210726305,
           0.19482970374142528,
           0.19456641053787047,
           0.19444991143475693,
           0.19408190819081908,
           0.19405204460966544,
           0.19385535617183253,
           0.19367368018903966,
           0.1934316007240755,
           0.19331250887405935,
           0.19322990126939352,
           0.19322966745134446,
           0.19261213720316622,
           0.19260495888208742,
           0.1925970251325013,
           0.19257703081232494,
           0.19230769230769232,
           0.19164882226980728,
           0.1915213846732723,
           0.19136408243375858,
           0.19094902366099442,
           0.19060773480662985,
           0.19057770198251972,
           0.189873417721519,
           0.18973932910998026,
           0.1896176562014299,
           0.1895597786865528,
           0.18944323933477947,
           0.18895966029723993,
           0.1889138576779026,
           0.18886679920477137,
           0.1882167985361202,
           0.18805142425006302,
           0.18800592862843463,
           0.1877358490566038,
           0.18772390733221878,
           0.18769645262685228,
           0.18735224586288415,
           0.18716442953020135,
           0.1870860927152318,
           0.1869880051874449,
           0.18698407791003246,
           0.18696109358569926,
           0.18681318681318682,
           0.18666666666666668,
           0.1863922241280732,
           0.18605993408162336,
           0.18599388738685788,
           0.18596881959910913,
           0.18533604887983707,
           0.1852543720190779,
           0.1852395853289908,
           0.1850079744816587,
           0.18476259836944428,
           0.18423799582463465,
           0.18422350778061797,
           0.1841739104415087,
           0.18407596785975164,
           0.1839687194525904,
           0.18342857142857144,
           0.1822628436968931,
           0.18207361095604926,
           0.181877444589309,
           0.1816122584943371,
           0.1815415821501014,
           0.18117144889732037,
           0.18072289156626506,
           0.18070009460737937,
           0.18047218887555022,
           0.18036529680365296,
           0.18022376776534624,
           0.17985389950355396,
           0.17977099236641222,
           0.1793705875314108,
           0.17922948073701842,
           0.17912476216363143,
           0.17875957013415747,
           0.17847557702630165,
           0.1781512605042017,
           0.1778816199376947,
           0.17765092544542466,
           0.17717391304347826,
           0.17705832147937411,
           0.17511520737327188,
           0.1750095529231945,
           0.17500404727213859,
           0.17485262337738705,
           0.17478176527643066,
           0.17469741950216944,
           0.17455138662316477,
           0.17387556411946656,
           0.17381281696634393,
           0.17373175816539263,
           0.17371564420735244,
           0.17335766423357665,
           0.17329545454545456,
           0.17325227963525835,
           0.17252283907238228,
           0.17240314863404846,
           0.17216642754662842,
           0.172103487064117,
           0.1718429765095381,
           0.17081967213114754,
           0.1707731520815633,
           0.1702127659574468,
           0.16996753246753246,
           0.16934984520123839,
           0.16923076923076924,
           0.16910229645093947,
           0.1681472081218274,
           0.1679611650485437,
           0.1674933231590996,
           0.16722572199950914,
           0.16666666666666666,
           0.1663166008285962,
           0.165931455717679,
           0.16542644533485976,
           0.16443119721808247,
           0.16393442622950818,
           0.16349693251533742,
           0.16336633663366337,
           0.1631504922644163,
           0.16286644951140064,
           0.1625891677675033,
           0.1625578869846342,
           0.16196658231358546,
           0.16151664427526496,
           0.1614785992217899,
           0.16128563587640848,
           0.16027397260273973,
           0.16013824884792627,
           0.1597315436241611,
           0.15949098621420996,
           0.159487702306614,
           0.15871774824081314,
           0.1585081585081585,
           0.1570346751693902,
           0.15557275541795665,
           0.1555261416280609,
           0.15545280110723161,
           0.1553368094472329,
           0.15529384030567642,
           0.15469613259668508,
           0.15459882583170254,
           0.15353625783348254,
           0.15308127456133763,
           0.15162454873646208,
           0.15155392078469002,
           0.1514476614699332,
           0.15141955835962145,
           0.15110178384050368,
           0.14893617021276595,
           0.14814814814814814,
           0.1473951715374841,
           0.1468584405753217,
           0.14678899082568808,
           0.14601344860710855,
           0.14443522682617999,
           0.14375,
           0.14369256474519632,
           0.14244604316546763,
           0.14207964138656373,
           0.13968100531657807,
           0.1387900355871886,
           0.1363409770687936,
           0.13511259382819016,
           0.1339914559519686,
           0.13364293085655315,
           0.13333333333333333,
           0.13215859030837004,
           0.13142450649119686,
           0.13060428849902533,
           0.12908496732026145,
           0.1277533039647577,
           0.12734675412802535,
           0.1270096463022508,
           0.1269706007669365,
           0.125,
           0.12411877803888058,
           0.12215568862275449,
           0.11913357400722022,
           0.11844331641285956,
           0.11829436038514443,
           0.1182282293311786,
           0.11745334796926454,
           0.11674347158218126,
           0.1130298273155416,
           0.1092690278824416,
           0.10821072615092549,
           0.10504774897680765,
           0.10466988727858294,
           0.1036745406824147,
           0.1035688839950774,
           0.10338164251207729,
           0.10222729868646488,
           0.09989701338825953,
           0.09915492957746479,
           0.09787234042553192,
           0.0975609756097561,
           0.0975609756097561,
           0.09464627151051626,
           0.09397944199706314,
           0.09385113268608414,
           0.09183673469387756,
           0.09125,
           0.08620689655172414,
           0.08333333333333333,
           0.07996323529411764,
           0.07582260371959942,
           0.06493506493506493,
           0.06416762154198723,
           0.06201550387596899,
           0.05822267620020429,
           0.05680119581464873,
           0.04896142433234421,
           0.01639344262295082
          ],
          "colorbar": {
           "title": {
            "text": "Flights late >60 min"
           }
          },
          "colorscale": [
           [
            0,
            "#fde725"
           ],
           [
            0.1111111111111111,
            "#b5de2b"
           ],
           [
            0.2222222222222222,
            "#6ece58"
           ],
           [
            0.3333333333333333,
            "#35b779"
           ],
           [
            0.4444444444444444,
            "#1f9e89"
           ],
           [
            0.5555555555555556,
            "#26828e"
           ],
           [
            0.6666666666666666,
            "#31688e"
           ],
           [
            0.7777777777777778,
            "#3e4989"
           ],
           [
            0.8888888888888888,
            "#482878"
           ],
           [
            1,
            "#440154"
           ]
          ],
          "line": {
           "color": "rgba(102, 102, 102)",
           "width": 1
          },
          "opacity": 0.8,
          "reversescale": true,
          "size": 8,
          "symbol": "square"
         },
         "mode": "markers",
         "text": [
          "Pago Pago International Airport 0.26666666666666666",
          "Saipan International Airport 0.09787234042553192",
          "Antonio B. Won Pat International Airport 0.12215568862275449",
          "Cyril E. King Airport 0.17847557702630165",
          "Henry E Rohlsen Airport 0.172103487064117",
          "Rafael Hernandez Airport 0.28865527814279457",
          "Mercedita Airport 0.32718327183271834",
          "Luis Munoz Marin International Airport 0.23242165456529099",
          "Hilo International Airport 0.06416762154198723",
          "Fort Smith Regional Airport 0.18070009460737937",
          "Grand Forks International Airport 0.13968100531657807",
          "Ernest A. Love Field 0.20027816411682892",
          "Trenton Mercer Airport 0.2345890410958904",
          "General Edward Lawrence Logan International Airport 0.24027719331586736",
          "Mobile Downtown Airport 0.22727272727272727",
          "Metropolitan Oakland International Airport 0.1663166008285962",
          "Eppley Airfield 0.1949149212087869",
          "Kahului Airport 0.1182282293311786",
          "Wichita Eisenhower National Airport 0.2141205933346176",
          "Kansas City International Airport 0.18207361095604926",
          "Dane County Regional Truax Field 0.2058973797533027",
          "Dillingham Airport 0.0975609756097561",
          "Phoenix Sky Harbor International Airport 0.17371564420735244",
          "Bangor International Airport 0.234375",
          "East Texas Regional Airport 0.11745334796926454",
          "Spokane International Airport 0.18716442953020135",
          "San Francisco International Airport 0.25961734418643684",
          "Gainesville Regional Airport 0.17478176527643066",
          "Memphis International Airport 0.19791378560986211",
          "Los Angeles International Airport 0.1869880051874449",
          "Cleveland Hopkins International Airport 0.19260495888208742",
          "Cincinnati Northern Kentucky International Airport 0.1968547095033308",
          "Juneau International Airport 0.12734675412802535",
          "Lafayette Regional Airport 0.19444991143475693",
          "Newark Liberty International Airport 0.30209368857994945",
          "Boise Air Terminal/Gowen Field 0.1625891677675033",
          "Garden City Regional Airport 0.14244604316546763",
          "Minot International Airport 0.15353625783348254",
          "Dallas Love Field 0.17875957013415747",
          "Helena Regional Airport 0.08333333333333333",
          "Lake Charles Regional Airport 0.18423799582463465",
          "Ellison Onizuka Kona International At Keahole Airport 0.1035688839950774",
          "Myrtle Beach International Airport 0.17765092544542466",
          "Nantucket Memorial Airport 0.21075455333911536",
          "Ronald Reagan Washington National Airport 0.19094902366099442",
          "Atlantic City International Airport 0.17081967213114754",
          "Pueblo Memorial Airport 0.18596881959910913",
          "Kodiak Airport 0.12908496732026145",
          "Fort Lauderdale Hollywood International Airport 0.2208298926507019",
          "Falls International Airport 0.1130298273155416",
          "Salt Lake City International Airport 0.14443522682617999",
          "Harrisburg International Airport 0.17500404727213859",
          "Lincoln Airport 0.1974169741697417",
          "Capital City Airport 0.21138211382113822",
          "George Bush Intercontinental Houston Airport 0.20572935870890888",
          "Meadows Field 0.21437422552664187",
          "El Paso International Airport 0.2089561126659918",
          "Valley International Airport 0.17469741950216944",
          "Columbia Metropolitan Airport 0.19385535617183253",
          "Pensacola Regional Airport 0.19839987069662196",
          "William P Hobby Airport 0.17240314863404846",
          "Pittsburgh International Airport 0.18476259836944428",
          "Wiley Post Will Rogers Memorial Airport 0.07582260371959942",
          "Miami International Airport 0.17705832147937411",
          "Seattle Tacoma International Airport 0.19367368018903966",
          "Lovell Field 0.18800592862843463",
          "Jackson-Medgar Wiley Evers International Airport 0.20132882035853078",
          "Long Beach /Daugherty Field/ Airport 0.159487702306614",
          "Indianapolis International Airport 0.18973932910998026",
          "Westchester County Airport 0.22597657995888085",
          "Yuma MCAS/Yuma International Airport 0.15110178384050368",
          "Duluth International Airport 0.1896176562014299",
          "Bethel Airport 0.09125",
          "Lihue Airport 0.10222729868646488",
          "Richmond International Airport 0.1992033508541393",
          "Shreveport Regional Airport 0.18944323933477947",
          "Merle K (Mudhole) Smith Airport 0.17329545454545456",
          "Norfolk International Airport 0.20700689884465132",
          "Southeast Texas Regional Airport 0.16910229645093947",
          "Savannah Hilton Head International Airport 0.20209563505846936",
          "Nome Airport 0.09397944199706314",
          "St Petersburg Clearwater International Airport 0.181877444589309",
          "Deadhorse Airport 0.09989701338825953",
          "San Antonio International Airport 0.1889138576779026",
          "Greater Rochester International Airport 0.206928178354734",
          "Raleigh Durham International Airport 0.19587138508371385",
          "James M Cox Dayton International Airport 0.21592091571279917",
          "Niagara Falls International Airport 0.11913357400722022",
          "Newport News Williamsburg International Airport 0.16923076923076924",
          "Tucson International Airport 0.1973642759634569",
          "Theodore Francis Green State Airport 0.19408190819081908",
          "Bob Hope Airport 0.16996753246753246",
          "Detroit Metropolitan Wayne County Airport 0.15308127456133763",
          "Tampa International Airport 0.18805142425006302",
          "Range Regional Airport 0.09385113268608414",
          "Midland International Airport 0.2088404868673927",
          "Austin Straubel International Airport 0.2033120510774142",
          "Augusta Regional At Bush Field 0.15949098621420996",
          "Sloulin Field International Airport 0.10466988727858294",
          "Bill & Hillary Clinton National Airport/Adams Field 0.19500356887937187",
          "Stewart International Airport 0.23672055427251731",
          "Dallas Fort Worth International Airport 0.20440097965386467",
          "Melbourne International Airport 0.15557275541795665",
          "Austin Bergstrom International Airport 0.18605993408162336",
          "Rickenbacker International Airport 0.189873417721519",
          "Sawyer International Airport 0.21349963316214232",
          "McGhee Tyson Airport 0.2188152916596081",
          "St Louis Lambert International Airport 0.1841739104415087",
          "Sheppard Air Force Base-Wichita Falls Municipal Airport 0.13511259382819016",
          "Hartsfield Jackson Atlanta International Airport 0.14207964138656373",
          "Gerald R. Ford International Airport 0.2139913290156827",
          "Fresno Yosemite International Airport 0.16722572199950914",
          "Nashville International Airport 0.17985389950355396",
          "Laredo International Airport 0.1674933231590996",
          "Ralph Wien Memorial Airport 0.08620689655172414",
          "La Guardia Airport 0.27050529781755245",
          "Tallahassee Regional Airport 0.16934984520123839",
          "Waco Regional Airport 0.16013824884792627",
          "San Angelo Regional Mathis Field 0.16286644951140064",
          "Burlington International Airport 0.2175390168807729",
          "Jacksonville International Airport 0.19482970374142528",
          "Durango La Plata County Airport 0.2402287893231649",
          "Washington Dulles International Airport 0.17485262337738705",
          "Easterwood Field 0.16027397260273973",
          "General Mitchell International Airport 0.19322966745134446",
          "Abilene Regional Airport 0.18769645262685228",
          "Columbia Regional Airport 0.2684594348222425",
          "Portland International Airport 0.16128563587640848",
          "Palm Beach International Airport 0.21951124449467982",
          "Ogdensburg International Airport 0.21169354838709678",
          "Daniel K Inouye International Airport 0.1339914559519686",
          "Des Moines International Airport 0.19731697046261204",
          "Coastal Carolina Regional Airport 0.20164787510841284",
          "San Diego International Airport 0.1822628436968931",
          "Monroe Regional Airport 0.17373175816539263",
          "Ontario International Airport 0.18422350778061797",
          "Roswell International Air Center Airport 0.13215859030837004",
          "Brownsville South Padre Island International Airport 0.17977099236641222",
          "Dothan Regional Airport 0.18407596785975164",
          "Corpus Christi International Airport 0.19257703081232494",
          "Syracuse Hancock International Airport 0.20754167576617893",
          "Chicago Midway International Airport 0.1625578869846342",
          "Norman Y. Mineta San Jose International Airport 0.1553368094472329",
          "Lea County Regional Airport 0.23505434782608695",
          "Denver International Airport 0.19819852761932621",
          "Philadelphia International Airport 0.1882167985361202",
          "Sioux Gateway Col. Bud Day Field 0.2503875968992248",
          "John Glenn Columbus International Airport 0.1852395853289908",
          "Texarkana Regional Webb Field 0.14369256474519632",
          "Plattsburgh International Airport 0.1998502994011976",
          "Ted Stevens Anchorage International Airport 0.15155392078469002",
          "Robert Gray  Army Air Field Airport 0.18022376776534624",
          "Bellingham International Airport 0.1277533039647577",
          "Mobile Regional Airport 0.19524617996604415",
          "Santa Fe Municipal Airport 0.18342857142857144",
          "Scott AFB/Midamerica Airport 0.18886679920477137",
          "Del Rio International Airport 0.1631504922644163",
          "Southwest Florida International Airport 0.18599388738685788",
          "King Salmon Airport 0.01639344262295082",
          "John F Kennedy International Airport 0.20195878686762547",
          "Cheyenne Regional Jerry Olson Field 0.14375",
          "Stockton Metropolitan Airport 0.1679611650485437",
          "Charleston Air Force Base-International Airport 0.1852543720190779",
          "Reno Tahoe International Airport 0.17387556411946656",
          "Ketchikan International Airport 0.1269706007669365",
          "Birmingham-Shuttlesworth International Airport 0.21438682954962512",
          "Sacramento International Airport 0.1718429765095381",
          "City of Colorado Springs Municipal Airport 0.2351628284467891",
          "Buffalo Niagara International Airport 0.19929708497002274",
          "Snohomish County (Paine Field) Airport 0.1681472081218274",
          "Cedar City Regional Airport 0.1036745406824147",
          "Bradley International Airport 0.19331250887405935",
          "Mc Allen Miller International Airport 0.21193755739210285",
          "Lubbock Preston Smith International Airport 0.20657894736842106",
          "Chicago O'Hare International Airport 0.22601546119593846",
          "Fairbanks International Airport 0.12411877803888058",
          "Watertown International Airport 0.25980392156862747",
          "Palm Springs International Airport 0.20206908059402637",
          "Rick Husband Amarillo International Airport 0.21408619313647245",
          "Wilmington International Airport 0.19405204460966544",
          "Baton Rouge Metropolitan Airport 0.1816122584943371",
          "Tyler Pounds Regional Airport 0.1555261416280609",
          "Baltimore/Washington International Thurgood Marshall Airport 0.15529384030567642",
          "Alexandria International Airport 0.1778816199376947",
          "Tulsa International Airport 0.198745894296805",
          "Sitka Rocky Gutierrez Airport 0.1468584405753217",
          "Long Island Mac Arthur Airport 0.2104296731546089",
          "Minneapolis-St Paul International/Wold-Chamberlain Airport 0.15545280110723161",
          "Louis Armstrong New Orleans International Airport 0.19136408243375858",
          "Portland International Jetport Airport 0.21026535671655494",
          "Will Rogers World Airport 0.2218738082122124",
          "Albany International Airport 0.19873253168670782",
          "John Wayne Airport-Orange County Airport 0.16151664427526496",
          "Casper-Natrona County International Airport 0.09464627151051626",
          "Destin-Ft Walton Beach Airport 0.20187521703900915",
          "Key West International Airport 0.13142450649119686",
          "Charlotte Douglas International Airport 0.16196658231358546",
          "McCarran International Airport 0.18698407791003246",
          "Orlando International Airport 0.20199024835334037",
          "Great Falls International Airport 0.09915492957746479",
          "Lewiston Nez Perce County Airport 0.05822267620020429",
          "Elmira Corning Regional Airport 0.11844331641285956",
          "Ithaca Tompkins Regional Airport 0.1815415821501014",
          "Monterey Peninsula Airport 0.18772390733221878",
          "Santa Barbara Municipal Airport 0.20750521195274496",
          "Daytona Beach International Airport 0.16349693251533742",
          "Tweed New Haven Airport 0.15459882583170254",
          "Asheville Regional Airport 0.21358806482773424",
          "Piedmont Triad International Airport 0.2066312255176273",
          "Joe Foss Field Airport 0.21961466029262638",
          "Manchester-Boston Regional Airport 0.19261213720316622",
          "Louisville International Standiford Field 0.1915213846732723",
          "Charlottesville Albemarle Airport 0.21462388216728037",
          "Roanoke–Blacksburg Regional Airport 0.17252283907238228",
          "Blue Grass Airport 0.20285969615728328",
          "Evansville Regional Airport 0.18036529680365296",
          "Albuquerque International Sunport 0.1925970251325013",
          "Gallatin Field 0.17455138662316477",
          "Billings Logan International Airport 0.16443119721808247",
          "Bert Mooney Airport 0.04896142433234421",
          "Cherry Capital Airport 0.19813798042492242",
          "Jackson Hole Airport 0.21423789332738227",
          "Chicago Rockford International Airport 0.1597315436241611",
          "Greenville Spartanburg International Airport 0.20244461420932008",
          "Central Illinois Regional Airport at Bloomington-Normal 0.21059691482226695",
          "Gulfport Biloxi International Airport 0.2018018018018018",
          "Kalamazoo Battle Creek International Airport 0.1962054604349838",
          "Toledo Express Airport 0.18666666666666668",
          "Fort Wayne International Airport 0.20496535796766743",
          "The Eastern Iowa Airport 0.19487569210726305",
          "La Crosse Municipal Airport 0.1877358490566038",
          "Central Wisconsin Airport 0.1570346751693902",
          "General Wayne A. Downing Peoria International Airport 0.2023757149142103",
          "Appleton International Airport 0.18117144889732037",
          "Rochester International Airport 0.2104305639781686",
          "University of Illinois Willard Airport 0.24874731567644953",
          "Manhattan Regional Airport 0.21919244887257472",
          "Grand Junction Regional Airport 0.1363409770687936",
          "St George Municipal Airport 0.1585081585081585",
          "Sarasota Bradenton International Airport 0.1793705875314108",
          "Quad City International Airport 0.19057770198251972",
          "Bismarck Municipal Airport 0.1895597786865528",
          "Rapid City Regional Airport 0.20132013201320131",
          "Bishop International Airport 0.18735224586288415",
          "Redding Municipal Airport 0.22961854899027673",
          "Mahlon Sweet Field 0.1839687194525904",
          "Idaho Falls Regional Airport 0.10821072615092549",
          "Rogue Valley International Medford Airport 0.19698492462311556",
          "Roberts Field 0.1934316007240755",
          "Akron Canton Regional Airport 0.2591803278688525",
          "Huntsville International Carl T Jones Field 0.18696109358569926",
          "Montgomery Regional (Dannelly Field) Airport 0.17912476216363143",
          "Tri-Cities Regional TN/VA Airport 0.16393442622950818",
          "Barkley Regional Airport 0.23596419853539463",
          "Glacier Park International Airport 0.13333333333333333",
          "MBS International Airport 0.18047218887555022",
          "Greater Binghamton/Edwin A Link field 0.19164882226980728",
          "Petersburg James A Johnson Airport 0.1702127659574468",
          "Orlando Sanford International Airport 0.23833223776880458",
          "Missoula International Airport 0.16542644533485976",
          "Eagle County Regional Airport 0.266786840919333",
          "Columbus Metropolitan Airport 0.15141955835962145",
          "Lawton Fort Sill Regional Airport 0.15871774824081314",
          "Flagstaff Pulliam Airport 0.13364293085655315",
          "Joslin Field Magic Valley Regional Airport 0.10338164251207729",
          "Martha's Vineyard Airport 0.17335766423357665",
          "St Cloud Regional Airport 0.2",
          "Golden Triangle Regional Airport 0.1707731520815633",
          "Erie International Tom Ridge Field 0.21222410865874364",
          "Barnstable Municipal Boardman Polando Field 0.21951219512195122",
          "Yeager Airport 0.21497252747252749",
          "Wilkes Barre Scranton International Airport 0.1863922241280732",
          "Bemidji Regional Airport 0.10504774897680765",
          "Hector International Airport 0.20503597122302158",
          "Gillette Campbell County Airport 0.2",
          "University Park Airport 0.21892816419612315",
          "Key Field 0.27167019027484146",
          "Abraham Lincoln Capital Airport 0.23658395845354876",
          "Yampa Valley Airport 0.23863636363636365",
          "Liberal Mid-America Regional Airport 0.1870860927152318",
          "Yellowstone Regional Airport 0.14678899082568808",
          "Springfield Branson National Airport 0.20413252582828642",
          "Joplin Regional Airport 0.20481927710843373",
          "Lehigh Valley International Airport 0.17325227963525835",
          "Northwest Arkansas Regional Airport 0.19843795198148684",
          "South Bend Regional Airport 0.20986573263280794",
          "California Redwood Coast-Humboldt County Airport 0.23997862105825762",
          "Albert J Ellis Airport 0.18895966029723993",
          "Dubuque Regional Airport 0.26326530612244897",
          "Aberdeen Regional Airport 0.11829436038514443",
          "Southwest Georgia Regional Airport 0.16666666666666666",
          "Waterloo Regional Airport 0.25337331334332835",
          "Alpena County Regional Airport 0.14814814814814814",
          "Watertown Regional Airport 0.18533604887983707",
          "Western Neb. Rgnl/William B. Heilig Airport 0.17922948073701842",
          "Brunswick Golden Isles Airport 0.1614785992217899",
          "Cape Girardeau Regional Airport 0.23535911602209944",
          "Chippewa County International Airport 0.17511520737327188",
          "North Central West Virginia Airport 0.2370012091898428",
          "Houghton County Memorial Airport 0.2786144578313253",
          "Chippewa Valley Regional Airport 0.2697947214076246",
          "Elko Regional Airport 0.05680119581464873",
          "Fayetteville Regional Grannis Field 0.19456641053787047",
          "Central Nebraska Regional Airport 0.15162454873646208",
          "Tri-State/Milton J. Ferguson Field 0.19828815977175462",
          "Jamestown Regional Airport 0.17717391304347826",
          "Laramie Regional Airport 0.2227891156462585",
          "Arnold Palmer Regional Airport 0.19060773480662985",
          "North Platte Regional Airport Lee Bird Field 0.20603015075376885",
          "Lynchburg Regional Preston Glenn Field 0.1514476614699332",
          "Muskegon County Airport 0.3004418262150221",
          "Southwest Oregon Regional Airport 0.2909604519774011",
          "Owensboro Daviess County Airport 0.2376237623762376",
          "Hattiesburg Laurel Regional Airport 0.28613138686131384",
          "Pocatello Regional Airport 0.07996323529411764",
          "Pierre Regional Airport 0.1850079744816587",
          "Pellston Regional Airport of Emmet County Airport 0.14601344860710855",
          "Portsmouth International at Pease Airport 0.14893617021276595",
          "Rhinelander Oneida County Airport 0.1473951715374841",
          "Southwest Wyoming Regional Airport 0.19322990126939352",
          "San Luis County Regional Airport 0.19742740206587409",
          "Salina Municipal Airport 0.22727272727272727",
          "Santa Maria Pub/Capt G Allan Hancock Field 0.125",
          "Quincy Regional Baldwin Field 0.2687074829931973",
          "Valdosta Regional Airport 0.13060428849902533",
          "Adak Airport 0.09183673469387756",
          "Gustavus Airport 0.0975609756097561",
          "Wrangell Airport 0.2028368794326241",
          "Tri Cities Airport 0.165931455717679",
          "Worcester Regional Airport 0.24855491329479767",
          "Concord-Padgett Regional Airport 0.21476014760147602",
          "Friedman Memorial Airport 0.1092690278824416",
          "Phoenix-Mesa-Gateway Airport 0.2688986784140969",
          "Hagerstown Regional Richard A Henson Field 0.18681318681318682",
          "Delta County Airport 0.1781512605042017",
          "Yakutat Airport 0.17216642754662842",
          "Ford Airport 0.11674347158218126",
          "Montrose Regional Airport 0.22079373951928452",
          "Brainerd Lakes Regional Airport 0.1270096463022508",
          "Greenbrier Valley Airport 0.2911392405063291",
          "Pitt Greenville Airport 0.06493506493506493",
          "Branson Airport 0.2242152466367713",
          "Charles M. Schulz Sonoma County Airport 0.1750095529231945",
          "Aspen-Pitkin Co/Sardy Field 0.2631667225763167",
          "Hays Regional Airport 0.21229991575400167",
          "Gunnison Crested Butte Regional Airport 0.25738396624472576",
          "Charlotte County Airport 0.2244360902255639",
          "Shenandoah Valley Regional Airport 0.23865300146412885",
          "Devils Lake Regional Airport 0.19829059829059828",
          "Yellowstone Airport 0.06201550387596899",
          "Canyonlands Field 0.20136518771331058",
          "Vernal Regional Airport 0.18072289156626506",
          "Mammoth Yosemite Airport 0.25277161862527714",
          "Provo Municipal Airport 0.15469613259668508",
          "Northwest Florida Beaches International Airport 0.17381281696634393",
          "Hilton Head Airport 0.20800736309249884",
          "Ogden Hinckley Airport 0.19230769230769232",
          "Stillwater Regional Airport 0.1387900355871886",
          "Williston Basin International Airport 0.16336633663366337",
          "Kearney Regional Airport 0.20801232665639446"
         ],
         "type": "scattergeo"
        }
       ],
       "layout": {
        "geo": {
         "scope": "usa"
        },
        "template": {
         "data": {
          "bar": [
           {
            "error_x": {
             "color": "#2a3f5f"
            },
            "error_y": {
             "color": "#2a3f5f"
            },
            "marker": {
             "line": {
              "color": "#E5ECF6",
              "width": 0.5
             }
            },
            "type": "bar"
           }
          ],
          "barpolar": [
           {
            "marker": {
             "line": {
              "color": "#E5ECF6",
              "width": 0.5
             }
            },
            "type": "barpolar"
           }
          ],
          "carpet": [
           {
            "aaxis": {
             "endlinecolor": "#2a3f5f",
             "gridcolor": "white",
             "linecolor": "white",
             "minorgridcolor": "white",
             "startlinecolor": "#2a3f5f"
            },
            "baxis": {
             "endlinecolor": "#2a3f5f",
             "gridcolor": "white",
             "linecolor": "white",
             "minorgridcolor": "white",
             "startlinecolor": "#2a3f5f"
            },
            "type": "carpet"
           }
          ],
          "choropleth": [
           {
            "colorbar": {
             "outlinewidth": 0,
             "ticks": ""
            },
            "type": "choropleth"
           }
          ],
          "contour": [
           {
            "colorbar": {
             "outlinewidth": 0,
             "ticks": ""
            },
            "colorscale": [
             [
              0,
              "#0d0887"
             ],
             [
              0.1111111111111111,
              "#46039f"
             ],
             [
              0.2222222222222222,
              "#7201a8"
             ],
             [
              0.3333333333333333,
              "#9c179e"
             ],
             [
              0.4444444444444444,
              "#bd3786"
             ],
             [
              0.5555555555555556,
              "#d8576b"
             ],
             [
              0.6666666666666666,
              "#ed7953"
             ],
             [
              0.7777777777777778,
              "#fb9f3a"
             ],
             [
              0.8888888888888888,
              "#fdca26"
             ],
             [
              1,
              "#f0f921"
             ]
            ],
            "type": "contour"
           }
          ],
          "contourcarpet": [
           {
            "colorbar": {
             "outlinewidth": 0,
             "ticks": ""
            },
            "type": "contourcarpet"
           }
          ],
          "heatmap": [
           {
            "colorbar": {
             "outlinewidth": 0,
             "ticks": ""
            },
            "colorscale": [
             [
              0,
              "#0d0887"
             ],
             [
              0.1111111111111111,
              "#46039f"
             ],
             [
              0.2222222222222222,
              "#7201a8"
             ],
             [
              0.3333333333333333,
              "#9c179e"
             ],
             [
              0.4444444444444444,
              "#bd3786"
             ],
             [
              0.5555555555555556,
              "#d8576b"
             ],
             [
              0.6666666666666666,
              "#ed7953"
             ],
             [
              0.7777777777777778,
              "#fb9f3a"
             ],
             [
              0.8888888888888888,
              "#fdca26"
             ],
             [
              1,
              "#f0f921"
             ]
            ],
            "type": "heatmap"
           }
          ],
          "heatmapgl": [
           {
            "colorbar": {
             "outlinewidth": 0,
             "ticks": ""
            },
            "colorscale": [
             [
              0,
              "#0d0887"
             ],
             [
              0.1111111111111111,
              "#46039f"
             ],
             [
              0.2222222222222222,
              "#7201a8"
             ],
             [
              0.3333333333333333,
              "#9c179e"
             ],
             [
              0.4444444444444444,
              "#bd3786"
             ],
             [
              0.5555555555555556,
              "#d8576b"
             ],
             [
              0.6666666666666666,
              "#ed7953"
             ],
             [
              0.7777777777777778,
              "#fb9f3a"
             ],
             [
              0.8888888888888888,
              "#fdca26"
             ],
             [
              1,
              "#f0f921"
             ]
            ],
            "type": "heatmapgl"
           }
          ],
          "histogram": [
           {
            "marker": {
             "colorbar": {
              "outlinewidth": 0,
              "ticks": ""
             }
            },
            "type": "histogram"
           }
          ],
          "histogram2d": [
           {
            "colorbar": {
             "outlinewidth": 0,
             "ticks": ""
            },
            "colorscale": [
             [
              0,
              "#0d0887"
             ],
             [
              0.1111111111111111,
              "#46039f"
             ],
             [
              0.2222222222222222,
              "#7201a8"
             ],
             [
              0.3333333333333333,
              "#9c179e"
             ],
             [
              0.4444444444444444,
              "#bd3786"
             ],
             [
              0.5555555555555556,
              "#d8576b"
             ],
             [
              0.6666666666666666,
              "#ed7953"
             ],
             [
              0.7777777777777778,
              "#fb9f3a"
             ],
             [
              0.8888888888888888,
              "#fdca26"
             ],
             [
              1,
              "#f0f921"
             ]
            ],
            "type": "histogram2d"
           }
          ],
          "histogram2dcontour": [
           {
            "colorbar": {
             "outlinewidth": 0,
             "ticks": ""
            },
            "colorscale": [
             [
              0,
              "#0d0887"
             ],
             [
              0.1111111111111111,
              "#46039f"
             ],
             [
              0.2222222222222222,
              "#7201a8"
             ],
             [
              0.3333333333333333,
              "#9c179e"
             ],
             [
              0.4444444444444444,
              "#bd3786"
             ],
             [
              0.5555555555555556,
              "#d8576b"
             ],
             [
              0.6666666666666666,
              "#ed7953"
             ],
             [
              0.7777777777777778,
              "#fb9f3a"
             ],
             [
              0.8888888888888888,
              "#fdca26"
             ],
             [
              1,
              "#f0f921"
             ]
            ],
            "type": "histogram2dcontour"
           }
          ],
          "mesh3d": [
           {
            "colorbar": {
             "outlinewidth": 0,
             "ticks": ""
            },
            "type": "mesh3d"
           }
          ],
          "parcoords": [
           {
            "line": {
             "colorbar": {
              "outlinewidth": 0,
              "ticks": ""
             }
            },
            "type": "parcoords"
           }
          ],
          "pie": [
           {
            "automargin": true,
            "type": "pie"
           }
          ],
          "scatter": [
           {
            "marker": {
             "colorbar": {
              "outlinewidth": 0,
              "ticks": ""
             }
            },
            "type": "scatter"
           }
          ],
          "scatter3d": [
           {
            "line": {
             "colorbar": {
              "outlinewidth": 0,
              "ticks": ""
             }
            },
            "marker": {
             "colorbar": {
              "outlinewidth": 0,
              "ticks": ""
             }
            },
            "type": "scatter3d"
           }
          ],
          "scattercarpet": [
           {
            "marker": {
             "colorbar": {
              "outlinewidth": 0,
              "ticks": ""
             }
            },
            "type": "scattercarpet"
           }
          ],
          "scattergeo": [
           {
            "marker": {
             "colorbar": {
              "outlinewidth": 0,
              "ticks": ""
             }
            },
            "type": "scattergeo"
           }
          ],
          "scattergl": [
           {
            "marker": {
             "colorbar": {
              "outlinewidth": 0,
              "ticks": ""
             }
            },
            "type": "scattergl"
           }
          ],
          "scattermapbox": [
           {
            "marker": {
             "colorbar": {
              "outlinewidth": 0,
              "ticks": ""
             }
            },
            "type": "scattermapbox"
           }
          ],
          "scatterpolar": [
           {
            "marker": {
             "colorbar": {
              "outlinewidth": 0,
              "ticks": ""
             }
            },
            "type": "scatterpolar"
           }
          ],
          "scatterpolargl": [
           {
            "marker": {
             "colorbar": {
              "outlinewidth": 0,
              "ticks": ""
             }
            },
            "type": "scatterpolargl"
           }
          ],
          "scatterternary": [
           {
            "marker": {
             "colorbar": {
              "outlinewidth": 0,
              "ticks": ""
             }
            },
            "type": "scatterternary"
           }
          ],
          "surface": [
           {
            "colorbar": {
             "outlinewidth": 0,
             "ticks": ""
            },
            "colorscale": [
             [
              0,
              "#0d0887"
             ],
             [
              0.1111111111111111,
              "#46039f"
             ],
             [
              0.2222222222222222,
              "#7201a8"
             ],
             [
              0.3333333333333333,
              "#9c179e"
             ],
             [
              0.4444444444444444,
              "#bd3786"
             ],
             [
              0.5555555555555556,
              "#d8576b"
             ],
             [
              0.6666666666666666,
              "#ed7953"
             ],
             [
              0.7777777777777778,
              "#fb9f3a"
             ],
             [
              0.8888888888888888,
              "#fdca26"
             ],
             [
              1,
              "#f0f921"
             ]
            ],
            "type": "surface"
           }
          ],
          "table": [
           {
            "cells": {
             "fill": {
              "color": "#EBF0F8"
             },
             "line": {
              "color": "white"
             }
            },
            "header": {
             "fill": {
              "color": "#C8D4E3"
             },
             "line": {
              "color": "white"
             }
            },
            "type": "table"
           }
          ]
         },
         "layout": {
          "annotationdefaults": {
           "arrowcolor": "#2a3f5f",
           "arrowhead": 0,
           "arrowwidth": 1
          },
          "coloraxis": {
           "colorbar": {
            "outlinewidth": 0,
            "ticks": ""
           }
          },
          "colorscale": {
           "diverging": [
            [
             0,
             "#8e0152"
            ],
            [
             0.1,
             "#c51b7d"
            ],
            [
             0.2,
             "#de77ae"
            ],
            [
             0.3,
             "#f1b6da"
            ],
            [
             0.4,
             "#fde0ef"
            ],
            [
             0.5,
             "#f7f7f7"
            ],
            [
             0.6,
             "#e6f5d0"
            ],
            [
             0.7,
             "#b8e186"
            ],
            [
             0.8,
             "#7fbc41"
            ],
            [
             0.9,
             "#4d9221"
            ],
            [
             1,
             "#276419"
            ]
           ],
           "sequential": [
            [
             0,
             "#0d0887"
            ],
            [
             0.1111111111111111,
             "#46039f"
            ],
            [
             0.2222222222222222,
             "#7201a8"
            ],
            [
             0.3333333333333333,
             "#9c179e"
            ],
            [
             0.4444444444444444,
             "#bd3786"
            ],
            [
             0.5555555555555556,
             "#d8576b"
            ],
            [
             0.6666666666666666,
             "#ed7953"
            ],
            [
             0.7777777777777778,
             "#fb9f3a"
            ],
            [
             0.8888888888888888,
             "#fdca26"
            ],
            [
             1,
             "#f0f921"
            ]
           ],
           "sequentialminus": [
            [
             0,
             "#0d0887"
            ],
            [
             0.1111111111111111,
             "#46039f"
            ],
            [
             0.2222222222222222,
             "#7201a8"
            ],
            [
             0.3333333333333333,
             "#9c179e"
            ],
            [
             0.4444444444444444,
             "#bd3786"
            ],
            [
             0.5555555555555556,
             "#d8576b"
            ],
            [
             0.6666666666666666,
             "#ed7953"
            ],
            [
             0.7777777777777778,
             "#fb9f3a"
            ],
            [
             0.8888888888888888,
             "#fdca26"
            ],
            [
             1,
             "#f0f921"
            ]
           ]
          },
          "colorway": [
           "#636efa",
           "#EF553B",
           "#00cc96",
           "#ab63fa",
           "#FFA15A",
           "#19d3f3",
           "#FF6692",
           "#B6E880",
           "#FF97FF",
           "#FECB52"
          ],
          "font": {
           "color": "#2a3f5f"
          },
          "geo": {
           "bgcolor": "white",
           "lakecolor": "white",
           "landcolor": "#E5ECF6",
           "showlakes": true,
           "showland": true,
           "subunitcolor": "white"
          },
          "hoverlabel": {
           "align": "left"
          },
          "hovermode": "closest",
          "mapbox": {
           "style": "light"
          },
          "paper_bgcolor": "white",
          "plot_bgcolor": "#E5ECF6",
          "polar": {
           "angularaxis": {
            "gridcolor": "white",
            "linecolor": "white",
            "ticks": ""
           },
           "bgcolor": "#E5ECF6",
           "radialaxis": {
            "gridcolor": "white",
            "linecolor": "white",
            "ticks": ""
           }
          },
          "scene": {
           "xaxis": {
            "backgroundcolor": "#E5ECF6",
            "gridcolor": "white",
            "gridwidth": 2,
            "linecolor": "white",
            "showbackground": true,
            "ticks": "",
            "zerolinecolor": "white"
           },
           "yaxis": {
            "backgroundcolor": "#E5ECF6",
            "gridcolor": "white",
            "gridwidth": 2,
            "linecolor": "white",
            "showbackground": true,
            "ticks": "",
            "zerolinecolor": "white"
           },
           "zaxis": {
            "backgroundcolor": "#E5ECF6",
            "gridcolor": "white",
            "gridwidth": 2,
            "linecolor": "white",
            "showbackground": true,
            "ticks": "",
            "zerolinecolor": "white"
           }
          },
          "shapedefaults": {
           "line": {
            "color": "#2a3f5f"
           }
          },
          "ternary": {
           "aaxis": {
            "gridcolor": "white",
            "linecolor": "white",
            "ticks": ""
           },
           "baxis": {
            "gridcolor": "white",
            "linecolor": "white",
            "ticks": ""
           },
           "bgcolor": "#E5ECF6",
           "caxis": {
            "gridcolor": "white",
            "linecolor": "white",
            "ticks": ""
           }
          },
          "title": {
           "x": 0.05
          },
          "xaxis": {
           "automargin": true,
           "gridcolor": "white",
           "linecolor": "white",
           "ticks": "",
           "title": {
            "standoff": 15
           },
           "zerolinecolor": "white",
           "zerolinewidth": 2
          },
          "yaxis": {
           "automargin": true,
           "gridcolor": "white",
           "linecolor": "white",
           "ticks": "",
           "title": {
            "standoff": 15
           },
           "zerolinecolor": "white",
           "zerolinewidth": 2
          }
         }
        },
        "title": {
         "text": "US Airports"
        }
       }
      },
      "text/html": [
       "<div>\n",
       "        \n",
       "        \n",
       "            <div id=\"d7e9d99f-de50-4bcd-8c48-be3caa09f97a\" class=\"plotly-graph-div\" style=\"height:525px; width:100%;\"></div>\n",
       "            <script type=\"text/javascript\">\n",
       "                require([\"plotly\"], function(Plotly) {\n",
       "                    window.PLOTLYENV=window.PLOTLYENV || {};\n",
       "                    \n",
       "                if (document.getElementById(\"d7e9d99f-de50-4bcd-8c48-be3caa09f97a\")) {\n",
       "                    Plotly.newPlot(\n",
       "                        'd7e9d99f-de50-4bcd-8c48-be3caa09f97a',\n",
       "                        [{\"lat\": [-14.3310003281, 15.119000000000002, 13.4834003448, 18.337299346923828, 17.701900482177734, 18.49489974975586, 18.00830078125, 18.4393997192, 19.721399307250977, 35.33660125732422, 47.949298999999996, 34.65449905, 40.27669906616211, 42.36429977, 30.626800537100006, 37.721298, 41.3032, 20.8986, 37.649899, 39.2976, 43.13990020751953, 59.04470062, 33.43429946899414, 44.80739974975586, 32.38399887084961, 47.61989974975586, 37.61899948120117, 29.6900997162, 35.04240036010742, 33.94250107, 41.411701202399996, 39.0488014221, 58.35499954223633, 30.20529938, 40.69250106811523, 43.5644, 37.9275016785, 48.2593994140625, 32.847099, 46.6068000793457, 30.12610054016113, 19.738782999999998, 33.6796989441, 41.25310135, 38.8521, 39.45759963989258, 38.289100646972656, 57.75, 26.072599, 48.566200256347656, 40.78839874267578, 40.1935005188, 40.85100173950195, 42.77870178222656, 29.98439979553223, 35.43360138, 31.80719948, 26.228500366210934, 33.93880081176758, 30.473400115967003, 29.64539909, 40.49150085, 71.285402, 25.79319953918457, 47.449001, 35.03530120849609, 32.3111991882, 33.81769943, 39.7173, 41.06700134277344, 32.65660095, 46.8420982361, 60.77980042, 21.97599983215332, 37.50519943237305, 32.446602, 60.49179839999999, 36.89459991455078, 29.9507999420166, 32.12760162, 64.51219940185547, 27.91020012, 70.19470215, 29.533700942993164, 43.118900299072266, 35.877601623535156, 39.90240097045898, 43.1072998046875, 37.13190079, 32.116100311279304, 41.732601, 34.200698852539055, 42.212398529052734, 27.975500106811523, 47.38660049, 31.9424991607666, 44.48509979248047, 33.36989974975586, 48.177898407, 34.729400634799994, 41.50410079956055, 32.896801, 28.10280036926269, 30.194499969482425, 39.813801, 46.3535995483, 35.81100082, 38.748697, 33.9888, 33.6367, 42.88079834, 36.77619934082031, 36.1245002746582, 27.543800354003906, 66.88469696, 40.77719879, 30.396499633789066, 31.61129951477051, 31.35770034790039, 44.471900939899996, 30.49410057067871, 37.1515007019, 38.94449997, 30.58860016, 42.94720077514648, 32.4113006592, 38.81809997558594, 45.58869934, 26.68320083618164, 44.681900024399994, 21.32062, 41.53400039672852, 35.0730018616, 32.7336006165, 32.51089859008789, 34.05599975585937, 33.30160140991211, 25.90679931640625, 31.3213005065918, 27.77039909362793, 43.11119842529297, 41.785999, 37.362598, 32.6875, 39.861698150635, 39.87189865112305, 42.40259933, 39.998001, 33.45370101928711, 44.6509017944336, 61.174400329589844, 31.067199706999997, 48.79280090332031, 30.691200256348, 35.617099761999995, 38.5452, 29.3742008209, 26.53619956970215, 58.67679977, 40.63980103, 41.15570068, 37.894199371338, 32.89860153, 39.49909973144531, 55.35559845, 33.56290054, 38.69540023803711, 38.805801, 42.94049835, 47.90629959, 37.70100021362305, 41.9388999939, 26.17580032, 33.663601, 41.9786, 64.81510162, 43.99190139770508, 33.829700469970696, 35.219398, 34.27059936523437, 30.533199, 32.35409927368164, 39.1754, 31.32740020751953, 36.19839859008789, 57.04710006713867, 40.79520035, 44.882, 29.99340057373047, 43.64619827, 35.39310073852539, 42.74829864501953, 33.67570114, 42.908001, 30.4832, 24.556100845336914, 35.2140007019043, 36.08010101, 28.429399490356445, 47.48199844, 46.3745002746582, 42.1599006652832, 42.49100112915039, 36.58700180053711, 34.42620087, 29.179899, 41.26369858, 35.43619918823242, 36.097801208496094, 43.5820007324, 42.932598, 38.1744, 38.13859939575195, 37.3255, 38.0364990234375, 38.0369987488, 35.040199, 45.77750015, 45.807701110839844, 45.95479965209961, 44.74140167236328, 43.6072998046875, 42.19540023803711, 34.895698547399995, 40.47710037, 30.40730094909668, 42.234901428222656, 41.58679962, 40.97850037, 41.88470077514648, 43.879002, 44.7775993347, 40.664199829100006, 44.258098602299995, 43.90829849243164, 40.03919983, 39.14099884033203, 39.1223983765, 37.036389, 27.39539909362793, 41.44850158691406, 46.77270126342773, 44.0452995300293, 42.96540069580078, 40.50899887, 44.12459945678711, 43.514599, 42.37419891357422, 44.254100799999996, 40.916099548339844, 34.637199401855, 32.30059814, 36.475201, 37.06079864501953, 48.31050109863281, 43.532901763916016, 42.20869827, 56.80170059, 28.7775993347168, 46.91630173, 39.64260101, 32.516300201416016, 34.5676994324, 35.13850021, 42.4818, 41.393100738499996, 45.54660034179688, 33.450298309299995, 42.0831270134, 41.66930008, 38.37310028076172, 41.338500976599995, 47.50939941, 46.92070007324219, 44.3488998413, 40.8493003845, 32.33259963989258, 39.84410095, 40.48120117, 37.04420089999999, 44.520198822, 37.24570084, 37.151798248291016, 40.652099609375, 36.281898, 41.70869827270508, 40.978101, 34.8292007446, 42.40200043, 45.44910049438477, 31.535499572753906, 42.55709838867188, 45.07809829999999, 44.91400146, 41.87400055, 31.2588005065918, 37.22529983520508, 46.25080108642578, 39.2966003418, 47.16839981079102, 44.86579895019531, 40.82490158081055, 34.991199493408196, 40.96749877929688, 38.36669922, 46.92969894, 41.31209945678711, 40.27590179, 41.12620163, 37.326698303222656, 43.16949844, 43.41709899902344, 37.74010086, 31.467100143432614, 42.9098014831543, 44.38270187, 45.57089996, 43.0778999329, 45.63119888305664, 41.5942, 35.2368011475, 38.79100036621094, 34.89889908, 39.94269943, 30.78249931335449, 51.87799835205078, 58.42530060000001, 56.48429871, 46.26470184326172, 42.26729965209961, 35.387798, 43.50439835, 33.30780029, 39.707901, 45.7226982117, 59.503299713100006, 45.8184013367, 38.5097999573, 46.39830017, 37.8582992554, 35.6352005, 36.532082, 38.50899887, 39.22320175, 38.84220123, 38.53390121, 26.92020035, 38.2638015747, 48.11420059, 44.68840027, 38.75500107, 40.4408989, 37.62409973, 40.219200134277, 30.357105999999998, 32.2243995667, 41.195899963379, 36.161201477051, 48.259722, 40.726944], \"lon\": [-170.710006714, 145.729004, 144.796005249, -64.97339630126953, -64.79859924316406, -67.12940216064453, -66.56300354003906, -66.0018005371, -155.04800415039062, -94.36740112304688, -97.176102, -112.41999820000001, -74.8134994506836, -71.00520325, -88.06809997559998, -122.221001, -95.89409599999999, -156.429993, -97.433098, -94.713898, -89.3375015258789, -158.50500490000002, -112.01200103759766, -68.82810211181639, -94.71150207519531, -117.53399658203124, -122.375, -82.27179718020001, -89.97669982910156, -118.40799709999999, -81.8498001099, -84.6678009033, -134.57600402832028, -91.98760223, -74.168701171875, -116.223, -100.72399902299999, -101.27999877929688, -96.851799, -111.98300170898438, -93.22329711914062, -156.045603, -78.9282989502, -70.06020355, -77.037697, -74.57720184326172, -104.49700164794922, -152.4940033, -80.152702, -93.4030990600586, -111.97799682617188, -76.7633972168, -96.75920104980469, -84.58740234375, -95.34140014648438, -119.0569992, -106.37799840000002, -97.65440368652344, -81.11949920654297, -87.18659973144501, -95.27890015, -80.23290253, -156.766008, -80.29060363769531, -122.308998, -85.20379638671875, -90.0758972168, -118.15200039999999, -86.294403, -73.70760345458984, -114.6060028, -92.19360351559999, -161.8379974, -159.33900451660156, -77.3197021484375, -93.8256, -145.4779968, -76.20120239257812, -94.02069854736328, -81.20210266, -165.44500732421875, -82.68740082, -148.46499630000002, -98.46980285644531, -77.67240142822266, -78.7874984741211, -84.21939849853516, -78.94619750976562, -76.49299622, -110.94100189208984, -71.42040300000001, -118.35900115966795, -83.35340118408203, -82.533203125, -92.83899689, -102.2020034790039, -88.12960052490234, -81.9645004272461, -103.64199829100001, -92.22429656979999, -74.10479736328125, -97.038002, -80.64530181884766, -97.6698989868164, -82.927803, -87.39540100100001, -83.99400329999999, -90.370003, -98.49189799999999, -84.428101, -85.52279663, -119.71800231933594, -86.6781997680664, -99.46160125732422, -162.598999, -73.87259674, -84.35030364990234, -97.23049926757812, -100.49600219726562, -73.15329742429998, -81.68789672851562, -107.75399780299999, -77.45580292, -96.36380005, -87.89659881591797, -99.68190002440001, -92.21959686279295, -122.59799960000001, -80.09559631347656, -75.46549987790002, -157.924228, -93.66310119628906, -77.04290008539998, -117.190002441, -92.0376968383789, -117.60099792480469, -104.53099822998048, -97.4259033203125, -85.44960021972656, -97.5011978149414, -76.1063003540039, -87.752403, -121.929001, -103.21700290000001, -104.672996521, -75.24109649658203, -96.38439941, -82.891899, -93.99099731445312, -73.46810150146484, -149.99600219726562, -97.8289031982, -122.53800201416016, -88.242797851562, -106.08899688700001, -89.835197, -100.92700195299999, -81.75520324707031, -156.6490021, -73.77890015, -104.81199649999999, -121.2379989624, -80.04049683, -119.76799774169922, -131.7140045, -86.75350189, -121.59100341796876, -104.70099599999999, -78.73220062, -122.28199769999999, -113.0989990234375, -72.68319702149999, -98.23860168, -101.822998, -87.9048, -147.85600280000003, -76.02169799804688, -116.50700378417969, -101.706001, -77.90260314941406, -91.149597, -95.40239715576172, -76.668297, -92.54979705810548, -95.88809967041016, -135.36199951171878, -73.10019684, -93.221802, -90.25800323486328, -70.30930328, -97.60070037841795, -73.80169677734375, -117.86799620000001, -106.46399699999999, -86.525398, -81.75959777832031, -80.94309997558594, -115.15200039999999, -81.30899810791016, -111.3710022, -117.01499938964844, -76.8916015625, -76.4583969116211, -121.84300231933594, -119.8399963, -81.058098, -72.88680267, -82.54180145263672, -79.93730163574219, -96.741897583, -71.435699, -85.736, -78.4529037475586, -79.975403, -84.60590362548828, -87.53240203860001, -106.609001, -111.15299990000001, -108.54299926757812, -112.49700164794922, -85.58219909667969, -110.73799896240234, -89.09719848632812, -82.2189025879, -88.91590118, -89.07009887695312, -85.5521011352539, -83.80780029, -85.19509888, -91.71080017089844, -91.256699, -89.6668014526, -89.6932983398, -88.51909637450001, -92.5, -88.27809906, -96.6707992553711, -108.527000427, -113.510306, -82.55439758300781, -90.50749969482422, -100.74600219726562, -103.05699920654295, -83.74359893798828, -122.2929993, -123.21199798583984, -112.070999, -122.8730010986328, -121.15000149999999, -81.44219970703125, -86.775100708008, -86.39399719, -82.40740100000001, -88.7738037109375, -114.25599670410156, -84.07959747314453, -75.97979736, -132.9450073, -81.23750305175781, -114.0910034, -106.9179993, -84.93890380859375, -98.4166030884, -111.6709976, -114.487999, -70.6143035889, -94.05989837646484, -88.59140014649999, -80.1738667488, -70.28040314, -81.59320068359375, -75.72339630130001, -94.93370056, -96.81580352783205, -105.539001465, -77.84870147710002, -88.75189971923828, -89.67790222, -107.21800230000001, -100.95999909999999, -109.024002075, -93.38860321, -94.49829864501952, -75.44080352783203, -94.30680100000001, -86.31729888916016, -124.109, -77.61209869380002, -90.70950317, -98.42179870605469, -84.19450378417969, -92.40029907226562, -83.56030273, -97.15470123, -103.5960007, -81.46649932861328, -89.57080078125, -84.47239685058594, -80.2281036377, -88.48909759521484, -91.48429870605469, -115.79199981689452, -78.88030242919922, -98.30960083007812, -82.55799866, -98.67819977, -105.6750030517578, -79.40480042, -100.6839981, -79.20040130615234, -86.23819733, -124.24600219726562, -87.16680145, -89.33709716796875, -112.59600067138672, -100.2860031, -84.79669952, -70.8233032227, -89.46749877929688, -109.065001, -120.64199829100001, -97.6521987915039, -120.4570007, -91.19460297, -83.27670288085938, -176.64599609375, -135.7070007, -132.36999509999998, -119.11900329589844, -71.87570190429688, -80.709099, -114.2959976, -111.65499879999999, -77.72949982, -87.0936965942, -139.660003662, -88.11450195309999, -107.89399719200001, -94.13809967, -80.3994979858, -77.38529968, -93.200544, -122.8130035, -106.8690033, -99.27320099, -106.9329987, -81.99050140000001, -78.8964004517, -98.90879822, -111.11799620000001, -109.7549973, -109.5100021, -118.83799740000002, -111.72299957275, -85.79541400000001, -80.6975021362, -112.0120010376, -97.08570098876999, -103.750556, -99.00666700000001], \"marker\": {\"autocolorscale\": false, \"cmax\": 0.32718327183271834, \"cmin\": 0, \"color\": [0.32718327183271834, 0.30209368857994945, 0.3004418262150221, 0.2911392405063291, 0.2909604519774011, 0.28865527814279457, 0.28613138686131384, 0.2786144578313253, 0.27167019027484146, 0.27050529781755245, 0.2697947214076246, 0.2688986784140969, 0.2687074829931973, 0.2684594348222425, 0.266786840919333, 0.26666666666666666, 0.26326530612244897, 0.2631667225763167, 0.25980392156862747, 0.25961734418643684, 0.2591803278688525, 0.25738396624472576, 0.25337331334332835, 0.25277161862527714, 0.2503875968992248, 0.24874731567644953, 0.24855491329479767, 0.24027719331586736, 0.2402287893231649, 0.23997862105825762, 0.23865300146412885, 0.23863636363636365, 0.23833223776880458, 0.2376237623762376, 0.2370012091898428, 0.23672055427251731, 0.23658395845354876, 0.23596419853539463, 0.23535911602209944, 0.2351628284467891, 0.23505434782608695, 0.2345890410958904, 0.234375, 0.23242165456529099, 0.22961854899027673, 0.22727272727272727, 0.22727272727272727, 0.22601546119593846, 0.22597657995888085, 0.2244360902255639, 0.2242152466367713, 0.2227891156462585, 0.2218738082122124, 0.2208298926507019, 0.22079373951928452, 0.21961466029262638, 0.21951219512195122, 0.21951124449467982, 0.21919244887257472, 0.21892816419612315, 0.2188152916596081, 0.2175390168807729, 0.21592091571279917, 0.21497252747252749, 0.21476014760147602, 0.21462388216728037, 0.21438682954962512, 0.21437422552664187, 0.21423789332738227, 0.2141205933346176, 0.21408619313647245, 0.2139913290156827, 0.21358806482773424, 0.21349963316214232, 0.21229991575400167, 0.21222410865874364, 0.21193755739210285, 0.21169354838709678, 0.21138211382113822, 0.21075455333911536, 0.21059691482226695, 0.2104305639781686, 0.2104296731546089, 0.21026535671655494, 0.20986573263280794, 0.2089561126659918, 0.2088404868673927, 0.20801232665639446, 0.20800736309249884, 0.20754167576617893, 0.20750521195274496, 0.20700689884465132, 0.206928178354734, 0.2066312255176273, 0.20657894736842106, 0.20603015075376885, 0.2058973797533027, 0.20572935870890888, 0.20503597122302158, 0.20496535796766743, 0.20481927710843373, 0.20440097965386467, 0.20413252582828642, 0.2033120510774142, 0.20285969615728328, 0.2028368794326241, 0.20244461420932008, 0.2023757149142103, 0.20209563505846936, 0.20206908059402637, 0.20199024835334037, 0.20195878686762547, 0.20187521703900915, 0.2018018018018018, 0.20164787510841284, 0.20136518771331058, 0.20132882035853078, 0.20132013201320131, 0.20027816411682892, 0.2, 0.2, 0.1998502994011976, 0.19929708497002274, 0.1992033508541393, 0.198745894296805, 0.19873253168670782, 0.19843795198148684, 0.19839987069662196, 0.19829059829059828, 0.19828815977175462, 0.19819852761932621, 0.19813798042492242, 0.19791378560986211, 0.19742740206587409, 0.1974169741697417, 0.1973642759634569, 0.19731697046261204, 0.19698492462311556, 0.1968547095033308, 0.1962054604349838, 0.19587138508371385, 0.19524617996604415, 0.19500356887937187, 0.1949149212087869, 0.19487569210726305, 0.19482970374142528, 0.19456641053787047, 0.19444991143475693, 0.19408190819081908, 0.19405204460966544, 0.19385535617183253, 0.19367368018903966, 0.1934316007240755, 0.19331250887405935, 0.19322990126939352, 0.19322966745134446, 0.19261213720316622, 0.19260495888208742, 0.1925970251325013, 0.19257703081232494, 0.19230769230769232, 0.19164882226980728, 0.1915213846732723, 0.19136408243375858, 0.19094902366099442, 0.19060773480662985, 0.19057770198251972, 0.189873417721519, 0.18973932910998026, 0.1896176562014299, 0.1895597786865528, 0.18944323933477947, 0.18895966029723993, 0.1889138576779026, 0.18886679920477137, 0.1882167985361202, 0.18805142425006302, 0.18800592862843463, 0.1877358490566038, 0.18772390733221878, 0.18769645262685228, 0.18735224586288415, 0.18716442953020135, 0.1870860927152318, 0.1869880051874449, 0.18698407791003246, 0.18696109358569926, 0.18681318681318682, 0.18666666666666668, 0.1863922241280732, 0.18605993408162336, 0.18599388738685788, 0.18596881959910913, 0.18533604887983707, 0.1852543720190779, 0.1852395853289908, 0.1850079744816587, 0.18476259836944428, 0.18423799582463465, 0.18422350778061797, 0.1841739104415087, 0.18407596785975164, 0.1839687194525904, 0.18342857142857144, 0.1822628436968931, 0.18207361095604926, 0.181877444589309, 0.1816122584943371, 0.1815415821501014, 0.18117144889732037, 0.18072289156626506, 0.18070009460737937, 0.18047218887555022, 0.18036529680365296, 0.18022376776534624, 0.17985389950355396, 0.17977099236641222, 0.1793705875314108, 0.17922948073701842, 0.17912476216363143, 0.17875957013415747, 0.17847557702630165, 0.1781512605042017, 0.1778816199376947, 0.17765092544542466, 0.17717391304347826, 0.17705832147937411, 0.17511520737327188, 0.1750095529231945, 0.17500404727213859, 0.17485262337738705, 0.17478176527643066, 0.17469741950216944, 0.17455138662316477, 0.17387556411946656, 0.17381281696634393, 0.17373175816539263, 0.17371564420735244, 0.17335766423357665, 0.17329545454545456, 0.17325227963525835, 0.17252283907238228, 0.17240314863404846, 0.17216642754662842, 0.172103487064117, 0.1718429765095381, 0.17081967213114754, 0.1707731520815633, 0.1702127659574468, 0.16996753246753246, 0.16934984520123839, 0.16923076923076924, 0.16910229645093947, 0.1681472081218274, 0.1679611650485437, 0.1674933231590996, 0.16722572199950914, 0.16666666666666666, 0.1663166008285962, 0.165931455717679, 0.16542644533485976, 0.16443119721808247, 0.16393442622950818, 0.16349693251533742, 0.16336633663366337, 0.1631504922644163, 0.16286644951140064, 0.1625891677675033, 0.1625578869846342, 0.16196658231358546, 0.16151664427526496, 0.1614785992217899, 0.16128563587640848, 0.16027397260273973, 0.16013824884792627, 0.1597315436241611, 0.15949098621420996, 0.159487702306614, 0.15871774824081314, 0.1585081585081585, 0.1570346751693902, 0.15557275541795665, 0.1555261416280609, 0.15545280110723161, 0.1553368094472329, 0.15529384030567642, 0.15469613259668508, 0.15459882583170254, 0.15353625783348254, 0.15308127456133763, 0.15162454873646208, 0.15155392078469002, 0.1514476614699332, 0.15141955835962145, 0.15110178384050368, 0.14893617021276595, 0.14814814814814814, 0.1473951715374841, 0.1468584405753217, 0.14678899082568808, 0.14601344860710855, 0.14443522682617999, 0.14375, 0.14369256474519632, 0.14244604316546763, 0.14207964138656373, 0.13968100531657807, 0.1387900355871886, 0.1363409770687936, 0.13511259382819016, 0.1339914559519686, 0.13364293085655315, 0.13333333333333333, 0.13215859030837004, 0.13142450649119686, 0.13060428849902533, 0.12908496732026145, 0.1277533039647577, 0.12734675412802535, 0.1270096463022508, 0.1269706007669365, 0.125, 0.12411877803888058, 0.12215568862275449, 0.11913357400722022, 0.11844331641285956, 0.11829436038514443, 0.1182282293311786, 0.11745334796926454, 0.11674347158218126, 0.1130298273155416, 0.1092690278824416, 0.10821072615092549, 0.10504774897680765, 0.10466988727858294, 0.1036745406824147, 0.1035688839950774, 0.10338164251207729, 0.10222729868646488, 0.09989701338825953, 0.09915492957746479, 0.09787234042553192, 0.0975609756097561, 0.0975609756097561, 0.09464627151051626, 0.09397944199706314, 0.09385113268608414, 0.09183673469387756, 0.09125, 0.08620689655172414, 0.08333333333333333, 0.07996323529411764, 0.07582260371959942, 0.06493506493506493, 0.06416762154198723, 0.06201550387596899, 0.05822267620020429, 0.05680119581464873, 0.04896142433234421, 0.01639344262295082], \"colorbar\": {\"title\": {\"text\": \"Flights late >60 min\"}}, \"colorscale\": [[0.0, \"#fde725\"], [0.1111111111111111, \"#b5de2b\"], [0.2222222222222222, \"#6ece58\"], [0.3333333333333333, \"#35b779\"], [0.4444444444444444, \"#1f9e89\"], [0.5555555555555556, \"#26828e\"], [0.6666666666666666, \"#31688e\"], [0.7777777777777778, \"#3e4989\"], [0.8888888888888888, \"#482878\"], [1.0, \"#440154\"]], \"line\": {\"color\": \"rgba(102, 102, 102)\", \"width\": 1}, \"opacity\": 0.8, \"reversescale\": true, \"size\": 8, \"symbol\": \"square\"}, \"mode\": \"markers\", \"text\": [\"Pago Pago International Airport 0.26666666666666666\", \"Saipan International Airport 0.09787234042553192\", \"Antonio B. Won Pat International Airport 0.12215568862275449\", \"Cyril E. King Airport 0.17847557702630165\", \"Henry E Rohlsen Airport 0.172103487064117\", \"Rafael Hernandez Airport 0.28865527814279457\", \"Mercedita Airport 0.32718327183271834\", \"Luis Munoz Marin International Airport 0.23242165456529099\", \"Hilo International Airport 0.06416762154198723\", \"Fort Smith Regional Airport 0.18070009460737937\", \"Grand Forks International Airport 0.13968100531657807\", \"Ernest A. Love Field 0.20027816411682892\", \"Trenton Mercer Airport 0.2345890410958904\", \"General Edward Lawrence Logan International Airport 0.24027719331586736\", \"Mobile Downtown Airport 0.22727272727272727\", \"Metropolitan Oakland International Airport 0.1663166008285962\", \"Eppley Airfield 0.1949149212087869\", \"Kahului Airport 0.1182282293311786\", \"Wichita Eisenhower National Airport 0.2141205933346176\", \"Kansas City International Airport 0.18207361095604926\", \"Dane County Regional Truax Field 0.2058973797533027\", \"Dillingham Airport 0.0975609756097561\", \"Phoenix Sky Harbor International Airport 0.17371564420735244\", \"Bangor International Airport 0.234375\", \"East Texas Regional Airport 0.11745334796926454\", \"Spokane International Airport 0.18716442953020135\", \"San Francisco International Airport 0.25961734418643684\", \"Gainesville Regional Airport 0.17478176527643066\", \"Memphis International Airport 0.19791378560986211\", \"Los Angeles International Airport 0.1869880051874449\", \"Cleveland Hopkins International Airport 0.19260495888208742\", \"Cincinnati Northern Kentucky International Airport 0.1968547095033308\", \"Juneau International Airport 0.12734675412802535\", \"Lafayette Regional Airport 0.19444991143475693\", \"Newark Liberty International Airport 0.30209368857994945\", \"Boise Air Terminal/Gowen Field 0.1625891677675033\", \"Garden City Regional Airport 0.14244604316546763\", \"Minot International Airport 0.15353625783348254\", \"Dallas Love Field 0.17875957013415747\", \"Helena Regional Airport 0.08333333333333333\", \"Lake Charles Regional Airport 0.18423799582463465\", \"Ellison Onizuka Kona International At Keahole Airport 0.1035688839950774\", \"Myrtle Beach International Airport 0.17765092544542466\", \"Nantucket Memorial Airport 0.21075455333911536\", \"Ronald Reagan Washington National Airport 0.19094902366099442\", \"Atlantic City International Airport 0.17081967213114754\", \"Pueblo Memorial Airport 0.18596881959910913\", \"Kodiak Airport 0.12908496732026145\", \"Fort Lauderdale Hollywood International Airport 0.2208298926507019\", \"Falls International Airport 0.1130298273155416\", \"Salt Lake City International Airport 0.14443522682617999\", \"Harrisburg International Airport 0.17500404727213859\", \"Lincoln Airport 0.1974169741697417\", \"Capital City Airport 0.21138211382113822\", \"George Bush Intercontinental Houston Airport 0.20572935870890888\", \"Meadows Field 0.21437422552664187\", \"El Paso International Airport 0.2089561126659918\", \"Valley International Airport 0.17469741950216944\", \"Columbia Metropolitan Airport 0.19385535617183253\", \"Pensacola Regional Airport 0.19839987069662196\", \"William P Hobby Airport 0.17240314863404846\", \"Pittsburgh International Airport 0.18476259836944428\", \"Wiley Post Will Rogers Memorial Airport 0.07582260371959942\", \"Miami International Airport 0.17705832147937411\", \"Seattle Tacoma International Airport 0.19367368018903966\", \"Lovell Field 0.18800592862843463\", \"Jackson-Medgar Wiley Evers International Airport 0.20132882035853078\", \"Long Beach /Daugherty Field/ Airport 0.159487702306614\", \"Indianapolis International Airport 0.18973932910998026\", \"Westchester County Airport 0.22597657995888085\", \"Yuma MCAS/Yuma International Airport 0.15110178384050368\", \"Duluth International Airport 0.1896176562014299\", \"Bethel Airport 0.09125\", \"Lihue Airport 0.10222729868646488\", \"Richmond International Airport 0.1992033508541393\", \"Shreveport Regional Airport 0.18944323933477947\", \"Merle K (Mudhole) Smith Airport 0.17329545454545456\", \"Norfolk International Airport 0.20700689884465132\", \"Southeast Texas Regional Airport 0.16910229645093947\", \"Savannah Hilton Head International Airport 0.20209563505846936\", \"Nome Airport 0.09397944199706314\", \"St Petersburg Clearwater International Airport 0.181877444589309\", \"Deadhorse Airport 0.09989701338825953\", \"San Antonio International Airport 0.1889138576779026\", \"Greater Rochester International Airport 0.206928178354734\", \"Raleigh Durham International Airport 0.19587138508371385\", \"James M Cox Dayton International Airport 0.21592091571279917\", \"Niagara Falls International Airport 0.11913357400722022\", \"Newport News Williamsburg International Airport 0.16923076923076924\", \"Tucson International Airport 0.1973642759634569\", \"Theodore Francis Green State Airport 0.19408190819081908\", \"Bob Hope Airport 0.16996753246753246\", \"Detroit Metropolitan Wayne County Airport 0.15308127456133763\", \"Tampa International Airport 0.18805142425006302\", \"Range Regional Airport 0.09385113268608414\", \"Midland International Airport 0.2088404868673927\", \"Austin Straubel International Airport 0.2033120510774142\", \"Augusta Regional At Bush Field 0.15949098621420996\", \"Sloulin Field International Airport 0.10466988727858294\", \"Bill & Hillary Clinton National Airport/Adams Field 0.19500356887937187\", \"Stewart International Airport 0.23672055427251731\", \"Dallas Fort Worth International Airport 0.20440097965386467\", \"Melbourne International Airport 0.15557275541795665\", \"Austin Bergstrom International Airport 0.18605993408162336\", \"Rickenbacker International Airport 0.189873417721519\", \"Sawyer International Airport 0.21349963316214232\", \"McGhee Tyson Airport 0.2188152916596081\", \"St Louis Lambert International Airport 0.1841739104415087\", \"Sheppard Air Force Base-Wichita Falls Municipal Airport 0.13511259382819016\", \"Hartsfield Jackson Atlanta International Airport 0.14207964138656373\", \"Gerald R. Ford International Airport 0.2139913290156827\", \"Fresno Yosemite International Airport 0.16722572199950914\", \"Nashville International Airport 0.17985389950355396\", \"Laredo International Airport 0.1674933231590996\", \"Ralph Wien Memorial Airport 0.08620689655172414\", \"La Guardia Airport 0.27050529781755245\", \"Tallahassee Regional Airport 0.16934984520123839\", \"Waco Regional Airport 0.16013824884792627\", \"San Angelo Regional Mathis Field 0.16286644951140064\", \"Burlington International Airport 0.2175390168807729\", \"Jacksonville International Airport 0.19482970374142528\", \"Durango La Plata County Airport 0.2402287893231649\", \"Washington Dulles International Airport 0.17485262337738705\", \"Easterwood Field 0.16027397260273973\", \"General Mitchell International Airport 0.19322966745134446\", \"Abilene Regional Airport 0.18769645262685228\", \"Columbia Regional Airport 0.2684594348222425\", \"Portland International Airport 0.16128563587640848\", \"Palm Beach International Airport 0.21951124449467982\", \"Ogdensburg International Airport 0.21169354838709678\", \"Daniel K Inouye International Airport 0.1339914559519686\", \"Des Moines International Airport 0.19731697046261204\", \"Coastal Carolina Regional Airport 0.20164787510841284\", \"San Diego International Airport 0.1822628436968931\", \"Monroe Regional Airport 0.17373175816539263\", \"Ontario International Airport 0.18422350778061797\", \"Roswell International Air Center Airport 0.13215859030837004\", \"Brownsville South Padre Island International Airport 0.17977099236641222\", \"Dothan Regional Airport 0.18407596785975164\", \"Corpus Christi International Airport 0.19257703081232494\", \"Syracuse Hancock International Airport 0.20754167576617893\", \"Chicago Midway International Airport 0.1625578869846342\", \"Norman Y. Mineta San Jose International Airport 0.1553368094472329\", \"Lea County Regional Airport 0.23505434782608695\", \"Denver International Airport 0.19819852761932621\", \"Philadelphia International Airport 0.1882167985361202\", \"Sioux Gateway Col. Bud Day Field 0.2503875968992248\", \"John Glenn Columbus International Airport 0.1852395853289908\", \"Texarkana Regional Webb Field 0.14369256474519632\", \"Plattsburgh International Airport 0.1998502994011976\", \"Ted Stevens Anchorage International Airport 0.15155392078469002\", \"Robert Gray  Army Air Field Airport 0.18022376776534624\", \"Bellingham International Airport 0.1277533039647577\", \"Mobile Regional Airport 0.19524617996604415\", \"Santa Fe Municipal Airport 0.18342857142857144\", \"Scott AFB/Midamerica Airport 0.18886679920477137\", \"Del Rio International Airport 0.1631504922644163\", \"Southwest Florida International Airport 0.18599388738685788\", \"King Salmon Airport 0.01639344262295082\", \"John F Kennedy International Airport 0.20195878686762547\", \"Cheyenne Regional Jerry Olson Field 0.14375\", \"Stockton Metropolitan Airport 0.1679611650485437\", \"Charleston Air Force Base-International Airport 0.1852543720190779\", \"Reno Tahoe International Airport 0.17387556411946656\", \"Ketchikan International Airport 0.1269706007669365\", \"Birmingham-Shuttlesworth International Airport 0.21438682954962512\", \"Sacramento International Airport 0.1718429765095381\", \"City of Colorado Springs Municipal Airport 0.2351628284467891\", \"Buffalo Niagara International Airport 0.19929708497002274\", \"Snohomish County (Paine Field) Airport 0.1681472081218274\", \"Cedar City Regional Airport 0.1036745406824147\", \"Bradley International Airport 0.19331250887405935\", \"Mc Allen Miller International Airport 0.21193755739210285\", \"Lubbock Preston Smith International Airport 0.20657894736842106\", \"Chicago O'Hare International Airport 0.22601546119593846\", \"Fairbanks International Airport 0.12411877803888058\", \"Watertown International Airport 0.25980392156862747\", \"Palm Springs International Airport 0.20206908059402637\", \"Rick Husband Amarillo International Airport 0.21408619313647245\", \"Wilmington International Airport 0.19405204460966544\", \"Baton Rouge Metropolitan Airport 0.1816122584943371\", \"Tyler Pounds Regional Airport 0.1555261416280609\", \"Baltimore/Washington International Thurgood Marshall Airport 0.15529384030567642\", \"Alexandria International Airport 0.1778816199376947\", \"Tulsa International Airport 0.198745894296805\", \"Sitka Rocky Gutierrez Airport 0.1468584405753217\", \"Long Island Mac Arthur Airport 0.2104296731546089\", \"Minneapolis-St Paul International/Wold-Chamberlain Airport 0.15545280110723161\", \"Louis Armstrong New Orleans International Airport 0.19136408243375858\", \"Portland International Jetport Airport 0.21026535671655494\", \"Will Rogers World Airport 0.2218738082122124\", \"Albany International Airport 0.19873253168670782\", \"John Wayne Airport-Orange County Airport 0.16151664427526496\", \"Casper-Natrona County International Airport 0.09464627151051626\", \"Destin-Ft Walton Beach Airport 0.20187521703900915\", \"Key West International Airport 0.13142450649119686\", \"Charlotte Douglas International Airport 0.16196658231358546\", \"McCarran International Airport 0.18698407791003246\", \"Orlando International Airport 0.20199024835334037\", \"Great Falls International Airport 0.09915492957746479\", \"Lewiston Nez Perce County Airport 0.05822267620020429\", \"Elmira Corning Regional Airport 0.11844331641285956\", \"Ithaca Tompkins Regional Airport 0.1815415821501014\", \"Monterey Peninsula Airport 0.18772390733221878\", \"Santa Barbara Municipal Airport 0.20750521195274496\", \"Daytona Beach International Airport 0.16349693251533742\", \"Tweed New Haven Airport 0.15459882583170254\", \"Asheville Regional Airport 0.21358806482773424\", \"Piedmont Triad International Airport 0.2066312255176273\", \"Joe Foss Field Airport 0.21961466029262638\", \"Manchester-Boston Regional Airport 0.19261213720316622\", \"Louisville International Standiford Field 0.1915213846732723\", \"Charlottesville Albemarle Airport 0.21462388216728037\", \"Roanoke\\u2013Blacksburg Regional Airport 0.17252283907238228\", \"Blue Grass Airport 0.20285969615728328\", \"Evansville Regional Airport 0.18036529680365296\", \"Albuquerque International Sunport 0.1925970251325013\", \"Gallatin Field 0.17455138662316477\", \"Billings Logan International Airport 0.16443119721808247\", \"Bert Mooney Airport 0.04896142433234421\", \"Cherry Capital Airport 0.19813798042492242\", \"Jackson Hole Airport 0.21423789332738227\", \"Chicago Rockford International Airport 0.1597315436241611\", \"Greenville Spartanburg International Airport 0.20244461420932008\", \"Central Illinois Regional Airport at Bloomington-Normal 0.21059691482226695\", \"Gulfport Biloxi International Airport 0.2018018018018018\", \"Kalamazoo Battle Creek International Airport 0.1962054604349838\", \"Toledo Express Airport 0.18666666666666668\", \"Fort Wayne International Airport 0.20496535796766743\", \"The Eastern Iowa Airport 0.19487569210726305\", \"La Crosse Municipal Airport 0.1877358490566038\", \"Central Wisconsin Airport 0.1570346751693902\", \"General Wayne A. Downing Peoria International Airport 0.2023757149142103\", \"Appleton International Airport 0.18117144889732037\", \"Rochester International Airport 0.2104305639781686\", \"University of Illinois Willard Airport 0.24874731567644953\", \"Manhattan Regional Airport 0.21919244887257472\", \"Grand Junction Regional Airport 0.1363409770687936\", \"St George Municipal Airport 0.1585081585081585\", \"Sarasota Bradenton International Airport 0.1793705875314108\", \"Quad City International Airport 0.19057770198251972\", \"Bismarck Municipal Airport 0.1895597786865528\", \"Rapid City Regional Airport 0.20132013201320131\", \"Bishop International Airport 0.18735224586288415\", \"Redding Municipal Airport 0.22961854899027673\", \"Mahlon Sweet Field 0.1839687194525904\", \"Idaho Falls Regional Airport 0.10821072615092549\", \"Rogue Valley International Medford Airport 0.19698492462311556\", \"Roberts Field 0.1934316007240755\", \"Akron Canton Regional Airport 0.2591803278688525\", \"Huntsville International Carl T Jones Field 0.18696109358569926\", \"Montgomery Regional (Dannelly Field) Airport 0.17912476216363143\", \"Tri-Cities Regional TN/VA Airport 0.16393442622950818\", \"Barkley Regional Airport 0.23596419853539463\", \"Glacier Park International Airport 0.13333333333333333\", \"MBS International Airport 0.18047218887555022\", \"Greater Binghamton/Edwin A Link field 0.19164882226980728\", \"Petersburg James A Johnson Airport 0.1702127659574468\", \"Orlando Sanford International Airport 0.23833223776880458\", \"Missoula International Airport 0.16542644533485976\", \"Eagle County Regional Airport 0.266786840919333\", \"Columbus Metropolitan Airport 0.15141955835962145\", \"Lawton Fort Sill Regional Airport 0.15871774824081314\", \"Flagstaff Pulliam Airport 0.13364293085655315\", \"Joslin Field Magic Valley Regional Airport 0.10338164251207729\", \"Martha's Vineyard Airport 0.17335766423357665\", \"St Cloud Regional Airport 0.2\", \"Golden Triangle Regional Airport 0.1707731520815633\", \"Erie International Tom Ridge Field 0.21222410865874364\", \"Barnstable Municipal Boardman Polando Field 0.21951219512195122\", \"Yeager Airport 0.21497252747252749\", \"Wilkes Barre Scranton International Airport 0.1863922241280732\", \"Bemidji Regional Airport 0.10504774897680765\", \"Hector International Airport 0.20503597122302158\", \"Gillette Campbell County Airport 0.2\", \"University Park Airport 0.21892816419612315\", \"Key Field 0.27167019027484146\", \"Abraham Lincoln Capital Airport 0.23658395845354876\", \"Yampa Valley Airport 0.23863636363636365\", \"Liberal Mid-America Regional Airport 0.1870860927152318\", \"Yellowstone Regional Airport 0.14678899082568808\", \"Springfield Branson National Airport 0.20413252582828642\", \"Joplin Regional Airport 0.20481927710843373\", \"Lehigh Valley International Airport 0.17325227963525835\", \"Northwest Arkansas Regional Airport 0.19843795198148684\", \"South Bend Regional Airport 0.20986573263280794\", \"California Redwood Coast-Humboldt County Airport 0.23997862105825762\", \"Albert J Ellis Airport 0.18895966029723993\", \"Dubuque Regional Airport 0.26326530612244897\", \"Aberdeen Regional Airport 0.11829436038514443\", \"Southwest Georgia Regional Airport 0.16666666666666666\", \"Waterloo Regional Airport 0.25337331334332835\", \"Alpena County Regional Airport 0.14814814814814814\", \"Watertown Regional Airport 0.18533604887983707\", \"Western Neb. Rgnl/William B. Heilig Airport 0.17922948073701842\", \"Brunswick Golden Isles Airport 0.1614785992217899\", \"Cape Girardeau Regional Airport 0.23535911602209944\", \"Chippewa County International Airport 0.17511520737327188\", \"North Central West Virginia Airport 0.2370012091898428\", \"Houghton County Memorial Airport 0.2786144578313253\", \"Chippewa Valley Regional Airport 0.2697947214076246\", \"Elko Regional Airport 0.05680119581464873\", \"Fayetteville Regional Grannis Field 0.19456641053787047\", \"Central Nebraska Regional Airport 0.15162454873646208\", \"Tri-State/Milton J. Ferguson Field 0.19828815977175462\", \"Jamestown Regional Airport 0.17717391304347826\", \"Laramie Regional Airport 0.2227891156462585\", \"Arnold Palmer Regional Airport 0.19060773480662985\", \"North Platte Regional Airport Lee Bird Field 0.20603015075376885\", \"Lynchburg Regional Preston Glenn Field 0.1514476614699332\", \"Muskegon County Airport 0.3004418262150221\", \"Southwest Oregon Regional Airport 0.2909604519774011\", \"Owensboro Daviess County Airport 0.2376237623762376\", \"Hattiesburg Laurel Regional Airport 0.28613138686131384\", \"Pocatello Regional Airport 0.07996323529411764\", \"Pierre Regional Airport 0.1850079744816587\", \"Pellston Regional Airport of Emmet County Airport 0.14601344860710855\", \"Portsmouth International at Pease Airport 0.14893617021276595\", \"Rhinelander Oneida County Airport 0.1473951715374841\", \"Southwest Wyoming Regional Airport 0.19322990126939352\", \"San Luis County Regional Airport 0.19742740206587409\", \"Salina Municipal Airport 0.22727272727272727\", \"Santa Maria Pub/Capt G Allan Hancock Field 0.125\", \"Quincy Regional Baldwin Field 0.2687074829931973\", \"Valdosta Regional Airport 0.13060428849902533\", \"Adak Airport 0.09183673469387756\", \"Gustavus Airport 0.0975609756097561\", \"Wrangell Airport 0.2028368794326241\", \"Tri Cities Airport 0.165931455717679\", \"Worcester Regional Airport 0.24855491329479767\", \"Concord-Padgett Regional Airport 0.21476014760147602\", \"Friedman Memorial Airport 0.1092690278824416\", \"Phoenix-Mesa-Gateway Airport 0.2688986784140969\", \"Hagerstown Regional Richard A Henson Field 0.18681318681318682\", \"Delta County Airport 0.1781512605042017\", \"Yakutat Airport 0.17216642754662842\", \"Ford Airport 0.11674347158218126\", \"Montrose Regional Airport 0.22079373951928452\", \"Brainerd Lakes Regional Airport 0.1270096463022508\", \"Greenbrier Valley Airport 0.2911392405063291\", \"Pitt Greenville Airport 0.06493506493506493\", \"Branson Airport 0.2242152466367713\", \"Charles M. Schulz Sonoma County Airport 0.1750095529231945\", \"Aspen-Pitkin Co/Sardy Field 0.2631667225763167\", \"Hays Regional Airport 0.21229991575400167\", \"Gunnison Crested Butte Regional Airport 0.25738396624472576\", \"Charlotte County Airport 0.2244360902255639\", \"Shenandoah Valley Regional Airport 0.23865300146412885\", \"Devils Lake Regional Airport 0.19829059829059828\", \"Yellowstone Airport 0.06201550387596899\", \"Canyonlands Field 0.20136518771331058\", \"Vernal Regional Airport 0.18072289156626506\", \"Mammoth Yosemite Airport 0.25277161862527714\", \"Provo Municipal Airport 0.15469613259668508\", \"Northwest Florida Beaches International Airport 0.17381281696634393\", \"Hilton Head Airport 0.20800736309249884\", \"Ogden Hinckley Airport 0.19230769230769232\", \"Stillwater Regional Airport 0.1387900355871886\", \"Williston Basin International Airport 0.16336633663366337\", \"Kearney Regional Airport 0.20801232665639446\"], \"type\": \"scattergeo\"}],\n",
       "                        {\"geo\": {\"scope\": \"usa\"}, \"template\": {\"data\": {\"bar\": [{\"error_x\": {\"color\": \"#2a3f5f\"}, \"error_y\": {\"color\": \"#2a3f5f\"}, \"marker\": {\"line\": {\"color\": \"#E5ECF6\", \"width\": 0.5}}, \"type\": \"bar\"}], \"barpolar\": [{\"marker\": {\"line\": {\"color\": \"#E5ECF6\", \"width\": 0.5}}, \"type\": \"barpolar\"}], \"carpet\": [{\"aaxis\": {\"endlinecolor\": \"#2a3f5f\", \"gridcolor\": \"white\", \"linecolor\": \"white\", \"minorgridcolor\": \"white\", \"startlinecolor\": \"#2a3f5f\"}, \"baxis\": {\"endlinecolor\": \"#2a3f5f\", \"gridcolor\": \"white\", \"linecolor\": \"white\", \"minorgridcolor\": \"white\", \"startlinecolor\": \"#2a3f5f\"}, \"type\": \"carpet\"}], \"choropleth\": [{\"colorbar\": {\"outlinewidth\": 0, \"ticks\": \"\"}, \"type\": \"choropleth\"}], \"contour\": [{\"colorbar\": {\"outlinewidth\": 0, \"ticks\": \"\"}, \"colorscale\": [[0.0, \"#0d0887\"], [0.1111111111111111, \"#46039f\"], [0.2222222222222222, \"#7201a8\"], [0.3333333333333333, \"#9c179e\"], [0.4444444444444444, \"#bd3786\"], [0.5555555555555556, \"#d8576b\"], [0.6666666666666666, \"#ed7953\"], [0.7777777777777778, \"#fb9f3a\"], [0.8888888888888888, \"#fdca26\"], [1.0, \"#f0f921\"]], \"type\": \"contour\"}], \"contourcarpet\": [{\"colorbar\": {\"outlinewidth\": 0, \"ticks\": \"\"}, \"type\": \"contourcarpet\"}], \"heatmap\": [{\"colorbar\": {\"outlinewidth\": 0, \"ticks\": \"\"}, \"colorscale\": [[0.0, \"#0d0887\"], [0.1111111111111111, \"#46039f\"], [0.2222222222222222, \"#7201a8\"], [0.3333333333333333, \"#9c179e\"], [0.4444444444444444, \"#bd3786\"], [0.5555555555555556, \"#d8576b\"], [0.6666666666666666, \"#ed7953\"], [0.7777777777777778, \"#fb9f3a\"], [0.8888888888888888, \"#fdca26\"], [1.0, \"#f0f921\"]], \"type\": \"heatmap\"}], \"heatmapgl\": [{\"colorbar\": {\"outlinewidth\": 0, \"ticks\": \"\"}, \"colorscale\": [[0.0, \"#0d0887\"], [0.1111111111111111, \"#46039f\"], [0.2222222222222222, \"#7201a8\"], [0.3333333333333333, \"#9c179e\"], [0.4444444444444444, \"#bd3786\"], [0.5555555555555556, \"#d8576b\"], [0.6666666666666666, \"#ed7953\"], [0.7777777777777778, \"#fb9f3a\"], [0.8888888888888888, \"#fdca26\"], [1.0, \"#f0f921\"]], \"type\": \"heatmapgl\"}], \"histogram\": [{\"marker\": {\"colorbar\": {\"outlinewidth\": 0, \"ticks\": \"\"}}, \"type\": \"histogram\"}], \"histogram2d\": [{\"colorbar\": {\"outlinewidth\": 0, \"ticks\": \"\"}, \"colorscale\": [[0.0, \"#0d0887\"], [0.1111111111111111, \"#46039f\"], [0.2222222222222222, \"#7201a8\"], [0.3333333333333333, \"#9c179e\"], [0.4444444444444444, \"#bd3786\"], [0.5555555555555556, \"#d8576b\"], [0.6666666666666666, \"#ed7953\"], [0.7777777777777778, \"#fb9f3a\"], [0.8888888888888888, \"#fdca26\"], [1.0, \"#f0f921\"]], \"type\": \"histogram2d\"}], \"histogram2dcontour\": [{\"colorbar\": {\"outlinewidth\": 0, \"ticks\": \"\"}, \"colorscale\": [[0.0, \"#0d0887\"], [0.1111111111111111, \"#46039f\"], [0.2222222222222222, \"#7201a8\"], [0.3333333333333333, \"#9c179e\"], [0.4444444444444444, \"#bd3786\"], [0.5555555555555556, \"#d8576b\"], [0.6666666666666666, \"#ed7953\"], [0.7777777777777778, \"#fb9f3a\"], [0.8888888888888888, \"#fdca26\"], [1.0, \"#f0f921\"]], \"type\": \"histogram2dcontour\"}], \"mesh3d\": [{\"colorbar\": {\"outlinewidth\": 0, \"ticks\": \"\"}, \"type\": \"mesh3d\"}], \"parcoords\": [{\"line\": {\"colorbar\": {\"outlinewidth\": 0, \"ticks\": \"\"}}, \"type\": \"parcoords\"}], \"pie\": [{\"automargin\": true, \"type\": \"pie\"}], \"scatter\": [{\"marker\": {\"colorbar\": {\"outlinewidth\": 0, \"ticks\": \"\"}}, \"type\": \"scatter\"}], \"scatter3d\": [{\"line\": {\"colorbar\": {\"outlinewidth\": 0, \"ticks\": \"\"}}, \"marker\": {\"colorbar\": {\"outlinewidth\": 0, \"ticks\": \"\"}}, \"type\": \"scatter3d\"}], \"scattercarpet\": [{\"marker\": {\"colorbar\": {\"outlinewidth\": 0, \"ticks\": \"\"}}, \"type\": \"scattercarpet\"}], \"scattergeo\": [{\"marker\": {\"colorbar\": {\"outlinewidth\": 0, \"ticks\": \"\"}}, \"type\": \"scattergeo\"}], \"scattergl\": [{\"marker\": {\"colorbar\": {\"outlinewidth\": 0, \"ticks\": \"\"}}, \"type\": \"scattergl\"}], \"scattermapbox\": [{\"marker\": {\"colorbar\": {\"outlinewidth\": 0, \"ticks\": \"\"}}, \"type\": \"scattermapbox\"}], \"scatterpolar\": [{\"marker\": {\"colorbar\": {\"outlinewidth\": 0, \"ticks\": \"\"}}, \"type\": \"scatterpolar\"}], \"scatterpolargl\": [{\"marker\": {\"colorbar\": {\"outlinewidth\": 0, \"ticks\": \"\"}}, \"type\": \"scatterpolargl\"}], \"scatterternary\": [{\"marker\": {\"colorbar\": {\"outlinewidth\": 0, \"ticks\": \"\"}}, \"type\": \"scatterternary\"}], \"surface\": [{\"colorbar\": {\"outlinewidth\": 0, \"ticks\": \"\"}, \"colorscale\": [[0.0, \"#0d0887\"], [0.1111111111111111, \"#46039f\"], [0.2222222222222222, \"#7201a8\"], [0.3333333333333333, \"#9c179e\"], [0.4444444444444444, \"#bd3786\"], [0.5555555555555556, \"#d8576b\"], [0.6666666666666666, \"#ed7953\"], [0.7777777777777778, \"#fb9f3a\"], [0.8888888888888888, \"#fdca26\"], [1.0, \"#f0f921\"]], \"type\": \"surface\"}], \"table\": [{\"cells\": {\"fill\": {\"color\": \"#EBF0F8\"}, \"line\": {\"color\": \"white\"}}, \"header\": {\"fill\": {\"color\": \"#C8D4E3\"}, \"line\": {\"color\": \"white\"}}, \"type\": \"table\"}]}, \"layout\": {\"annotationdefaults\": {\"arrowcolor\": \"#2a3f5f\", \"arrowhead\": 0, \"arrowwidth\": 1}, \"coloraxis\": {\"colorbar\": {\"outlinewidth\": 0, \"ticks\": \"\"}}, \"colorscale\": {\"diverging\": [[0, \"#8e0152\"], [0.1, \"#c51b7d\"], [0.2, \"#de77ae\"], [0.3, \"#f1b6da\"], [0.4, \"#fde0ef\"], [0.5, \"#f7f7f7\"], [0.6, \"#e6f5d0\"], [0.7, \"#b8e186\"], [0.8, \"#7fbc41\"], [0.9, \"#4d9221\"], [1, \"#276419\"]], \"sequential\": [[0.0, \"#0d0887\"], [0.1111111111111111, \"#46039f\"], [0.2222222222222222, \"#7201a8\"], [0.3333333333333333, \"#9c179e\"], [0.4444444444444444, \"#bd3786\"], [0.5555555555555556, \"#d8576b\"], [0.6666666666666666, \"#ed7953\"], [0.7777777777777778, \"#fb9f3a\"], [0.8888888888888888, \"#fdca26\"], [1.0, \"#f0f921\"]], \"sequentialminus\": [[0.0, \"#0d0887\"], [0.1111111111111111, \"#46039f\"], [0.2222222222222222, \"#7201a8\"], [0.3333333333333333, \"#9c179e\"], [0.4444444444444444, \"#bd3786\"], [0.5555555555555556, \"#d8576b\"], [0.6666666666666666, \"#ed7953\"], [0.7777777777777778, \"#fb9f3a\"], [0.8888888888888888, \"#fdca26\"], [1.0, \"#f0f921\"]]}, \"colorway\": [\"#636efa\", \"#EF553B\", \"#00cc96\", \"#ab63fa\", \"#FFA15A\", \"#19d3f3\", \"#FF6692\", \"#B6E880\", \"#FF97FF\", \"#FECB52\"], \"font\": {\"color\": \"#2a3f5f\"}, \"geo\": {\"bgcolor\": \"white\", \"lakecolor\": \"white\", \"landcolor\": \"#E5ECF6\", \"showlakes\": true, \"showland\": true, \"subunitcolor\": \"white\"}, \"hoverlabel\": {\"align\": \"left\"}, \"hovermode\": \"closest\", \"mapbox\": {\"style\": \"light\"}, \"paper_bgcolor\": \"white\", \"plot_bgcolor\": \"#E5ECF6\", \"polar\": {\"angularaxis\": {\"gridcolor\": \"white\", \"linecolor\": \"white\", \"ticks\": \"\"}, \"bgcolor\": \"#E5ECF6\", \"radialaxis\": {\"gridcolor\": \"white\", \"linecolor\": \"white\", \"ticks\": \"\"}}, \"scene\": {\"xaxis\": {\"backgroundcolor\": \"#E5ECF6\", \"gridcolor\": \"white\", \"gridwidth\": 2, \"linecolor\": \"white\", \"showbackground\": true, \"ticks\": \"\", \"zerolinecolor\": \"white\"}, \"yaxis\": {\"backgroundcolor\": \"#E5ECF6\", \"gridcolor\": \"white\", \"gridwidth\": 2, \"linecolor\": \"white\", \"showbackground\": true, \"ticks\": \"\", \"zerolinecolor\": \"white\"}, \"zaxis\": {\"backgroundcolor\": \"#E5ECF6\", \"gridcolor\": \"white\", \"gridwidth\": 2, \"linecolor\": \"white\", \"showbackground\": true, \"ticks\": \"\", \"zerolinecolor\": \"white\"}}, \"shapedefaults\": {\"line\": {\"color\": \"#2a3f5f\"}}, \"ternary\": {\"aaxis\": {\"gridcolor\": \"white\", \"linecolor\": \"white\", \"ticks\": \"\"}, \"baxis\": {\"gridcolor\": \"white\", \"linecolor\": \"white\", \"ticks\": \"\"}, \"bgcolor\": \"#E5ECF6\", \"caxis\": {\"gridcolor\": \"white\", \"linecolor\": \"white\", \"ticks\": \"\"}}, \"title\": {\"x\": 0.05}, \"xaxis\": {\"automargin\": true, \"gridcolor\": \"white\", \"linecolor\": \"white\", \"ticks\": \"\", \"title\": {\"standoff\": 15}, \"zerolinecolor\": \"white\", \"zerolinewidth\": 2}, \"yaxis\": {\"automargin\": true, \"gridcolor\": \"white\", \"linecolor\": \"white\", \"ticks\": \"\", \"title\": {\"standoff\": 15}, \"zerolinecolor\": \"white\", \"zerolinewidth\": 2}}}, \"title\": {\"text\": \"US Airports\"}},\n",
       "                        {\"responsive\": true}\n",
       "                    ).then(function(){\n",
       "                            \n",
       "var gd = document.getElementById('d7e9d99f-de50-4bcd-8c48-be3caa09f97a');\n",
       "var x = new MutationObserver(function (mutations, observer) {{\n",
       "        var display = window.getComputedStyle(gd).display;\n",
       "        if (!display || display === 'none') {{\n",
       "            console.log([gd, 'removed!']);\n",
       "            Plotly.purge(gd);\n",
       "            observer.disconnect();\n",
       "        }}\n",
       "}});\n",
       "\n",
       "// Listen for the removal of the full notebook cells\n",
       "var notebookContainer = gd.closest('#notebook-container');\n",
       "if (notebookContainer) {{\n",
       "    x.observe(notebookContainer, {childList: true});\n",
       "}}\n",
       "\n",
       "// Listen for the clearing of the current output cell\n",
       "var outputEl = gd.closest('.output');\n",
       "if (outputEl) {{\n",
       "    x.observe(outputEl, {childList: true});\n",
       "}}\n",
       "\n",
       "                        })\n",
       "                };\n",
       "                });\n",
       "            </script>\n",
       "        </div>"
      ]
     },
     "metadata": {},
     "output_type": "display_data"
    }
   ],
   "source": [
    "# making an interactive plot of USA and its airports\n",
    "# learning plotly express\n",
    "\n",
    "\n",
    "fig = go.Figure(data=go.Scattergeo(\n",
    "        lon = delay_map['LONGITUDE'],\n",
    "        lat = delay_map['LATITUDE'],\n",
    "        text = delay_map['NAME'] + ' ' + delay_map['delay_off'].astype('str'),\n",
    "        mode = 'markers',\n",
    "        marker = dict(\n",
    "            size = 8,\n",
    "            opacity = 0.8,\n",
    "            reversescale = True,\n",
    "            autocolorscale = False,\n",
    "            symbol = 'square',\n",
    "            line = dict(\n",
    "                width=1,\n",
    "                color='rgba(102, 102, 102)'\n",
    "            ),\n",
    "            colorscale = 'Viridis_r',\n",
    "            cmin = 0,\n",
    "            color = delays_by_airport['delay_off'],\n",
    "            cmax = delays_by_airport['delay_off'].max(),\n",
    "            colorbar_title=\"Flights late >60 min\")))\n",
    "\n",
    "fig.update_layout(\n",
    "        title = 'US Airports',\n",
    "        geo_scope='usa',\n",
    "    )\n",
    "fig.show()"
   ]
  },
  {
   "cell_type": "code",
   "execution_count": 132,
   "metadata": {},
   "outputs": [],
   "source": [
    "# COOL! I knew how to make them static but I might need to spend a lot of time learning how to customize this"
   ]
  },
  {
   "cell_type": "markdown",
   "metadata": {},
   "source": [
    "# Machine Learning\n",
    "- Using classification algorithms to try and predict if it arrives late or not.\n",
    "- We need to select relevant columns"
   ]
  },
  {
   "cell_type": "code",
   "execution_count": 133,
   "metadata": {},
   "outputs": [],
   "source": [
    "flights = flights[flights['Cancelled'] == 0]"
   ]
  },
  {
   "cell_type": "code",
   "execution_count": 134,
   "metadata": {},
   "outputs": [
    {
     "data": {
      "text/plain": [
       "7268232"
      ]
     },
     "execution_count": 134,
     "metadata": {},
     "output_type": "execute_result"
    }
   ],
   "source": [
    "flights.shape[0]"
   ]
  },
  {
   "cell_type": "code",
   "execution_count": 135,
   "metadata": {},
   "outputs": [],
   "source": [
    "# selecting columns based on what information a user would have before the flight\n",
    "feature_cols = ['FlightDate', 'DayOfWeek', 'Reporting_Airline', 'Origin', 'Dest', 'CRSDepTime', 'Distance', 'delay_off']"
   ]
  },
  {
   "cell_type": "code",
   "execution_count": 136,
   "metadata": {},
   "outputs": [
    {
     "data": {
      "text/plain": [
       "FlightDate           datetime64[ns]\n",
       "DayOfWeek                     int64\n",
       "Reporting_Airline            object\n",
       "Origin                       object\n",
       "Dest                         object\n",
       "CRSDepTime                    int64\n",
       "Distance                    float64\n",
       "delay_off                     int32\n",
       "dtype: object"
      ]
     },
     "execution_count": 136,
     "metadata": {},
     "output_type": "execute_result"
    }
   ],
   "source": [
    "# use only cols we want\n",
    "mlc_flights = flights[feature_cols]\n",
    "mlc_flights.dtypes"
   ]
  },
  {
   "cell_type": "code",
   "execution_count": 137,
   "metadata": {
    "scrolled": true
   },
   "outputs": [
    {
     "name": "stderr",
     "output_type": "stream",
     "text": [
      "C:\\Users\\Zaca\\Anaconda3\\lib\\site-packages\\pandas\\core\\frame.py:3494: SettingWithCopyWarning:\n",
      "\n",
      "\n",
      "A value is trying to be set on a copy of a slice from a DataFrame.\n",
      "Try using .loc[row_indexer,col_indexer] = value instead\n",
      "\n",
      "See the caveats in the documentation: http://pandas.pydata.org/pandas-docs/stable/user_guide/indexing.html#returning-a-view-versus-a-copy\n",
      "\n"
     ]
    }
   ],
   "source": [
    "# we need to label the airlines and the airports\n",
    "le = LabelEncoder()\n",
    "label_cols = ['Reporting_Airline', 'Origin', 'Dest']\n",
    "mlc_flights[label_cols] = mlc_flights[label_cols].apply(le.fit_transform)"
   ]
  },
  {
   "cell_type": "code",
   "execution_count": 138,
   "metadata": {},
   "outputs": [
    {
     "data": {
      "text/plain": [
       "<matplotlib.axes._subplots.AxesSubplot at 0x1ad2743ff48>"
      ]
     },
     "execution_count": 138,
     "metadata": {},
     "output_type": "execute_result"
    },
    {
     "data": {
      "image/png": "[encoded data removed]",
      "text/plain": [
       "<Figure size 576x576 with 2 Axes>"
      ]
     },
     "metadata": {
      "needs_background": "light"
     },
     "output_type": "display_data"
    }
   ],
   "source": [
    "plt.figure(figsize=(8, 8))\n",
    "correlation = mlc_flights.corr()\n",
    "sns.heatmap(correlation, cmap='viridis', annot=True)"
   ]
  },
  {
   "cell_type": "markdown",
   "metadata": {},
   "source": [
    "# Classification"
   ]
  },
  {
   "cell_type": "code",
   "execution_count": 139,
   "metadata": {},
   "outputs": [
    {
     "ename": "TypeError",
     "evalue": "float() argument must be a string or a number, not 'Timestamp'",
     "output_type": "error",
     "traceback": [
      "\u001b[1;31m---------------------------------------------------------------------------\u001b[0m",
      "\u001b[1;31mTypeError\u001b[0m                                 Traceback (most recent call last)",
      "\u001b[1;32m<ipython-input-139-a2c228bbf0ba>\u001b[0m in \u001b[0;36m<module>\u001b[1;34m\u001b[0m\n\u001b[0;32m      4\u001b[0m \u001b[1;33m\u001b[0m\u001b[0m\n\u001b[0;32m      5\u001b[0m \u001b[0mscaler\u001b[0m \u001b[1;33m=\u001b[0m \u001b[0mMinMaxScaler\u001b[0m\u001b[1;33m(\u001b[0m\u001b[1;33m)\u001b[0m\u001b[1;33m\u001b[0m\u001b[1;33m\u001b[0m\u001b[0m\n\u001b[1;32m----> 6\u001b[1;33m \u001b[0mX\u001b[0m \u001b[1;33m=\u001b[0m \u001b[0mscaler\u001b[0m\u001b[1;33m.\u001b[0m\u001b[0mfit_transform\u001b[0m\u001b[1;33m(\u001b[0m\u001b[0mX\u001b[0m\u001b[1;33m)\u001b[0m\u001b[1;33m\u001b[0m\u001b[1;33m\u001b[0m\u001b[0m\n\u001b[0m\u001b[0;32m      7\u001b[0m \u001b[1;33m\u001b[0m\u001b[0m\n\u001b[0;32m      8\u001b[0m \u001b[1;31m# divide train test\u001b[0m\u001b[1;33m\u001b[0m\u001b[1;33m\u001b[0m\u001b[1;33m\u001b[0m\u001b[0m\n",
      "\u001b[1;32m~\\Anaconda3\\lib\\site-packages\\sklearn\\base.py\u001b[0m in \u001b[0;36mfit_transform\u001b[1;34m(self, X, y, **fit_params)\u001b[0m\n\u001b[0;32m    551\u001b[0m         \u001b[1;32mif\u001b[0m \u001b[0my\u001b[0m \u001b[1;32mis\u001b[0m \u001b[1;32mNone\u001b[0m\u001b[1;33m:\u001b[0m\u001b[1;33m\u001b[0m\u001b[1;33m\u001b[0m\u001b[0m\n\u001b[0;32m    552\u001b[0m             \u001b[1;31m# fit method of arity 1 (unsupervised transformation)\u001b[0m\u001b[1;33m\u001b[0m\u001b[1;33m\u001b[0m\u001b[1;33m\u001b[0m\u001b[0m\n\u001b[1;32m--> 553\u001b[1;33m             \u001b[1;32mreturn\u001b[0m \u001b[0mself\u001b[0m\u001b[1;33m.\u001b[0m\u001b[0mfit\u001b[0m\u001b[1;33m(\u001b[0m\u001b[0mX\u001b[0m\u001b[1;33m,\u001b[0m \u001b[1;33m**\u001b[0m\u001b[0mfit_params\u001b[0m\u001b[1;33m)\u001b[0m\u001b[1;33m.\u001b[0m\u001b[0mtransform\u001b[0m\u001b[1;33m(\u001b[0m\u001b[0mX\u001b[0m\u001b[1;33m)\u001b[0m\u001b[1;33m\u001b[0m\u001b[1;33m\u001b[0m\u001b[0m\n\u001b[0m\u001b[0;32m    554\u001b[0m         \u001b[1;32melse\u001b[0m\u001b[1;33m:\u001b[0m\u001b[1;33m\u001b[0m\u001b[1;33m\u001b[0m\u001b[0m\n\u001b[0;32m    555\u001b[0m             \u001b[1;31m# fit method of arity 2 (supervised transformation)\u001b[0m\u001b[1;33m\u001b[0m\u001b[1;33m\u001b[0m\u001b[1;33m\u001b[0m\u001b[0m\n",
      "\u001b[1;32m~\\Anaconda3\\lib\\site-packages\\sklearn\\preprocessing\\data.py\u001b[0m in \u001b[0;36mfit\u001b[1;34m(self, X, y)\u001b[0m\n\u001b[0;32m    323\u001b[0m         \u001b[1;31m# Reset internal state before fitting\u001b[0m\u001b[1;33m\u001b[0m\u001b[1;33m\u001b[0m\u001b[1;33m\u001b[0m\u001b[0m\n\u001b[0;32m    324\u001b[0m         \u001b[0mself\u001b[0m\u001b[1;33m.\u001b[0m\u001b[0m_reset\u001b[0m\u001b[1;33m(\u001b[0m\u001b[1;33m)\u001b[0m\u001b[1;33m\u001b[0m\u001b[1;33m\u001b[0m\u001b[0m\n\u001b[1;32m--> 325\u001b[1;33m         \u001b[1;32mreturn\u001b[0m \u001b[0mself\u001b[0m\u001b[1;33m.\u001b[0m\u001b[0mpartial_fit\u001b[0m\u001b[1;33m(\u001b[0m\u001b[0mX\u001b[0m\u001b[1;33m,\u001b[0m \u001b[0my\u001b[0m\u001b[1;33m)\u001b[0m\u001b[1;33m\u001b[0m\u001b[1;33m\u001b[0m\u001b[0m\n\u001b[0m\u001b[0;32m    326\u001b[0m \u001b[1;33m\u001b[0m\u001b[0m\n\u001b[0;32m    327\u001b[0m     \u001b[1;32mdef\u001b[0m \u001b[0mpartial_fit\u001b[0m\u001b[1;33m(\u001b[0m\u001b[0mself\u001b[0m\u001b[1;33m,\u001b[0m \u001b[0mX\u001b[0m\u001b[1;33m,\u001b[0m \u001b[0my\u001b[0m\u001b[1;33m=\u001b[0m\u001b[1;32mNone\u001b[0m\u001b[1;33m)\u001b[0m\u001b[1;33m:\u001b[0m\u001b[1;33m\u001b[0m\u001b[1;33m\u001b[0m\u001b[0m\n",
      "\u001b[1;32m~\\Anaconda3\\lib\\site-packages\\sklearn\\preprocessing\\data.py\u001b[0m in \u001b[0;36mpartial_fit\u001b[1;34m(self, X, y)\u001b[0m\n\u001b[0;32m    351\u001b[0m         X = check_array(X, copy=self.copy,\n\u001b[0;32m    352\u001b[0m                         \u001b[0mestimator\u001b[0m\u001b[1;33m=\u001b[0m\u001b[0mself\u001b[0m\u001b[1;33m,\u001b[0m \u001b[0mdtype\u001b[0m\u001b[1;33m=\u001b[0m\u001b[0mFLOAT_DTYPES\u001b[0m\u001b[1;33m,\u001b[0m\u001b[1;33m\u001b[0m\u001b[1;33m\u001b[0m\u001b[0m\n\u001b[1;32m--> 353\u001b[1;33m                         force_all_finite=\"allow-nan\")\n\u001b[0m\u001b[0;32m    354\u001b[0m \u001b[1;33m\u001b[0m\u001b[0m\n\u001b[0;32m    355\u001b[0m         \u001b[0mdata_min\u001b[0m \u001b[1;33m=\u001b[0m \u001b[0mnp\u001b[0m\u001b[1;33m.\u001b[0m\u001b[0mnanmin\u001b[0m\u001b[1;33m(\u001b[0m\u001b[0mX\u001b[0m\u001b[1;33m,\u001b[0m \u001b[0maxis\u001b[0m\u001b[1;33m=\u001b[0m\u001b[1;36m0\u001b[0m\u001b[1;33m)\u001b[0m\u001b[1;33m\u001b[0m\u001b[1;33m\u001b[0m\u001b[0m\n",
      "\u001b[1;32m~\\Anaconda3\\lib\\site-packages\\sklearn\\utils\\validation.py\u001b[0m in \u001b[0;36mcheck_array\u001b[1;34m(array, accept_sparse, accept_large_sparse, dtype, order, copy, force_all_finite, ensure_2d, allow_nd, ensure_min_samples, ensure_min_features, warn_on_dtype, estimator)\u001b[0m\n\u001b[0;32m    494\u001b[0m             \u001b[1;32mtry\u001b[0m\u001b[1;33m:\u001b[0m\u001b[1;33m\u001b[0m\u001b[1;33m\u001b[0m\u001b[0m\n\u001b[0;32m    495\u001b[0m                 \u001b[0mwarnings\u001b[0m\u001b[1;33m.\u001b[0m\u001b[0msimplefilter\u001b[0m\u001b[1;33m(\u001b[0m\u001b[1;34m'error'\u001b[0m\u001b[1;33m,\u001b[0m \u001b[0mComplexWarning\u001b[0m\u001b[1;33m)\u001b[0m\u001b[1;33m\u001b[0m\u001b[1;33m\u001b[0m\u001b[0m\n\u001b[1;32m--> 496\u001b[1;33m                 \u001b[0marray\u001b[0m \u001b[1;33m=\u001b[0m \u001b[0mnp\u001b[0m\u001b[1;33m.\u001b[0m\u001b[0masarray\u001b[0m\u001b[1;33m(\u001b[0m\u001b[0marray\u001b[0m\u001b[1;33m,\u001b[0m \u001b[0mdtype\u001b[0m\u001b[1;33m=\u001b[0m\u001b[0mdtype\u001b[0m\u001b[1;33m,\u001b[0m \u001b[0morder\u001b[0m\u001b[1;33m=\u001b[0m\u001b[0morder\u001b[0m\u001b[1;33m)\u001b[0m\u001b[1;33m\u001b[0m\u001b[1;33m\u001b[0m\u001b[0m\n\u001b[0m\u001b[0;32m    497\u001b[0m             \u001b[1;32mexcept\u001b[0m \u001b[0mComplexWarning\u001b[0m\u001b[1;33m:\u001b[0m\u001b[1;33m\u001b[0m\u001b[1;33m\u001b[0m\u001b[0m\n\u001b[0;32m    498\u001b[0m                 raise ValueError(\"Complex data not supported\\n\"\n",
      "\u001b[1;32m~\\Anaconda3\\lib\\site-packages\\numpy\\core\\numeric.py\u001b[0m in \u001b[0;36masarray\u001b[1;34m(a, dtype, order)\u001b[0m\n\u001b[0;32m    536\u001b[0m \u001b[1;33m\u001b[0m\u001b[0m\n\u001b[0;32m    537\u001b[0m     \"\"\"\n\u001b[1;32m--> 538\u001b[1;33m     \u001b[1;32mreturn\u001b[0m \u001b[0marray\u001b[0m\u001b[1;33m(\u001b[0m\u001b[0ma\u001b[0m\u001b[1;33m,\u001b[0m \u001b[0mdtype\u001b[0m\u001b[1;33m,\u001b[0m \u001b[0mcopy\u001b[0m\u001b[1;33m=\u001b[0m\u001b[1;32mFalse\u001b[0m\u001b[1;33m,\u001b[0m \u001b[0morder\u001b[0m\u001b[1;33m=\u001b[0m\u001b[0morder\u001b[0m\u001b[1;33m)\u001b[0m\u001b[1;33m\u001b[0m\u001b[1;33m\u001b[0m\u001b[0m\n\u001b[0m\u001b[0;32m    539\u001b[0m \u001b[1;33m\u001b[0m\u001b[0m\n\u001b[0;32m    540\u001b[0m \u001b[1;33m\u001b[0m\u001b[0m\n",
      "\u001b[1;31mTypeError\u001b[0m: float() argument must be a string or a number, not 'Timestamp'"
     ]
    }
   ],
   "source": [
    "# get features and target\n",
    "y = mlc_flights['delay_off']\n",
    "X = mlc_flights.drop('delay_off', axis=1)\n",
    "\n",
    "scaler = MinMaxScaler()\n",
    "X = scaler.fit_transform(X)\n",
    "\n",
    "# divide train test\n",
    "X_train, X_test, y_train, y_test = train_test_split(X, y, test_size= 0.25)"
   ]
  },
  {
   "cell_type": "code",
   "execution_count": null,
   "metadata": {},
   "outputs": [],
   "source": [
    "# Logistic Regression\n",
    "lr = LogisticRegression()#class_weight='balanced')\n",
    "lr.fit(X_train, y_train)\n",
    "acc = lr.score(X_test, y_test)*100\n",
    "\n",
    "print(f\"Logistic Regression Test Accuracy {round(acc, 2)}%\")"
   ]
  },
  {
   "cell_type": "code",
   "execution_count": null,
   "metadata": {},
   "outputs": [],
   "source": [
    "from sklearn.metrics import confusion_matrix, accuracy_score\n",
    "\n",
    "score = lr.score(X_test, y_test)*100\n",
    "\n",
    "y_pred = lr.predict(X_test)\n",
    "print(accuracy_score(y_test, y_pred)*100)\n",
    "print(f\"Logistic Regression Test Accuracy {round(score, 2)}%\")\n",
    "print(confusion_matrix(y_test, y_pred))"
   ]
  },
  {
   "cell_type": "markdown",
   "metadata": {},
   "source": [
    "# Regression"
   ]
  },
  {
   "cell_type": "code",
   "execution_count": null,
   "metadata": {},
   "outputs": [],
   "source": [
    "feature_cols = ['Month', 'DayofMonth', 'DayOfWeek', 'Reporting_Airline', 'Origin', 'Dest', 'CRSDepTime', 'Distance', 'ArrDelay']\n",
    "mlr_flights = flights[feature_cols]\n",
    "\n",
    "le = LabelEncoder()\n",
    "label_cols = ['Reporting_Airline', 'Origin', 'Dest']\n",
    "mlr_flights[label_cols] = mlr_flights[label_cols].apply(le.fit_transform)\n",
    "\n",
    "scaler = StandardScaler()\n",
    "scaler.fit_transform(mlr_flights)\n",
    "\n",
    "# get features and target\n",
    "y = mlr_flights['ArrDelay']\n",
    "X = mlr_flights.drop('ArrDelay', axis=1)\n",
    "\n",
    "# divide train test\n",
    "X_train, X_test, y_train, y_test = train_test_split(X, y, test_size = 0.2)"
   ]
  },
  {
   "cell_type": "code",
   "execution_count": null,
   "metadata": {},
   "outputs": [],
   "source": [
    "# Create linear regression\n",
    "regr = LinearRegression()\n",
    "model = regr.fit(X, y)\n",
    "model.score(X_test, y_test)"
   ]
  },
  {
   "cell_type": "code",
   "execution_count": null,
   "metadata": {},
   "outputs": [],
   "source": []
  },
  {
   "cell_type": "code",
   "execution_count": null,
   "metadata": {},
   "outputs": [],
   "source": []
  }
 ],
 "metadata": {
  "kernelspec": {
   "display_name": "Python 3",
   "language": "python",
   "name": "python3"
  },
  "language_info": {
   "codemirror_mode": {
    "name": "ipython",
    "version": 3
   },
   "file_extension": ".py",
   "mimetype": "text/x-python",
   "name": "python",
   "nbconvert_exporter": "python",
   "pygments_lexer": "ipython3",
   "version": "3.7.7"
  }
 },
 "nbformat": 4,
 "nbformat_minor": 2
}
